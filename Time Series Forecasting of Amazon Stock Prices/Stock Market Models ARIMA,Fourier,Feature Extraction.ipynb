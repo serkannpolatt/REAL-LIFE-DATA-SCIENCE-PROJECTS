{
  "cells": [
    {
      "cell_type": "markdown",
      "metadata": {
        "id": "_jMBTKtPWTP4"
      },
      "source": [
        "**TIME SERIES ANALYSIS FOR STOCK MARKET DATA SPECIFICALLY AMAZON. DATA SOURCE IS YAHOO.API AND ALPHADVANTAGE.API**\n",
        "\n",
        "**This notebook is Part 1 of Time series modelling for Amazon Stock Prediction\n",
        "It deals with:**\n",
        "\n",
        "**1.   Data Exploration**\n",
        "\n",
        "**2.   Making a time series window**\n",
        "\n",
        "**3.   Feature engineering from the data**\n",
        "\n",
        "**4. Make an ARIMA model**\n",
        "\n",
        "**5. Make a Fourier series mode**l\n",
        "\n",
        "**6. Make a LSTM model with one feature**\n",
        "\n",
        "**7.Make a LSTM model with multiple features**\n",
        "\n",
        "**8.Conclusion**\n",
        "\n",
        "\n",
        "\n"
      ]
    },
    {
      "cell_type": "markdown",
      "metadata": {
        "id": "VGNrO7RQor0w"
      },
      "source": [
        "**Level 0: INSTALLATION**\n",
        "\n",
        "**1.   Set up modules on google colab**\n",
        "\n",
        "**2.  Take in data from yahoo.api**\n",
        "\n",
        "**3. For privacy of my own account I have blocked these links and API keys off**\n",
        "\n",
        "**Hint: Google colab Python 3 version comes with all Python packages and modules. It's easier to use than Anaconda or Ubuntu and has a great GPU drive.** \n",
        "\n",
        "\n",
        "\n"
      ]
    },
    {
      "cell_type": "code",
      "execution_count": 2,
      "metadata": {
        "id": "_xc364gbUKMG",
        "tags": []
      },
      "outputs": [],
      "source": [
        "#!pip install -U -q PyDrive\n",
        "from pydrive.auth import GoogleAuth\n",
        "from pydrive.drive import GoogleDrive\n",
        "from google.colab import auth\n",
        "from oauth2client.client import GoogleCredentials\n",
        "# Authenticate and create the PyDrive client.\n",
        "auth.authenticate_user()\n",
        "gauth = GoogleAuth()\n",
        "gauth.credentials = GoogleCredentials.get_application_default()\n",
        "drive = GoogleDrive(gauth)"
      ]
    },
    {
      "cell_type": "code",
      "execution_count": 3,
      "metadata": {
        "tags": [],
        "id": "G0W8Os7xdmRl"
      },
      "outputs": [],
      "source": [
        "#!pip install google.colab"
      ]
    },
    {
      "cell_type": "code",
      "execution_count": 4,
      "metadata": {
        "id": "FpGd27iPApW9"
      },
      "outputs": [],
      "source": [
        "link = 'https://drive.google.com/open?id=1y394o-wiPqYPaWzVYTPRr8xpE_aM9621'"
      ]
    },
    {
      "cell_type": "markdown",
      "metadata": {
        "id": "yjpKSbnqtdj8"
      },
      "source": [
        "**Link to your google drive. This will make your drive public to all so be careful who you give it to.**"
      ]
    },
    {
      "cell_type": "code",
      "execution_count": 5,
      "metadata": {
        "colab": {
          "base_uri": "https://localhost:8080/"
        },
        "id": "1NBd-Hx7Auif",
        "outputId": "eb985c19-4b96-4a45-ad52-df6dae708b76"
      },
      "outputs": [
        {
          "output_type": "stream",
          "name": "stdout",
          "text": [
            "1y394o-wiPqYPaWzVYTPRr8xpE_aM9621\n"
          ]
        }
      ],
      "source": [
        "fluff, id = link.split('=')\n",
        "print (id) # Verify that you have everything after '='"
      ]
    },
    {
      "cell_type": "markdown",
      "metadata": {
        "id": "9EP87twmttME"
      },
      "source": [
        "**To check I got data in my file and it's been read**"
      ]
    },
    {
      "cell_type": "code",
      "execution_count": 6,
      "metadata": {
        "id": "6vnt8KyUA885"
      },
      "outputs": [],
      "source": [
        "import pandas as pd\n",
        "downloaded = drive.CreateFile({'id':id}) \n",
        "downloaded.GetContentFile('AMZN.csv')\n",
        "# Dataset is now stored in a Pandas Dataframe"
      ]
    },
    {
      "cell_type": "code",
      "execution_count": 9,
      "metadata": {
        "colab": {
          "base_uri": "https://localhost:8080/"
        },
        "id": "XeoyRs8hCwTX",
        "outputId": "2e1807dc-cf1a-42f0-8c66-ae173081242f"
      },
      "outputs": [
        {
          "output_type": "stream",
          "name": "stdout",
          "text": [
            "Looking in indexes: https://pypi.org/simple, https://us-python.pkg.dev/colab-wheels/public/simple/\n",
            "Collecting mxnet\n",
            "  Downloading mxnet-1.9.1-py3-none-manylinux2014_x86_64.whl (49.1 MB)\n",
            "\u001b[2K     \u001b[90m━━━━━━━━━━━━━━━━━━━━━━━━━━━━━━━━━━━━━━━━\u001b[0m \u001b[32m49.1/49.1 MB\u001b[0m \u001b[31m11.6 MB/s\u001b[0m eta \u001b[36m0:00:00\u001b[0m\n",
            "\u001b[?25hRequirement already satisfied: numpy<2.0.0,>1.16.0 in /usr/local/lib/python3.9/dist-packages (from mxnet) (1.22.4)\n",
            "Collecting graphviz<0.9.0,>=0.8.1\n",
            "  Downloading graphviz-0.8.4-py2.py3-none-any.whl (16 kB)\n",
            "Requirement already satisfied: requests<3,>=2.20.0 in /usr/local/lib/python3.9/dist-packages (from mxnet) (2.27.1)\n",
            "Requirement already satisfied: idna<4,>=2.5 in /usr/local/lib/python3.9/dist-packages (from requests<3,>=2.20.0->mxnet) (3.4)\n",
            "Requirement already satisfied: certifi>=2017.4.17 in /usr/local/lib/python3.9/dist-packages (from requests<3,>=2.20.0->mxnet) (2022.12.7)\n",
            "Requirement already satisfied: charset-normalizer~=2.0.0 in /usr/local/lib/python3.9/dist-packages (from requests<3,>=2.20.0->mxnet) (2.0.12)\n",
            "Requirement already satisfied: urllib3<1.27,>=1.21.1 in /usr/local/lib/python3.9/dist-packages (from requests<3,>=2.20.0->mxnet) (1.26.15)\n",
            "Installing collected packages: graphviz, mxnet\n",
            "  Attempting uninstall: graphviz\n",
            "    Found existing installation: graphviz 0.20.1\n",
            "    Uninstalling graphviz-0.20.1:\n",
            "      Successfully uninstalled graphviz-0.20.1\n",
            "Successfully installed graphviz-0.8.4 mxnet-1.9.1\n"
          ]
        }
      ],
      "source": [
        "!pip install mxnet"
      ]
    },
    {
      "cell_type": "markdown",
      "metadata": {
        "id": "Encu5lTtt215"
      },
      "source": [
        "**install mxnet a python package for time series data great for visualization**"
      ]
    },
    {
      "cell_type": "code",
      "execution_count": 10,
      "metadata": {
        "id": "Z-n42rXkBY4x"
      },
      "outputs": [],
      "source": [
        "import time\n",
        "import numpy as np\n",
        "\n",
        "from mxnet import nd, autograd, gluon\n",
        "from mxnet.gluon import nn, rnn\n",
        "import mxnet as mx\n",
        "import datetime\n",
        "import seaborn as sns\n",
        "\n",
        "import matplotlib.pyplot as plt\n",
        "%matplotlib inline\n",
        "from sklearn.decomposition import PCA\n",
        "\n",
        "import math\n",
        "\n",
        "from sklearn.preprocessing import MinMaxScaler\n",
        "from sklearn.metrics import mean_squared_error\n",
        "from sklearn.preprocessing import StandardScaler\n",
        "\n",
        "import xgboost as xgb\n",
        "from sklearn.metrics import accuracy_score"
      ]
    },
    {
      "cell_type": "code",
      "execution_count": 11,
      "metadata": {
        "id": "nGy43Rr9FAhT"
      },
      "outputs": [],
      "source": [
        "import warnings\n",
        "warnings.filterwarnings(\"ignore\")"
      ]
    },
    {
      "cell_type": "code",
      "execution_count": 12,
      "metadata": {
        "id": "acikqo6lVWgM"
      },
      "outputs": [],
      "source": [
        "context = mx.cpu(); model_ctx=mx.cpu()\n",
        "mx.random.seed(1719)"
      ]
    },
    {
      "cell_type": "markdown",
      "metadata": {
        "id": "7qUPd_qSuiaI"
      },
      "source": [
        "Setting up mxnet model \n",
        "Need this to create an ARIMA model and Fourier series model easily "
      ]
    },
    {
      "cell_type": "code",
      "execution_count": 13,
      "metadata": {
        "id": "KuwLSx1BVjK7"
      },
      "outputs": [],
      "source": [
        "def parser(x):\n",
        "    return datetime.datetime.strptime(x,'%m/%d/%Y')"
      ]
    },
    {
      "cell_type": "markdown",
      "metadata": {
        "id": "oGloNVdKu4ZQ"
      },
      "source": [
        "**Always sort time and format it properily for time series data. Here sorted out it month-date-year format.** "
      ]
    },
    {
      "cell_type": "code",
      "execution_count": 14,
      "metadata": {
        "id": "iIX76FltX8yD"
      },
      "outputs": [],
      "source": [
        "import pandas as pd"
      ]
    },
    {
      "cell_type": "code",
      "execution_count": 15,
      "metadata": {
        "id": "u33F4vKcHEjU"
      },
      "outputs": [],
      "source": [
        "dataset_ex_df = pd.read_csv(\"AMZN.csv\", header=0, parse_dates=[0], date_parser=parser)"
      ]
    },
    {
      "cell_type": "code",
      "execution_count": 16,
      "metadata": {
        "colab": {
          "base_uri": "https://localhost:8080/",
          "height": 143
        },
        "id": "8pMM2w-cHsv3",
        "outputId": "92447fec-9b5b-4436-9f70-16f6b69f10ad"
      },
      "outputs": [
        {
          "output_type": "execute_result",
          "data": {
            "text/plain": [
              "        Date       Close\n",
              "0 2010-01-04  133.899994\n",
              "1 2010-01-05  134.690002\n",
              "2 2010-01-06  132.250000"
            ],
            "text/html": [
              "\n",
              "  <div id=\"df-24971baf-85b7-4975-8f68-e03f82345559\">\n",
              "    <div class=\"colab-df-container\">\n",
              "      <div>\n",
              "<style scoped>\n",
              "    .dataframe tbody tr th:only-of-type {\n",
              "        vertical-align: middle;\n",
              "    }\n",
              "\n",
              "    .dataframe tbody tr th {\n",
              "        vertical-align: top;\n",
              "    }\n",
              "\n",
              "    .dataframe thead th {\n",
              "        text-align: right;\n",
              "    }\n",
              "</style>\n",
              "<table border=\"1\" class=\"dataframe\">\n",
              "  <thead>\n",
              "    <tr style=\"text-align: right;\">\n",
              "      <th></th>\n",
              "      <th>Date</th>\n",
              "      <th>Close</th>\n",
              "    </tr>\n",
              "  </thead>\n",
              "  <tbody>\n",
              "    <tr>\n",
              "      <th>0</th>\n",
              "      <td>2010-01-04</td>\n",
              "      <td>133.899994</td>\n",
              "    </tr>\n",
              "    <tr>\n",
              "      <th>1</th>\n",
              "      <td>2010-01-05</td>\n",
              "      <td>134.690002</td>\n",
              "    </tr>\n",
              "    <tr>\n",
              "      <th>2</th>\n",
              "      <td>2010-01-06</td>\n",
              "      <td>132.250000</td>\n",
              "    </tr>\n",
              "  </tbody>\n",
              "</table>\n",
              "</div>\n",
              "      <button class=\"colab-df-convert\" onclick=\"convertToInteractive('df-24971baf-85b7-4975-8f68-e03f82345559')\"\n",
              "              title=\"Convert this dataframe to an interactive table.\"\n",
              "              style=\"display:none;\">\n",
              "        \n",
              "  <svg xmlns=\"http://www.w3.org/2000/svg\" height=\"24px\"viewBox=\"0 0 24 24\"\n",
              "       width=\"24px\">\n",
              "    <path d=\"M0 0h24v24H0V0z\" fill=\"none\"/>\n",
              "    <path d=\"M18.56 5.44l.94 2.06.94-2.06 2.06-.94-2.06-.94-.94-2.06-.94 2.06-2.06.94zm-11 1L8.5 8.5l.94-2.06 2.06-.94-2.06-.94L8.5 2.5l-.94 2.06-2.06.94zm10 10l.94 2.06.94-2.06 2.06-.94-2.06-.94-.94-2.06-.94 2.06-2.06.94z\"/><path d=\"M17.41 7.96l-1.37-1.37c-.4-.4-.92-.59-1.43-.59-.52 0-1.04.2-1.43.59L10.3 9.45l-7.72 7.72c-.78.78-.78 2.05 0 2.83L4 21.41c.39.39.9.59 1.41.59.51 0 1.02-.2 1.41-.59l7.78-7.78 2.81-2.81c.8-.78.8-2.07 0-2.86zM5.41 20L4 18.59l7.72-7.72 1.47 1.35L5.41 20z\"/>\n",
              "  </svg>\n",
              "      </button>\n",
              "      \n",
              "  <style>\n",
              "    .colab-df-container {\n",
              "      display:flex;\n",
              "      flex-wrap:wrap;\n",
              "      gap: 12px;\n",
              "    }\n",
              "\n",
              "    .colab-df-convert {\n",
              "      background-color: #E8F0FE;\n",
              "      border: none;\n",
              "      border-radius: 50%;\n",
              "      cursor: pointer;\n",
              "      display: none;\n",
              "      fill: #1967D2;\n",
              "      height: 32px;\n",
              "      padding: 0 0 0 0;\n",
              "      width: 32px;\n",
              "    }\n",
              "\n",
              "    .colab-df-convert:hover {\n",
              "      background-color: #E2EBFA;\n",
              "      box-shadow: 0px 1px 2px rgba(60, 64, 67, 0.3), 0px 1px 3px 1px rgba(60, 64, 67, 0.15);\n",
              "      fill: #174EA6;\n",
              "    }\n",
              "\n",
              "    [theme=dark] .colab-df-convert {\n",
              "      background-color: #3B4455;\n",
              "      fill: #D2E3FC;\n",
              "    }\n",
              "\n",
              "    [theme=dark] .colab-df-convert:hover {\n",
              "      background-color: #434B5C;\n",
              "      box-shadow: 0px 1px 3px 1px rgba(0, 0, 0, 0.15);\n",
              "      filter: drop-shadow(0px 1px 2px rgba(0, 0, 0, 0.3));\n",
              "      fill: #FFFFFF;\n",
              "    }\n",
              "  </style>\n",
              "\n",
              "      <script>\n",
              "        const buttonEl =\n",
              "          document.querySelector('#df-24971baf-85b7-4975-8f68-e03f82345559 button.colab-df-convert');\n",
              "        buttonEl.style.display =\n",
              "          google.colab.kernel.accessAllowed ? 'block' : 'none';\n",
              "\n",
              "        async function convertToInteractive(key) {\n",
              "          const element = document.querySelector('#df-24971baf-85b7-4975-8f68-e03f82345559');\n",
              "          const dataTable =\n",
              "            await google.colab.kernel.invokeFunction('convertToInteractive',\n",
              "                                                     [key], {});\n",
              "          if (!dataTable) return;\n",
              "\n",
              "          const docLinkHtml = 'Like what you see? Visit the ' +\n",
              "            '<a target=\"_blank\" href=https://colab.research.google.com/notebooks/data_table.ipynb>data table notebook</a>'\n",
              "            + ' to learn more about interactive tables.';\n",
              "          element.innerHTML = '';\n",
              "          dataTable['output_type'] = 'display_data';\n",
              "          await google.colab.output.renderOutput(dataTable, element);\n",
              "          const docLink = document.createElement('div');\n",
              "          docLink.innerHTML = docLinkHtml;\n",
              "          element.appendChild(docLink);\n",
              "        }\n",
              "      </script>\n",
              "    </div>\n",
              "  </div>\n",
              "  "
            ]
          },
          "metadata": {},
          "execution_count": 16
        }
      ],
      "source": [
        "dataset_ex_df[['Date', 'Close']].head(3)"
      ]
    },
    {
      "cell_type": "markdown",
      "metadata": {
        "id": "AVkU6X93veJp"
      },
      "source": [
        "**Have a good look at closing prices and date. Most time series analysis go with trying to fo find closing prices.** \n",
        "**The reason is because closing prices generally summarize the way business was going better than opening prices or average prices.**\n",
        "**Below is a great article to understand stock markets better**\n",
        "https://medium.com/s/story/predicting-the-stock-market-is-easier-than-you-might-think-4f1e0bc05cfe"
      ]
    },
    {
      "cell_type": "code",
      "execution_count": 17,
      "metadata": {
        "colab": {
          "base_uri": "https://localhost:8080/"
        },
        "id": "6a3PaysYHx2i",
        "outputId": "eff8f386-2195-48a0-d704-82940cbe9e23"
      },
      "outputs": [
        {
          "output_type": "stream",
          "name": "stdout",
          "text": [
            "There are 2265 number of days in the dataset.\n"
          ]
        }
      ],
      "source": [
        "print('There are {} number of days in the dataset.'.format(dataset_ex_df.shape[0]))"
      ]
    },
    {
      "cell_type": "code",
      "execution_count": 18,
      "metadata": {
        "colab": {
          "base_uri": "https://localhost:8080/",
          "height": 480
        },
        "id": "jDVWPQqQIPSg",
        "outputId": "78ba592c-127c-42d6-da08-3382beacdc0c"
      },
      "outputs": [
        {
          "output_type": "display_data",
          "data": {
            "text/plain": [
              "<Figure size 1400x500 with 1 Axes>"
            ],
            "image/png": "[encoded data removed]"
          },
          "metadata": {
            "needs_background": "light"
          }
        }
      ],
      "source": [
        "plt.figure(figsize=(14, 5), dpi=100)\n",
        "plt.plot(dataset_ex_df['Date'], dataset_ex_df['Close'], label='Amazon stock')\n",
        "plt.vlines(datetime.date(2016,4,20), 0, 270, linestyles='--', colors='gray', label='Train/Test data cut-off')\n",
        "plt.xlabel('Date')\n",
        "plt.ylabel('USD')\n",
        "plt.title('Figure 2: Amazon stock price')\n",
        "plt.legend()\n",
        "plt.show()\n"
      ]
    },
    {
      "cell_type": "markdown",
      "metadata": {
        "id": "PTLPUwUqxsFn"
      },
      "source": [
        "**I have divided the stock data after 2010 upto 2019 for Amazon. \n",
        "Amazon business really boomed after 2010 and then peaked after 2015 so the testing will be very interesting since most of the data is in the exponential growth period. What I am going to do it normalize the training data such that similar data points over time are reduced to one single data point so that the model can train in such a way it can expect the exponential growth after 2015.**\n",
        "\n",
        "**Inorder to predict better i NEED TO GENERATOR FEATURES SO I HAVE MORE INDICATORS TO PREDICT THE DATA**"
      ]
    },
    {
      "cell_type": "markdown",
      "metadata": {
        "id": "JUrq9syJy4FM"
      },
      "source": [
        "# **FEATURE GENERATION**"
      ]
    },
    {
      "cell_type": "code",
      "execution_count": 19,
      "metadata": {
        "id": "Pq8-28ZxITgE"
      },
      "outputs": [],
      "source": [
        "def get_technical_indicators(dataset): #function to generate feature technical indicators\n",
        "    \n",
        "    \n",
        "    # Create 7 and 21 days Moving Average\n",
        "    dataset['ma7'] = dataset['Close'].rolling(window = 7).mean()\n",
        "    dataset['ma21'] = dataset['Close'].rolling(window = 21).mean()\n",
        "    \n",
        "    #Create MACD\n",
        "    dataset['26ema'] = dataset['Close'].ewm(span=26).mean()\n",
        "    dataset['12ema'] = dataset['Close'].ewm(span=12).mean()\n",
        "    dataset['MACD'] = (dataset['12ema']-dataset['26ema'])\n",
        "    \n",
        "    #Create Bollinger Bands\n",
        "    dataset['20sd'] = dataset['Close'].rolling(window = 20).std()\n",
        "    dataset['upper_band'] = (dataset['Close'].rolling(window = 20).mean()) + (dataset['20sd']*2)\n",
        "    dataset['lower_band'] = (dataset['Close'].rolling(window = 20).mean()) - (dataset['20sd']*2)\n",
        "    \n",
        "    \n",
        "    #Create Exponential moving average\n",
        "    dataset['ema'] = dataset['Close'].ewm(com=0.5).mean()\n",
        "    \n",
        "    #Create Momentum\n",
        "    dataset['momentum'] = (dataset['Close']/100)-1\n",
        "    \n",
        "    \n",
        "    \n",
        "    return dataset"
      ]
    },
    {
      "cell_type": "markdown",
      "metadata": {
        "id": "XfaBgjfrzPJm"
      },
      "source": [
        "**List of technical indicators and explanation:**\n",
        "\n",
        "\n",
        "**1.   Bollinger bands: Bollinger Bands is used to define the prevailing high and low prices in a market to characterize the trading band of a financial instrument or commodity. Bollinger Bands are a volatility indicator. Bands are consists of Moving Average (MA) line, a upper band and lower band. The upper and lower bands are simply MA adding and subtracting standard deviation.** \n",
        "\n",
        "**2.   EMA: Exponential moving average is a better version of a simple moving average that doesnt have SMAs lag. Moving averages just average out the data for a given time so we know how the company's closing price are trending for a given amount of days. example for 4 days is price was 22,23 ,45,1**\n",
        "**(the company crashed on 4th day) the average would be 23. Now 23 is a below average value so it gives us an idea that 45 was indeed just a fluke and that infact the company was always making losses**\n",
        "**EMA is calculated as:**\n",
        "**EMA(t)EMA(t0)=(1−α)EMA(t−1)+α p(t)=p(t0)**\n",
        "**where** \n",
        "**α=1L+1 and length of window is α=2M+1**\n",
        "**I used the ewm(exponential weighted mean ) function to calculate ema.**\n",
        "\n",
        "\n",
        "\n",
        "**3. Momentum: Momentum is perhaps the simplest and easiest oscillator (financial analysis tool) to understand and use. It is the measurement of the speed or velocity of price changes, or the rate of change in price movement for a particular asset.**\n",
        "\n",
        "**The formula for momentum is:**\n",
        "\n",
        "**Momentum=V−Vx**\n",
        "**where:**\n",
        "\n",
        "**V=Latest price**\n",
        "\n",
        "**Vx=Closing price**\n",
        "\n",
        "**x=Number of days ago**\n",
        "\n",
        "\n",
        "**Other features calculated are**\n",
        "**moving averages of 7 and 21 days and standard deviation.**\n",
        "\n",
        "\n",
        "**Great Links are:**\n",
        "1. https://www.learndatasci.com/tutorials/python-finance-part-3-moving-average-trading-strategy/\n",
        "2. https://towardsdatascience.com/trading-technical-analysis-with-pandas-43e737a17861"
      ]
    },
    {
      "cell_type": "code",
      "execution_count": 20,
      "metadata": {
        "id": "vLLcWPw0Ij5w"
      },
      "outputs": [],
      "source": [
        "dataset_TI_df = get_technical_indicators(dataset_ex_df)"
      ]
    },
    {
      "cell_type": "code",
      "execution_count": 21,
      "metadata": {
        "colab": {
          "base_uri": "https://localhost:8080/",
          "height": 357
        },
        "id": "r0dKh8HeImGj",
        "outputId": "f9b5b15d-cefb-4d30-812e-a32ef88f897d"
      },
      "outputs": [
        {
          "output_type": "execute_result",
          "data": {
            "text/plain": [
              "        Date        Open        High         Low   Adj Close    Volume  ma7  \\\n",
              "0 2010-01-04  136.250000  136.610001  133.139999  133.899994   7599900  NaN   \n",
              "1 2010-01-05  133.429993  135.479996  131.809998  134.690002   8851900  NaN   \n",
              "2 2010-01-06  134.600006  134.729996  131.649994  132.250000   7178800  NaN   \n",
              "3 2010-01-07  132.009995  132.320007  128.800003  130.000000  11030200  NaN   \n",
              "4 2010-01-08  130.559998  133.679993  129.029999  133.520004   9830500  NaN   \n",
              "\n",
              "   ma21       26ema       12ema      MACD  20sd  upper_band  lower_band  \\\n",
              "0   NaN  133.899994  133.899994  0.000000   NaN         NaN         NaN   \n",
              "1   NaN  134.310190  134.327915  0.017725   NaN         NaN         NaN   \n",
              "2   NaN  133.569984  133.516904 -0.053080   NaN         NaN         NaN   \n",
              "3   NaN  132.571973  132.406755 -0.165217   NaN         NaN         NaN   \n",
              "4   NaN  132.791825  132.709221 -0.082604   NaN         NaN         NaN   \n",
              "\n",
              "          ema  momentum  Fourier  ARIMA       Close  labels  \n",
              "0  133.899994    0.3390      NaN    NaN  133.899994     NaN  \n",
              "1  134.492500    0.3469      NaN    NaN  134.690002     NaN  \n",
              "2  132.940000    0.3225      NaN    NaN  132.250000     NaN  \n",
              "3  130.955500    0.3000      NaN    NaN  130.000000     NaN  \n",
              "4  132.672234    0.3352      NaN    NaN  133.520004     NaN  "
            ],
            "text/html": [
              "\n",
              "  <div id=\"df-ae49c8f8-d108-48b1-b693-12e1a602799e\">\n",
              "    <div class=\"colab-df-container\">\n",
              "      <div>\n",
              "<style scoped>\n",
              "    .dataframe tbody tr th:only-of-type {\n",
              "        vertical-align: middle;\n",
              "    }\n",
              "\n",
              "    .dataframe tbody tr th {\n",
              "        vertical-align: top;\n",
              "    }\n",
              "\n",
              "    .dataframe thead th {\n",
              "        text-align: right;\n",
              "    }\n",
              "</style>\n",
              "<table border=\"1\" class=\"dataframe\">\n",
              "  <thead>\n",
              "    <tr style=\"text-align: right;\">\n",
              "      <th></th>\n",
              "      <th>Date</th>\n",
              "      <th>Open</th>\n",
              "      <th>High</th>\n",
              "      <th>Low</th>\n",
              "      <th>Adj Close</th>\n",
              "      <th>Volume</th>\n",
              "      <th>ma7</th>\n",
              "      <th>ma21</th>\n",
              "      <th>26ema</th>\n",
              "      <th>12ema</th>\n",
              "      <th>MACD</th>\n",
              "      <th>20sd</th>\n",
              "      <th>upper_band</th>\n",
              "      <th>lower_band</th>\n",
              "      <th>ema</th>\n",
              "      <th>momentum</th>\n",
              "      <th>Fourier</th>\n",
              "      <th>ARIMA</th>\n",
              "      <th>Close</th>\n",
              "      <th>labels</th>\n",
              "    </tr>\n",
              "  </thead>\n",
              "  <tbody>\n",
              "    <tr>\n",
              "      <th>0</th>\n",
              "      <td>2010-01-04</td>\n",
              "      <td>136.250000</td>\n",
              "      <td>136.610001</td>\n",
              "      <td>133.139999</td>\n",
              "      <td>133.899994</td>\n",
              "      <td>7599900</td>\n",
              "      <td>NaN</td>\n",
              "      <td>NaN</td>\n",
              "      <td>133.899994</td>\n",
              "      <td>133.899994</td>\n",
              "      <td>0.000000</td>\n",
              "      <td>NaN</td>\n",
              "      <td>NaN</td>\n",
              "      <td>NaN</td>\n",
              "      <td>133.899994</td>\n",
              "      <td>0.3390</td>\n",
              "      <td>NaN</td>\n",
              "      <td>NaN</td>\n",
              "      <td>133.899994</td>\n",
              "      <td>NaN</td>\n",
              "    </tr>\n",
              "    <tr>\n",
              "      <th>1</th>\n",
              "      <td>2010-01-05</td>\n",
              "      <td>133.429993</td>\n",
              "      <td>135.479996</td>\n",
              "      <td>131.809998</td>\n",
              "      <td>134.690002</td>\n",
              "      <td>8851900</td>\n",
              "      <td>NaN</td>\n",
              "      <td>NaN</td>\n",
              "      <td>134.310190</td>\n",
              "      <td>134.327915</td>\n",
              "      <td>0.017725</td>\n",
              "      <td>NaN</td>\n",
              "      <td>NaN</td>\n",
              "      <td>NaN</td>\n",
              "      <td>134.492500</td>\n",
              "      <td>0.3469</td>\n",
              "      <td>NaN</td>\n",
              "      <td>NaN</td>\n",
              "      <td>134.690002</td>\n",
              "      <td>NaN</td>\n",
              "    </tr>\n",
              "    <tr>\n",
              "      <th>2</th>\n",
              "      <td>2010-01-06</td>\n",
              "      <td>134.600006</td>\n",
              "      <td>134.729996</td>\n",
              "      <td>131.649994</td>\n",
              "      <td>132.250000</td>\n",
              "      <td>7178800</td>\n",
              "      <td>NaN</td>\n",
              "      <td>NaN</td>\n",
              "      <td>133.569984</td>\n",
              "      <td>133.516904</td>\n",
              "      <td>-0.053080</td>\n",
              "      <td>NaN</td>\n",
              "      <td>NaN</td>\n",
              "      <td>NaN</td>\n",
              "      <td>132.940000</td>\n",
              "      <td>0.3225</td>\n",
              "      <td>NaN</td>\n",
              "      <td>NaN</td>\n",
              "      <td>132.250000</td>\n",
              "      <td>NaN</td>\n",
              "    </tr>\n",
              "    <tr>\n",
              "      <th>3</th>\n",
              "      <td>2010-01-07</td>\n",
              "      <td>132.009995</td>\n",
              "      <td>132.320007</td>\n",
              "      <td>128.800003</td>\n",
              "      <td>130.000000</td>\n",
              "      <td>11030200</td>\n",
              "      <td>NaN</td>\n",
              "      <td>NaN</td>\n",
              "      <td>132.571973</td>\n",
              "      <td>132.406755</td>\n",
              "      <td>-0.165217</td>\n",
              "      <td>NaN</td>\n",
              "      <td>NaN</td>\n",
              "      <td>NaN</td>\n",
              "      <td>130.955500</td>\n",
              "      <td>0.3000</td>\n",
              "      <td>NaN</td>\n",
              "      <td>NaN</td>\n",
              "      <td>130.000000</td>\n",
              "      <td>NaN</td>\n",
              "    </tr>\n",
              "    <tr>\n",
              "      <th>4</th>\n",
              "      <td>2010-01-08</td>\n",
              "      <td>130.559998</td>\n",
              "      <td>133.679993</td>\n",
              "      <td>129.029999</td>\n",
              "      <td>133.520004</td>\n",
              "      <td>9830500</td>\n",
              "      <td>NaN</td>\n",
              "      <td>NaN</td>\n",
              "      <td>132.791825</td>\n",
              "      <td>132.709221</td>\n",
              "      <td>-0.082604</td>\n",
              "      <td>NaN</td>\n",
              "      <td>NaN</td>\n",
              "      <td>NaN</td>\n",
              "      <td>132.672234</td>\n",
              "      <td>0.3352</td>\n",
              "      <td>NaN</td>\n",
              "      <td>NaN</td>\n",
              "      <td>133.520004</td>\n",
              "      <td>NaN</td>\n",
              "    </tr>\n",
              "  </tbody>\n",
              "</table>\n",
              "</div>\n",
              "      <button class=\"colab-df-convert\" onclick=\"convertToInteractive('df-ae49c8f8-d108-48b1-b693-12e1a602799e')\"\n",
              "              title=\"Convert this dataframe to an interactive table.\"\n",
              "              style=\"display:none;\">\n",
              "        \n",
              "  <svg xmlns=\"http://www.w3.org/2000/svg\" height=\"24px\"viewBox=\"0 0 24 24\"\n",
              "       width=\"24px\">\n",
              "    <path d=\"M0 0h24v24H0V0z\" fill=\"none\"/>\n",
              "    <path d=\"M18.56 5.44l.94 2.06.94-2.06 2.06-.94-2.06-.94-.94-2.06-.94 2.06-2.06.94zm-11 1L8.5 8.5l.94-2.06 2.06-.94-2.06-.94L8.5 2.5l-.94 2.06-2.06.94zm10 10l.94 2.06.94-2.06 2.06-.94-2.06-.94-.94-2.06-.94 2.06-2.06.94z\"/><path d=\"M17.41 7.96l-1.37-1.37c-.4-.4-.92-.59-1.43-.59-.52 0-1.04.2-1.43.59L10.3 9.45l-7.72 7.72c-.78.78-.78 2.05 0 2.83L4 21.41c.39.39.9.59 1.41.59.51 0 1.02-.2 1.41-.59l7.78-7.78 2.81-2.81c.8-.78.8-2.07 0-2.86zM5.41 20L4 18.59l7.72-7.72 1.47 1.35L5.41 20z\"/>\n",
              "  </svg>\n",
              "      </button>\n",
              "      \n",
              "  <style>\n",
              "    .colab-df-container {\n",
              "      display:flex;\n",
              "      flex-wrap:wrap;\n",
              "      gap: 12px;\n",
              "    }\n",
              "\n",
              "    .colab-df-convert {\n",
              "      background-color: #E8F0FE;\n",
              "      border: none;\n",
              "      border-radius: 50%;\n",
              "      cursor: pointer;\n",
              "      display: none;\n",
              "      fill: #1967D2;\n",
              "      height: 32px;\n",
              "      padding: 0 0 0 0;\n",
              "      width: 32px;\n",
              "    }\n",
              "\n",
              "    .colab-df-convert:hover {\n",
              "      background-color: #E2EBFA;\n",
              "      box-shadow: 0px 1px 2px rgba(60, 64, 67, 0.3), 0px 1px 3px 1px rgba(60, 64, 67, 0.15);\n",
              "      fill: #174EA6;\n",
              "    }\n",
              "\n",
              "    [theme=dark] .colab-df-convert {\n",
              "      background-color: #3B4455;\n",
              "      fill: #D2E3FC;\n",
              "    }\n",
              "\n",
              "    [theme=dark] .colab-df-convert:hover {\n",
              "      background-color: #434B5C;\n",
              "      box-shadow: 0px 1px 3px 1px rgba(0, 0, 0, 0.15);\n",
              "      filter: drop-shadow(0px 1px 2px rgba(0, 0, 0, 0.3));\n",
              "      fill: #FFFFFF;\n",
              "    }\n",
              "  </style>\n",
              "\n",
              "      <script>\n",
              "        const buttonEl =\n",
              "          document.querySelector('#df-ae49c8f8-d108-48b1-b693-12e1a602799e button.colab-df-convert');\n",
              "        buttonEl.style.display =\n",
              "          google.colab.kernel.accessAllowed ? 'block' : 'none';\n",
              "\n",
              "        async function convertToInteractive(key) {\n",
              "          const element = document.querySelector('#df-ae49c8f8-d108-48b1-b693-12e1a602799e');\n",
              "          const dataTable =\n",
              "            await google.colab.kernel.invokeFunction('convertToInteractive',\n",
              "                                                     [key], {});\n",
              "          if (!dataTable) return;\n",
              "\n",
              "          const docLinkHtml = 'Like what you see? Visit the ' +\n",
              "            '<a target=\"_blank\" href=https://colab.research.google.com/notebooks/data_table.ipynb>data table notebook</a>'\n",
              "            + ' to learn more about interactive tables.';\n",
              "          element.innerHTML = '';\n",
              "          dataTable['output_type'] = 'display_data';\n",
              "          await google.colab.output.renderOutput(dataTable, element);\n",
              "          const docLink = document.createElement('div');\n",
              "          docLink.innerHTML = docLinkHtml;\n",
              "          element.appendChild(docLink);\n",
              "        }\n",
              "      </script>\n",
              "    </div>\n",
              "  </div>\n",
              "  "
            ]
          },
          "metadata": {},
          "execution_count": 21
        }
      ],
      "source": [
        "dataset_TI_df.head()"
      ]
    },
    {
      "cell_type": "code",
      "execution_count": 22,
      "metadata": {
        "id": "WI5YM1L4IoXg"
      },
      "outputs": [],
      "source": [
        "def plot_technical_indicators(dataset, last_days):\n",
        "    plt.figure(figsize=(16, 10), dpi=100)\n",
        "    shape_0 = dataset.shape[0]\n",
        "    xmacd_ = shape_0-last_days\n",
        "    \n",
        "    dataset = dataset.iloc[-last_days:, :]\n",
        "    x_ = range(3, dataset.shape[0])\n",
        "    x_ =list(dataset.index)\n",
        "    \n",
        "    # Plot first subplot\n",
        "    plt.subplot(2, 1, 1)\n",
        "    plt.plot(dataset['ma7'],label='MA 7', color='g',linestyle='--')\n",
        "    plt.plot(dataset['Close'],label='Closing Price', color='b')\n",
        "    plt.plot(dataset['ma21'],label='MA 21', color='r',linestyle='--')\n",
        "    plt.plot(dataset['upper_band'],label='Upper Band', color='c')\n",
        "    plt.plot(dataset['lower_band'],label='Lower Band', color='c')\n",
        "    plt.fill_between(x_, dataset['lower_band'], dataset['upper_band'], alpha=0.35)\n",
        "    plt.title('Technical indicators for Amazon - last {} days.'.format(last_days))\n",
        "    plt.ylabel('USD')\n",
        "    plt.legend()\n",
        "\n",
        "    # Plot second subplot\n",
        "    plt.subplot(2, 1, 2)\n",
        "    plt.title('MACD')\n",
        "    plt.plot(dataset['MACD'],label='MACD', linestyle='-.')\n",
        "    plt.hlines(15, xmacd_, shape_0, colors='g', linestyles='--')\n",
        "    plt.hlines(-15, xmacd_, shape_0, colors='g', linestyles='--')\n",
        "    plt.plot(dataset['momentum'],label='Momentum', color='b',linestyle='-')\n",
        "\n",
        "    plt.legend()\n",
        "    plt.show()"
      ]
    },
    {
      "cell_type": "code",
      "execution_count": 22,
      "metadata": {
        "colab": {
          "base_uri": "https://localhost:8080/",
          "height": 813
        },
        "id": "aDPdCgs_I711",
        "outputId": "92d5018c-5fcd-4d46-9816-540b474f0418"
      },
      "outputs": [
        {
          "output_type": "display_data",
          "data": {
            "text/plain": [
              "<Figure size 1600x1000 with 2 Axes>"
            ],
            "image/png": "[encoded data removed]"
          },
          "metadata": {
            "needs_background": "light"
          }
        }
      ],
      "source": [
        "plot_technical_indicators(dataset_TI_df, 400)"
      ]
    },
    {
      "cell_type": "markdown",
      "metadata": {
        "id": "QGDJXjmK_rly"
      },
      "source": [
        "**PLOT UNDERSTANDING:** \n",
        "\n",
        "**THE FIRST PLOT IS SELF EXPLANATORY**\n",
        "\n",
        "**THE SECOND PLOT IS SHOWING THE THRESHOLD BETWEEN MACD AND MOMENTUM. AS YOU CAN SEE MOMENTUM IS GIVING AN AVERAGE VALUE OF THE MACD IN BETEEEN THE PEAK VALUES AND THE HIGHEST OR LOWEST VALUES. MACD DEPENDS ON THE MOVING AVERAGE FEATURES AS CALCULATED ABOVE**"
      ]
    },
    {
      "cell_type": "markdown",
      "metadata": {
        "id": "aq3LlT6lAzho"
      },
      "source": [
        "\n",
        "\n",
        ">  \n",
        "# **ANALYSIS OF TIME SERIES USING FOURIER TRANSFORM**\n",
        "\n",
        "\n"
      ]
    },
    {
      "cell_type": "code",
      "execution_count": 23,
      "metadata": {
        "id": "dyNAHsAFI-EO"
      },
      "outputs": [],
      "source": [
        "data_FT = dataset_ex_df[['Date', 'Close']]\n",
        "close_fft = np.fft.fft(np.asarray(data_FT['Close'].tolist()))\n",
        "fft_df = pd.DataFrame({'fft':close_fft})\n",
        "fft_df['absolute'] = fft_df['fft'].apply(lambda x: np.abs(x))\n",
        "fft_df['angle'] = fft_df['fft'].apply(lambda x: np.angle(x))"
      ]
    },
    {
      "cell_type": "code",
      "execution_count": 24,
      "metadata": {
        "colab": {
          "base_uri": "https://localhost:8080/",
          "height": 631
        },
        "id": "U58-Ziw0Jq_3",
        "outputId": "20d70560-7bab-47bc-f545-a1b656b761a3"
      },
      "outputs": [
        {
          "output_type": "display_data",
          "data": {
            "text/plain": [
              "<Figure size 1400x700 with 1 Axes>"
            ],
            "image/png": "[encoded data removed]"
          },
          "metadata": {
            "needs_background": "light"
          }
        }
      ],
      "source": [
        "plt.figure(figsize=(14, 7), dpi=100)\n",
        "fft_list = np.asarray(fft_df['fft'].tolist())\n",
        "for num_ in [3, 6, 9, 100]:\n",
        "    fft_list_m10= np.copy(fft_list); fft_list_m10[num_:-num_]=0\n",
        "    plt.plot(np.fft.ifft(fft_list_m10), label='Fourier transform with {} components'.format(num_))\n",
        "plt.plot(data_FT['Close'],  label='Real')\n",
        "plt.xlabel('Days')\n",
        "plt.ylabel('USD')\n",
        "plt.title('Figure 3: Amazon (close) stock prices & Fourier transforms')\n",
        "plt.legend()\n",
        "plt.show()\n"
      ]
    },
    {
      "cell_type": "markdown",
      "metadata": {
        "id": "Lx_CZZsMDm0U"
      },
      "source": [
        "**Fourier Transform uses many spectral components to try and train data. From time domain its converted to frequency domain and then calculated. After that it's reconverted into time domain where it's plotted.**\n",
        "**Fourier Transform as indicator helps to extract predominate cycle from a series of data**\n",
        "\n",
        "**Reference: https://www.metastock.com/customer/resources/taaz/?p=58**\n",
        "\n",
        "**In the above example we can see the spectral component of 100 is closest to the real price so we will move ahead ith 100**\n",
        "\n",
        "\n"
      ]
    },
    {
      "cell_type": "code",
      "execution_count": 25,
      "metadata": {
        "id": "S92mKcpwJtak"
      },
      "outputs": [],
      "source": [
        "\n",
        "def get_fourier(dataset):\n",
        "    data_FT = dataset[['Date', 'Close']]\n",
        "    close_fft = np.fft.fft(np.asarray(data_FT['Close'].tolist()))\n",
        "    close_fft = np.fft.ifft(close_fft)\n",
        "    close_fft\n",
        "    fft_df = pd.DataFrame({'fft':close_fft})\n",
        "    fft_df['absolute'] = fft_df['fft'].apply(lambda x: np.abs(x))\n",
        "    fft_df['angle'] = fft_df['fft'].apply(lambda x: np.angle(x))\n",
        "    fft_list = np.asarray(fft_df['fft'].tolist())\n",
        "    fft_list_m10= np.copy(fft_list); fft_list_m10[100:-100]=0\n",
        "    dataset['Fourier'] = pd.DataFrame(fft_list_m10).apply(lambda x: np.abs(x))\n",
        "    #dataset['absolute'] = dataset['Fourier'].apply(lambda x: np.abs(x))\n",
        "    return dataset"
      ]
    },
    {
      "cell_type": "code",
      "execution_count": 26,
      "metadata": {
        "id": "UxWEoAzIJ0xu"
      },
      "outputs": [],
      "source": [
        "dataset_TI_df = get_fourier(dataset_ex_df)"
      ]
    },
    {
      "cell_type": "code",
      "execution_count": 27,
      "metadata": {
        "colab": {
          "base_uri": "https://localhost:8080/",
          "height": 1000
        },
        "id": "zlqkfBlQJ9ZR",
        "outputId": "cf88125e-4872-4de7-cfe0-be2a1ddd82db"
      },
      "outputs": [
        {
          "output_type": "execute_result",
          "data": {
            "text/plain": [
              "         Date        Open        High         Low   Adj Close    Volume  \\\n",
              "0  2010-01-04  136.250000  136.610001  133.139999  133.899994   7599900   \n",
              "1  2010-01-05  133.429993  135.479996  131.809998  134.690002   8851900   \n",
              "2  2010-01-06  134.600006  134.729996  131.649994  132.250000   7178800   \n",
              "3  2010-01-07  132.009995  132.320007  128.800003  130.000000  11030200   \n",
              "4  2010-01-08  130.559998  133.679993  129.029999  133.520004   9830500   \n",
              "5  2010-01-11  132.619995  132.800003  129.210007  130.309998   8779400   \n",
              "6  2010-01-12  128.990005  129.820007  126.550003  127.349998   9096300   \n",
              "7  2010-01-13  127.900002  129.710007  125.750000  129.110001  10723200   \n",
              "8  2010-01-14  129.139999  130.380005  126.400002  127.349998   9774900   \n",
              "9  2010-01-15  129.179993  129.649994  127.059998  127.139999  15376500   \n",
              "10 2010-01-19  126.309998  128.000000  124.330002  127.610001   8892600   \n",
              "11 2010-01-20  127.129997  129.199997  125.080002  125.779999   9074700   \n",
              "12 2010-01-21  127.260002  128.149994  125.000000  126.620003   9970600   \n",
              "13 2010-01-22  125.599998  127.669998  120.760002  121.430000  11568900   \n",
              "14 2010-01-25  122.099998  122.279999  118.120003  120.309998  12023900   \n",
              "15 2010-01-26  120.559998  122.980003  119.059998  119.480003   9559000   \n",
              "16 2010-01-27  121.029999  123.330002  118.800003  122.750000  14765300   \n",
              "17 2010-01-28  124.430000  127.199997  122.800003  126.029999  27293100   \n",
              "18 2010-01-29  129.770004  131.850006  124.139999  125.410004  29471300   \n",
              "19 2010-02-01  123.180000  124.860001  113.820000  118.870003  37774400   \n",
              "20 2010-02-02  118.790001  118.980003  114.400002  118.120003  23079700   \n",
              "21 2010-02-03  117.120003  119.610001  116.559998  119.099998  12405900   \n",
              "22 2010-02-04  118.639999  120.330002  115.739998  115.940002  12784000   \n",
              "23 2010-02-05  115.879997  117.650002  114.099998  117.389999  11024800   \n",
              "24 2010-02-08  119.379997  121.000000  116.559998  116.830002   9890200   \n",
              "25 2010-02-09  118.199997  119.089996  117.000000  118.029999   9223000   \n",
              "26 2010-02-10  118.000000  118.610001  116.000000  117.360001   6233200   \n",
              "27 2010-02-11  117.209999  120.419998  116.500000  120.089996   8343500   \n",
              "28 2010-02-12  118.989998  119.940002  117.500000  119.660004   8073500   \n",
              "29 2010-02-16  120.059998  120.500000  117.180000  117.529999   8932700   \n",
              "\n",
              "           ma7        ma21       26ema       12ema      MACD      20sd  \\\n",
              "0          NaN         NaN  133.899994  133.899994  0.000000       NaN   \n",
              "1          NaN         NaN  134.310190  134.327915  0.017725       NaN   \n",
              "2          NaN         NaN  133.569984  133.516904 -0.053080       NaN   \n",
              "3          NaN         NaN  132.571973  132.406755 -0.165217       NaN   \n",
              "4          NaN         NaN  132.791825  132.709221 -0.082604       NaN   \n",
              "5          NaN         NaN  132.294735  132.126083 -0.168651       NaN   \n",
              "6   131.717142         NaN  131.415339  131.060317 -0.355022       NaN   \n",
              "7   131.032858         NaN  131.043892  130.653316 -0.390576       NaN   \n",
              "8   129.984286         NaN  130.496376  129.999802 -0.496574       NaN   \n",
              "9   129.254285         NaN  130.033228  129.457870 -0.575358       NaN   \n",
              "10  128.912857         NaN  129.718935  129.119755 -0.599180       NaN   \n",
              "11  127.807142         NaN  129.234975  128.525957 -0.709017       NaN   \n",
              "12  127.280000         NaN  128.928631  128.195011 -0.733620       NaN   \n",
              "13  126.434286         NaN  128.086446  127.043146 -1.043300       NaN   \n",
              "14  125.177143         NaN  127.245225  125.915228 -1.329996       NaN   \n",
              "15  124.052858         NaN  126.432919  124.851757 -1.581162       NaN   \n",
              "16  123.425715         NaN  126.059070  124.508344 -1.550727       NaN   \n",
              "17  123.200000         NaN  126.056198  124.754621 -1.301577       NaN   \n",
              "18  123.147144         NaN  125.993896  124.859851 -1.134044       NaN   \n",
              "19  122.040001         NaN  125.322058  123.904519 -1.417540  4.720928   \n",
              "20  121.567144  126.572857  124.656320  122.987114 -1.669206  4.823779   \n",
              "21  121.394287  125.868096  124.151970  122.373546 -1.778424  4.636742   \n",
              "22  120.888573  124.975239  123.418807  121.362079 -2.056729  4.804807   \n",
              "23  120.122858  124.267620  122.888619  120.739696 -2.148923  4.887152   \n",
              "24  118.808573  123.640477  122.363097  120.128825 -2.234272  4.588413   \n",
              "25  117.754287  122.902857  121.991946  119.801678 -2.190268  4.397009   \n",
              "26  117.538572  122.286191  121.599740  119.421860 -2.177880  4.388361   \n",
              "27  117.820000  121.940477  121.473245  119.525615 -1.947629  4.075084   \n",
              "28  117.900000  121.490477  121.322782  119.546454 -1.776327  3.859284   \n",
              "29  118.127143  121.022858  121.010834  119.234151 -1.776684  3.674285   \n",
              "\n",
              "    upper_band  lower_band         ema  momentum     Fourier  ARIMA  \\\n",
              "0          NaN         NaN  133.899994    0.3390  133.899994    NaN   \n",
              "1          NaN         NaN  134.492500    0.3469  134.690002    NaN   \n",
              "2          NaN         NaN  132.940000    0.3225  132.250000    NaN   \n",
              "3          NaN         NaN  130.955500    0.3000  130.000000    NaN   \n",
              "4          NaN         NaN  132.672234    0.3352  133.520004    NaN   \n",
              "5          NaN         NaN  131.095247    0.3031  130.309998    NaN   \n",
              "6          NaN         NaN  128.597272    0.2735  127.349998    NaN   \n",
              "7          NaN         NaN  128.939143    0.2911  129.110001    NaN   \n",
              "8          NaN         NaN  127.879659    0.2735  127.349998    NaN   \n",
              "9          NaN         NaN  127.386544    0.2714  127.139999    NaN   \n",
              "10         NaN         NaN  127.535516    0.2761  127.610001    NaN   \n",
              "11         NaN         NaN  126.365169    0.2578  125.779999    NaN   \n",
              "12         NaN         NaN  126.535059    0.2662  126.620003    NaN   \n",
              "13         NaN         NaN  123.131685    0.2143  121.430000    NaN   \n",
              "14         NaN         NaN  121.250560    0.2031  120.309998    NaN   \n",
              "15         NaN         NaN  120.070189    0.1948  119.480003    NaN   \n",
              "16         NaN         NaN  121.856730    0.2275  122.750000    NaN   \n",
              "17         NaN         NaN  124.638909    0.2603  126.029999    NaN   \n",
              "18         NaN         NaN  125.152972    0.2541  125.410004    NaN   \n",
              "19  136.437356  117.553645  120.964326    0.1887  118.870003    NaN   \n",
              "20  135.854058  116.558943  119.068111    0.1812  118.120003    NaN   \n",
              "21  134.700485  116.153516  119.089369    0.1910  119.099998    NaN   \n",
              "22  134.221114  115.001887  116.989791    0.1594  115.940002    NaN   \n",
              "23  133.755304  114.206697  117.256596    0.1739  117.389999    NaN   \n",
              "24  132.323326  113.969674  116.972200    0.1683  116.830002    NaN   \n",
              "25  131.326519  113.738482  117.677399    0.1803  118.029999    NaN   \n",
              "26  130.809723  113.256278  117.465800    0.1736  117.360001    NaN   \n",
              "27  129.732168  113.431832  119.215264    0.2009  120.089996    NaN   \n",
              "28  128.916068  113.478933  119.511757    0.1966  119.660004    NaN   \n",
              "29  128.065571  113.368431  118.190585    0.1753  117.529999    NaN   \n",
              "\n",
              "         Close  labels  \n",
              "0   133.899994     NaN  \n",
              "1   134.690002     NaN  \n",
              "2   132.250000     NaN  \n",
              "3   130.000000     NaN  \n",
              "4   133.520004     NaN  \n",
              "5   130.309998     NaN  \n",
              "6   127.349998     NaN  \n",
              "7   129.110001     NaN  \n",
              "8   127.349998     NaN  \n",
              "9   127.139999     NaN  \n",
              "10  127.610001     NaN  \n",
              "11  125.779999     NaN  \n",
              "12  126.620003     NaN  \n",
              "13  121.430000     NaN  \n",
              "14  120.309998     NaN  \n",
              "15  119.480003     NaN  \n",
              "16  122.750000     NaN  \n",
              "17  126.029999     NaN  \n",
              "18  125.410004     NaN  \n",
              "19  118.870003     NaN  \n",
              "20  118.120003     NaN  \n",
              "21  119.099998     NaN  \n",
              "22  115.940002     NaN  \n",
              "23  117.389999     NaN  \n",
              "24  116.830002     NaN  \n",
              "25  118.029999     NaN  \n",
              "26  117.360001     NaN  \n",
              "27  120.089996     NaN  \n",
              "28  119.660004     NaN  \n",
              "29  117.529999     NaN  "
            ],
            "text/html": [
              "\n",
              "  <div id=\"df-f366d64d-048e-43d8-88a3-7fdd2d9aa636\">\n",
              "    <div class=\"colab-df-container\">\n",
              "      <div>\n",
              "<style scoped>\n",
              "    .dataframe tbody tr th:only-of-type {\n",
              "        vertical-align: middle;\n",
              "    }\n",
              "\n",
              "    .dataframe tbody tr th {\n",
              "        vertical-align: top;\n",
              "    }\n",
              "\n",
              "    .dataframe thead th {\n",
              "        text-align: right;\n",
              "    }\n",
              "</style>\n",
              "<table border=\"1\" class=\"dataframe\">\n",
              "  <thead>\n",
              "    <tr style=\"text-align: right;\">\n",
              "      <th></th>\n",
              "      <th>Date</th>\n",
              "      <th>Open</th>\n",
              "      <th>High</th>\n",
              "      <th>Low</th>\n",
              "      <th>Adj Close</th>\n",
              "      <th>Volume</th>\n",
              "      <th>ma7</th>\n",
              "      <th>ma21</th>\n",
              "      <th>26ema</th>\n",
              "      <th>12ema</th>\n",
              "      <th>MACD</th>\n",
              "      <th>20sd</th>\n",
              "      <th>upper_band</th>\n",
              "      <th>lower_band</th>\n",
              "      <th>ema</th>\n",
              "      <th>momentum</th>\n",
              "      <th>Fourier</th>\n",
              "      <th>ARIMA</th>\n",
              "      <th>Close</th>\n",
              "      <th>labels</th>\n",
              "    </tr>\n",
              "  </thead>\n",
              "  <tbody>\n",
              "    <tr>\n",
              "      <th>0</th>\n",
              "      <td>2010-01-04</td>\n",
              "      <td>136.250000</td>\n",
              "      <td>136.610001</td>\n",
              "      <td>133.139999</td>\n",
              "      <td>133.899994</td>\n",
              "      <td>7599900</td>\n",
              "      <td>NaN</td>\n",
              "      <td>NaN</td>\n",
              "      <td>133.899994</td>\n",
              "      <td>133.899994</td>\n",
              "      <td>0.000000</td>\n",
              "      <td>NaN</td>\n",
              "      <td>NaN</td>\n",
              "      <td>NaN</td>\n",
              "      <td>133.899994</td>\n",
              "      <td>0.3390</td>\n",
              "      <td>133.899994</td>\n",
              "      <td>NaN</td>\n",
              "      <td>133.899994</td>\n",
              "      <td>NaN</td>\n",
              "    </tr>\n",
              "    <tr>\n",
              "      <th>1</th>\n",
              "      <td>2010-01-05</td>\n",
              "      <td>133.429993</td>\n",
              "      <td>135.479996</td>\n",
              "      <td>131.809998</td>\n",
              "      <td>134.690002</td>\n",
              "      <td>8851900</td>\n",
              "      <td>NaN</td>\n",
              "      <td>NaN</td>\n",
              "      <td>134.310190</td>\n",
              "      <td>134.327915</td>\n",
              "      <td>0.017725</td>\n",
              "      <td>NaN</td>\n",
              "      <td>NaN</td>\n",
              "      <td>NaN</td>\n",
              "      <td>134.492500</td>\n",
              "      <td>0.3469</td>\n",
              "      <td>134.690002</td>\n",
              "      <td>NaN</td>\n",
              "      <td>134.690002</td>\n",
              "      <td>NaN</td>\n",
              "    </tr>\n",
              "    <tr>\n",
              "      <th>2</th>\n",
              "      <td>2010-01-06</td>\n",
              "      <td>134.600006</td>\n",
              "      <td>134.729996</td>\n",
              "      <td>131.649994</td>\n",
              "      <td>132.250000</td>\n",
              "      <td>7178800</td>\n",
              "      <td>NaN</td>\n",
              "      <td>NaN</td>\n",
              "      <td>133.569984</td>\n",
              "      <td>133.516904</td>\n",
              "      <td>-0.053080</td>\n",
              "      <td>NaN</td>\n",
              "      <td>NaN</td>\n",
              "      <td>NaN</td>\n",
              "      <td>132.940000</td>\n",
              "      <td>0.3225</td>\n",
              "      <td>132.250000</td>\n",
              "      <td>NaN</td>\n",
              "      <td>132.250000</td>\n",
              "      <td>NaN</td>\n",
              "    </tr>\n",
              "    <tr>\n",
              "      <th>3</th>\n",
              "      <td>2010-01-07</td>\n",
              "      <td>132.009995</td>\n",
              "      <td>132.320007</td>\n",
              "      <td>128.800003</td>\n",
              "      <td>130.000000</td>\n",
              "      <td>11030200</td>\n",
              "      <td>NaN</td>\n",
              "      <td>NaN</td>\n",
              "      <td>132.571973</td>\n",
              "      <td>132.406755</td>\n",
              "      <td>-0.165217</td>\n",
              "      <td>NaN</td>\n",
              "      <td>NaN</td>\n",
              "      <td>NaN</td>\n",
              "      <td>130.955500</td>\n",
              "      <td>0.3000</td>\n",
              "      <td>130.000000</td>\n",
              "      <td>NaN</td>\n",
              "      <td>130.000000</td>\n",
              "      <td>NaN</td>\n",
              "    </tr>\n",
              "    <tr>\n",
              "      <th>4</th>\n",
              "      <td>2010-01-08</td>\n",
              "      <td>130.559998</td>\n",
              "      <td>133.679993</td>\n",
              "      <td>129.029999</td>\n",
              "      <td>133.520004</td>\n",
              "      <td>9830500</td>\n",
              "      <td>NaN</td>\n",
              "      <td>NaN</td>\n",
              "      <td>132.791825</td>\n",
              "      <td>132.709221</td>\n",
              "      <td>-0.082604</td>\n",
              "      <td>NaN</td>\n",
              "      <td>NaN</td>\n",
              "      <td>NaN</td>\n",
              "      <td>132.672234</td>\n",
              "      <td>0.3352</td>\n",
              "      <td>133.520004</td>\n",
              "      <td>NaN</td>\n",
              "      <td>133.520004</td>\n",
              "      <td>NaN</td>\n",
              "    </tr>\n",
              "    <tr>\n",
              "      <th>5</th>\n",
              "      <td>2010-01-11</td>\n",
              "      <td>132.619995</td>\n",
              "      <td>132.800003</td>\n",
              "      <td>129.210007</td>\n",
              "      <td>130.309998</td>\n",
              "      <td>8779400</td>\n",
              "      <td>NaN</td>\n",
              "      <td>NaN</td>\n",
              "      <td>132.294735</td>\n",
              "      <td>132.126083</td>\n",
              "      <td>-0.168651</td>\n",
              "      <td>NaN</td>\n",
              "      <td>NaN</td>\n",
              "      <td>NaN</td>\n",
              "      <td>131.095247</td>\n",
              "      <td>0.3031</td>\n",
              "      <td>130.309998</td>\n",
              "      <td>NaN</td>\n",
              "      <td>130.309998</td>\n",
              "      <td>NaN</td>\n",
              "    </tr>\n",
              "    <tr>\n",
              "      <th>6</th>\n",
              "      <td>2010-01-12</td>\n",
              "      <td>128.990005</td>\n",
              "      <td>129.820007</td>\n",
              "      <td>126.550003</td>\n",
              "      <td>127.349998</td>\n",
              "      <td>9096300</td>\n",
              "      <td>131.717142</td>\n",
              "      <td>NaN</td>\n",
              "      <td>131.415339</td>\n",
              "      <td>131.060317</td>\n",
              "      <td>-0.355022</td>\n",
              "      <td>NaN</td>\n",
              "      <td>NaN</td>\n",
              "      <td>NaN</td>\n",
              "      <td>128.597272</td>\n",
              "      <td>0.2735</td>\n",
              "      <td>127.349998</td>\n",
              "      <td>NaN</td>\n",
              "      <td>127.349998</td>\n",
              "      <td>NaN</td>\n",
              "    </tr>\n",
              "    <tr>\n",
              "      <th>7</th>\n",
              "      <td>2010-01-13</td>\n",
              "      <td>127.900002</td>\n",
              "      <td>129.710007</td>\n",
              "      <td>125.750000</td>\n",
              "      <td>129.110001</td>\n",
              "      <td>10723200</td>\n",
              "      <td>131.032858</td>\n",
              "      <td>NaN</td>\n",
              "      <td>131.043892</td>\n",
              "      <td>130.653316</td>\n",
              "      <td>-0.390576</td>\n",
              "      <td>NaN</td>\n",
              "      <td>NaN</td>\n",
              "      <td>NaN</td>\n",
              "      <td>128.939143</td>\n",
              "      <td>0.2911</td>\n",
              "      <td>129.110001</td>\n",
              "      <td>NaN</td>\n",
              "      <td>129.110001</td>\n",
              "      <td>NaN</td>\n",
              "    </tr>\n",
              "    <tr>\n",
              "      <th>8</th>\n",
              "      <td>2010-01-14</td>\n",
              "      <td>129.139999</td>\n",
              "      <td>130.380005</td>\n",
              "      <td>126.400002</td>\n",
              "      <td>127.349998</td>\n",
              "      <td>9774900</td>\n",
              "      <td>129.984286</td>\n",
              "      <td>NaN</td>\n",
              "      <td>130.496376</td>\n",
              "      <td>129.999802</td>\n",
              "      <td>-0.496574</td>\n",
              "      <td>NaN</td>\n",
              "      <td>NaN</td>\n",
              "      <td>NaN</td>\n",
              "      <td>127.879659</td>\n",
              "      <td>0.2735</td>\n",
              "      <td>127.349998</td>\n",
              "      <td>NaN</td>\n",
              "      <td>127.349998</td>\n",
              "      <td>NaN</td>\n",
              "    </tr>\n",
              "    <tr>\n",
              "      <th>9</th>\n",
              "      <td>2010-01-15</td>\n",
              "      <td>129.179993</td>\n",
              "      <td>129.649994</td>\n",
              "      <td>127.059998</td>\n",
              "      <td>127.139999</td>\n",
              "      <td>15376500</td>\n",
              "      <td>129.254285</td>\n",
              "      <td>NaN</td>\n",
              "      <td>130.033228</td>\n",
              "      <td>129.457870</td>\n",
              "      <td>-0.575358</td>\n",
              "      <td>NaN</td>\n",
              "      <td>NaN</td>\n",
              "      <td>NaN</td>\n",
              "      <td>127.386544</td>\n",
              "      <td>0.2714</td>\n",
              "      <td>127.139999</td>\n",
              "      <td>NaN</td>\n",
              "      <td>127.139999</td>\n",
              "      <td>NaN</td>\n",
              "    </tr>\n",
              "    <tr>\n",
              "      <th>10</th>\n",
              "      <td>2010-01-19</td>\n",
              "      <td>126.309998</td>\n",
              "      <td>128.000000</td>\n",
              "      <td>124.330002</td>\n",
              "      <td>127.610001</td>\n",
              "      <td>8892600</td>\n",
              "      <td>128.912857</td>\n",
              "      <td>NaN</td>\n",
              "      <td>129.718935</td>\n",
              "      <td>129.119755</td>\n",
              "      <td>-0.599180</td>\n",
              "      <td>NaN</td>\n",
              "      <td>NaN</td>\n",
              "      <td>NaN</td>\n",
              "      <td>127.535516</td>\n",
              "      <td>0.2761</td>\n",
              "      <td>127.610001</td>\n",
              "      <td>NaN</td>\n",
              "      <td>127.610001</td>\n",
              "      <td>NaN</td>\n",
              "    </tr>\n",
              "    <tr>\n",
              "      <th>11</th>\n",
              "      <td>2010-01-20</td>\n",
              "      <td>127.129997</td>\n",
              "      <td>129.199997</td>\n",
              "      <td>125.080002</td>\n",
              "      <td>125.779999</td>\n",
              "      <td>9074700</td>\n",
              "      <td>127.807142</td>\n",
              "      <td>NaN</td>\n",
              "      <td>129.234975</td>\n",
              "      <td>128.525957</td>\n",
              "      <td>-0.709017</td>\n",
              "      <td>NaN</td>\n",
              "      <td>NaN</td>\n",
              "      <td>NaN</td>\n",
              "      <td>126.365169</td>\n",
              "      <td>0.2578</td>\n",
              "      <td>125.779999</td>\n",
              "      <td>NaN</td>\n",
              "      <td>125.779999</td>\n",
              "      <td>NaN</td>\n",
              "    </tr>\n",
              "    <tr>\n",
              "      <th>12</th>\n",
              "      <td>2010-01-21</td>\n",
              "      <td>127.260002</td>\n",
              "      <td>128.149994</td>\n",
              "      <td>125.000000</td>\n",
              "      <td>126.620003</td>\n",
              "      <td>9970600</td>\n",
              "      <td>127.280000</td>\n",
              "      <td>NaN</td>\n",
              "      <td>128.928631</td>\n",
              "      <td>128.195011</td>\n",
              "      <td>-0.733620</td>\n",
              "      <td>NaN</td>\n",
              "      <td>NaN</td>\n",
              "      <td>NaN</td>\n",
              "      <td>126.535059</td>\n",
              "      <td>0.2662</td>\n",
              "      <td>126.620003</td>\n",
              "      <td>NaN</td>\n",
              "      <td>126.620003</td>\n",
              "      <td>NaN</td>\n",
              "    </tr>\n",
              "    <tr>\n",
              "      <th>13</th>\n",
              "      <td>2010-01-22</td>\n",
              "      <td>125.599998</td>\n",
              "      <td>127.669998</td>\n",
              "      <td>120.760002</td>\n",
              "      <td>121.430000</td>\n",
              "      <td>11568900</td>\n",
              "      <td>126.434286</td>\n",
              "      <td>NaN</td>\n",
              "      <td>128.086446</td>\n",
              "      <td>127.043146</td>\n",
              "      <td>-1.043300</td>\n",
              "      <td>NaN</td>\n",
              "      <td>NaN</td>\n",
              "      <td>NaN</td>\n",
              "      <td>123.131685</td>\n",
              "      <td>0.2143</td>\n",
              "      <td>121.430000</td>\n",
              "      <td>NaN</td>\n",
              "      <td>121.430000</td>\n",
              "      <td>NaN</td>\n",
              "    </tr>\n",
              "    <tr>\n",
              "      <th>14</th>\n",
              "      <td>2010-01-25</td>\n",
              "      <td>122.099998</td>\n",
              "      <td>122.279999</td>\n",
              "      <td>118.120003</td>\n",
              "      <td>120.309998</td>\n",
              "      <td>12023900</td>\n",
              "      <td>125.177143</td>\n",
              "      <td>NaN</td>\n",
              "      <td>127.245225</td>\n",
              "      <td>125.915228</td>\n",
              "      <td>-1.329996</td>\n",
              "      <td>NaN</td>\n",
              "      <td>NaN</td>\n",
              "      <td>NaN</td>\n",
              "      <td>121.250560</td>\n",
              "      <td>0.2031</td>\n",
              "      <td>120.309998</td>\n",
              "      <td>NaN</td>\n",
              "      <td>120.309998</td>\n",
              "      <td>NaN</td>\n",
              "    </tr>\n",
              "    <tr>\n",
              "      <th>15</th>\n",
              "      <td>2010-01-26</td>\n",
              "      <td>120.559998</td>\n",
              "      <td>122.980003</td>\n",
              "      <td>119.059998</td>\n",
              "      <td>119.480003</td>\n",
              "      <td>9559000</td>\n",
              "      <td>124.052858</td>\n",
              "      <td>NaN</td>\n",
              "      <td>126.432919</td>\n",
              "      <td>124.851757</td>\n",
              "      <td>-1.581162</td>\n",
              "      <td>NaN</td>\n",
              "      <td>NaN</td>\n",
              "      <td>NaN</td>\n",
              "      <td>120.070189</td>\n",
              "      <td>0.1948</td>\n",
              "      <td>119.480003</td>\n",
              "      <td>NaN</td>\n",
              "      <td>119.480003</td>\n",
              "      <td>NaN</td>\n",
              "    </tr>\n",
              "    <tr>\n",
              "      <th>16</th>\n",
              "      <td>2010-01-27</td>\n",
              "      <td>121.029999</td>\n",
              "      <td>123.330002</td>\n",
              "      <td>118.800003</td>\n",
              "      <td>122.750000</td>\n",
              "      <td>14765300</td>\n",
              "      <td>123.425715</td>\n",
              "      <td>NaN</td>\n",
              "      <td>126.059070</td>\n",
              "      <td>124.508344</td>\n",
              "      <td>-1.550727</td>\n",
              "      <td>NaN</td>\n",
              "      <td>NaN</td>\n",
              "      <td>NaN</td>\n",
              "      <td>121.856730</td>\n",
              "      <td>0.2275</td>\n",
              "      <td>122.750000</td>\n",
              "      <td>NaN</td>\n",
              "      <td>122.750000</td>\n",
              "      <td>NaN</td>\n",
              "    </tr>\n",
              "    <tr>\n",
              "      <th>17</th>\n",
              "      <td>2010-01-28</td>\n",
              "      <td>124.430000</td>\n",
              "      <td>127.199997</td>\n",
              "      <td>122.800003</td>\n",
              "      <td>126.029999</td>\n",
              "      <td>27293100</td>\n",
              "      <td>123.200000</td>\n",
              "      <td>NaN</td>\n",
              "      <td>126.056198</td>\n",
              "      <td>124.754621</td>\n",
              "      <td>-1.301577</td>\n",
              "      <td>NaN</td>\n",
              "      <td>NaN</td>\n",
              "      <td>NaN</td>\n",
              "      <td>124.638909</td>\n",
              "      <td>0.2603</td>\n",
              "      <td>126.029999</td>\n",
              "      <td>NaN</td>\n",
              "      <td>126.029999</td>\n",
              "      <td>NaN</td>\n",
              "    </tr>\n",
              "    <tr>\n",
              "      <th>18</th>\n",
              "      <td>2010-01-29</td>\n",
              "      <td>129.770004</td>\n",
              "      <td>131.850006</td>\n",
              "      <td>124.139999</td>\n",
              "      <td>125.410004</td>\n",
              "      <td>29471300</td>\n",
              "      <td>123.147144</td>\n",
              "      <td>NaN</td>\n",
              "      <td>125.993896</td>\n",
              "      <td>124.859851</td>\n",
              "      <td>-1.134044</td>\n",
              "      <td>NaN</td>\n",
              "      <td>NaN</td>\n",
              "      <td>NaN</td>\n",
              "      <td>125.152972</td>\n",
              "      <td>0.2541</td>\n",
              "      <td>125.410004</td>\n",
              "      <td>NaN</td>\n",
              "      <td>125.410004</td>\n",
              "      <td>NaN</td>\n",
              "    </tr>\n",
              "    <tr>\n",
              "      <th>19</th>\n",
              "      <td>2010-02-01</td>\n",
              "      <td>123.180000</td>\n",
              "      <td>124.860001</td>\n",
              "      <td>113.820000</td>\n",
              "      <td>118.870003</td>\n",
              "      <td>37774400</td>\n",
              "      <td>122.040001</td>\n",
              "      <td>NaN</td>\n",
              "      <td>125.322058</td>\n",
              "      <td>123.904519</td>\n",
              "      <td>-1.417540</td>\n",
              "      <td>4.720928</td>\n",
              "      <td>136.437356</td>\n",
              "      <td>117.553645</td>\n",
              "      <td>120.964326</td>\n",
              "      <td>0.1887</td>\n",
              "      <td>118.870003</td>\n",
              "      <td>NaN</td>\n",
              "      <td>118.870003</td>\n",
              "      <td>NaN</td>\n",
              "    </tr>\n",
              "    <tr>\n",
              "      <th>20</th>\n",
              "      <td>2010-02-02</td>\n",
              "      <td>118.790001</td>\n",
              "      <td>118.980003</td>\n",
              "      <td>114.400002</td>\n",
              "      <td>118.120003</td>\n",
              "      <td>23079700</td>\n",
              "      <td>121.567144</td>\n",
              "      <td>126.572857</td>\n",
              "      <td>124.656320</td>\n",
              "      <td>122.987114</td>\n",
              "      <td>-1.669206</td>\n",
              "      <td>4.823779</td>\n",
              "      <td>135.854058</td>\n",
              "      <td>116.558943</td>\n",
              "      <td>119.068111</td>\n",
              "      <td>0.1812</td>\n",
              "      <td>118.120003</td>\n",
              "      <td>NaN</td>\n",
              "      <td>118.120003</td>\n",
              "      <td>NaN</td>\n",
              "    </tr>\n",
              "    <tr>\n",
              "      <th>21</th>\n",
              "      <td>2010-02-03</td>\n",
              "      <td>117.120003</td>\n",
              "      <td>119.610001</td>\n",
              "      <td>116.559998</td>\n",
              "      <td>119.099998</td>\n",
              "      <td>12405900</td>\n",
              "      <td>121.394287</td>\n",
              "      <td>125.868096</td>\n",
              "      <td>124.151970</td>\n",
              "      <td>122.373546</td>\n",
              "      <td>-1.778424</td>\n",
              "      <td>4.636742</td>\n",
              "      <td>134.700485</td>\n",
              "      <td>116.153516</td>\n",
              "      <td>119.089369</td>\n",
              "      <td>0.1910</td>\n",
              "      <td>119.099998</td>\n",
              "      <td>NaN</td>\n",
              "      <td>119.099998</td>\n",
              "      <td>NaN</td>\n",
              "    </tr>\n",
              "    <tr>\n",
              "      <th>22</th>\n",
              "      <td>2010-02-04</td>\n",
              "      <td>118.639999</td>\n",
              "      <td>120.330002</td>\n",
              "      <td>115.739998</td>\n",
              "      <td>115.940002</td>\n",
              "      <td>12784000</td>\n",
              "      <td>120.888573</td>\n",
              "      <td>124.975239</td>\n",
              "      <td>123.418807</td>\n",
              "      <td>121.362079</td>\n",
              "      <td>-2.056729</td>\n",
              "      <td>4.804807</td>\n",
              "      <td>134.221114</td>\n",
              "      <td>115.001887</td>\n",
              "      <td>116.989791</td>\n",
              "      <td>0.1594</td>\n",
              "      <td>115.940002</td>\n",
              "      <td>NaN</td>\n",
              "      <td>115.940002</td>\n",
              "      <td>NaN</td>\n",
              "    </tr>\n",
              "    <tr>\n",
              "      <th>23</th>\n",
              "      <td>2010-02-05</td>\n",
              "      <td>115.879997</td>\n",
              "      <td>117.650002</td>\n",
              "      <td>114.099998</td>\n",
              "      <td>117.389999</td>\n",
              "      <td>11024800</td>\n",
              "      <td>120.122858</td>\n",
              "      <td>124.267620</td>\n",
              "      <td>122.888619</td>\n",
              "      <td>120.739696</td>\n",
              "      <td>-2.148923</td>\n",
              "      <td>4.887152</td>\n",
              "      <td>133.755304</td>\n",
              "      <td>114.206697</td>\n",
              "      <td>117.256596</td>\n",
              "      <td>0.1739</td>\n",
              "      <td>117.389999</td>\n",
              "      <td>NaN</td>\n",
              "      <td>117.389999</td>\n",
              "      <td>NaN</td>\n",
              "    </tr>\n",
              "    <tr>\n",
              "      <th>24</th>\n",
              "      <td>2010-02-08</td>\n",
              "      <td>119.379997</td>\n",
              "      <td>121.000000</td>\n",
              "      <td>116.559998</td>\n",
              "      <td>116.830002</td>\n",
              "      <td>9890200</td>\n",
              "      <td>118.808573</td>\n",
              "      <td>123.640477</td>\n",
              "      <td>122.363097</td>\n",
              "      <td>120.128825</td>\n",
              "      <td>-2.234272</td>\n",
              "      <td>4.588413</td>\n",
              "      <td>132.323326</td>\n",
              "      <td>113.969674</td>\n",
              "      <td>116.972200</td>\n",
              "      <td>0.1683</td>\n",
              "      <td>116.830002</td>\n",
              "      <td>NaN</td>\n",
              "      <td>116.830002</td>\n",
              "      <td>NaN</td>\n",
              "    </tr>\n",
              "    <tr>\n",
              "      <th>25</th>\n",
              "      <td>2010-02-09</td>\n",
              "      <td>118.199997</td>\n",
              "      <td>119.089996</td>\n",
              "      <td>117.000000</td>\n",
              "      <td>118.029999</td>\n",
              "      <td>9223000</td>\n",
              "      <td>117.754287</td>\n",
              "      <td>122.902857</td>\n",
              "      <td>121.991946</td>\n",
              "      <td>119.801678</td>\n",
              "      <td>-2.190268</td>\n",
              "      <td>4.397009</td>\n",
              "      <td>131.326519</td>\n",
              "      <td>113.738482</td>\n",
              "      <td>117.677399</td>\n",
              "      <td>0.1803</td>\n",
              "      <td>118.029999</td>\n",
              "      <td>NaN</td>\n",
              "      <td>118.029999</td>\n",
              "      <td>NaN</td>\n",
              "    </tr>\n",
              "    <tr>\n",
              "      <th>26</th>\n",
              "      <td>2010-02-10</td>\n",
              "      <td>118.000000</td>\n",
              "      <td>118.610001</td>\n",
              "      <td>116.000000</td>\n",
              "      <td>117.360001</td>\n",
              "      <td>6233200</td>\n",
              "      <td>117.538572</td>\n",
              "      <td>122.286191</td>\n",
              "      <td>121.599740</td>\n",
              "      <td>119.421860</td>\n",
              "      <td>-2.177880</td>\n",
              "      <td>4.388361</td>\n",
              "      <td>130.809723</td>\n",
              "      <td>113.256278</td>\n",
              "      <td>117.465800</td>\n",
              "      <td>0.1736</td>\n",
              "      <td>117.360001</td>\n",
              "      <td>NaN</td>\n",
              "      <td>117.360001</td>\n",
              "      <td>NaN</td>\n",
              "    </tr>\n",
              "    <tr>\n",
              "      <th>27</th>\n",
              "      <td>2010-02-11</td>\n",
              "      <td>117.209999</td>\n",
              "      <td>120.419998</td>\n",
              "      <td>116.500000</td>\n",
              "      <td>120.089996</td>\n",
              "      <td>8343500</td>\n",
              "      <td>117.820000</td>\n",
              "      <td>121.940477</td>\n",
              "      <td>121.473245</td>\n",
              "      <td>119.525615</td>\n",
              "      <td>-1.947629</td>\n",
              "      <td>4.075084</td>\n",
              "      <td>129.732168</td>\n",
              "      <td>113.431832</td>\n",
              "      <td>119.215264</td>\n",
              "      <td>0.2009</td>\n",
              "      <td>120.089996</td>\n",
              "      <td>NaN</td>\n",
              "      <td>120.089996</td>\n",
              "      <td>NaN</td>\n",
              "    </tr>\n",
              "    <tr>\n",
              "      <th>28</th>\n",
              "      <td>2010-02-12</td>\n",
              "      <td>118.989998</td>\n",
              "      <td>119.940002</td>\n",
              "      <td>117.500000</td>\n",
              "      <td>119.660004</td>\n",
              "      <td>8073500</td>\n",
              "      <td>117.900000</td>\n",
              "      <td>121.490477</td>\n",
              "      <td>121.322782</td>\n",
              "      <td>119.546454</td>\n",
              "      <td>-1.776327</td>\n",
              "      <td>3.859284</td>\n",
              "      <td>128.916068</td>\n",
              "      <td>113.478933</td>\n",
              "      <td>119.511757</td>\n",
              "      <td>0.1966</td>\n",
              "      <td>119.660004</td>\n",
              "      <td>NaN</td>\n",
              "      <td>119.660004</td>\n",
              "      <td>NaN</td>\n",
              "    </tr>\n",
              "    <tr>\n",
              "      <th>29</th>\n",
              "      <td>2010-02-16</td>\n",
              "      <td>120.059998</td>\n",
              "      <td>120.500000</td>\n",
              "      <td>117.180000</td>\n",
              "      <td>117.529999</td>\n",
              "      <td>8932700</td>\n",
              "      <td>118.127143</td>\n",
              "      <td>121.022858</td>\n",
              "      <td>121.010834</td>\n",
              "      <td>119.234151</td>\n",
              "      <td>-1.776684</td>\n",
              "      <td>3.674285</td>\n",
              "      <td>128.065571</td>\n",
              "      <td>113.368431</td>\n",
              "      <td>118.190585</td>\n",
              "      <td>0.1753</td>\n",
              "      <td>117.529999</td>\n",
              "      <td>NaN</td>\n",
              "      <td>117.529999</td>\n",
              "      <td>NaN</td>\n",
              "    </tr>\n",
              "  </tbody>\n",
              "</table>\n",
              "</div>\n",
              "      <button class=\"colab-df-convert\" onclick=\"convertToInteractive('df-f366d64d-048e-43d8-88a3-7fdd2d9aa636')\"\n",
              "              title=\"Convert this dataframe to an interactive table.\"\n",
              "              style=\"display:none;\">\n",
              "        \n",
              "  <svg xmlns=\"http://www.w3.org/2000/svg\" height=\"24px\"viewBox=\"0 0 24 24\"\n",
              "       width=\"24px\">\n",
              "    <path d=\"M0 0h24v24H0V0z\" fill=\"none\"/>\n",
              "    <path d=\"M18.56 5.44l.94 2.06.94-2.06 2.06-.94-2.06-.94-.94-2.06-.94 2.06-2.06.94zm-11 1L8.5 8.5l.94-2.06 2.06-.94-2.06-.94L8.5 2.5l-.94 2.06-2.06.94zm10 10l.94 2.06.94-2.06 2.06-.94-2.06-.94-.94-2.06-.94 2.06-2.06.94z\"/><path d=\"M17.41 7.96l-1.37-1.37c-.4-.4-.92-.59-1.43-.59-.52 0-1.04.2-1.43.59L10.3 9.45l-7.72 7.72c-.78.78-.78 2.05 0 2.83L4 21.41c.39.39.9.59 1.41.59.51 0 1.02-.2 1.41-.59l7.78-7.78 2.81-2.81c.8-.78.8-2.07 0-2.86zM5.41 20L4 18.59l7.72-7.72 1.47 1.35L5.41 20z\"/>\n",
              "  </svg>\n",
              "      </button>\n",
              "      \n",
              "  <style>\n",
              "    .colab-df-container {\n",
              "      display:flex;\n",
              "      flex-wrap:wrap;\n",
              "      gap: 12px;\n",
              "    }\n",
              "\n",
              "    .colab-df-convert {\n",
              "      background-color: #E8F0FE;\n",
              "      border: none;\n",
              "      border-radius: 50%;\n",
              "      cursor: pointer;\n",
              "      display: none;\n",
              "      fill: #1967D2;\n",
              "      height: 32px;\n",
              "      padding: 0 0 0 0;\n",
              "      width: 32px;\n",
              "    }\n",
              "\n",
              "    .colab-df-convert:hover {\n",
              "      background-color: #E2EBFA;\n",
              "      box-shadow: 0px 1px 2px rgba(60, 64, 67, 0.3), 0px 1px 3px 1px rgba(60, 64, 67, 0.15);\n",
              "      fill: #174EA6;\n",
              "    }\n",
              "\n",
              "    [theme=dark] .colab-df-convert {\n",
              "      background-color: #3B4455;\n",
              "      fill: #D2E3FC;\n",
              "    }\n",
              "\n",
              "    [theme=dark] .colab-df-convert:hover {\n",
              "      background-color: #434B5C;\n",
              "      box-shadow: 0px 1px 3px 1px rgba(0, 0, 0, 0.15);\n",
              "      filter: drop-shadow(0px 1px 2px rgba(0, 0, 0, 0.3));\n",
              "      fill: #FFFFFF;\n",
              "    }\n",
              "  </style>\n",
              "\n",
              "      <script>\n",
              "        const buttonEl =\n",
              "          document.querySelector('#df-f366d64d-048e-43d8-88a3-7fdd2d9aa636 button.colab-df-convert');\n",
              "        buttonEl.style.display =\n",
              "          google.colab.kernel.accessAllowed ? 'block' : 'none';\n",
              "\n",
              "        async function convertToInteractive(key) {\n",
              "          const element = document.querySelector('#df-f366d64d-048e-43d8-88a3-7fdd2d9aa636');\n",
              "          const dataTable =\n",
              "            await google.colab.kernel.invokeFunction('convertToInteractive',\n",
              "                                                     [key], {});\n",
              "          if (!dataTable) return;\n",
              "\n",
              "          const docLinkHtml = 'Like what you see? Visit the ' +\n",
              "            '<a target=\"_blank\" href=https://colab.research.google.com/notebooks/data_table.ipynb>data table notebook</a>'\n",
              "            + ' to learn more about interactive tables.';\n",
              "          element.innerHTML = '';\n",
              "          dataTable['output_type'] = 'display_data';\n",
              "          await google.colab.output.renderOutput(dataTable, element);\n",
              "          const docLink = document.createElement('div');\n",
              "          docLink.innerHTML = docLinkHtml;\n",
              "          element.appendChild(docLink);\n",
              "        }\n",
              "      </script>\n",
              "    </div>\n",
              "  </div>\n",
              "  "
            ]
          },
          "metadata": {},
          "execution_count": 27
        }
      ],
      "source": [
        "dataset_TI_df.head(30)"
      ]
    },
    {
      "cell_type": "code",
      "execution_count": 28,
      "metadata": {
        "colab": {
          "base_uri": "https://localhost:8080/",
          "height": 490
        },
        "id": "SejcfAlJJ_qE",
        "outputId": "13e9d2e8-e82d-45c6-d185-5250fda11de5"
      },
      "outputs": [
        {
          "output_type": "display_data",
          "data": {
            "text/plain": [
              "<Figure size 800x560 with 1 Axes>"
            ],
            "image/png": "[encoded data removed]"
          },
          "metadata": {
            "needs_background": "light"
          }
        }
      ],
      "source": [
        "from collections import deque\n",
        "items = deque(np.asarray(fft_df['absolute'].tolist()))\n",
        "items.rotate(int(np.floor(len(fft_df)/2)))\n",
        "plt.figure(figsize=(10, 7), dpi=80)\n",
        "plt.stem(items)\n",
        "plt.title('Figure 4: Components of Fourier transforms')\n",
        "plt.show()"
      ]
    },
    {
      "cell_type": "markdown",
      "metadata": {
        "id": "hnlVxuAmGF2l"
      },
      "source": [
        "**Component analysis of Fourier Transform**\n",
        "**Once the spectral part of Fourier transform is removed the magnitude part is quite close to the test series values!** \n",
        "**Fourier transform is working!**"
      ]
    },
    {
      "cell_type": "markdown",
      "metadata": {
        "id": "awn3X9zu_sQy"
      },
      "source": [
        "# **ARIMA**"
      ]
    },
    {
      "cell_type": "markdown",
      "metadata": {
        "id": "FyNX3BWLKQ5W"
      },
      "source": [
        " **ARIMA as a feature:**\n",
        "   \n",
        " **Autoregressive Integrated Moving Average (ARIMA) — This was one of the most popular techniques for predicting future values of time series data (in the pre-neural networks ages). Let’s add it and see if it comes off as an important predictive feature.**\n",
        "   \n",
        "  **ARIMA is a technique for predicting time series data. We will show how to use it, and all though ARIMA will not serve as our final prediction, we will use it as a technique to denoise the stock a little and to (possibly) extract some new patters or features.**\n",
        "  \n",
        "  **ARIMA is an acronym. This acronym is descriptive, capturing the key aspects of the model itself. Briefly, they are:**\n",
        "\n",
        "**1. AR: Autoregression. A model that uses the dependent relationship between an observation and some number of lagged observations.**\n",
        "\n",
        "**2. I: Integrated. The use of differencing of raw observations (e.g. subtracting an observation from an observation at the previous time step) in order to make the time series stationary.**\n",
        "\n",
        "**3. MA: Moving Average. A model that uses the dependency between an observation and a residual error from a moving average model applied to lagged observations.**\n",
        "\n",
        "**The parameters of the ARIMA model are defined as follows:**\n",
        "\n",
        "**p: The number of lag observations included in the model, also called the lag order.**\n",
        "**d: The number of times that the raw observations are differenced, also called the degree of differencing.**\n",
        "**q: The size of the moving average window, also called the order of moving average.**\n",
        "\n",
        "**STEPS FOR ARIMA**\n",
        "\n",
        "**1.Define the model by calling ARIMA() and passing in the p, d, and q parameters.**\n",
        "\n",
        "**2. The model is prepared on the training data by calling the fit() function.**\n",
        "\n",
        "**3.Predictions can be made by calling the predict() function and specifying the index of the time or times to be predicted.**\n",
        " \n",
        "**First, we fit an ARIMA(5,1,0) model. This sets the lag value to 5 for autoregression, uses a difference order of 1 to make the time series stationary, and uses a moving average model of 0.**\n",
        "\n",
        "**When fitting the model, a lot of debug information is provided about the fit of the linear regression model. We can turn this off by setting the disp argument to 0.**\n",
        "\n",
        "**Running the example prints a summary of the fit model. This summarizes the coefficient values used as well as the skill of the fit on the on the in-sample observations.**\n",
        "\n",
        "\n",
        "\n"
      ]
    },
    {
      "cell_type": "code",
      "execution_count": 29,
      "metadata": {
        "colab": {
          "base_uri": "https://localhost:8080/"
        },
        "id": "y-pnaN4iKUNV",
        "outputId": "f32db330-e8e2-43da-aa07-3390c56b9540"
      },
      "outputs": [
        {
          "output_type": "stream",
          "name": "stdout",
          "text": [
            "                               SARIMAX Results                                \n",
            "==============================================================================\n",
            "Dep. Variable:                  Close   No. Observations:                 2265\n",
            "Model:                 ARIMA(5, 1, 0)   Log Likelihood               -9247.127\n",
            "Date:                Tue, 21 Mar 2023   AIC                          18506.254\n",
            "Time:                        18:50:27   BIC                          18540.604\n",
            "Sample:                             0   HQIC                         18518.788\n",
            "                               - 2265                                         \n",
            "Covariance Type:                  opg                                         \n",
            "==============================================================================\n",
            "                 coef    std err          z      P>|z|      [0.025      0.975]\n",
            "------------------------------------------------------------------------------\n",
            "ar.L1         -0.0250      0.008     -3.268      0.001      -0.040      -0.010\n",
            "ar.L2          0.0018      0.007      0.256      0.798      -0.012       0.016\n",
            "ar.L3         -0.0274      0.008     -3.505      0.000      -0.043      -0.012\n",
            "ar.L4         -0.0412      0.008     -5.074      0.000      -0.057      -0.025\n",
            "ar.L5          0.0650      0.009      7.422      0.000       0.048       0.082\n",
            "sigma2       206.6334      1.803    114.605      0.000     203.100     210.167\n",
            "===================================================================================\n",
            "Ljung-Box (L1) (Q):                   0.01   Jarque-Bera (JB):             53655.81\n",
            "Prob(Q):                              0.94   Prob(JB):                         0.00\n",
            "Heteroskedasticity (H):              32.79   Skew:                            -0.25\n",
            "Prob(H) (two-sided):                  0.00   Kurtosis:                        26.84\n",
            "===================================================================================\n",
            "\n",
            "Warnings:\n",
            "[1] Covariance matrix calculated using the outer product of gradients (complex-step).\n"
          ]
        }
      ],
      "source": [
        "from statsmodels.tsa.arima.model import ARIMA\n",
        "from pandas import DataFrame\n",
        "from pandas import datetime\n",
        "\n",
        "series = data_FT['Close']\n",
        "model = ARIMA(series, order=(5, 1, 0))\n",
        "model_fit = model.fit()\n",
        "print(model_fit.summary())\n"
      ]
    },
    {
      "cell_type": "markdown",
      "metadata": {
        "id": "fsUppGk6HY6m"
      },
      "source": [
        " **SUMMARY OF THE ARIMA MODEL**\n",
        " \n",
        "**A good starting point for the AR parameter of the model may be 5 which we did**\n",
        "\n",
        "**From the summary of the ARIMA we can see that most P-values are greater than 0.05 other than the last two.The model should be great!**\n",
        "\n",
        "**The difference between AIC and BIC is low so this indicates this is a good model**\n",
        "\n",
        "**Running the example, we can see that there is a positive correlation with the first 0-to-500 lags that is perhaps significant for the first 250 lags in the autocorrelation below**\n",
        "\n"
      ]
    },
    {
      "cell_type": "code",
      "execution_count": 30,
      "metadata": {
        "colab": {
          "base_uri": "https://localhost:8080/",
          "height": 301
        },
        "id": "NuucJ1WqKMkR",
        "outputId": "c16040d9-aa64-4372-c673-9a24299460fa"
      },
      "outputs": [
        {
          "output_type": "display_data",
          "data": {
            "text/plain": [
              "<Figure size 432x288 with 1 Axes>"
            ],
            "image/png": "[encoded data removed]"
          },
          "metadata": {
            "needs_background": "light"
          }
        },
        {
          "output_type": "display_data",
          "data": {
            "text/plain": [
              "<Figure size 800x560 with 0 Axes>"
            ]
          },
          "metadata": {}
        }
      ],
      "source": [
        "from pandas.plotting import autocorrelation_plot\n",
        "autocorrelation_plot(series)\n",
        "plt.figure(figsize=(10, 7), dpi=80)\n",
        "plt.show()"
      ]
    },
    {
      "cell_type": "markdown",
      "metadata": {
        "id": "naxBofp9ehfi"
      },
      "source": [
        "**Refernce to ARIMA code:**\n",
        "\n",
        "https://towardsdatascience.com/forecasting-exchange-rates-using-arima-in-python-f032f313fc56\n",
        "\n",
        "https://github.com/gmonaci/ARIMA\n",
        "\n",
        "**ARIMA Explantion :**\n",
        "\n",
        "https://towardsdatascience.com/forecasting-exchange-rates-using-arima-in-python-f032f313fc56\n",
        "\n",
        "\n"
      ]
    },
    {
      "cell_type": "code",
      "execution_count": 31,
      "metadata": {
        "id": "Okfv_vp_KabM"
      },
      "outputs": [],
      "source": [
        "from pandas import read_csv\n",
        "from pandas import datetime\n",
        "from pandas import DataFrame\n",
        "from statsmodels.tsa.arima.model import ARIMA\n",
        "from sklearn.metrics import mean_squared_error\n",
        "\n",
        "X = series.values\n",
        "size = int(len(X) * 0.66)\n",
        "train, test = X[0:size], X[size:len(X)]\n",
        "history = [x for x in train]\n",
        "predictions = list()\n",
        "\n",
        "for t in range(len(test)):\n",
        "    model = ARIMA(history, order=(5, 1, 0))\n",
        "    model_fit = model.fit()\n",
        "    output = model_fit.forecast()\n",
        "    yhat = output[0]\n",
        "    predictions.append(yhat)\n",
        "    obs = test[t]\n",
        "    history.append(obs)\n",
        "\n",
        "dataset_TI_df['ARIMA'] = pd.DataFrame(predictions)\n"
      ]
    },
    {
      "cell_type": "code",
      "execution_count": 32,
      "metadata": {
        "colab": {
          "base_uri": "https://localhost:8080/"
        },
        "id": "DC3et1Z8KhL3",
        "outputId": "0657b838-b37e-4f22-ba09-47d464786fe1"
      },
      "outputs": [
        {
          "output_type": "stream",
          "name": "stdout",
          "text": [
            "Test MSE: 558.310\n"
          ]
        }
      ],
      "source": [
        "error = mean_squared_error(test, predictions)\n",
        "print('Test MSE: %.3f' % error)"
      ]
    },
    {
      "cell_type": "markdown",
      "metadata": {
        "id": "GJcsXpEndQa8"
      },
      "source": [
        "MSE issquare root of square of average of difference between actual and predicted prices. In this case they MSE is quite big.(MSE ideally for this data should be between 30 and 100). However I will plot the model and check"
      ]
    },
    {
      "cell_type": "code",
      "execution_count": 33,
      "metadata": {
        "colab": {
          "base_uri": "https://localhost:8080/",
          "height": 555
        },
        "id": "q00FzNdSLuPB",
        "outputId": "14431787-3ed9-4f63-8794-d8f3d04fff4c"
      },
      "outputs": [
        {
          "output_type": "display_data",
          "data": {
            "text/plain": [
              "<Figure size 1200x600 with 1 Axes>"
            ],
            "image/png": "[encoded data removed]"
          },
          "metadata": {
            "needs_background": "light"
          }
        }
      ],
      "source": [
        "# Plot the predicted (from ARIMA) and real prices\n",
        "\n",
        "plt.figure(figsize=(12, 6), dpi=100)\n",
        "plt.plot(test, color='black', label='Real')\n",
        "plt.plot(predictions, color='yellow', label='Predicted')\n",
        "plt.xlabel('Days')\n",
        "plt.ylabel('USD')\n",
        "plt.title('Figure 5: ARIMA model on Amazon stock')\n",
        "plt.legend()\n",
        "plt.show()"
      ]
    },
    {
      "cell_type": "markdown",
      "metadata": {
        "id": "SD9T8ykVHqvJ"
      },
      "source": [
        "**As we can see from Figure 5 ARIMA gives a very good approximation of the real stock price. We will use the predicted price through ARIMA as an input feature into the LSTM because, as we mentioned before, we want to capture as many features and patterns about Amazon as possible.**"
      ]
    },
    {
      "cell_type": "code",
      "execution_count": 34,
      "metadata": {
        "colab": {
          "base_uri": "https://localhost:8080/",
          "height": 503
        },
        "id": "3RN-h8RCLyoa",
        "outputId": "4c34615d-557b-43ea-ee9f-d44f0464d58c"
      },
      "outputs": [
        {
          "output_type": "execute_result",
          "data": {
            "text/plain": [
              "        Date        Open        High         Low   Adj Close    Volume  \\\n",
              "0 2010-01-04  136.250000  136.610001  133.139999  133.899994   7599900   \n",
              "1 2010-01-05  133.429993  135.479996  131.809998  134.690002   8851900   \n",
              "2 2010-01-06  134.600006  134.729996  131.649994  132.250000   7178800   \n",
              "3 2010-01-07  132.009995  132.320007  128.800003  130.000000  11030200   \n",
              "4 2010-01-08  130.559998  133.679993  129.029999  133.520004   9830500   \n",
              "5 2010-01-11  132.619995  132.800003  129.210007  130.309998   8779400   \n",
              "6 2010-01-12  128.990005  129.820007  126.550003  127.349998   9096300   \n",
              "7 2010-01-13  127.900002  129.710007  125.750000  129.110001  10723200   \n",
              "\n",
              "          ma7  ma21       26ema       12ema      MACD  20sd  upper_band  \\\n",
              "0         NaN   NaN  133.899994  133.899994  0.000000   NaN         NaN   \n",
              "1         NaN   NaN  134.310190  134.327915  0.017725   NaN         NaN   \n",
              "2         NaN   NaN  133.569984  133.516904 -0.053080   NaN         NaN   \n",
              "3         NaN   NaN  132.571973  132.406755 -0.165217   NaN         NaN   \n",
              "4         NaN   NaN  132.791825  132.709221 -0.082604   NaN         NaN   \n",
              "5         NaN   NaN  132.294735  132.126083 -0.168651   NaN         NaN   \n",
              "6  131.717142   NaN  131.415339  131.060317 -0.355022   NaN         NaN   \n",
              "7  131.032858   NaN  131.043892  130.653316 -0.390576   NaN         NaN   \n",
              "\n",
              "   lower_band         ema  momentum     Fourier       ARIMA       Close  \\\n",
              "0         NaN  133.899994    0.3390  133.899994  677.897491  133.899994   \n",
              "1         NaN  134.492500    0.3469  134.690002  663.596692  134.690002   \n",
              "2         NaN  132.940000    0.3225  132.250000  662.984084  132.250000   \n",
              "3         NaN  130.955500    0.3000  130.000000  639.695373  130.000000   \n",
              "4         NaN  132.672234    0.3352  133.520004  660.141132  133.520004   \n",
              "5         NaN  131.095247    0.3031  130.309998  658.517020  130.309998   \n",
              "6         NaN  128.597272    0.2735  127.349998  676.090400  127.349998   \n",
              "7         NaN  128.939143    0.2911  129.110001  668.734754  129.110001   \n",
              "\n",
              "   labels  \n",
              "0     NaN  \n",
              "1     NaN  \n",
              "2     NaN  \n",
              "3     NaN  \n",
              "4     NaN  \n",
              "5     NaN  \n",
              "6     NaN  \n",
              "7     NaN  "
            ],
            "text/html": [
              "\n",
              "  <div id=\"df-da82379e-ecd6-4931-b355-7b950f7a4ff6\">\n",
              "    <div class=\"colab-df-container\">\n",
              "      <div>\n",
              "<style scoped>\n",
              "    .dataframe tbody tr th:only-of-type {\n",
              "        vertical-align: middle;\n",
              "    }\n",
              "\n",
              "    .dataframe tbody tr th {\n",
              "        vertical-align: top;\n",
              "    }\n",
              "\n",
              "    .dataframe thead th {\n",
              "        text-align: right;\n",
              "    }\n",
              "</style>\n",
              "<table border=\"1\" class=\"dataframe\">\n",
              "  <thead>\n",
              "    <tr style=\"text-align: right;\">\n",
              "      <th></th>\n",
              "      <th>Date</th>\n",
              "      <th>Open</th>\n",
              "      <th>High</th>\n",
              "      <th>Low</th>\n",
              "      <th>Adj Close</th>\n",
              "      <th>Volume</th>\n",
              "      <th>ma7</th>\n",
              "      <th>ma21</th>\n",
              "      <th>26ema</th>\n",
              "      <th>12ema</th>\n",
              "      <th>MACD</th>\n",
              "      <th>20sd</th>\n",
              "      <th>upper_band</th>\n",
              "      <th>lower_band</th>\n",
              "      <th>ema</th>\n",
              "      <th>momentum</th>\n",
              "      <th>Fourier</th>\n",
              "      <th>ARIMA</th>\n",
              "      <th>Close</th>\n",
              "      <th>labels</th>\n",
              "    </tr>\n",
              "  </thead>\n",
              "  <tbody>\n",
              "    <tr>\n",
              "      <th>0</th>\n",
              "      <td>2010-01-04</td>\n",
              "      <td>136.250000</td>\n",
              "      <td>136.610001</td>\n",
              "      <td>133.139999</td>\n",
              "      <td>133.899994</td>\n",
              "      <td>7599900</td>\n",
              "      <td>NaN</td>\n",
              "      <td>NaN</td>\n",
              "      <td>133.899994</td>\n",
              "      <td>133.899994</td>\n",
              "      <td>0.000000</td>\n",
              "      <td>NaN</td>\n",
              "      <td>NaN</td>\n",
              "      <td>NaN</td>\n",
              "      <td>133.899994</td>\n",
              "      <td>0.3390</td>\n",
              "      <td>133.899994</td>\n",
              "      <td>677.897491</td>\n",
              "      <td>133.899994</td>\n",
              "      <td>NaN</td>\n",
              "    </tr>\n",
              "    <tr>\n",
              "      <th>1</th>\n",
              "      <td>2010-01-05</td>\n",
              "      <td>133.429993</td>\n",
              "      <td>135.479996</td>\n",
              "      <td>131.809998</td>\n",
              "      <td>134.690002</td>\n",
              "      <td>8851900</td>\n",
              "      <td>NaN</td>\n",
              "      <td>NaN</td>\n",
              "      <td>134.310190</td>\n",
              "      <td>134.327915</td>\n",
              "      <td>0.017725</td>\n",
              "      <td>NaN</td>\n",
              "      <td>NaN</td>\n",
              "      <td>NaN</td>\n",
              "      <td>134.492500</td>\n",
              "      <td>0.3469</td>\n",
              "      <td>134.690002</td>\n",
              "      <td>663.596692</td>\n",
              "      <td>134.690002</td>\n",
              "      <td>NaN</td>\n",
              "    </tr>\n",
              "    <tr>\n",
              "      <th>2</th>\n",
              "      <td>2010-01-06</td>\n",
              "      <td>134.600006</td>\n",
              "      <td>134.729996</td>\n",
              "      <td>131.649994</td>\n",
              "      <td>132.250000</td>\n",
              "      <td>7178800</td>\n",
              "      <td>NaN</td>\n",
              "      <td>NaN</td>\n",
              "      <td>133.569984</td>\n",
              "      <td>133.516904</td>\n",
              "      <td>-0.053080</td>\n",
              "      <td>NaN</td>\n",
              "      <td>NaN</td>\n",
              "      <td>NaN</td>\n",
              "      <td>132.940000</td>\n",
              "      <td>0.3225</td>\n",
              "      <td>132.250000</td>\n",
              "      <td>662.984084</td>\n",
              "      <td>132.250000</td>\n",
              "      <td>NaN</td>\n",
              "    </tr>\n",
              "    <tr>\n",
              "      <th>3</th>\n",
              "      <td>2010-01-07</td>\n",
              "      <td>132.009995</td>\n",
              "      <td>132.320007</td>\n",
              "      <td>128.800003</td>\n",
              "      <td>130.000000</td>\n",
              "      <td>11030200</td>\n",
              "      <td>NaN</td>\n",
              "      <td>NaN</td>\n",
              "      <td>132.571973</td>\n",
              "      <td>132.406755</td>\n",
              "      <td>-0.165217</td>\n",
              "      <td>NaN</td>\n",
              "      <td>NaN</td>\n",
              "      <td>NaN</td>\n",
              "      <td>130.955500</td>\n",
              "      <td>0.3000</td>\n",
              "      <td>130.000000</td>\n",
              "      <td>639.695373</td>\n",
              "      <td>130.000000</td>\n",
              "      <td>NaN</td>\n",
              "    </tr>\n",
              "    <tr>\n",
              "      <th>4</th>\n",
              "      <td>2010-01-08</td>\n",
              "      <td>130.559998</td>\n",
              "      <td>133.679993</td>\n",
              "      <td>129.029999</td>\n",
              "      <td>133.520004</td>\n",
              "      <td>9830500</td>\n",
              "      <td>NaN</td>\n",
              "      <td>NaN</td>\n",
              "      <td>132.791825</td>\n",
              "      <td>132.709221</td>\n",
              "      <td>-0.082604</td>\n",
              "      <td>NaN</td>\n",
              "      <td>NaN</td>\n",
              "      <td>NaN</td>\n",
              "      <td>132.672234</td>\n",
              "      <td>0.3352</td>\n",
              "      <td>133.520004</td>\n",
              "      <td>660.141132</td>\n",
              "      <td>133.520004</td>\n",
              "      <td>NaN</td>\n",
              "    </tr>\n",
              "    <tr>\n",
              "      <th>5</th>\n",
              "      <td>2010-01-11</td>\n",
              "      <td>132.619995</td>\n",
              "      <td>132.800003</td>\n",
              "      <td>129.210007</td>\n",
              "      <td>130.309998</td>\n",
              "      <td>8779400</td>\n",
              "      <td>NaN</td>\n",
              "      <td>NaN</td>\n",
              "      <td>132.294735</td>\n",
              "      <td>132.126083</td>\n",
              "      <td>-0.168651</td>\n",
              "      <td>NaN</td>\n",
              "      <td>NaN</td>\n",
              "      <td>NaN</td>\n",
              "      <td>131.095247</td>\n",
              "      <td>0.3031</td>\n",
              "      <td>130.309998</td>\n",
              "      <td>658.517020</td>\n",
              "      <td>130.309998</td>\n",
              "      <td>NaN</td>\n",
              "    </tr>\n",
              "    <tr>\n",
              "      <th>6</th>\n",
              "      <td>2010-01-12</td>\n",
              "      <td>128.990005</td>\n",
              "      <td>129.820007</td>\n",
              "      <td>126.550003</td>\n",
              "      <td>127.349998</td>\n",
              "      <td>9096300</td>\n",
              "      <td>131.717142</td>\n",
              "      <td>NaN</td>\n",
              "      <td>131.415339</td>\n",
              "      <td>131.060317</td>\n",
              "      <td>-0.355022</td>\n",
              "      <td>NaN</td>\n",
              "      <td>NaN</td>\n",
              "      <td>NaN</td>\n",
              "      <td>128.597272</td>\n",
              "      <td>0.2735</td>\n",
              "      <td>127.349998</td>\n",
              "      <td>676.090400</td>\n",
              "      <td>127.349998</td>\n",
              "      <td>NaN</td>\n",
              "    </tr>\n",
              "    <tr>\n",
              "      <th>7</th>\n",
              "      <td>2010-01-13</td>\n",
              "      <td>127.900002</td>\n",
              "      <td>129.710007</td>\n",
              "      <td>125.750000</td>\n",
              "      <td>129.110001</td>\n",
              "      <td>10723200</td>\n",
              "      <td>131.032858</td>\n",
              "      <td>NaN</td>\n",
              "      <td>131.043892</td>\n",
              "      <td>130.653316</td>\n",
              "      <td>-0.390576</td>\n",
              "      <td>NaN</td>\n",
              "      <td>NaN</td>\n",
              "      <td>NaN</td>\n",
              "      <td>128.939143</td>\n",
              "      <td>0.2911</td>\n",
              "      <td>129.110001</td>\n",
              "      <td>668.734754</td>\n",
              "      <td>129.110001</td>\n",
              "      <td>NaN</td>\n",
              "    </tr>\n",
              "  </tbody>\n",
              "</table>\n",
              "</div>\n",
              "      <button class=\"colab-df-convert\" onclick=\"convertToInteractive('df-da82379e-ecd6-4931-b355-7b950f7a4ff6')\"\n",
              "              title=\"Convert this dataframe to an interactive table.\"\n",
              "              style=\"display:none;\">\n",
              "        \n",
              "  <svg xmlns=\"http://www.w3.org/2000/svg\" height=\"24px\"viewBox=\"0 0 24 24\"\n",
              "       width=\"24px\">\n",
              "    <path d=\"M0 0h24v24H0V0z\" fill=\"none\"/>\n",
              "    <path d=\"M18.56 5.44l.94 2.06.94-2.06 2.06-.94-2.06-.94-.94-2.06-.94 2.06-2.06.94zm-11 1L8.5 8.5l.94-2.06 2.06-.94-2.06-.94L8.5 2.5l-.94 2.06-2.06.94zm10 10l.94 2.06.94-2.06 2.06-.94-2.06-.94-.94-2.06-.94 2.06-2.06.94z\"/><path d=\"M17.41 7.96l-1.37-1.37c-.4-.4-.92-.59-1.43-.59-.52 0-1.04.2-1.43.59L10.3 9.45l-7.72 7.72c-.78.78-.78 2.05 0 2.83L4 21.41c.39.39.9.59 1.41.59.51 0 1.02-.2 1.41-.59l7.78-7.78 2.81-2.81c.8-.78.8-2.07 0-2.86zM5.41 20L4 18.59l7.72-7.72 1.47 1.35L5.41 20z\"/>\n",
              "  </svg>\n",
              "      </button>\n",
              "      \n",
              "  <style>\n",
              "    .colab-df-container {\n",
              "      display:flex;\n",
              "      flex-wrap:wrap;\n",
              "      gap: 12px;\n",
              "    }\n",
              "\n",
              "    .colab-df-convert {\n",
              "      background-color: #E8F0FE;\n",
              "      border: none;\n",
              "      border-radius: 50%;\n",
              "      cursor: pointer;\n",
              "      display: none;\n",
              "      fill: #1967D2;\n",
              "      height: 32px;\n",
              "      padding: 0 0 0 0;\n",
              "      width: 32px;\n",
              "    }\n",
              "\n",
              "    .colab-df-convert:hover {\n",
              "      background-color: #E2EBFA;\n",
              "      box-shadow: 0px 1px 2px rgba(60, 64, 67, 0.3), 0px 1px 3px 1px rgba(60, 64, 67, 0.15);\n",
              "      fill: #174EA6;\n",
              "    }\n",
              "\n",
              "    [theme=dark] .colab-df-convert {\n",
              "      background-color: #3B4455;\n",
              "      fill: #D2E3FC;\n",
              "    }\n",
              "\n",
              "    [theme=dark] .colab-df-convert:hover {\n",
              "      background-color: #434B5C;\n",
              "      box-shadow: 0px 1px 3px 1px rgba(0, 0, 0, 0.15);\n",
              "      filter: drop-shadow(0px 1px 2px rgba(0, 0, 0, 0.3));\n",
              "      fill: #FFFFFF;\n",
              "    }\n",
              "  </style>\n",
              "\n",
              "      <script>\n",
              "        const buttonEl =\n",
              "          document.querySelector('#df-da82379e-ecd6-4931-b355-7b950f7a4ff6 button.colab-df-convert');\n",
              "        buttonEl.style.display =\n",
              "          google.colab.kernel.accessAllowed ? 'block' : 'none';\n",
              "\n",
              "        async function convertToInteractive(key) {\n",
              "          const element = document.querySelector('#df-da82379e-ecd6-4931-b355-7b950f7a4ff6');\n",
              "          const dataTable =\n",
              "            await google.colab.kernel.invokeFunction('convertToInteractive',\n",
              "                                                     [key], {});\n",
              "          if (!dataTable) return;\n",
              "\n",
              "          const docLinkHtml = 'Like what you see? Visit the ' +\n",
              "            '<a target=\"_blank\" href=https://colab.research.google.com/notebooks/data_table.ipynb>data table notebook</a>'\n",
              "            + ' to learn more about interactive tables.';\n",
              "          element.innerHTML = '';\n",
              "          dataTable['output_type'] = 'display_data';\n",
              "          await google.colab.output.renderOutput(dataTable, element);\n",
              "          const docLink = document.createElement('div');\n",
              "          docLink.innerHTML = docLinkHtml;\n",
              "          element.appendChild(docLink);\n",
              "        }\n",
              "      </script>\n",
              "    </div>\n",
              "  </div>\n",
              "  "
            ]
          },
          "metadata": {},
          "execution_count": 34
        }
      ],
      "source": [
        "dataset_ex_df.head(8)"
      ]
    },
    {
      "cell_type": "code",
      "execution_count": 35,
      "metadata": {
        "colab": {
          "base_uri": "https://localhost:8080/"
        },
        "id": "lUk-WoQNL2mX",
        "outputId": "0e905b8f-86b7-4f30-fc83-d0b1e59afe28"
      },
      "outputs": [
        {
          "output_type": "stream",
          "name": "stdout",
          "text": [
            "Total dataset has 2265 samples, and 20 features.\n"
          ]
        }
      ],
      "source": [
        "print('Total dataset has {} samples, and {} features.'.format(dataset_ex_df.shape[0], \\\n",
        "                                                              dataset_ex_df.shape[1]))"
      ]
    },
    {
      "cell_type": "markdown",
      "metadata": {
        "id": "WcgZYHjdJCI1"
      },
      "source": [
        "# **FINDING IMPORTANT FEATURES USING XGBOOST :**"
      ]
    },
    {
      "cell_type": "markdown",
      "metadata": {
        "id": "xB0kgHi1L-Hy"
      },
      "source": [
        "**Having so many features we have to consider whether all of them are really indicative of the direction GS stock will take. For example, we included USD denominated LIBOR rates in the dataset because we think that changes in LIBOR might indicate changes in the economy, that, in turn, might indicate changes in the AMZN stock behavior. But we need to test. There are many ways to test feature importance, but the one we will apply uses XGBoost, because it gives one of the best results in both classification and regression problems.**\n",
        "\n",
        "\n",
        "**Since the features dataset is quite large, for the purpose of the presentation here we’ll use only the technical indicators. During the real features importance testing all selected features proved somewhat important so we won’t exclude anything when training.**\n",
        "\n",
        "\n",
        "**So, after adding all types of data (the correlated assets, technical indicators, fundamental analysis, Fourier, and Arima) we have a total of 20 features for the 2,265 days (as mentioned before, however, only 1,585 days are for training data).**\n",
        "\n",
        "**What is XGBoost?**\n",
        "\n",
        "**XGBoost is a decision-tree-based ensemble Machine Learning algorithm that uses a gradient boosting framework. In prediction problems involving unstructured data (images, text, etc.) artificial neural networks tend to outperform all other algorithms or frameworks. However, when it comes to small-to-medium structured/tabular data, decision tree based algorithms are considered best-in-class right now.**\n",
        "\n",
        "![alt text](https://miro.medium.com/max/1094/1*QJZ6W-Pck_W7RlIDwUIN9Q.jpeg)\n",
        "\n",
        "**WHY DOES XGBOOST WORK SO WELL?\n",
        "XGBoost and Gradient Boosting Machines (GBMs) are both ensemble tree methods that apply the principle of boosting weak learners (CARTs generally) using the gradient descent architecture. However, XGBoost improves upon the base GBM framework through systems optimization and algorithmic enhancements.**\n",
        "\n",
        "![alt text](https://miro.medium.com/max/1094/1*FLshv-wVDfu-i54OqvZdHg.png)\n",
        "\n"
      ]
    },
    {
      "cell_type": "code",
      "execution_count": 36,
      "metadata": {
        "id": "0DntZYGaL6ct"
      },
      "outputs": [],
      "source": [
        "def get_feature_importance_data(data_income):\n",
        "    data = data_income.copy()\n",
        "    y = data['Close']\n",
        "    X = data.iloc[:,1:19]\n",
        "    \n",
        "    train_samples = int(X.shape[0] * 0.65)\n",
        " \n",
        "    X_train = X.iloc[:train_samples]\n",
        "    X_test = X.iloc[train_samples:]\n",
        "\n",
        "    y_train = y.iloc[:train_samples]\n",
        "    y_test = y.iloc[train_samples:]\n",
        "    \n",
        "    return (X_train, y_train), (X_test, y_test)"
      ]
    },
    {
      "cell_type": "code",
      "execution_count": 37,
      "metadata": {
        "id": "JbO2whZDMCnB"
      },
      "outputs": [],
      "source": [
        "# Get training and test data\n",
        "(X_train_FI, y_train_FI), (X_test_FI, y_test_FI) = get_feature_importance_data(dataset_TI_df)\n"
      ]
    },
    {
      "cell_type": "code",
      "execution_count": 38,
      "metadata": {
        "id": "6713TYO_MG5q"
      },
      "outputs": [],
      "source": [
        "regressor = xgb.XGBRegressor(gamma=0.0,n_estimators=200,base_score=0.7,colsample_bytree=1,learning_rate=0.05)"
      ]
    },
    {
      "cell_type": "code",
      "execution_count": 39,
      "metadata": {
        "id": "1L80xmtDMJT3"
      },
      "outputs": [],
      "source": [
        "xgbModel = regressor.fit(X_train_FI,y_train_FI, \\\n",
        "                         eval_set = [(X_train_FI, y_train_FI), (X_test_FI, y_test_FI)], \\\n",
        "                         verbose=False)"
      ]
    },
    {
      "cell_type": "code",
      "execution_count": 40,
      "metadata": {
        "id": "IJrFL2AnMMBy"
      },
      "outputs": [],
      "source": [
        "eval_result = regressor.evals_result()"
      ]
    },
    {
      "cell_type": "code",
      "execution_count": 41,
      "metadata": {
        "id": "c-TjzmQqMRBW"
      },
      "outputs": [],
      "source": [
        "training_rounds = range(len(eval_result['validation_0']['rmse']))"
      ]
    },
    {
      "cell_type": "code",
      "execution_count": 42,
      "metadata": {
        "colab": {
          "base_uri": "https://localhost:8080/",
          "height": 295
        },
        "id": "SohU7-lPMTou",
        "outputId": "4b9450ba-1eec-4e4b-8961-ef3e1a8ae136"
      },
      "outputs": [
        {
          "output_type": "display_data",
          "data": {
            "text/plain": [
              "<Figure size 432x288 with 1 Axes>"
            ],
            "image/png": "[encoded data removed]"
          },
          "metadata": {
            "needs_background": "light"
          }
        }
      ],
      "source": [
        "plt.scatter(x=training_rounds,y=eval_result['validation_0']['rmse'],label='Training Error')\n",
        "plt.scatter(x=training_rounds,y=eval_result['validation_1']['rmse'],label='Validation Error')\n",
        "plt.xlabel('Iterations')\n",
        "plt.ylabel('RMSE')\n",
        "plt.title('Training Vs Validation Error')\n",
        "plt.legend()\n",
        "plt.show()"
      ]
    },
    {
      "cell_type": "markdown",
      "metadata": {
        "id": "kYixeciceYEg"
      },
      "source": [
        "**THE DIFFERENCE BETWEEN VALIDATION AND TRAINING ERROR SHOWS A UNDERFIT MODEL. EXPECTED AS SAID BEFORE BECAUSE OF THE WAY TRAINING AND TESTING DATA IS SPLIT JUST WHEN AMAZON BOOMS!**"
      ]
    },
    {
      "cell_type": "code",
      "execution_count": 43,
      "metadata": {
        "colab": {
          "base_uri": "https://localhost:8080/",
          "height": 548
        },
        "id": "U6LISsSkMWat",
        "outputId": "e05c5890-75a4-4fbb-f5c0-d9b789edbe81"
      },
      "outputs": [
        {
          "output_type": "display_data",
          "data": {
            "text/plain": [
              "<Figure size 576x576 with 1 Axes>"
            ],
            "image/png": "[encoded data removed]"
          },
          "metadata": {
            "needs_background": "light"
          }
        }
      ],
      "source": [
        "fig = plt.figure(figsize=(8,8))\n",
        "plt.xticks(rotation='vertical')\n",
        "plt.bar([i for i in range(len(xgbModel.feature_importances_))], xgbModel.feature_importances_.tolist(), tick_label=X_test_FI.columns)\n",
        "plt.title('Figure 6: Feature importance of the technical indicators.')\n",
        "plt.show()"
      ]
    },
    {
      "cell_type": "markdown",
      "metadata": {
        "id": "y3kdzMlIN8bV"
      },
      "source": [
        "**Not surprisingly (for those with experience in stock trading) that MA7, MA21, and EMA are among the important features.\n",
        "I followed the same logic for performing feature importance over the whole dataset — just the training took longer and results were a little more difficult to read, as compared with just a handful of features.\n",
        "Features like Open and Adj Close are bound to be close to Closing prices\n",
        "So if EMA doesn't works out we will focus on Averaging prices from Open and Adj-CLose prices**\n"
      ]
    },
    {
      "cell_type": "markdown",
      "metadata": {
        "id": "-2dlboKLMowU"
      },
      "source": [
        "**Next steps:\n",
        "We know which features are important. I suspect Fourier and ARIMA might be equally important but because of their\n",
        "spectral component Fourier and because ARIMA doesn't produce any other features I won't be consideringthem.**"
      ]
    },
    {
      "cell_type": "markdown",
      "metadata": {
        "id": "mjFYYdr-f5k9"
      },
      "source": [
        "Code Ref for XGBoost:\n",
        "1. https://xgboost.readthedocs.io/en/latest/get_started.html\n",
        "2. https://machinelearningmastery.com/develop-first-xgboost-model-python-scikit-learn/"
      ]
    },
    {
      "cell_type": "markdown",
      "metadata": {
        "id": "xKqOo5rfNM6_"
      },
      "source": [
        "# **LSTM**"
      ]
    },
    {
      "cell_type": "markdown",
      "metadata": {
        "id": "9vlHf2osb7LE"
      },
      "source": [
        "**LSTM is great at predicting stock market data. We are going to try to predict the closing prices using 1 feature Open(It has highest correlation to closing price) initially and then using multiple features(use some sort of one hot encoding) and then try to get a output.**\n",
        "\n",
        "**An LSTM Network has its origin in a RNN. But it can solve the memory loss by changing the neuron architecture.**\n",
        "\n",
        "![alt text](https://miro.medium.com/max/875/1*8nFrwolzTYtUWSaziiJGkg.png)\n",
        "\n",
        "**The new neuron has 3 gates, each with a different goal. The gates are:**\n",
        "\n",
        "**1.Input Gate**\n",
        "\n",
        "**2.Output Gate**\n",
        "\n",
        "**3.Forget Gate**\n",
        "\n",
        "**An LSTM Neuron still receives as input its previous state:**\n",
        "\n",
        "**LSTM Neuron passing as parameter its previous state.**\n",
        "\n",
        "![alt text](https://miro.medium.com/max/875/1*J5W8FrASMi93Z81NlAui4w.png)\n",
        "\n",
        "\n",
        "**Following steps are done:**\n",
        "\n",
        "**1.  Clean up the data-Remove any NAs**\n",
        "\n",
        "**2.   Create a test, train and validate set**\n",
        "\n",
        "**3.   Create train for Open**\n",
        "\n",
        "**4.   Normalize data** \n",
        "\n",
        "**5.Create feature and label set**\n",
        "\n",
        "**6. Train, test data and  check with validation set**\n",
        "\n",
        "**7. Make a prediction**\n",
        "\n",
        "**8. Based on this prediction find if the feature extraction method of LSTM works**\n",
        "\n"
      ]
    },
    {
      "cell_type": "code",
      "execution_count": 44,
      "metadata": {
        "colab": {
          "base_uri": "https://localhost:8080/",
          "height": 333
        },
        "id": "S6ylerVkNzKh",
        "outputId": "90f153b6-f8e2-4b94-a0de-fe274b71fafa"
      },
      "outputs": [
        {
          "output_type": "execute_result",
          "data": {
            "text/plain": [
              "         Open        High         Low   Adj Close    Volume         ma7  ma21  \\\n",
              "0  136.250000  136.610001  133.139999  133.899994   7599900         NaN   NaN   \n",
              "1  133.429993  135.479996  131.809998  134.690002   8851900         NaN   NaN   \n",
              "2  134.600006  134.729996  131.649994  132.250000   7178800         NaN   NaN   \n",
              "3  132.009995  132.320007  128.800003  130.000000  11030200         NaN   NaN   \n",
              "4  130.559998  133.679993  129.029999  133.520004   9830500         NaN   NaN   \n",
              "5  132.619995  132.800003  129.210007  130.309998   8779400         NaN   NaN   \n",
              "6  128.990005  129.820007  126.550003  127.349998   9096300  131.717142   NaN   \n",
              "\n",
              "        26ema       12ema      MACD  20sd  upper_band  lower_band         ema  \\\n",
              "0  133.899994  133.899994  0.000000   NaN         NaN         NaN  133.899994   \n",
              "1  134.310190  134.327915  0.017725   NaN         NaN         NaN  134.492500   \n",
              "2  133.569984  133.516904 -0.053080   NaN         NaN         NaN  132.940000   \n",
              "3  132.571973  132.406755 -0.165217   NaN         NaN         NaN  130.955500   \n",
              "4  132.791825  132.709221 -0.082604   NaN         NaN         NaN  132.672234   \n",
              "5  132.294735  132.126083 -0.168651   NaN         NaN         NaN  131.095247   \n",
              "6  131.415339  131.060317 -0.355022   NaN         NaN         NaN  128.597272   \n",
              "\n",
              "   momentum     Fourier       ARIMA       Close  labels  \n",
              "0    0.3390  133.899994  677.897491  133.899994     NaN  \n",
              "1    0.3469  134.690002  663.596692  134.690002     NaN  \n",
              "2    0.3225  132.250000  662.984084  132.250000     NaN  \n",
              "3    0.3000  130.000000  639.695373  130.000000     NaN  \n",
              "4    0.3352  133.520004  660.141132  133.520004     NaN  \n",
              "5    0.3031  130.309998  658.517020  130.309998     NaN  \n",
              "6    0.2735  127.349998  676.090400  127.349998     NaN  "
            ],
            "text/html": [
              "\n",
              "  <div id=\"df-4bfcf074-84f3-48d8-8584-d747db496200\">\n",
              "    <div class=\"colab-df-container\">\n",
              "      <div>\n",
              "<style scoped>\n",
              "    .dataframe tbody tr th:only-of-type {\n",
              "        vertical-align: middle;\n",
              "    }\n",
              "\n",
              "    .dataframe tbody tr th {\n",
              "        vertical-align: top;\n",
              "    }\n",
              "\n",
              "    .dataframe thead th {\n",
              "        text-align: right;\n",
              "    }\n",
              "</style>\n",
              "<table border=\"1\" class=\"dataframe\">\n",
              "  <thead>\n",
              "    <tr style=\"text-align: right;\">\n",
              "      <th></th>\n",
              "      <th>Open</th>\n",
              "      <th>High</th>\n",
              "      <th>Low</th>\n",
              "      <th>Adj Close</th>\n",
              "      <th>Volume</th>\n",
              "      <th>ma7</th>\n",
              "      <th>ma21</th>\n",
              "      <th>26ema</th>\n",
              "      <th>12ema</th>\n",
              "      <th>MACD</th>\n",
              "      <th>20sd</th>\n",
              "      <th>upper_band</th>\n",
              "      <th>lower_band</th>\n",
              "      <th>ema</th>\n",
              "      <th>momentum</th>\n",
              "      <th>Fourier</th>\n",
              "      <th>ARIMA</th>\n",
              "      <th>Close</th>\n",
              "      <th>labels</th>\n",
              "    </tr>\n",
              "  </thead>\n",
              "  <tbody>\n",
              "    <tr>\n",
              "      <th>0</th>\n",
              "      <td>136.250000</td>\n",
              "      <td>136.610001</td>\n",
              "      <td>133.139999</td>\n",
              "      <td>133.899994</td>\n",
              "      <td>7599900</td>\n",
              "      <td>NaN</td>\n",
              "      <td>NaN</td>\n",
              "      <td>133.899994</td>\n",
              "      <td>133.899994</td>\n",
              "      <td>0.000000</td>\n",
              "      <td>NaN</td>\n",
              "      <td>NaN</td>\n",
              "      <td>NaN</td>\n",
              "      <td>133.899994</td>\n",
              "      <td>0.3390</td>\n",
              "      <td>133.899994</td>\n",
              "      <td>677.897491</td>\n",
              "      <td>133.899994</td>\n",
              "      <td>NaN</td>\n",
              "    </tr>\n",
              "    <tr>\n",
              "      <th>1</th>\n",
              "      <td>133.429993</td>\n",
              "      <td>135.479996</td>\n",
              "      <td>131.809998</td>\n",
              "      <td>134.690002</td>\n",
              "      <td>8851900</td>\n",
              "      <td>NaN</td>\n",
              "      <td>NaN</td>\n",
              "      <td>134.310190</td>\n",
              "      <td>134.327915</td>\n",
              "      <td>0.017725</td>\n",
              "      <td>NaN</td>\n",
              "      <td>NaN</td>\n",
              "      <td>NaN</td>\n",
              "      <td>134.492500</td>\n",
              "      <td>0.3469</td>\n",
              "      <td>134.690002</td>\n",
              "      <td>663.596692</td>\n",
              "      <td>134.690002</td>\n",
              "      <td>NaN</td>\n",
              "    </tr>\n",
              "    <tr>\n",
              "      <th>2</th>\n",
              "      <td>134.600006</td>\n",
              "      <td>134.729996</td>\n",
              "      <td>131.649994</td>\n",
              "      <td>132.250000</td>\n",
              "      <td>7178800</td>\n",
              "      <td>NaN</td>\n",
              "      <td>NaN</td>\n",
              "      <td>133.569984</td>\n",
              "      <td>133.516904</td>\n",
              "      <td>-0.053080</td>\n",
              "      <td>NaN</td>\n",
              "      <td>NaN</td>\n",
              "      <td>NaN</td>\n",
              "      <td>132.940000</td>\n",
              "      <td>0.3225</td>\n",
              "      <td>132.250000</td>\n",
              "      <td>662.984084</td>\n",
              "      <td>132.250000</td>\n",
              "      <td>NaN</td>\n",
              "    </tr>\n",
              "    <tr>\n",
              "      <th>3</th>\n",
              "      <td>132.009995</td>\n",
              "      <td>132.320007</td>\n",
              "      <td>128.800003</td>\n",
              "      <td>130.000000</td>\n",
              "      <td>11030200</td>\n",
              "      <td>NaN</td>\n",
              "      <td>NaN</td>\n",
              "      <td>132.571973</td>\n",
              "      <td>132.406755</td>\n",
              "      <td>-0.165217</td>\n",
              "      <td>NaN</td>\n",
              "      <td>NaN</td>\n",
              "      <td>NaN</td>\n",
              "      <td>130.955500</td>\n",
              "      <td>0.3000</td>\n",
              "      <td>130.000000</td>\n",
              "      <td>639.695373</td>\n",
              "      <td>130.000000</td>\n",
              "      <td>NaN</td>\n",
              "    </tr>\n",
              "    <tr>\n",
              "      <th>4</th>\n",
              "      <td>130.559998</td>\n",
              "      <td>133.679993</td>\n",
              "      <td>129.029999</td>\n",
              "      <td>133.520004</td>\n",
              "      <td>9830500</td>\n",
              "      <td>NaN</td>\n",
              "      <td>NaN</td>\n",
              "      <td>132.791825</td>\n",
              "      <td>132.709221</td>\n",
              "      <td>-0.082604</td>\n",
              "      <td>NaN</td>\n",
              "      <td>NaN</td>\n",
              "      <td>NaN</td>\n",
              "      <td>132.672234</td>\n",
              "      <td>0.3352</td>\n",
              "      <td>133.520004</td>\n",
              "      <td>660.141132</td>\n",
              "      <td>133.520004</td>\n",
              "      <td>NaN</td>\n",
              "    </tr>\n",
              "    <tr>\n",
              "      <th>5</th>\n",
              "      <td>132.619995</td>\n",
              "      <td>132.800003</td>\n",
              "      <td>129.210007</td>\n",
              "      <td>130.309998</td>\n",
              "      <td>8779400</td>\n",
              "      <td>NaN</td>\n",
              "      <td>NaN</td>\n",
              "      <td>132.294735</td>\n",
              "      <td>132.126083</td>\n",
              "      <td>-0.168651</td>\n",
              "      <td>NaN</td>\n",
              "      <td>NaN</td>\n",
              "      <td>NaN</td>\n",
              "      <td>131.095247</td>\n",
              "      <td>0.3031</td>\n",
              "      <td>130.309998</td>\n",
              "      <td>658.517020</td>\n",
              "      <td>130.309998</td>\n",
              "      <td>NaN</td>\n",
              "    </tr>\n",
              "    <tr>\n",
              "      <th>6</th>\n",
              "      <td>128.990005</td>\n",
              "      <td>129.820007</td>\n",
              "      <td>126.550003</td>\n",
              "      <td>127.349998</td>\n",
              "      <td>9096300</td>\n",
              "      <td>131.717142</td>\n",
              "      <td>NaN</td>\n",
              "      <td>131.415339</td>\n",
              "      <td>131.060317</td>\n",
              "      <td>-0.355022</td>\n",
              "      <td>NaN</td>\n",
              "      <td>NaN</td>\n",
              "      <td>NaN</td>\n",
              "      <td>128.597272</td>\n",
              "      <td>0.2735</td>\n",
              "      <td>127.349998</td>\n",
              "      <td>676.090400</td>\n",
              "      <td>127.349998</td>\n",
              "      <td>NaN</td>\n",
              "    </tr>\n",
              "  </tbody>\n",
              "</table>\n",
              "</div>\n",
              "      <button class=\"colab-df-convert\" onclick=\"convertToInteractive('df-4bfcf074-84f3-48d8-8584-d747db496200')\"\n",
              "              title=\"Convert this dataframe to an interactive table.\"\n",
              "              style=\"display:none;\">\n",
              "        \n",
              "  <svg xmlns=\"http://www.w3.org/2000/svg\" height=\"24px\"viewBox=\"0 0 24 24\"\n",
              "       width=\"24px\">\n",
              "    <path d=\"M0 0h24v24H0V0z\" fill=\"none\"/>\n",
              "    <path d=\"M18.56 5.44l.94 2.06.94-2.06 2.06-.94-2.06-.94-.94-2.06-.94 2.06-2.06.94zm-11 1L8.5 8.5l.94-2.06 2.06-.94-2.06-.94L8.5 2.5l-.94 2.06-2.06.94zm10 10l.94 2.06.94-2.06 2.06-.94-2.06-.94-.94-2.06-.94 2.06-2.06.94z\"/><path d=\"M17.41 7.96l-1.37-1.37c-.4-.4-.92-.59-1.43-.59-.52 0-1.04.2-1.43.59L10.3 9.45l-7.72 7.72c-.78.78-.78 2.05 0 2.83L4 21.41c.39.39.9.59 1.41.59.51 0 1.02-.2 1.41-.59l7.78-7.78 2.81-2.81c.8-.78.8-2.07 0-2.86zM5.41 20L4 18.59l7.72-7.72 1.47 1.35L5.41 20z\"/>\n",
              "  </svg>\n",
              "      </button>\n",
              "      \n",
              "  <style>\n",
              "    .colab-df-container {\n",
              "      display:flex;\n",
              "      flex-wrap:wrap;\n",
              "      gap: 12px;\n",
              "    }\n",
              "\n",
              "    .colab-df-convert {\n",
              "      background-color: #E8F0FE;\n",
              "      border: none;\n",
              "      border-radius: 50%;\n",
              "      cursor: pointer;\n",
              "      display: none;\n",
              "      fill: #1967D2;\n",
              "      height: 32px;\n",
              "      padding: 0 0 0 0;\n",
              "      width: 32px;\n",
              "    }\n",
              "\n",
              "    .colab-df-convert:hover {\n",
              "      background-color: #E2EBFA;\n",
              "      box-shadow: 0px 1px 2px rgba(60, 64, 67, 0.3), 0px 1px 3px 1px rgba(60, 64, 67, 0.15);\n",
              "      fill: #174EA6;\n",
              "    }\n",
              "\n",
              "    [theme=dark] .colab-df-convert {\n",
              "      background-color: #3B4455;\n",
              "      fill: #D2E3FC;\n",
              "    }\n",
              "\n",
              "    [theme=dark] .colab-df-convert:hover {\n",
              "      background-color: #434B5C;\n",
              "      box-shadow: 0px 1px 3px 1px rgba(0, 0, 0, 0.15);\n",
              "      filter: drop-shadow(0px 1px 2px rgba(0, 0, 0, 0.3));\n",
              "      fill: #FFFFFF;\n",
              "    }\n",
              "  </style>\n",
              "\n",
              "      <script>\n",
              "        const buttonEl =\n",
              "          document.querySelector('#df-4bfcf074-84f3-48d8-8584-d747db496200 button.colab-df-convert');\n",
              "        buttonEl.style.display =\n",
              "          google.colab.kernel.accessAllowed ? 'block' : 'none';\n",
              "\n",
              "        async function convertToInteractive(key) {\n",
              "          const element = document.querySelector('#df-4bfcf074-84f3-48d8-8584-d747db496200');\n",
              "          const dataTable =\n",
              "            await google.colab.kernel.invokeFunction('convertToInteractive',\n",
              "                                                     [key], {});\n",
              "          if (!dataTable) return;\n",
              "\n",
              "          const docLinkHtml = 'Like what you see? Visit the ' +\n",
              "            '<a target=\"_blank\" href=https://colab.research.google.com/notebooks/data_table.ipynb>data table notebook</a>'\n",
              "            + ' to learn more about interactive tables.';\n",
              "          element.innerHTML = '';\n",
              "          dataTable['output_type'] = 'display_data';\n",
              "          await google.colab.output.renderOutput(dataTable, element);\n",
              "          const docLink = document.createElement('div');\n",
              "          docLink.innerHTML = docLinkHtml;\n",
              "          element.appendChild(docLink);\n",
              "        }\n",
              "      </script>\n",
              "    </div>\n",
              "  </div>\n",
              "  "
            ]
          },
          "metadata": {},
          "execution_count": 44
        }
      ],
      "source": [
        "#1. take dataframe and drop na\n",
        "dataset_lstm_df = dataset_TI_df.drop(columns='Date')\n",
        "dataset_lstm_df.head(7)"
      ]
    },
    {
      "cell_type": "code",
      "execution_count": 45,
      "metadata": {
        "colab": {
          "base_uri": "https://localhost:8080/"
        },
        "id": "LN2zR8p2NR58",
        "outputId": "9dc76cda-410c-40e9-c968-aa1058fc7b3f"
      },
      "outputs": [
        {
          "output_type": "stream",
          "name": "stdout",
          "text": [
            "Total dataset has 2265 samples, and 19 features.\n"
          ]
        }
      ],
      "source": [
        "print('Total dataset has {} samples, and {} features.'.format(dataset_lstm_df.shape[0], \\\n",
        "                                                              dataset_lstm_df.shape[1]))"
      ]
    },
    {
      "cell_type": "code",
      "execution_count": 46,
      "metadata": {
        "id": "4jspfamWQaXs"
      },
      "outputs": [],
      "source": [
        "from keras.models import Sequential\n",
        "from keras.layers import Dense\n",
        "from keras.layers import LSTM\n",
        "from keras.layers import Dropout\n",
        "from keras.layers import Flatten"
      ]
    },
    {
      "cell_type": "code",
      "execution_count": 47,
      "metadata": {
        "id": "ZoEiTOswgpvE"
      },
      "outputs": [],
      "source": [
        "#creating test, train and validate trains\n",
        "train, validate, test = np.split(dataset_lstm_df.sample(frac=1), [int(.6*len(dataset_lstm_df)), int(.8*len(dataset_lstm_df))])"
      ]
    },
    {
      "cell_type": "markdown",
      "metadata": {
        "id": "9Xw3oUy5ghHW"
      },
      "source": [
        "**Split dataset into train,test and validate sets**"
      ]
    },
    {
      "cell_type": "code",
      "execution_count": 48,
      "metadata": {
        "id": "S9J6B42cRFYy"
      },
      "outputs": [],
      "source": [
        "open_training = train.iloc[:, 1:2].values"
      ]
    },
    {
      "cell_type": "markdown",
      "metadata": {
        "id": "4RQDiGIMt1Wj"
      },
      "source": [
        "**Normalize data:\n",
        "The data is not normalized and the range for each column varies, especially Volume. Normalizing data helps the algorithm in converging i.e. to find local/ global minimum efficiently. I will use MinMaxScaler from Sci-kit Learn. Use a range to keep values similar for that much range**\n",
        "\n",
        "**Keep a window for the length 2000 for your data between 50 and 500...since our length is slightly more than 2000 ill make it 60 to 450**"
      ]
    },
    {
      "cell_type": "code",
      "execution_count": 49,
      "metadata": {
        "id": "1Dik4lFzRJL-"
      },
      "outputs": [],
      "source": [
        "#normalise\n",
        "from sklearn.preprocessing import MinMaxScaler\n",
        "scaler = MinMaxScaler(feature_range = (0, 1))\n",
        "open_training = scaler.fit_transform(open_training)\n",
        "#convert to right shape\n",
        "features_set_1 = []\n",
        "labels_1 = []\n",
        "for i in range(60,450): \n",
        "    features_set_1.append(open_training[i-60:i, 0])\n",
        "    labels_1.append(open_training[i, 0])\n",
        "    \n",
        "#Code ref: https://github.com/LiamConnell/deep-algotrading"
      ]
    },
    {
      "cell_type": "markdown",
      "metadata": {
        "id": "en50MEmiuIxV"
      },
      "source": [
        "**Convert feature set and label set into arrays and shape feature set into a 3D input that LSTM network demands**"
      ]
    },
    {
      "cell_type": "code",
      "execution_count": 50,
      "metadata": {
        "id": "O2JRCdt8RMIb"
      },
      "outputs": [],
      "source": [
        "features_set_1, labels_1 = np.array(features_set_1), np.array(labels_1)\n",
        "features_set_1 = np.reshape(features_set_1, (features_set_1.shape[0], features_set_1.shape[1], 1))"
      ]
    },
    {
      "cell_type": "code",
      "execution_count": 51,
      "metadata": {
        "colab": {
          "base_uri": "https://localhost:8080/"
        },
        "id": "ShsX-jhtRPZr",
        "outputId": "be348f67-35cb-4910-d97f-9408a5971fbb"
      },
      "outputs": [
        {
          "output_type": "stream",
          "name": "stdout",
          "text": [
            "Epoch 1/100\n",
            "13/13 [==============================] - 6s 158ms/step - loss: 0.0746 - mean_absolute_error: 0.2110 - val_loss: 0.0675 - val_mean_absolute_error: 0.1755\n",
            "Epoch 2/100\n",
            "13/13 [==============================] - 1s 92ms/step - loss: 0.0639 - mean_absolute_error: 0.1967 - val_loss: 0.0601 - val_mean_absolute_error: 0.1952\n",
            "Epoch 3/100\n",
            "13/13 [==============================] - 1s 91ms/step - loss: 0.0606 - mean_absolute_error: 0.1960 - val_loss: 0.0620 - val_mean_absolute_error: 0.1823\n",
            "Epoch 4/100\n",
            "13/13 [==============================] - 1s 90ms/step - loss: 0.0618 - mean_absolute_error: 0.1909 - val_loss: 0.0602 - val_mean_absolute_error: 0.2003\n",
            "Epoch 5/100\n",
            "13/13 [==============================] - 2s 160ms/step - loss: 0.0602 - mean_absolute_error: 0.1908 - val_loss: 0.0598 - val_mean_absolute_error: 0.1933\n",
            "Epoch 6/100\n",
            "13/13 [==============================] - 2s 116ms/step - loss: 0.0606 - mean_absolute_error: 0.1922 - val_loss: 0.0596 - val_mean_absolute_error: 0.1935\n",
            "Epoch 7/100\n",
            "13/13 [==============================] - 1s 91ms/step - loss: 0.0602 - mean_absolute_error: 0.1943 - val_loss: 0.0598 - val_mean_absolute_error: 0.1891\n",
            "Epoch 8/100\n",
            "13/13 [==============================] - 1s 84ms/step - loss: 0.0600 - mean_absolute_error: 0.1864 - val_loss: 0.0598 - val_mean_absolute_error: 0.1996\n",
            "Epoch 9/100\n",
            "13/13 [==============================] - 1s 83ms/step - loss: 0.0605 - mean_absolute_error: 0.1962 - val_loss: 0.0603 - val_mean_absolute_error: 0.1842\n",
            "Epoch 10/100\n",
            "13/13 [==============================] - 1s 90ms/step - loss: 0.0600 - mean_absolute_error: 0.1969 - val_loss: 0.0593 - val_mean_absolute_error: 0.1953\n",
            "Epoch 11/100\n",
            "13/13 [==============================] - 1s 89ms/step - loss: 0.0606 - mean_absolute_error: 0.1877 - val_loss: 0.0601 - val_mean_absolute_error: 0.2028\n",
            "Epoch 12/100\n",
            "13/13 [==============================] - 1s 84ms/step - loss: 0.0607 - mean_absolute_error: 0.2027 - val_loss: 0.0617 - val_mean_absolute_error: 0.1792\n",
            "Epoch 13/100\n",
            "13/13 [==============================] - 1s 86ms/step - loss: 0.0593 - mean_absolute_error: 0.1863 - val_loss: 0.0608 - val_mean_absolute_error: 0.2067\n",
            "Epoch 14/100\n",
            "13/13 [==============================] - 1s 86ms/step - loss: 0.0602 - mean_absolute_error: 0.1969 - val_loss: 0.0592 - val_mean_absolute_error: 0.1878\n",
            "Epoch 15/100\n",
            "13/13 [==============================] - 2s 144ms/step - loss: 0.0595 - mean_absolute_error: 0.1892 - val_loss: 0.0595 - val_mean_absolute_error: 0.2005\n",
            "Epoch 16/100\n",
            "13/13 [==============================] - 2s 136ms/step - loss: 0.0597 - mean_absolute_error: 0.1945 - val_loss: 0.0589 - val_mean_absolute_error: 0.1882\n",
            "Epoch 17/100\n",
            "13/13 [==============================] - 1s 86ms/step - loss: 0.0604 - mean_absolute_error: 0.1963 - val_loss: 0.0591 - val_mean_absolute_error: 0.1855\n",
            "Epoch 18/100\n",
            "13/13 [==============================] - 1s 92ms/step - loss: 0.0590 - mean_absolute_error: 0.1891 - val_loss: 0.0595 - val_mean_absolute_error: 0.2012\n",
            "Epoch 19/100\n",
            "13/13 [==============================] - 1s 96ms/step - loss: 0.0591 - mean_absolute_error: 0.1948 - val_loss: 0.0593 - val_mean_absolute_error: 0.1839\n",
            "Epoch 20/100\n",
            "13/13 [==============================] - 1s 88ms/step - loss: 0.0591 - mean_absolute_error: 0.1880 - val_loss: 0.0593 - val_mean_absolute_error: 0.2008\n",
            "Epoch 21/100\n",
            "13/13 [==============================] - 1s 89ms/step - loss: 0.0597 - mean_absolute_error: 0.1907 - val_loss: 0.0584 - val_mean_absolute_error: 0.1886\n",
            "Epoch 22/100\n",
            "13/13 [==============================] - 1s 94ms/step - loss: 0.0584 - mean_absolute_error: 0.1922 - val_loss: 0.0583 - val_mean_absolute_error: 0.1904\n",
            "Epoch 23/100\n",
            "13/13 [==============================] - 1s 95ms/step - loss: 0.0597 - mean_absolute_error: 0.1949 - val_loss: 0.0596 - val_mean_absolute_error: 0.1804\n",
            "Epoch 24/100\n",
            "13/13 [==============================] - 1s 96ms/step - loss: 0.0586 - mean_absolute_error: 0.1910 - val_loss: 0.0582 - val_mean_absolute_error: 0.1931\n",
            "Epoch 25/100\n",
            "13/13 [==============================] - 2s 148ms/step - loss: 0.0585 - mean_absolute_error: 0.1877 - val_loss: 0.0582 - val_mean_absolute_error: 0.1873\n",
            "Epoch 26/100\n",
            "13/13 [==============================] - 2s 140ms/step - loss: 0.0588 - mean_absolute_error: 0.1949 - val_loss: 0.0588 - val_mean_absolute_error: 0.1825\n",
            "Epoch 27/100\n",
            "13/13 [==============================] - 1s 92ms/step - loss: 0.0590 - mean_absolute_error: 0.1810 - val_loss: 0.0593 - val_mean_absolute_error: 0.2036\n",
            "Epoch 28/100\n",
            "13/13 [==============================] - 1s 92ms/step - loss: 0.0607 - mean_absolute_error: 0.1913 - val_loss: 0.0578 - val_mean_absolute_error: 0.1910\n",
            "Epoch 29/100\n",
            "13/13 [==============================] - 1s 95ms/step - loss: 0.0600 - mean_absolute_error: 0.1968 - val_loss: 0.0600 - val_mean_absolute_error: 0.1773\n",
            "Epoch 30/100\n",
            "13/13 [==============================] - 1s 88ms/step - loss: 0.0576 - mean_absolute_error: 0.1828 - val_loss: 0.0600 - val_mean_absolute_error: 0.2068\n",
            "Epoch 31/100\n",
            "13/13 [==============================] - 1s 92ms/step - loss: 0.0596 - mean_absolute_error: 0.1939 - val_loss: 0.0577 - val_mean_absolute_error: 0.1850\n",
            "Epoch 32/100\n",
            "13/13 [==============================] - 1s 88ms/step - loss: 0.0588 - mean_absolute_error: 0.1941 - val_loss: 0.0573 - val_mean_absolute_error: 0.1885\n",
            "Epoch 33/100\n",
            "13/13 [==============================] - 1s 91ms/step - loss: 0.0593 - mean_absolute_error: 0.1954 - val_loss: 0.0581 - val_mean_absolute_error: 0.1815\n",
            "Epoch 34/100\n",
            "13/13 [==============================] - 1s 85ms/step - loss: 0.0577 - mean_absolute_error: 0.1815 - val_loss: 0.0595 - val_mean_absolute_error: 0.2061\n",
            "Epoch 35/100\n",
            "13/13 [==============================] - 2s 137ms/step - loss: 0.0601 - mean_absolute_error: 0.1929 - val_loss: 0.0570 - val_mean_absolute_error: 0.1887\n",
            "Epoch 36/100\n",
            "13/13 [==============================] - 2s 163ms/step - loss: 0.0586 - mean_absolute_error: 0.2000 - val_loss: 0.0586 - val_mean_absolute_error: 0.1781\n",
            "Epoch 37/100\n",
            "13/13 [==============================] - 1s 91ms/step - loss: 0.0595 - mean_absolute_error: 0.1773 - val_loss: 0.0576 - val_mean_absolute_error: 0.1981\n",
            "Epoch 38/100\n",
            "13/13 [==============================] - 1s 84ms/step - loss: 0.0598 - mean_absolute_error: 0.1979 - val_loss: 0.0567 - val_mean_absolute_error: 0.1875\n",
            "Epoch 39/100\n",
            "13/13 [==============================] - 1s 86ms/step - loss: 0.0572 - mean_absolute_error: 0.1911 - val_loss: 0.0565 - val_mean_absolute_error: 0.1889\n",
            "Epoch 40/100\n",
            "13/13 [==============================] - 1s 92ms/step - loss: 0.0571 - mean_absolute_error: 0.1856 - val_loss: 0.0565 - val_mean_absolute_error: 0.1898\n",
            "Epoch 41/100\n",
            "13/13 [==============================] - 1s 85ms/step - loss: 0.0573 - mean_absolute_error: 0.1945 - val_loss: 0.0568 - val_mean_absolute_error: 0.1817\n",
            "Epoch 42/100\n",
            "13/13 [==============================] - 1s 92ms/step - loss: 0.0571 - mean_absolute_error: 0.1849 - val_loss: 0.0562 - val_mean_absolute_error: 0.1866\n",
            "Epoch 43/100\n",
            "13/13 [==============================] - 1s 94ms/step - loss: 0.0565 - mean_absolute_error: 0.1857 - val_loss: 0.0560 - val_mean_absolute_error: 0.1868\n",
            "Epoch 44/100\n",
            "13/13 [==============================] - 1s 95ms/step - loss: 0.0565 - mean_absolute_error: 0.1866 - val_loss: 0.0560 - val_mean_absolute_error: 0.1832\n",
            "Epoch 45/100\n",
            "13/13 [==============================] - 2s 140ms/step - loss: 0.0575 - mean_absolute_error: 0.1882 - val_loss: 0.0558 - val_mean_absolute_error: 0.1868\n",
            "Epoch 46/100\n",
            "13/13 [==============================] - 2s 136ms/step - loss: 0.0566 - mean_absolute_error: 0.1829 - val_loss: 0.0559 - val_mean_absolute_error: 0.1909\n",
            "Epoch 47/100\n",
            "13/13 [==============================] - 1s 87ms/step - loss: 0.0563 - mean_absolute_error: 0.1891 - val_loss: 0.0563 - val_mean_absolute_error: 0.1788\n",
            "Epoch 48/100\n",
            "13/13 [==============================] - 1s 93ms/step - loss: 0.0564 - mean_absolute_error: 0.1823 - val_loss: 0.0558 - val_mean_absolute_error: 0.1917\n",
            "Epoch 49/100\n",
            "13/13 [==============================] - 1s 88ms/step - loss: 0.0562 - mean_absolute_error: 0.1891 - val_loss: 0.0554 - val_mean_absolute_error: 0.1857\n",
            "Epoch 50/100\n",
            "13/13 [==============================] - 1s 93ms/step - loss: 0.0561 - mean_absolute_error: 0.1885 - val_loss: 0.0554 - val_mean_absolute_error: 0.1871\n",
            "Epoch 51/100\n",
            "13/13 [==============================] - 1s 96ms/step - loss: 0.0566 - mean_absolute_error: 0.1837 - val_loss: 0.0554 - val_mean_absolute_error: 0.1896\n",
            "Epoch 52/100\n",
            "13/13 [==============================] - 1s 89ms/step - loss: 0.0564 - mean_absolute_error: 0.1850 - val_loss: 0.0554 - val_mean_absolute_error: 0.1900\n",
            "Epoch 53/100\n",
            "13/13 [==============================] - 1s 89ms/step - loss: 0.0576 - mean_absolute_error: 0.1937 - val_loss: 0.0560 - val_mean_absolute_error: 0.1775\n",
            "Epoch 54/100\n",
            "13/13 [==============================] - 1s 93ms/step - loss: 0.0568 - mean_absolute_error: 0.1856 - val_loss: 0.0559 - val_mean_absolute_error: 0.1959\n",
            "Epoch 55/100\n",
            "13/13 [==============================] - 1s 109ms/step - loss: 0.0562 - mean_absolute_error: 0.1852 - val_loss: 0.0549 - val_mean_absolute_error: 0.1821\n",
            "Epoch 56/100\n",
            "13/13 [==============================] - 2s 166ms/step - loss: 0.0559 - mean_absolute_error: 0.1925 - val_loss: 0.0554 - val_mean_absolute_error: 0.1782\n",
            "Epoch 57/100\n",
            "13/13 [==============================] - 1s 95ms/step - loss: 0.0556 - mean_absolute_error: 0.1804 - val_loss: 0.0547 - val_mean_absolute_error: 0.1863\n",
            "Epoch 58/100\n",
            "13/13 [==============================] - 1s 88ms/step - loss: 0.0548 - mean_absolute_error: 0.1833 - val_loss: 0.0546 - val_mean_absolute_error: 0.1843\n",
            "Epoch 59/100\n",
            "13/13 [==============================] - 1s 90ms/step - loss: 0.0554 - mean_absolute_error: 0.1871 - val_loss: 0.0546 - val_mean_absolute_error: 0.1818\n",
            "Epoch 60/100\n",
            "13/13 [==============================] - 1s 98ms/step - loss: 0.0554 - mean_absolute_error: 0.1850 - val_loss: 0.0544 - val_mean_absolute_error: 0.1856\n",
            "Epoch 61/100\n",
            "13/13 [==============================] - 1s 93ms/step - loss: 0.0559 - mean_absolute_error: 0.1789 - val_loss: 0.0544 - val_mean_absolute_error: 0.1871\n",
            "Epoch 62/100\n",
            "13/13 [==============================] - 1s 93ms/step - loss: 0.0544 - mean_absolute_error: 0.1873 - val_loss: 0.0547 - val_mean_absolute_error: 0.1789\n",
            "Epoch 63/100\n",
            "13/13 [==============================] - 1s 88ms/step - loss: 0.0557 - mean_absolute_error: 0.1837 - val_loss: 0.0544 - val_mean_absolute_error: 0.1889\n",
            "Epoch 64/100\n",
            "13/13 [==============================] - 1s 92ms/step - loss: 0.0547 - mean_absolute_error: 0.1902 - val_loss: 0.0542 - val_mean_absolute_error: 0.1810\n",
            "Epoch 65/100\n",
            "13/13 [==============================] - 1s 111ms/step - loss: 0.0562 - mean_absolute_error: 0.1799 - val_loss: 0.0541 - val_mean_absolute_error: 0.1869\n",
            "Epoch 66/100\n",
            "13/13 [==============================] - 2s 166ms/step - loss: 0.0554 - mean_absolute_error: 0.1871 - val_loss: 0.0540 - val_mean_absolute_error: 0.1816\n",
            "Epoch 67/100\n",
            "13/13 [==============================] - 1s 96ms/step - loss: 0.0549 - mean_absolute_error: 0.1817 - val_loss: 0.0539 - val_mean_absolute_error: 0.1864\n",
            "Epoch 68/100\n",
            "13/13 [==============================] - 1s 93ms/step - loss: 0.0543 - mean_absolute_error: 0.1848 - val_loss: 0.0537 - val_mean_absolute_error: 0.1841\n",
            "Epoch 69/100\n",
            "13/13 [==============================] - 1s 92ms/step - loss: 0.0552 - mean_absolute_error: 0.1909 - val_loss: 0.0546 - val_mean_absolute_error: 0.1753\n",
            "Epoch 70/100\n",
            "13/13 [==============================] - 1s 89ms/step - loss: 0.0556 - mean_absolute_error: 0.1782 - val_loss: 0.0548 - val_mean_absolute_error: 0.1942\n",
            "Epoch 71/100\n",
            "13/13 [==============================] - 1s 89ms/step - loss: 0.0553 - mean_absolute_error: 0.1928 - val_loss: 0.0550 - val_mean_absolute_error: 0.1733\n",
            "Epoch 72/100\n",
            "13/13 [==============================] - 1s 95ms/step - loss: 0.0560 - mean_absolute_error: 0.1829 - val_loss: 0.0534 - val_mean_absolute_error: 0.1839\n",
            "Epoch 73/100\n",
            "13/13 [==============================] - 1s 95ms/step - loss: 0.0541 - mean_absolute_error: 0.1820 - val_loss: 0.0534 - val_mean_absolute_error: 0.1832\n",
            "Epoch 74/100\n",
            "13/13 [==============================] - 1s 87ms/step - loss: 0.0533 - mean_absolute_error: 0.1820 - val_loss: 0.0534 - val_mean_absolute_error: 0.1867\n",
            "Epoch 75/100\n",
            "13/13 [==============================] - 1s 108ms/step - loss: 0.0540 - mean_absolute_error: 0.1861 - val_loss: 0.0533 - val_mean_absolute_error: 0.1767\n",
            "Epoch 76/100\n",
            "13/13 [==============================] - 2s 168ms/step - loss: 0.0546 - mean_absolute_error: 0.1831 - val_loss: 0.0530 - val_mean_absolute_error: 0.1802\n",
            "Epoch 77/100\n",
            "13/13 [==============================] - 1s 97ms/step - loss: 0.0537 - mean_absolute_error: 0.1804 - val_loss: 0.0532 - val_mean_absolute_error: 0.1772\n",
            "Epoch 78/100\n",
            "13/13 [==============================] - 1s 94ms/step - loss: 0.0542 - mean_absolute_error: 0.1833 - val_loss: 0.0530 - val_mean_absolute_error: 0.1844\n",
            "Epoch 79/100\n",
            "13/13 [==============================] - 1s 93ms/step - loss: 0.0543 - mean_absolute_error: 0.1749 - val_loss: 0.0528 - val_mean_absolute_error: 0.1828\n",
            "Epoch 80/100\n",
            "13/13 [==============================] - 1s 93ms/step - loss: 0.0533 - mean_absolute_error: 0.1827 - val_loss: 0.0529 - val_mean_absolute_error: 0.1769\n",
            "Epoch 81/100\n",
            "13/13 [==============================] - 1s 88ms/step - loss: 0.0547 - mean_absolute_error: 0.1857 - val_loss: 0.0526 - val_mean_absolute_error: 0.1806\n",
            "Epoch 82/100\n",
            "13/13 [==============================] - 1s 94ms/step - loss: 0.0546 - mean_absolute_error: 0.1832 - val_loss: 0.0532 - val_mean_absolute_error: 0.1759\n",
            "Epoch 83/100\n",
            "13/13 [==============================] - 1s 90ms/step - loss: 0.0542 - mean_absolute_error: 0.1782 - val_loss: 0.0526 - val_mean_absolute_error: 0.1824\n",
            "Epoch 84/100\n",
            "13/13 [==============================] - 1s 91ms/step - loss: 0.0537 - mean_absolute_error: 0.1785 - val_loss: 0.0525 - val_mean_absolute_error: 0.1790\n",
            "Epoch 85/100\n",
            "13/13 [==============================] - 2s 125ms/step - loss: 0.0537 - mean_absolute_error: 0.1875 - val_loss: 0.0524 - val_mean_absolute_error: 0.1785\n",
            "Epoch 86/100\n",
            "13/13 [==============================] - 2s 166ms/step - loss: 0.0538 - mean_absolute_error: 0.1838 - val_loss: 0.0523 - val_mean_absolute_error: 0.1775\n",
            "Epoch 87/100\n",
            "13/13 [==============================] - 1s 85ms/step - loss: 0.0529 - mean_absolute_error: 0.1811 - val_loss: 0.0522 - val_mean_absolute_error: 0.1817\n",
            "Epoch 88/100\n",
            "13/13 [==============================] - 1s 95ms/step - loss: 0.0541 - mean_absolute_error: 0.1799 - val_loss: 0.0524 - val_mean_absolute_error: 0.1849\n",
            "Epoch 89/100\n",
            "13/13 [==============================] - 1s 92ms/step - loss: 0.0530 - mean_absolute_error: 0.1845 - val_loss: 0.0523 - val_mean_absolute_error: 0.1761\n",
            "Epoch 90/100\n",
            "13/13 [==============================] - 1s 93ms/step - loss: 0.0533 - mean_absolute_error: 0.1814 - val_loss: 0.0524 - val_mean_absolute_error: 0.1852\n",
            "Epoch 91/100\n",
            "13/13 [==============================] - 1s 94ms/step - loss: 0.0530 - mean_absolute_error: 0.1779 - val_loss: 0.0522 - val_mean_absolute_error: 0.1763\n",
            "Epoch 92/100\n",
            "13/13 [==============================] - 1s 86ms/step - loss: 0.0534 - mean_absolute_error: 0.1790 - val_loss: 0.0519 - val_mean_absolute_error: 0.1796\n",
            "Epoch 93/100\n",
            "13/13 [==============================] - 1s 88ms/step - loss: 0.0538 - mean_absolute_error: 0.1888 - val_loss: 0.0519 - val_mean_absolute_error: 0.1760\n",
            "Epoch 94/100\n",
            "13/13 [==============================] - 1s 93ms/step - loss: 0.0524 - mean_absolute_error: 0.1801 - val_loss: 0.0522 - val_mean_absolute_error: 0.1741\n",
            "Epoch 95/100\n",
            "13/13 [==============================] - 2s 137ms/step - loss: 0.0529 - mean_absolute_error: 0.1784 - val_loss: 0.0519 - val_mean_absolute_error: 0.1831\n",
            "Epoch 96/100\n",
            "13/13 [==============================] - 2s 163ms/step - loss: 0.0525 - mean_absolute_error: 0.1812 - val_loss: 0.0517 - val_mean_absolute_error: 0.1765\n",
            "Epoch 97/100\n",
            "13/13 [==============================] - 1s 95ms/step - loss: 0.0531 - mean_absolute_error: 0.1830 - val_loss: 0.0516 - val_mean_absolute_error: 0.1798\n",
            "Epoch 98/100\n",
            "13/13 [==============================] - 1s 95ms/step - loss: 0.0529 - mean_absolute_error: 0.1815 - val_loss: 0.0519 - val_mean_absolute_error: 0.1743\n",
            "Epoch 99/100\n",
            "13/13 [==============================] - 1s 95ms/step - loss: 0.0526 - mean_absolute_error: 0.1757 - val_loss: 0.0519 - val_mean_absolute_error: 0.1846\n",
            "Epoch 100/100\n",
            "13/13 [==============================] - 1s 94ms/step - loss: 0.0529 - mean_absolute_error: 0.1775 - val_loss: 0.0514 - val_mean_absolute_error: 0.1751\n"
          ]
        },
        {
          "output_type": "execute_result",
          "data": {
            "text/plain": [
              "<keras.callbacks.History at 0x7fd0d6d85730>"
            ]
          },
          "metadata": {},
          "execution_count": 51
        }
      ],
      "source": [
        "#training it\n",
        "model = Sequential()\n",
        "model.add(LSTM(units=50, return_sequences=True, input_shape=(features_set_1.shape[1],1)))\n",
        "model.add(Dropout(0.2))\n",
        "model.add(LSTM(units=50, return_sequences=True))\n",
        "model.add(Dropout(0.2))\n",
        "model.add(Flatten())\n",
        "model.add(Dense(units = 1))\n",
        "model.compile(optimizer = 'adam', loss = 'mean_squared_error', metrics = ['mean_absolute_error'])\n",
        "model.fit(features_set_1, labels_1, epochs = 100, batch_size = 32,validation_data = (features_set_1, labels_1))\n"
      ]
    },
    {
      "cell_type": "markdown",
      "metadata": {
        "id": "H5aWIT43vX27"
      },
      "source": [
        "**MAE: This means the average difference between input and ouput for all 2265 datapoints is 0.167. \n",
        "However the value is for the days here so the MAE here is pretty bad.(2265 length of dataset will be denominator. Difference between actual and prediced values should be so small that such a large denominator dividing the difference should put MAE in rage of 10^-3 ie 0.00then digits. Since MAE is 167.something*10^-3(0.167) difference is high**\n",
        "\n",
        "\n",
        "**Data is trained for 100 epochs optimizer is adam and loss is mse. This seems to be an average model because mean absolute error is 0.18 and val mean absolute eroor is 0.17 so it indicates overfitting. Since this is a regression problem accuracy is not a good metric. MAE was chosen since the difference between training and testing should be less so we don't need to take the square root of the value.** \n",
        "\n",
        "**We will focus on hyperparameters if this model is good at prediction**"
      ]
    },
    {
      "cell_type": "code",
      "execution_count": 52,
      "metadata": {
        "id": "d-5yfE6JRRqD"
      },
      "outputs": [],
      "source": [
        "#TESTING THE MODEL\n",
        "open_testing_processed = test.iloc[:, 1:2].values"
      ]
    },
    {
      "cell_type": "markdown",
      "metadata": {
        "id": "CHZUOE1uv2i9"
      },
      "source": [
        "**Test the model on test data**"
      ]
    },
    {
      "cell_type": "code",
      "execution_count": 53,
      "metadata": {
        "id": "MKcZZryvKReB"
      },
      "outputs": [],
      "source": [
        "#convert test data to right format\n",
        "open_total = pd.concat((train['Open'], test['Open']), axis=0)"
      ]
    },
    {
      "cell_type": "markdown",
      "metadata": {
        "id": "gN7qc_6uv9ta"
      },
      "source": [
        "**Start predictions:\n",
        "Reshape, scale and then oredict the model**"
      ]
    },
    {
      "cell_type": "code",
      "execution_count": 54,
      "metadata": {
        "id": "1zjnBY-HKWNN"
      },
      "outputs": [],
      "source": [
        "test_inputs = open_total[len(open_total) - len(test) - 60:].values"
      ]
    },
    {
      "cell_type": "code",
      "execution_count": 55,
      "metadata": {
        "id": "6Ot9WW7PKZnE"
      },
      "outputs": [],
      "source": [
        "#scaling data\n",
        "test_inputs = test_inputs.reshape(-1,1)\n",
        "test_inputs = scaler.transform(test_inputs)"
      ]
    },
    {
      "cell_type": "code",
      "execution_count": 56,
      "metadata": {
        "id": "xfBTp0XfKd_N"
      },
      "outputs": [],
      "source": [
        "test_features = []\n",
        "for i in range(60, 151):\n",
        "    test_features.append(test_inputs[i-60:i, 0])"
      ]
    },
    {
      "cell_type": "code",
      "execution_count": 57,
      "metadata": {
        "id": "QwY1URr5KhEo"
      },
      "outputs": [],
      "source": [
        "test_features = np.array(test_features)\n",
        "test_features.shape\n",
        "test_features = np.reshape(test_features, (test_features.shape[0], test_features.shape[1], 1))"
      ]
    },
    {
      "cell_type": "code",
      "execution_count": 58,
      "metadata": {
        "colab": {
          "base_uri": "https://localhost:8080/"
        },
        "id": "K_Zthb6IKjuy",
        "outputId": "59c6bd06-3910-4800-8c8f-eb2590d0394d"
      },
      "outputs": [
        {
          "output_type": "stream",
          "name": "stdout",
          "text": [
            "3/3 [==============================] - 1s 19ms/step\n"
          ]
        }
      ],
      "source": [
        "#make predictions\n",
        "predictions = model.predict(test_features)"
      ]
    },
    {
      "cell_type": "code",
      "execution_count": 59,
      "metadata": {
        "id": "Gn9GJRFoineD"
      },
      "outputs": [],
      "source": [
        "predictions = scaler.inverse_transform(predictions)"
      ]
    },
    {
      "cell_type": "markdown",
      "metadata": {
        "id": "PehVpGNAwc70"
      },
      "source": [
        "**Plot the prediction model for the number of test days and train days**"
      ]
    },
    {
      "cell_type": "code",
      "execution_count": 60,
      "metadata": {
        "colab": {
          "base_uri": "https://localhost:8080/",
          "height": 404
        },
        "id": "cPa6q0vVKnX3",
        "outputId": "c319f1f0-df62-43dd-d7c8-c9baf5c925f7"
      },
      "outputs": [
        {
          "output_type": "display_data",
          "data": {
            "text/plain": [
              "<Figure size 720x432 with 1 Axes>"
            ],
            "image/png": "[encoded data removed]"
          },
          "metadata": {
            "needs_background": "light"
          }
        }
      ],
      "source": [
        "plt.figure(figsize=(10,6))\n",
        "plt.plot(open_testing_processed, color='pink', label='Actual Stock Price')\n",
        "plt.plot(predictions , color='yellow', label='Predicted Stock Price')\n",
        "plt.title('Actual Value vs Predicted')\n",
        "plt.xlabel('Date')\n",
        "plt.ylabel('Predicted Price')\n",
        "plt.legend()\n",
        "plt.show()\n"
      ]
    },
    {
      "cell_type": "markdown",
      "metadata": {
        "id": "QNz7cSfbwyby"
      },
      "source": [
        "**This wasn't a great result with one feature so let's try using more features and then train them on LSTM model**"
      ]
    },
    {
      "cell_type": "markdown",
      "metadata": {
        "id": "jlnOEFRAjjPM"
      },
      "source": [
        "**USING 5FEATURES :**\n",
        "\n",
        "\n",
        "**USING THE BEST 5 FEATURES FROM THE RESULT OF THE XGBOOST. ITS QUITE OBVIOUS THAT A SINGLE FEATURE WILL NOT WORK SO WE USE THE 6 FEATURES THAT\n",
        "COULD GENERATE THE BEST OUTCOME FROM XGBOOST**"
      ]
    },
    {
      "cell_type": "code",
      "execution_count": 62,
      "metadata": {
        "id": "4sxE7ubqKuI6"
      },
      "outputs": [],
      "source": [
        "dataset = dataset_ex_df[['Open', 'Close','High','Adj Close','Low']]"
      ]
    },
    {
      "cell_type": "code",
      "execution_count": 63,
      "metadata": {
        "colab": {
          "base_uri": "https://localhost:8080/",
          "height": 206
        },
        "id": "CMVCWkeJjrb5",
        "outputId": "f447abcb-6bb6-44b8-92a0-2515273c7234"
      },
      "outputs": [
        {
          "output_type": "execute_result",
          "data": {
            "text/plain": [
              "         Open       Close        High   Adj Close         Low\n",
              "0  136.250000  133.899994  136.610001  133.899994  133.139999\n",
              "1  133.429993  134.690002  135.479996  134.690002  131.809998\n",
              "2  134.600006  132.250000  134.729996  132.250000  131.649994\n",
              "3  132.009995  130.000000  132.320007  130.000000  128.800003\n",
              "4  130.559998  133.520004  133.679993  133.520004  129.029999"
            ],
            "text/html": [
              "\n",
              "  <div id=\"df-cfe2226d-6b6c-44ab-911b-8567ce39a467\">\n",
              "    <div class=\"colab-df-container\">\n",
              "      <div>\n",
              "<style scoped>\n",
              "    .dataframe tbody tr th:only-of-type {\n",
              "        vertical-align: middle;\n",
              "    }\n",
              "\n",
              "    .dataframe tbody tr th {\n",
              "        vertical-align: top;\n",
              "    }\n",
              "\n",
              "    .dataframe thead th {\n",
              "        text-align: right;\n",
              "    }\n",
              "</style>\n",
              "<table border=\"1\" class=\"dataframe\">\n",
              "  <thead>\n",
              "    <tr style=\"text-align: right;\">\n",
              "      <th></th>\n",
              "      <th>Open</th>\n",
              "      <th>Close</th>\n",
              "      <th>High</th>\n",
              "      <th>Adj Close</th>\n",
              "      <th>Low</th>\n",
              "    </tr>\n",
              "  </thead>\n",
              "  <tbody>\n",
              "    <tr>\n",
              "      <th>0</th>\n",
              "      <td>136.250000</td>\n",
              "      <td>133.899994</td>\n",
              "      <td>136.610001</td>\n",
              "      <td>133.899994</td>\n",
              "      <td>133.139999</td>\n",
              "    </tr>\n",
              "    <tr>\n",
              "      <th>1</th>\n",
              "      <td>133.429993</td>\n",
              "      <td>134.690002</td>\n",
              "      <td>135.479996</td>\n",
              "      <td>134.690002</td>\n",
              "      <td>131.809998</td>\n",
              "    </tr>\n",
              "    <tr>\n",
              "      <th>2</th>\n",
              "      <td>134.600006</td>\n",
              "      <td>132.250000</td>\n",
              "      <td>134.729996</td>\n",
              "      <td>132.250000</td>\n",
              "      <td>131.649994</td>\n",
              "    </tr>\n",
              "    <tr>\n",
              "      <th>3</th>\n",
              "      <td>132.009995</td>\n",
              "      <td>130.000000</td>\n",
              "      <td>132.320007</td>\n",
              "      <td>130.000000</td>\n",
              "      <td>128.800003</td>\n",
              "    </tr>\n",
              "    <tr>\n",
              "      <th>4</th>\n",
              "      <td>130.559998</td>\n",
              "      <td>133.520004</td>\n",
              "      <td>133.679993</td>\n",
              "      <td>133.520004</td>\n",
              "      <td>129.029999</td>\n",
              "    </tr>\n",
              "  </tbody>\n",
              "</table>\n",
              "</div>\n",
              "      <button class=\"colab-df-convert\" onclick=\"convertToInteractive('df-cfe2226d-6b6c-44ab-911b-8567ce39a467')\"\n",
              "              title=\"Convert this dataframe to an interactive table.\"\n",
              "              style=\"display:none;\">\n",
              "        \n",
              "  <svg xmlns=\"http://www.w3.org/2000/svg\" height=\"24px\"viewBox=\"0 0 24 24\"\n",
              "       width=\"24px\">\n",
              "    <path d=\"M0 0h24v24H0V0z\" fill=\"none\"/>\n",
              "    <path d=\"M18.56 5.44l.94 2.06.94-2.06 2.06-.94-2.06-.94-.94-2.06-.94 2.06-2.06.94zm-11 1L8.5 8.5l.94-2.06 2.06-.94-2.06-.94L8.5 2.5l-.94 2.06-2.06.94zm10 10l.94 2.06.94-2.06 2.06-.94-2.06-.94-.94-2.06-.94 2.06-2.06.94z\"/><path d=\"M17.41 7.96l-1.37-1.37c-.4-.4-.92-.59-1.43-.59-.52 0-1.04.2-1.43.59L10.3 9.45l-7.72 7.72c-.78.78-.78 2.05 0 2.83L4 21.41c.39.39.9.59 1.41.59.51 0 1.02-.2 1.41-.59l7.78-7.78 2.81-2.81c.8-.78.8-2.07 0-2.86zM5.41 20L4 18.59l7.72-7.72 1.47 1.35L5.41 20z\"/>\n",
              "  </svg>\n",
              "      </button>\n",
              "      \n",
              "  <style>\n",
              "    .colab-df-container {\n",
              "      display:flex;\n",
              "      flex-wrap:wrap;\n",
              "      gap: 12px;\n",
              "    }\n",
              "\n",
              "    .colab-df-convert {\n",
              "      background-color: #E8F0FE;\n",
              "      border: none;\n",
              "      border-radius: 50%;\n",
              "      cursor: pointer;\n",
              "      display: none;\n",
              "      fill: #1967D2;\n",
              "      height: 32px;\n",
              "      padding: 0 0 0 0;\n",
              "      width: 32px;\n",
              "    }\n",
              "\n",
              "    .colab-df-convert:hover {\n",
              "      background-color: #E2EBFA;\n",
              "      box-shadow: 0px 1px 2px rgba(60, 64, 67, 0.3), 0px 1px 3px 1px rgba(60, 64, 67, 0.15);\n",
              "      fill: #174EA6;\n",
              "    }\n",
              "\n",
              "    [theme=dark] .colab-df-convert {\n",
              "      background-color: #3B4455;\n",
              "      fill: #D2E3FC;\n",
              "    }\n",
              "\n",
              "    [theme=dark] .colab-df-convert:hover {\n",
              "      background-color: #434B5C;\n",
              "      box-shadow: 0px 1px 3px 1px rgba(0, 0, 0, 0.15);\n",
              "      filter: drop-shadow(0px 1px 2px rgba(0, 0, 0, 0.3));\n",
              "      fill: #FFFFFF;\n",
              "    }\n",
              "  </style>\n",
              "\n",
              "      <script>\n",
              "        const buttonEl =\n",
              "          document.querySelector('#df-cfe2226d-6b6c-44ab-911b-8567ce39a467 button.colab-df-convert');\n",
              "        buttonEl.style.display =\n",
              "          google.colab.kernel.accessAllowed ? 'block' : 'none';\n",
              "\n",
              "        async function convertToInteractive(key) {\n",
              "          const element = document.querySelector('#df-cfe2226d-6b6c-44ab-911b-8567ce39a467');\n",
              "          const dataTable =\n",
              "            await google.colab.kernel.invokeFunction('convertToInteractive',\n",
              "                                                     [key], {});\n",
              "          if (!dataTable) return;\n",
              "\n",
              "          const docLinkHtml = 'Like what you see? Visit the ' +\n",
              "            '<a target=\"_blank\" href=https://colab.research.google.com/notebooks/data_table.ipynb>data table notebook</a>'\n",
              "            + ' to learn more about interactive tables.';\n",
              "          element.innerHTML = '';\n",
              "          dataTable['output_type'] = 'display_data';\n",
              "          await google.colab.output.renderOutput(dataTable, element);\n",
              "          const docLink = document.createElement('div');\n",
              "          docLink.innerHTML = docLinkHtml;\n",
              "          element.appendChild(docLink);\n",
              "        }\n",
              "      </script>\n",
              "    </div>\n",
              "  </div>\n",
              "  "
            ]
          },
          "metadata": {},
          "execution_count": 63
        }
      ],
      "source": [
        "dataset.head()"
      ]
    },
    {
      "cell_type": "code",
      "execution_count": 64,
      "metadata": {
        "id": "IcdIP_gtw9DB"
      },
      "outputs": [],
      "source": [
        "# FUNCTION TO CREATE 1D DATA INTO TIME SERIES DATASET\n",
        "def new_dataset(dataset, step_size):\n",
        "\tdata_X, data_Y = [], []\n",
        "\tfor i in range(len(dataset)-step_size-1):\n",
        "\t\ta = dataset[i:(i+step_size), 0]\n",
        "\t\tdata_X.append(a)\n",
        "\t\tdata_Y.append(dataset[i + step_size, 0])\n",
        "\treturn np.array(data_X), np.array(data_Y)"
      ]
    },
    {
      "cell_type": "code",
      "execution_count": 65,
      "metadata": {
        "id": "5ovu8nAJxFRb"
      },
      "outputs": [],
      "source": [
        "# IMPORTING IMPORTANT LIBRARIES\n",
        "import pandas as pd\n",
        "import matplotlib.pyplot as plt\n",
        "import numpy as np \n",
        "import math\n",
        "from sklearn.preprocessing import MinMaxScaler\n",
        "from sklearn.metrics import mean_squared_error\n",
        "from keras.models import Sequential\n",
        "from keras.layers import Dense, Activation\n",
        "from keras.layers import LSTM\n"
      ]
    },
    {
      "cell_type": "code",
      "execution_count": 66,
      "metadata": {
        "id": "MR5ZH2cUxKpv"
      },
      "outputs": [],
      "source": [
        "# FOR REPRODUCIBILITY\n",
        "np.random.seed(7)"
      ]
    },
    {
      "cell_type": "code",
      "execution_count": 67,
      "metadata": {
        "id": "HEBGkQJQxNrF"
      },
      "outputs": [],
      "source": [
        "# IMPORTING DATASET \n",
        "dataset = dataset.reindex(index = dataset.index[::-1])"
      ]
    },
    {
      "cell_type": "code",
      "execution_count": 68,
      "metadata": {
        "id": "qjQJZJx-xQOY"
      },
      "outputs": [],
      "source": [
        "# CREATING OWN INDEX FOR FLEXIBILITY\n",
        "obs = np.arange(1, len(dataset) + 1, 1)"
      ]
    },
    {
      "cell_type": "code",
      "execution_count": 69,
      "metadata": {
        "id": "LFjIZMzJxUFR"
      },
      "outputs": [],
      "source": [
        "# TAKING DIFFERENT INDICATORS FOR PREDICTION\n",
        "OHLC_avg = dataset.mean(axis = 1)\n",
        "HLC_avg = dataset[['High', 'Low', 'Close']].mean(axis = 1)\n",
        "close_val = dataset[['Close']]"
      ]
    },
    {
      "cell_type": "code",
      "execution_count": 70,
      "metadata": {
        "colab": {
          "base_uri": "https://localhost:8080/",
          "height": 279
        },
        "id": "MduBu78PxXYX",
        "outputId": "793a6eb3-fe5c-4371-f44f-c001c3ab9caf"
      },
      "outputs": [
        {
          "output_type": "display_data",
          "data": {
            "text/plain": [
              "<Figure size 432x288 with 1 Axes>"
            ],
            "image/png": "[encoded data removed]"
          },
          "metadata": {
            "needs_background": "light"
          }
        }
      ],
      "source": [
        "# PLOTTING All INDICATORS IN PLOT\n",
        "plt.plot(OHLC_avg, 'yellow', label = 'OHLC avg')\n",
        "plt.plot(close_val, 'blue', label = 'Closing price')\n",
        "plt.xlabel('Days')\n",
        "plt.ylabel('OHLC average')\n",
        "plt.show()\n"
      ]
    },
    {
      "cell_type": "code",
      "execution_count": 71,
      "metadata": {
        "colab": {
          "base_uri": "https://localhost:8080/",
          "height": 279
        },
        "id": "dvM1ej2vxfHQ",
        "outputId": "bb16e8f4-476d-463d-af89-6cc3ca513c42"
      },
      "outputs": [
        {
          "output_type": "display_data",
          "data": {
            "text/plain": [
              "<Figure size 432x288 with 1 Axes>"
            ],
            "image/png": "[encoded data removed]"
          },
          "metadata": {
            "needs_background": "light"
          }
        }
      ],
      "source": [
        "plt.plot(HLC_avg, 'red', label = 'HLC avg')\n",
        "plt.xlabel('Days')\n",
        "plt.ylabel('HLC average')\n",
        "plt.show()\n"
      ]
    },
    {
      "cell_type": "code",
      "execution_count": 72,
      "metadata": {
        "colab": {
          "base_uri": "https://localhost:8080/",
          "height": 279
        },
        "id": "yRwx0FA8ycRW",
        "outputId": "ae3f4a1a-cc25-4d66-e4e6-c2f67bafd43d"
      },
      "outputs": [
        {
          "output_type": "display_data",
          "data": {
            "text/plain": [
              "<Figure size 432x288 with 1 Axes>"
            ],
            "image/png": "[encoded data removed]"
          },
          "metadata": {
            "needs_background": "light"
          }
        }
      ],
      "source": [
        "plt.plot(close_val, 'blue', label = 'Closing price')\n",
        "plt.xlabel('Days')\n",
        "plt.ylabel('Closing Values')\n",
        "plt.show()"
      ]
    },
    {
      "cell_type": "code",
      "execution_count": 73,
      "metadata": {
        "id": "z8Dx3owPynMb"
      },
      "outputs": [],
      "source": [
        "# PREPARATION OF TIME SERIES DATASE\n",
        "OHLC_avg = np.reshape(OHLC_avg.values, (len(OHLC_avg),1)) \n",
        "scaler = MinMaxScaler(feature_range=(0, 1))\n",
        "OHLC_avg = scaler.fit_transform(OHLC_avg)"
      ]
    },
    {
      "cell_type": "code",
      "execution_count": 74,
      "metadata": {
        "id": "9HAD1oZozwym"
      },
      "outputs": [],
      "source": [
        "# TRAIN-TEST SPLIT\n",
        "train_OHLC = int(len(OHLC_avg) * 0.75)\n",
        "test_OHLC = len(OHLC_avg) - train_OHLC\n",
        "train_OHLC, test_OHLC = OHLC_avg[0:train_OHLC,:], OHLC_avg[train_OHLC:len(OHLC_avg),:]"
      ]
    },
    {
      "cell_type": "code",
      "execution_count": 75,
      "metadata": {
        "id": "Yet5xNOoz0x-"
      },
      "outputs": [],
      "source": [
        "# TIME-SERIES DATASET (FOR TIME T, VALUES FOR TIME T+1)\n",
        "trainX, trainY = new_dataset(train_OHLC, 1)\n",
        "testX, testY = new_dataset(test_OHLC, 1)"
      ]
    },
    {
      "cell_type": "code",
      "execution_count": 76,
      "metadata": {
        "id": "FHbI5KDKz4W7"
      },
      "outputs": [],
      "source": [
        "# RESHAPING TRAIN AND TEST DATA\n",
        "trainX = np.reshape(trainX, (trainX.shape[0], 1, trainX.shape[1]))\n",
        "testX = np.reshape(testX, (testX.shape[0], 1, testX.shape[1]))\n",
        "step_size = 1\n"
      ]
    },
    {
      "cell_type": "code",
      "execution_count": 77,
      "metadata": {
        "id": "ycBSKqy9z78c"
      },
      "outputs": [],
      "source": [
        "# LSTM MODEL\n",
        "model = Sequential()\n",
        "model.add(LSTM(32, input_shape=(1, step_size), return_sequences = True))\n",
        "model.add(LSTM(16))\n",
        "model.add(Dense(1))\n",
        "model.add(Activation('linear'))"
      ]
    },
    {
      "cell_type": "code",
      "execution_count": 78,
      "metadata": {
        "colab": {
          "base_uri": "https://localhost:8080/"
        },
        "id": "eW5inyg0z_b1",
        "outputId": "3957d353-fa84-447e-d1fb-172af072da61"
      },
      "outputs": [
        {
          "output_type": "stream",
          "name": "stdout",
          "text": [
            "Epoch 1/50\n",
            "1696/1696 - 13s - loss: 0.1094 - mae: 0.2238 - 13s/epoch - 8ms/step\n",
            "Epoch 2/50\n",
            "1696/1696 - 9s - loss: 0.0827 - mae: 0.1927 - 9s/epoch - 5ms/step\n",
            "Epoch 3/50\n",
            "1696/1696 - 9s - loss: 0.0717 - mae: 0.1889 - 9s/epoch - 5ms/step\n",
            "Epoch 4/50\n",
            "1696/1696 - 5s - loss: 0.0656 - mae: 0.1870 - 5s/epoch - 3ms/step\n",
            "Epoch 5/50\n",
            "1696/1696 - 5s - loss: 0.0619 - mae: 0.1869 - 5s/epoch - 3ms/step\n",
            "Epoch 6/50\n",
            "1696/1696 - 5s - loss: 0.0595 - mae: 0.1871 - 5s/epoch - 3ms/step\n",
            "Epoch 7/50\n",
            "1696/1696 - 6s - loss: 0.0578 - mae: 0.1870 - 6s/epoch - 4ms/step\n",
            "Epoch 8/50\n",
            "1696/1696 - 5s - loss: 0.0566 - mae: 0.1867 - 5s/epoch - 3ms/step\n",
            "Epoch 9/50\n",
            "1696/1696 - 5s - loss: 0.0555 - mae: 0.1868 - 5s/epoch - 3ms/step\n",
            "Epoch 10/50\n",
            "1696/1696 - 6s - loss: 0.0546 - mae: 0.1865 - 6s/epoch - 4ms/step\n",
            "Epoch 11/50\n",
            "1696/1696 - 5s - loss: 0.0538 - mae: 0.1858 - 5s/epoch - 3ms/step\n",
            "Epoch 12/50\n",
            "1696/1696 - 6s - loss: 0.0530 - mae: 0.1852 - 6s/epoch - 3ms/step\n",
            "Epoch 13/50\n",
            "1696/1696 - 5s - loss: 0.0523 - mae: 0.1846 - 5s/epoch - 3ms/step\n",
            "Epoch 14/50\n",
            "1696/1696 - 5s - loss: 0.0516 - mae: 0.1837 - 5s/epoch - 3ms/step\n",
            "Epoch 15/50\n",
            "1696/1696 - 5s - loss: 0.0509 - mae: 0.1829 - 5s/epoch - 3ms/step\n",
            "Epoch 16/50\n",
            "1696/1696 - 4s - loss: 0.0501 - mae: 0.1819 - 4s/epoch - 3ms/step\n",
            "Epoch 17/50\n",
            "1696/1696 - 5s - loss: 0.0494 - mae: 0.1809 - 5s/epoch - 3ms/step\n",
            "Epoch 18/50\n",
            "1696/1696 - 5s - loss: 0.0487 - mae: 0.1799 - 5s/epoch - 3ms/step\n",
            "Epoch 19/50\n",
            "1696/1696 - 5s - loss: 0.0480 - mae: 0.1788 - 5s/epoch - 3ms/step\n",
            "Epoch 20/50\n",
            "1696/1696 - 6s - loss: 0.0473 - mae: 0.1776 - 6s/epoch - 4ms/step\n",
            "Epoch 21/50\n",
            "1696/1696 - 4s - loss: 0.0465 - mae: 0.1763 - 4s/epoch - 3ms/step\n",
            "Epoch 22/50\n",
            "1696/1696 - 7s - loss: 0.0458 - mae: 0.1750 - 7s/epoch - 4ms/step\n",
            "Epoch 23/50\n",
            "1696/1696 - 5s - loss: 0.0451 - mae: 0.1738 - 5s/epoch - 3ms/step\n",
            "Epoch 24/50\n",
            "1696/1696 - 7s - loss: 0.0443 - mae: 0.1723 - 7s/epoch - 4ms/step\n",
            "Epoch 25/50\n",
            "1696/1696 - 4s - loss: 0.0435 - mae: 0.1711 - 4s/epoch - 3ms/step\n",
            "Epoch 26/50\n",
            "1696/1696 - 4s - loss: 0.0427 - mae: 0.1695 - 4s/epoch - 3ms/step\n",
            "Epoch 27/50\n",
            "1696/1696 - 5s - loss: 0.0420 - mae: 0.1681 - 5s/epoch - 3ms/step\n",
            "Epoch 28/50\n",
            "1696/1696 - 4s - loss: 0.0412 - mae: 0.1666 - 4s/epoch - 3ms/step\n",
            "Epoch 29/50\n",
            "1696/1696 - 4s - loss: 0.0403 - mae: 0.1651 - 4s/epoch - 3ms/step\n",
            "Epoch 30/50\n",
            "1696/1696 - 5s - loss: 0.0395 - mae: 0.1634 - 5s/epoch - 3ms/step\n",
            "Epoch 31/50\n",
            "1696/1696 - 5s - loss: 0.0387 - mae: 0.1619 - 5s/epoch - 3ms/step\n",
            "Epoch 32/50\n",
            "1696/1696 - 5s - loss: 0.0379 - mae: 0.1601 - 5s/epoch - 3ms/step\n",
            "Epoch 33/50\n",
            "1696/1696 - 5s - loss: 0.0370 - mae: 0.1585 - 5s/epoch - 3ms/step\n",
            "Epoch 34/50\n",
            "1696/1696 - 4s - loss: 0.0362 - mae: 0.1567 - 4s/epoch - 3ms/step\n",
            "Epoch 35/50\n",
            "1696/1696 - 5s - loss: 0.0353 - mae: 0.1548 - 5s/epoch - 3ms/step\n",
            "Epoch 36/50\n",
            "1696/1696 - 5s - loss: 0.0344 - mae: 0.1530 - 5s/epoch - 3ms/step\n",
            "Epoch 37/50\n",
            "1696/1696 - 5s - loss: 0.0335 - mae: 0.1511 - 5s/epoch - 3ms/step\n",
            "Epoch 38/50\n",
            "1696/1696 - 5s - loss: 0.0327 - mae: 0.1492 - 5s/epoch - 3ms/step\n",
            "Epoch 39/50\n",
            "1696/1696 - 4s - loss: 0.0318 - mae: 0.1472 - 4s/epoch - 3ms/step\n",
            "Epoch 40/50\n",
            "1696/1696 - 5s - loss: 0.0309 - mae: 0.1451 - 5s/epoch - 3ms/step\n",
            "Epoch 41/50\n",
            "1696/1696 - 5s - loss: 0.0300 - mae: 0.1432 - 5s/epoch - 3ms/step\n",
            "Epoch 42/50\n",
            "1696/1696 - 5s - loss: 0.0291 - mae: 0.1411 - 5s/epoch - 3ms/step\n",
            "Epoch 43/50\n",
            "1696/1696 - 5s - loss: 0.0282 - mae: 0.1389 - 5s/epoch - 3ms/step\n",
            "Epoch 44/50\n",
            "1696/1696 - 7s - loss: 0.0273 - mae: 0.1367 - 7s/epoch - 4ms/step\n",
            "Epoch 45/50\n",
            "1696/1696 - 9s - loss: 0.0264 - mae: 0.1345 - 9s/epoch - 5ms/step\n",
            "Epoch 46/50\n",
            "1696/1696 - 5s - loss: 0.0256 - mae: 0.1323 - 5s/epoch - 3ms/step\n",
            "Epoch 47/50\n",
            "1696/1696 - 6s - loss: 0.0247 - mae: 0.1300 - 6s/epoch - 3ms/step\n",
            "Epoch 48/50\n",
            "1696/1696 - 5s - loss: 0.0238 - mae: 0.1277 - 5s/epoch - 3ms/step\n",
            "Epoch 49/50\n",
            "1696/1696 - 6s - loss: 0.0229 - mae: 0.1253 - 6s/epoch - 3ms/step\n",
            "Epoch 50/50\n",
            "1696/1696 - 5s - loss: 0.0220 - mae: 0.1230 - 5s/epoch - 3ms/step\n"
          ]
        },
        {
          "output_type": "execute_result",
          "data": {
            "text/plain": [
              "<keras.callbacks.History at 0x7fd0d73c08e0>"
            ]
          },
          "metadata": {},
          "execution_count": 78
        }
      ],
      "source": [
        "# MODEL COMPILING AND TRAINING\n",
        "model.compile(loss='mean_squared_error', optimizer='adagrad',metrics = ['mae']) # Try mae, adam, adagrad and compare!!!\n",
        "model.fit(trainX, trainY, epochs=50, batch_size=1, verbose=2)"
      ]
    },
    {
      "cell_type": "code",
      "execution_count": 79,
      "metadata": {
        "colab": {
          "base_uri": "https://localhost:8080/"
        },
        "id": "1amjmgWGFICM",
        "outputId": "80c48bc0-aa77-498b-c0e9-df6884bbc636"
      },
      "outputs": [
        {
          "output_type": "stream",
          "name": "stdout",
          "text": [
            "36/36 [==============================] - 1s 2ms/step - loss: 0.0304 - mae: 0.1742\n",
            "Mean Absolute Error for Y: [0.03044305369257927, 0.17416755855083466]\n"
          ]
        }
      ],
      "source": [
        "mae = model.evaluate(testX, testY, batch_size=16)\n",
        "print('Mean Absolute Error for Y:', mae)"
      ]
    },
    {
      "cell_type": "markdown",
      "metadata": {
        "id": "yT3NCySy0y7g"
      },
      "source": [
        "**The mean absolute error is lower than the past model with one feature. The errror is almost 0.0026. So the training model should be pretty close to testing model.**"
      ]
    },
    {
      "cell_type": "code",
      "execution_count": 80,
      "metadata": {
        "colab": {
          "base_uri": "https://localhost:8080/"
        },
        "id": "6uYIJzE_0DxZ",
        "outputId": "ae84355e-0f2e-4f82-cd73-4bd9acc3f008"
      },
      "outputs": [
        {
          "output_type": "stream",
          "name": "stdout",
          "text": [
            "53/53 [==============================] - 1s 2ms/step\n",
            "18/18 [==============================] - 1s 2ms/step\n"
          ]
        }
      ],
      "source": [
        "# PREDICTION\n",
        "trainPredict = model.predict(trainX)\n",
        "testPredict = model.predict(testX)"
      ]
    },
    {
      "cell_type": "code",
      "execution_count": 81,
      "metadata": {
        "id": "ROLKJGIl2J_e"
      },
      "outputs": [],
      "source": [
        "# DE-NORMALIZING FOR PLOTTING\n",
        "trainPredict = scaler.inverse_transform(trainPredict)\n",
        "trainY = scaler.inverse_transform([trainY])\n",
        "testPredict = scaler.inverse_transform(testPredict)\n",
        "testY = scaler.inverse_transform([testY])"
      ]
    },
    {
      "cell_type": "code",
      "execution_count": 82,
      "metadata": {
        "colab": {
          "base_uri": "https://localhost:8080/"
        },
        "id": "R-s7kUbd2KNc",
        "outputId": "b7bf8c0a-5238-4827-ac88-f4bd0e2177d7"
      },
      "outputs": [
        {
          "output_type": "stream",
          "name": "stdout",
          "text": [
            "Train : 282.84\n"
          ]
        }
      ],
      "source": [
        "# TRAINING rmse\n",
        "trainScore = math.sqrt(mean_squared_error(trainY[0], trainPredict[:,0]))\n",
        "print('Train : %.2f' % (trainScore))"
      ]
    },
    {
      "cell_type": "code",
      "execution_count": 83,
      "metadata": {
        "colab": {
          "base_uri": "https://localhost:8080/"
        },
        "id": "PwM4dL-n2Sfr",
        "outputId": "7f04ea87-63af-45c4-dded-4bb43f999c78"
      },
      "outputs": [
        {
          "output_type": "stream",
          "name": "stdout",
          "text": [
            "Test RMSE: 335.74\n"
          ]
        }
      ],
      "source": [
        "# TEST RMSE\n",
        "testScore = math.sqrt(mean_squared_error(testY[0], testPredict[:,0]))\n",
        "print('Test RMSE: %.2f' % (testScore))"
      ]
    },
    {
      "cell_type": "code",
      "execution_count": 84,
      "metadata": {
        "id": "DwSzCAOg2Sui"
      },
      "outputs": [],
      "source": [
        "# CREATING SIMILAR DATASET TO PLOT TRAINING PREDICTIONS\n",
        "trainPredictPlot = np.empty_like(OHLC_avg)\n",
        "trainPredictPlot[:, :] = np.nan\n",
        "trainPredictPlot[step_size:len(trainPredict)+step_size, :] = trainPredict"
      ]
    },
    {
      "cell_type": "code",
      "execution_count": 85,
      "metadata": {
        "id": "JNZkZbvS2S8A"
      },
      "outputs": [],
      "source": [
        "# CREATING SIMILAR DATASSET TO PLOT TEST PREDICTIONS\n",
        "testPredictPlot = np.empty_like(OHLC_avg)\n",
        "testPredictPlot[:, :] = np.nan\n",
        "testPredictPlot[len(trainPredict)+(step_size*2)+1:len(OHLC_avg)-1, :] = testPredict"
      ]
    },
    {
      "cell_type": "code",
      "execution_count": 86,
      "metadata": {
        "colab": {
          "base_uri": "https://localhost:8080/",
          "height": 282
        },
        "id": "uMlLzjbO2KVv",
        "outputId": "2f28d83a-0c3a-4e56-ab46-069a368ba514"
      },
      "outputs": [
        {
          "output_type": "display_data",
          "data": {
            "text/plain": [
              "<Figure size 432x288 with 1 Axes>"
            ],
            "image/png": "[encoded data removed]"
          },
          "metadata": {
            "needs_background": "light"
          }
        }
      ],
      "source": [
        "# PLOT OF MAIN OHLC VALUES, TRAIN PREDICTIONS AND TEST PREDICTIONS\n",
        "plt.plot(trainPredictPlot, 'r', label = 'training set')\n",
        "plt.plot(testPredictPlot, 'b', label = 'predicted stock price/test set')\n",
        "plt.legend(loc = 'upper right')\n",
        "plt.xlabel('Time in Days')\n",
        "plt.ylabel('Trend of training and prediction data')\n",
        "plt.show()\n"
      ]
    },
    {
      "cell_type": "markdown",
      "metadata": {
        "id": "zHx-W08B2wps"
      },
      "source": [
        "**We trained our data for the first 1700 or so days and then tested for the rest. The prediction plot has kept up with the pattern how ever not to my satisfaction.**"
      ]
    },
    {
      "cell_type": "code",
      "execution_count": 87,
      "metadata": {
        "colab": {
          "base_uri": "https://localhost:8080/"
        },
        "id": "C5SQ_pi82KS5",
        "outputId": "c7c173a2-6a8b-4f65-ac11-964f1717b407"
      },
      "outputs": [
        {
          "output_type": "stream",
          "name": "stdout",
          "text": [
            "1/1 [==============================] - 0s 24ms/step\n",
            "Last Day Value: 490.080078125\n",
            "Next Day Value: 294.6853942871094\n"
          ]
        }
      ],
      "source": [
        "# PREDICT FUTURE VALUES\n",
        "last_val = testPredict[-1]\n",
        "last_val_scaled = last_val/last_val\n",
        "next_val = model.predict(np.reshape(last_val_scaled, (1,1,1)))\n",
        "print(\"Last Day Value:\", np.asscalar(last_val))\n",
        "print(\"Next Day Value:\", np.asscalar(last_val*next_val))\n",
        "# print np.append(last_val, next_val)\n"
      ]
    },
    {
      "cell_type": "markdown",
      "metadata": {
        "id": "IXmqKOhv5k_4"
      },
      "source": [
        "**The value  was found  relying on OHLC values. As the days increase the value is decreasing or rather stabilizing. However this is a wrong way of going about since amazon prices are still booming not decreasing.**\n",
        "\n",
        "**Next notebook I'll focus on NOT overfitting the model and trying to get more data. Also I'll perform hyperparameter tuning and then try to PREDICT the STOCK PRICE MOVEMENT instead of the prices** "
      ]
    },
    {
      "cell_type": "markdown",
      "metadata": {
        "id": "bWkl-qKK8p4s"
      },
      "source": [
        "**IN THE NEXT NOTEBOOK I AM GOING TO FOCUS MORE ON NORMALIZATION WITH HYPERPARAMTER TUNING AND LESS ON FEATURE EXTRACTION. THE REASON FOR THIS IS IT LOOKS LIKE A LSTM ESPECIALLY ON KERAS DOESN'T DO A GREAT JOB AT PREDICTING DAY TO DAY VALUES.**"
      ]
    },
    {
      "cell_type": "markdown",
      "metadata": {
        "id": "uYzRzdkT1xbz"
      },
      "source": [
        "**CONCLUSION FOR THIS NOTEBOOK:**\n",
        "\n",
        "**1. FEATURES**:\n",
        "\n",
        "**Focused on feature engineering and made a total of 19 features. Most of them were based on momentum and moving avaerage and EMA. Even Bollinger Bands were calculated**\n",
        "\n",
        "**2. ARIMA MODEL**\n",
        "\n",
        "**Got a great ARIMA model with less differemce AIC and BIC and P values close to the coefficient**\n",
        "\n",
        "**3. FOURIER TRANSFORM MODEL**\n",
        "\n",
        "**We got great predictions with Fourier Transform very close to the actual values**\n",
        "\n",
        "**4. FEATURE ENGINEERING WITH XGBOOST**\n",
        "\n",
        "**Refer to feature extraction graph where features are highest by their closeness to their Closing values. As predicted EMA is pretty high in this feature.** \n",
        "\n",
        "**5. LSTM MODEL WITH ONE FEATURE** \n",
        "\n",
        "**LSTM model with one feature did NOT give us the predictions we wanted.**\n",
        "\n",
        "**6. LSTM MODEL WITH MULTIPLE FEATURES**\n",
        "\n",
        "**LSTM model with multiple features again did not give us predictions we wanted.**\n",
        "\n",
        "**I have come to the conclusion that LSTMs are not great at predicting Stock Prices when you just input stock price directly but rather better at predicting stock price movement over a long period of time.With the help of these movements we can calclate the price.**\n",
        "\n",
        "**For this reason  I will use a larger dataset in the next notebook that can be observed for longer time and then predict stock price movement**\n",
        " \n"
      ]
    },
    {
      "cell_type": "code",
      "source": [
        "from google.colab import drive\n",
        "drive.mount('/content/drive')"
      ],
      "metadata": {
        "id": "Rjds2gg9lTcB"
      },
      "execution_count": null,
      "outputs": []
    }
  ],
  "metadata": {
    "colab": {
      "provenance": [],
      "toc_visible": true
    },
    "kernelspec": {
      "display_name": "Python 3 (ipykernel)",
      "language": "python",
      "name": "python3"
    },
    "language_info": {
      "codemirror_mode": {
        "name": "ipython",
        "version": 3
      },
      "file_extension": ".py",
      "mimetype": "text/x-python",
      "name": "python",
      "nbconvert_exporter": "python",
      "pygments_lexer": "ipython3",
      "version": "3.10.9"
    },
    "gpuClass": "standard"
  },
  "nbformat": 4,
  "nbformat_minor": 0
}