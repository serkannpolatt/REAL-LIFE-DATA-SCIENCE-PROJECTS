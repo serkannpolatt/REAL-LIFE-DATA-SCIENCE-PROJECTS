{
 "cells": [
  {
   "cell_type": "markdown",
   "id": "a08f0b2a",
   "metadata": {},
   "source": [
    "# LSTM (LONG SHORT-TERM MEMORY) İle Hisse Senedi Fiyatı Tahminlemesi"
   ]
  },
  {
   "cell_type": "markdown",
   "id": "d5c628a4",
   "metadata": {},
   "source": [
    "1-İş Problemi\n",
    "\n",
    "2-Veriyi Anlamak\n",
    "\n",
    "3-Veriyi Hazırlamak\n",
    "\n",
    "4-Modelleme\n",
    "\n",
    "5-Değerlendirme"
   ]
  },
  {
   "cell_type": "markdown",
   "id": "0e38095c",
   "metadata": {},
   "source": [
    " # 1-İş Problemi (Bussiness Problem)"
   ]
  },
  {
   "cell_type": "markdown",
   "id": "1fab0988",
   "metadata": {},
   "source": [
    "#### Date:İlgili İşlem Gününün tarhini temsil etmektedir.\n",
    "#### Open:İlgili İşlem Gününün ait hisse başlangıç fıyatını temsil etmektedir.\n",
    "#### High:İlgili İşlem Gününün ait en yüksek fiyatı temsil etmektedir.\n",
    "#### Low: İlgili işlem gününe ait en düşük fiyatı temsil etmektedir.\n",
    "#### Close:İlgili işlem gününde hisse senedinin kapanış fiyatını temsil etmektedir.\n",
    "#### Adj Close:İlgili işlem gününe ait hisse senedinin düzeltmiş kapanış fiyatını temsil etmektedir.\n",
    "#### Volume:İlgili işlem gününe ait işlem hacmi bilgisini temsil etmektedir"
   ]
  },
  {
   "cell_type": "markdown",
   "id": "f6d34ad4",
   "metadata": {},
   "source": [
    "# 2-Veriyi Anlamak"
   ]
  },
  {
   "cell_type": "code",
   "execution_count": 1,
   "id": "decf31a0",
   "metadata": {},
   "outputs": [],
   "source": [
    "import numpy as np\n",
    "import pandas as pd\n",
    "import tensorflow as tf\n",
    "import matplotlib.pyplot as plt\n",
    "\n",
    "from sklearn.preprocessing import MinMaxScaler\n",
    "from sklearn.metrics import mean_squared_error\n",
    "\n",
    "from tensorflow.keras.models import Sequential\n",
    "from tensorflow.keras.layers import Dense, LSTM,Dropout\n",
    "from tensorflow.keras.callbacks import ModelCheckpoint,EarlyStopping\n",
    "\n",
    "import warnings\n",
    "warnings.filterwarnings(\"ignore\")\n",
    "\n",
    "import os \n",
    "os.environ[\"TF_CPP_MIN_LOG_LEVEL\"]=\"3\"\n",
    "tf.compat.v1.logging.set_verbosity(tf.compat.v1.logging.ERROR)"
   ]
  },
  {
   "cell_type": "code",
   "execution_count": 2,
   "id": "eaaa140d",
   "metadata": {},
   "outputs": [],
   "source": [
    "data=pd.read_csv(\"TSLA.csv\")"
   ]
  },
  {
   "cell_type": "code",
   "execution_count": 3,
   "id": "99da3cae",
   "metadata": {},
   "outputs": [
    {
     "data": {
      "text/html": [
       "<div>\n",
       "<style scoped>\n",
       "    .dataframe tbody tr th:only-of-type {\n",
       "        vertical-align: middle;\n",
       "    }\n",
       "\n",
       "    .dataframe tbody tr th {\n",
       "        vertical-align: top;\n",
       "    }\n",
       "\n",
       "    .dataframe thead th {\n",
       "        text-align: right;\n",
       "    }\n",
       "</style>\n",
       "<table border=\"1\" class=\"dataframe\">\n",
       "  <thead>\n",
       "    <tr style=\"text-align: right;\">\n",
       "      <th></th>\n",
       "      <th>Date</th>\n",
       "      <th>Open</th>\n",
       "      <th>High</th>\n",
       "      <th>Low</th>\n",
       "      <th>Close</th>\n",
       "      <th>Adj Close</th>\n",
       "      <th>Volume</th>\n",
       "    </tr>\n",
       "  </thead>\n",
       "  <tbody>\n",
       "    <tr>\n",
       "      <th>0</th>\n",
       "      <td>2010-06-29</td>\n",
       "      <td>19.000000</td>\n",
       "      <td>25.00</td>\n",
       "      <td>17.540001</td>\n",
       "      <td>23.889999</td>\n",
       "      <td>23.889999</td>\n",
       "      <td>18766300</td>\n",
       "    </tr>\n",
       "    <tr>\n",
       "      <th>1</th>\n",
       "      <td>2010-06-30</td>\n",
       "      <td>25.790001</td>\n",
       "      <td>30.42</td>\n",
       "      <td>23.299999</td>\n",
       "      <td>23.830000</td>\n",
       "      <td>23.830000</td>\n",
       "      <td>17187100</td>\n",
       "    </tr>\n",
       "    <tr>\n",
       "      <th>2</th>\n",
       "      <td>2010-07-01</td>\n",
       "      <td>25.000000</td>\n",
       "      <td>25.92</td>\n",
       "      <td>20.270000</td>\n",
       "      <td>21.959999</td>\n",
       "      <td>21.959999</td>\n",
       "      <td>8218800</td>\n",
       "    </tr>\n",
       "    <tr>\n",
       "      <th>3</th>\n",
       "      <td>2010-07-02</td>\n",
       "      <td>23.000000</td>\n",
       "      <td>23.10</td>\n",
       "      <td>18.709999</td>\n",
       "      <td>19.200001</td>\n",
       "      <td>19.200001</td>\n",
       "      <td>5139800</td>\n",
       "    </tr>\n",
       "    <tr>\n",
       "      <th>4</th>\n",
       "      <td>2010-07-06</td>\n",
       "      <td>20.000000</td>\n",
       "      <td>20.00</td>\n",
       "      <td>15.830000</td>\n",
       "      <td>16.110001</td>\n",
       "      <td>16.110001</td>\n",
       "      <td>6866900</td>\n",
       "    </tr>\n",
       "  </tbody>\n",
       "</table>\n",
       "</div>"
      ],
      "text/plain": [
       "         Date       Open   High        Low      Close  Adj Close    Volume\n",
       "0  2010-06-29  19.000000  25.00  17.540001  23.889999  23.889999  18766300\n",
       "1  2010-06-30  25.790001  30.42  23.299999  23.830000  23.830000  17187100\n",
       "2  2010-07-01  25.000000  25.92  20.270000  21.959999  21.959999   8218800\n",
       "3  2010-07-02  23.000000  23.10  18.709999  19.200001  19.200001   5139800\n",
       "4  2010-07-06  20.000000  20.00  15.830000  16.110001  16.110001   6866900"
      ]
     },
     "execution_count": 3,
     "metadata": {},
     "output_type": "execute_result"
    }
   ],
   "source": [
    "data.head()"
   ]
  },
  {
   "cell_type": "code",
   "execution_count": 4,
   "id": "d0b7aafc",
   "metadata": {},
   "outputs": [],
   "source": [
    "def check_df(dataframe,head=5):\n",
    "    print(\"#################### Shape #################### \")\n",
    "    print(dataframe.shape)\n",
    "    print(\"#################### Types #################### \")\n",
    "    print(dataframe.dtypes)\n",
    "    print(\"#################### Head #################### \")\n",
    "    print(dataframe.head(head))\n",
    "    print(\"#################### Tail #################### \")\n",
    "    print(dataframe.dtypes)\n",
    "    print(\"#################### NA #################### \")\n",
    "    print(dataframe.isnull().sum())\n",
    "    print(\"#################### Quantiles #################### \")\n",
    "    print(dataframe.quantile([0,0.5,0.50,0.95,0.99,1]).T)\n"
   ]
  },
  {
   "cell_type": "code",
   "execution_count": 5,
   "id": "7505607d",
   "metadata": {},
   "outputs": [
    {
     "name": "stdout",
     "output_type": "stream",
     "text": [
      "#################### Shape #################### \n",
      "(2416, 7)\n",
      "#################### Types #################### \n",
      "Date          object\n",
      "Open         float64\n",
      "High         float64\n",
      "Low          float64\n",
      "Close        float64\n",
      "Adj Close    float64\n",
      "Volume         int64\n",
      "dtype: object\n",
      "#################### Head #################### \n",
      "         Date       Open   High        Low      Close  Adj Close    Volume\n",
      "0  2010-06-29  19.000000  25.00  17.540001  23.889999  23.889999  18766300\n",
      "1  2010-06-30  25.790001  30.42  23.299999  23.830000  23.830000  17187100\n",
      "2  2010-07-01  25.000000  25.92  20.270000  21.959999  21.959999   8218800\n",
      "3  2010-07-02  23.000000  23.10  18.709999  19.200001  19.200001   5139800\n",
      "4  2010-07-06  20.000000  20.00  15.830000  16.110001  16.110001   6866900\n",
      "#################### Tail #################### \n",
      "Date          object\n",
      "Open         float64\n",
      "High         float64\n",
      "Low          float64\n",
      "Close        float64\n",
      "Adj Close    float64\n",
      "Volume         int64\n",
      "dtype: object\n",
      "#################### NA #################### \n",
      "Date         0\n",
      "Open         0\n",
      "High         0\n",
      "Low          0\n",
      "Close        0\n",
      "Adj Close    0\n",
      "Volume       0\n",
      "dtype: int64\n",
      "#################### Quantiles #################### \n",
      "                    0.00          0.50          0.50          0.95          0.99          1.00\n",
      "Open           16.139999  2.130350e+02  2.130350e+02  3.519100e+02  4.235790e+02  6.736900e+02\n",
      "High           16.629999  2.167450e+02  2.167450e+02  3.567500e+02  4.284705e+02  7.861400e+02\n",
      "Low            14.980000  2.088700e+02  2.088700e+02  3.460250e+02  4.122865e+02  6.735200e+02\n",
      "Close          15.800000  2.129600e+02  2.129600e+02  3.511675e+02  4.243455e+02  7.800000e+02\n",
      "Adj Close      15.800000  2.129600e+02  2.129600e+02  3.511675e+02  4.243455e+02  7.800000e+02\n",
      "Volume     118500.000000  4.578400e+06  4.578400e+06  1.476090e+07  2.459959e+07  4.706500e+07\n"
     ]
    }
   ],
   "source": [
    "check_df(data)"
   ]
  },
  {
   "cell_type": "code",
   "execution_count": 6,
   "id": "7410c13b",
   "metadata": {},
   "outputs": [],
   "source": [
    "# date değişkenınbı değiştimemiz lazım"
   ]
  },
  {
   "cell_type": "code",
   "execution_count": 10,
   "id": "2f62ad66",
   "metadata": {},
   "outputs": [],
   "source": [
    "data[\"Date\"]=pd.to_datetime(data[\"Date\"])"
   ]
  },
  {
   "cell_type": "code",
   "execution_count": 11,
   "id": "d835df4c",
   "metadata": {},
   "outputs": [
    {
     "data": {
      "text/html": [
       "<div>\n",
       "<style scoped>\n",
       "    .dataframe tbody tr th:only-of-type {\n",
       "        vertical-align: middle;\n",
       "    }\n",
       "\n",
       "    .dataframe tbody tr th {\n",
       "        vertical-align: top;\n",
       "    }\n",
       "\n",
       "    .dataframe thead th {\n",
       "        text-align: right;\n",
       "    }\n",
       "</style>\n",
       "<table border=\"1\" class=\"dataframe\">\n",
       "  <thead>\n",
       "    <tr style=\"text-align: right;\">\n",
       "      <th></th>\n",
       "      <th>Date</th>\n",
       "      <th>Open</th>\n",
       "      <th>High</th>\n",
       "      <th>Low</th>\n",
       "      <th>Close</th>\n",
       "      <th>Adj Close</th>\n",
       "      <th>Volume</th>\n",
       "    </tr>\n",
       "  </thead>\n",
       "  <tbody>\n",
       "    <tr>\n",
       "      <th>0</th>\n",
       "      <td>2010-06-29</td>\n",
       "      <td>19.000000</td>\n",
       "      <td>25.00</td>\n",
       "      <td>17.540001</td>\n",
       "      <td>23.889999</td>\n",
       "      <td>23.889999</td>\n",
       "      <td>18766300</td>\n",
       "    </tr>\n",
       "    <tr>\n",
       "      <th>1</th>\n",
       "      <td>2010-06-30</td>\n",
       "      <td>25.790001</td>\n",
       "      <td>30.42</td>\n",
       "      <td>23.299999</td>\n",
       "      <td>23.830000</td>\n",
       "      <td>23.830000</td>\n",
       "      <td>17187100</td>\n",
       "    </tr>\n",
       "    <tr>\n",
       "      <th>2</th>\n",
       "      <td>2010-07-01</td>\n",
       "      <td>25.000000</td>\n",
       "      <td>25.92</td>\n",
       "      <td>20.270000</td>\n",
       "      <td>21.959999</td>\n",
       "      <td>21.959999</td>\n",
       "      <td>8218800</td>\n",
       "    </tr>\n",
       "    <tr>\n",
       "      <th>3</th>\n",
       "      <td>2010-07-02</td>\n",
       "      <td>23.000000</td>\n",
       "      <td>23.10</td>\n",
       "      <td>18.709999</td>\n",
       "      <td>19.200001</td>\n",
       "      <td>19.200001</td>\n",
       "      <td>5139800</td>\n",
       "    </tr>\n",
       "    <tr>\n",
       "      <th>4</th>\n",
       "      <td>2010-07-06</td>\n",
       "      <td>20.000000</td>\n",
       "      <td>20.00</td>\n",
       "      <td>15.830000</td>\n",
       "      <td>16.110001</td>\n",
       "      <td>16.110001</td>\n",
       "      <td>6866900</td>\n",
       "    </tr>\n",
       "  </tbody>\n",
       "</table>\n",
       "</div>"
      ],
      "text/plain": [
       "        Date       Open   High        Low      Close  Adj Close    Volume\n",
       "0 2010-06-29  19.000000  25.00  17.540001  23.889999  23.889999  18766300\n",
       "1 2010-06-30  25.790001  30.42  23.299999  23.830000  23.830000  17187100\n",
       "2 2010-07-01  25.000000  25.92  20.270000  21.959999  21.959999   8218800\n",
       "3 2010-07-02  23.000000  23.10  18.709999  19.200001  19.200001   5139800\n",
       "4 2010-07-06  20.000000  20.00  15.830000  16.110001  16.110001   6866900"
      ]
     },
     "execution_count": 11,
     "metadata": {},
     "output_type": "execute_result"
    }
   ],
   "source": [
    "data.head()"
   ]
  },
  {
   "cell_type": "markdown",
   "id": "4e76b26a",
   "metadata": {},
   "source": [
    "# 3-Veriyi Hazırlamak"
   ]
  },
  {
   "cell_type": "code",
   "execution_count": 12,
   "id": "220c66a8",
   "metadata": {},
   "outputs": [],
   "source": [
    "tesla_data=data[[\"Date\",\"Close\"]]"
   ]
  },
  {
   "cell_type": "code",
   "execution_count": 13,
   "id": "144d3d41",
   "metadata": {},
   "outputs": [
    {
     "data": {
      "text/html": [
       "<div>\n",
       "<style scoped>\n",
       "    .dataframe tbody tr th:only-of-type {\n",
       "        vertical-align: middle;\n",
       "    }\n",
       "\n",
       "    .dataframe tbody tr th {\n",
       "        vertical-align: top;\n",
       "    }\n",
       "\n",
       "    .dataframe thead th {\n",
       "        text-align: right;\n",
       "    }\n",
       "</style>\n",
       "<table border=\"1\" class=\"dataframe\">\n",
       "  <thead>\n",
       "    <tr style=\"text-align: right;\">\n",
       "      <th></th>\n",
       "      <th>Date</th>\n",
       "      <th>Close</th>\n",
       "    </tr>\n",
       "  </thead>\n",
       "  <tbody>\n",
       "    <tr>\n",
       "      <th>0</th>\n",
       "      <td>2010-06-29</td>\n",
       "      <td>23.889999</td>\n",
       "    </tr>\n",
       "    <tr>\n",
       "      <th>1</th>\n",
       "      <td>2010-06-30</td>\n",
       "      <td>23.830000</td>\n",
       "    </tr>\n",
       "    <tr>\n",
       "      <th>2</th>\n",
       "      <td>2010-07-01</td>\n",
       "      <td>21.959999</td>\n",
       "    </tr>\n",
       "    <tr>\n",
       "      <th>3</th>\n",
       "      <td>2010-07-02</td>\n",
       "      <td>19.200001</td>\n",
       "    </tr>\n",
       "    <tr>\n",
       "      <th>4</th>\n",
       "      <td>2010-07-06</td>\n",
       "      <td>16.110001</td>\n",
       "    </tr>\n",
       "  </tbody>\n",
       "</table>\n",
       "</div>"
      ],
      "text/plain": [
       "        Date      Close\n",
       "0 2010-06-29  23.889999\n",
       "1 2010-06-30  23.830000\n",
       "2 2010-07-01  21.959999\n",
       "3 2010-07-02  19.200001\n",
       "4 2010-07-06  16.110001"
      ]
     },
     "execution_count": 13,
     "metadata": {},
     "output_type": "execute_result"
    }
   ],
   "source": [
    "tesla_data.head()"
   ]
  },
  {
   "cell_type": "code",
   "execution_count": 17,
   "id": "424beb9e",
   "metadata": {},
   "outputs": [
    {
     "name": "stdout",
     "output_type": "stream",
     "text": [
      "Min. Tarih: 2010-06-29 00:00:00\n",
      "Max. Tarih: 2020-02-03 00:00:00\n"
     ]
    }
   ],
   "source": [
    "print(\"Min. Tarih:\",tesla_data[\"Date\"].min())\n",
    "print(\"Max. Tarih:\",tesla_data[\"Date\"].max())"
   ]
  },
  {
   "cell_type": "code",
   "execution_count": 18,
   "id": "e65e5092",
   "metadata": {},
   "outputs": [],
   "source": [
    "tesla_data.index=tesla_data[\"Date\"]"
   ]
  },
  {
   "cell_type": "code",
   "execution_count": 19,
   "id": "f3174ff0",
   "metadata": {},
   "outputs": [
    {
     "data": {
      "text/html": [
       "<div>\n",
       "<style scoped>\n",
       "    .dataframe tbody tr th:only-of-type {\n",
       "        vertical-align: middle;\n",
       "    }\n",
       "\n",
       "    .dataframe tbody tr th {\n",
       "        vertical-align: top;\n",
       "    }\n",
       "\n",
       "    .dataframe thead th {\n",
       "        text-align: right;\n",
       "    }\n",
       "</style>\n",
       "<table border=\"1\" class=\"dataframe\">\n",
       "  <thead>\n",
       "    <tr style=\"text-align: right;\">\n",
       "      <th></th>\n",
       "      <th>Date</th>\n",
       "      <th>Close</th>\n",
       "    </tr>\n",
       "    <tr>\n",
       "      <th>Date</th>\n",
       "      <th></th>\n",
       "      <th></th>\n",
       "    </tr>\n",
       "  </thead>\n",
       "  <tbody>\n",
       "    <tr>\n",
       "      <th>2010-06-29</th>\n",
       "      <td>2010-06-29</td>\n",
       "      <td>23.889999</td>\n",
       "    </tr>\n",
       "    <tr>\n",
       "      <th>2010-06-30</th>\n",
       "      <td>2010-06-30</td>\n",
       "      <td>23.830000</td>\n",
       "    </tr>\n",
       "    <tr>\n",
       "      <th>2010-07-01</th>\n",
       "      <td>2010-07-01</td>\n",
       "      <td>21.959999</td>\n",
       "    </tr>\n",
       "    <tr>\n",
       "      <th>2010-07-02</th>\n",
       "      <td>2010-07-02</td>\n",
       "      <td>19.200001</td>\n",
       "    </tr>\n",
       "    <tr>\n",
       "      <th>2010-07-06</th>\n",
       "      <td>2010-07-06</td>\n",
       "      <td>16.110001</td>\n",
       "    </tr>\n",
       "    <tr>\n",
       "      <th>...</th>\n",
       "      <td>...</td>\n",
       "      <td>...</td>\n",
       "    </tr>\n",
       "    <tr>\n",
       "      <th>2020-01-28</th>\n",
       "      <td>2020-01-28</td>\n",
       "      <td>566.900024</td>\n",
       "    </tr>\n",
       "    <tr>\n",
       "      <th>2020-01-29</th>\n",
       "      <td>2020-01-29</td>\n",
       "      <td>580.989990</td>\n",
       "    </tr>\n",
       "    <tr>\n",
       "      <th>2020-01-30</th>\n",
       "      <td>2020-01-30</td>\n",
       "      <td>640.809998</td>\n",
       "    </tr>\n",
       "    <tr>\n",
       "      <th>2020-01-31</th>\n",
       "      <td>2020-01-31</td>\n",
       "      <td>650.570007</td>\n",
       "    </tr>\n",
       "    <tr>\n",
       "      <th>2020-02-03</th>\n",
       "      <td>2020-02-03</td>\n",
       "      <td>780.000000</td>\n",
       "    </tr>\n",
       "  </tbody>\n",
       "</table>\n",
       "<p>2416 rows × 2 columns</p>\n",
       "</div>"
      ],
      "text/plain": [
       "                 Date       Close\n",
       "Date                             \n",
       "2010-06-29 2010-06-29   23.889999\n",
       "2010-06-30 2010-06-30   23.830000\n",
       "2010-07-01 2010-07-01   21.959999\n",
       "2010-07-02 2010-07-02   19.200001\n",
       "2010-07-06 2010-07-06   16.110001\n",
       "...               ...         ...\n",
       "2020-01-28 2020-01-28  566.900024\n",
       "2020-01-29 2020-01-29  580.989990\n",
       "2020-01-30 2020-01-30  640.809998\n",
       "2020-01-31 2020-01-31  650.570007\n",
       "2020-02-03 2020-02-03  780.000000\n",
       "\n",
       "[2416 rows x 2 columns]"
      ]
     },
     "execution_count": 19,
     "metadata": {},
     "output_type": "execute_result"
    }
   ],
   "source": [
    "tesla_data"
   ]
  },
  {
   "cell_type": "code",
   "execution_count": 20,
   "id": "bf3239f0",
   "metadata": {},
   "outputs": [],
   "source": [
    "tesla_data.drop(\"Date\",axis=1,inplace=True)"
   ]
  },
  {
   "cell_type": "code",
   "execution_count": 21,
   "id": "dd9bada0",
   "metadata": {},
   "outputs": [
    {
     "data": {
      "text/html": [
       "<div>\n",
       "<style scoped>\n",
       "    .dataframe tbody tr th:only-of-type {\n",
       "        vertical-align: middle;\n",
       "    }\n",
       "\n",
       "    .dataframe tbody tr th {\n",
       "        vertical-align: top;\n",
       "    }\n",
       "\n",
       "    .dataframe thead th {\n",
       "        text-align: right;\n",
       "    }\n",
       "</style>\n",
       "<table border=\"1\" class=\"dataframe\">\n",
       "  <thead>\n",
       "    <tr style=\"text-align: right;\">\n",
       "      <th></th>\n",
       "      <th>Close</th>\n",
       "    </tr>\n",
       "    <tr>\n",
       "      <th>Date</th>\n",
       "      <th></th>\n",
       "    </tr>\n",
       "  </thead>\n",
       "  <tbody>\n",
       "    <tr>\n",
       "      <th>2010-06-29</th>\n",
       "      <td>23.889999</td>\n",
       "    </tr>\n",
       "    <tr>\n",
       "      <th>2010-06-30</th>\n",
       "      <td>23.830000</td>\n",
       "    </tr>\n",
       "    <tr>\n",
       "      <th>2010-07-01</th>\n",
       "      <td>21.959999</td>\n",
       "    </tr>\n",
       "    <tr>\n",
       "      <th>2010-07-02</th>\n",
       "      <td>19.200001</td>\n",
       "    </tr>\n",
       "    <tr>\n",
       "      <th>2010-07-06</th>\n",
       "      <td>16.110001</td>\n",
       "    </tr>\n",
       "    <tr>\n",
       "      <th>...</th>\n",
       "      <td>...</td>\n",
       "    </tr>\n",
       "    <tr>\n",
       "      <th>2020-01-28</th>\n",
       "      <td>566.900024</td>\n",
       "    </tr>\n",
       "    <tr>\n",
       "      <th>2020-01-29</th>\n",
       "      <td>580.989990</td>\n",
       "    </tr>\n",
       "    <tr>\n",
       "      <th>2020-01-30</th>\n",
       "      <td>640.809998</td>\n",
       "    </tr>\n",
       "    <tr>\n",
       "      <th>2020-01-31</th>\n",
       "      <td>650.570007</td>\n",
       "    </tr>\n",
       "    <tr>\n",
       "      <th>2020-02-03</th>\n",
       "      <td>780.000000</td>\n",
       "    </tr>\n",
       "  </tbody>\n",
       "</table>\n",
       "<p>2416 rows × 1 columns</p>\n",
       "</div>"
      ],
      "text/plain": [
       "                 Close\n",
       "Date                  \n",
       "2010-06-29   23.889999\n",
       "2010-06-30   23.830000\n",
       "2010-07-01   21.959999\n",
       "2010-07-02   19.200001\n",
       "2010-07-06   16.110001\n",
       "...                ...\n",
       "2020-01-28  566.900024\n",
       "2020-01-29  580.989990\n",
       "2020-01-30  640.809998\n",
       "2020-01-31  650.570007\n",
       "2020-02-03  780.000000\n",
       "\n",
       "[2416 rows x 1 columns]"
      ]
     },
     "execution_count": 21,
     "metadata": {},
     "output_type": "execute_result"
    }
   ],
   "source": [
    "tesla_data"
   ]
  },
  {
   "cell_type": "code",
   "execution_count": 22,
   "id": "d88c1b7f",
   "metadata": {},
   "outputs": [],
   "source": [
    "result_data=tesla_data.copy()"
   ]
  },
  {
   "cell_type": "code",
   "execution_count": 23,
   "id": "b3621c28",
   "metadata": {},
   "outputs": [
    {
     "data": {
      "image/png": "[encoded data removed]",
      "text/plain": [
       "<Figure size 864x432 with 1 Axes>"
      ]
     },
     "metadata": {
      "needs_background": "light"
     },
     "output_type": "display_data"
    }
   ],
   "source": [
    "plt.figure(figsize=(12,6))\n",
    "plt.plot(tesla_data[\"Close\"],color=\"blue\");\n",
    "plt.ylabel(\"Stock Price\")\n",
    "plt.title(\"Tesla Stock Price\")\n",
    "plt.xlabel(\"Time\")\n",
    "plt.show()"
   ]
  },
  {
   "cell_type": "markdown",
   "id": "9f00f524",
   "metadata": {},
   "source": [
    "2011 2013 arasında düşüş gözüküyor 2019 sonlarında patlama gozukuyor"
   ]
  },
  {
   "cell_type": "markdown",
   "id": "ec390dbe",
   "metadata": {},
   "source": []
  },
  {
   "cell_type": "markdown",
   "id": "7e931549",
   "metadata": {},
   "source": [
    "#### numpy arraye çevirelim"
   ]
  },
  {
   "cell_type": "code",
   "execution_count": 24,
   "id": "ed8a529e",
   "metadata": {},
   "outputs": [],
   "source": [
    "tesla_data=tesla_data.values"
   ]
  },
  {
   "cell_type": "code",
   "execution_count": 25,
   "id": "77024526",
   "metadata": {},
   "outputs": [
    {
     "data": {
      "text/plain": [
       "array([[23.889999],\n",
       "       [23.83    ],\n",
       "       [21.959999],\n",
       "       [19.200001],\n",
       "       [16.110001]])"
      ]
     },
     "execution_count": 25,
     "metadata": {},
     "output_type": "execute_result"
    }
   ],
   "source": [
    "tesla_data[0:5]"
   ]
  },
  {
   "cell_type": "markdown",
   "id": "801c0a51",
   "metadata": {},
   "source": [
    "sinir ağı için float 32 tanımlamak lazım"
   ]
  },
  {
   "cell_type": "code",
   "execution_count": 26,
   "id": "d6b0b428",
   "metadata": {},
   "outputs": [],
   "source": [
    "tesla_data=tesla_data.astype(\"float32\")"
   ]
  },
  {
   "cell_type": "markdown",
   "id": "3f28aed1",
   "metadata": {},
   "source": [
    "# Train-Test ayrımını fonksiyon olarak yapalım"
   ]
  },
  {
   "cell_type": "code",
   "execution_count": 28,
   "id": "9725a134",
   "metadata": {},
   "outputs": [],
   "source": [
    "def split_data(dataframe,test_size):\n",
    "    pos=int(round(len(dataframe)*(1-test_size)))\n",
    "    train=dataframe[:pos]\n",
    "    test=dataframe[pos:]\n",
    "    return train,test,pos"
   ]
  },
  {
   "cell_type": "code",
   "execution_count": 29,
   "id": "350bfec3",
   "metadata": {},
   "outputs": [],
   "source": [
    "train,test,pos=split_data(tesla_data,0.20)"
   ]
  },
  {
   "cell_type": "code",
   "execution_count": 30,
   "id": "45fecf83",
   "metadata": {},
   "outputs": [
    {
     "name": "stdout",
     "output_type": "stream",
     "text": [
      "(1933, 1) (483, 1)\n"
     ]
    }
   ],
   "source": [
    "print(train.shape,test.shape)"
   ]
  },
  {
   "cell_type": "code",
   "execution_count": 31,
   "id": "060de1e1",
   "metadata": {},
   "outputs": [],
   "source": [
    "scaler_train=MinMaxScaler(feature_range=(0,1))"
   ]
  },
  {
   "cell_type": "code",
   "execution_count": 32,
   "id": "f880fb7c",
   "metadata": {},
   "outputs": [],
   "source": [
    "train=scaler_train.fit_transform(train)"
   ]
  },
  {
   "cell_type": "code",
   "execution_count": 33,
   "id": "5359fb45",
   "metadata": {},
   "outputs": [],
   "source": [
    "scaler_test=MinMaxScaler(feature_range=(0,1))"
   ]
  },
  {
   "cell_type": "code",
   "execution_count": 34,
   "id": "4b67dce0",
   "metadata": {},
   "outputs": [],
   "source": [
    "test=scaler_test.fit_transform(test)"
   ]
  },
  {
   "cell_type": "code",
   "execution_count": 35,
   "id": "d13f3780",
   "metadata": {},
   "outputs": [
    {
     "data": {
      "text/plain": [
       "array([[0.02191224],\n",
       "       [0.02174973],\n",
       "       [0.01668472],\n",
       "       [0.0092091 ],\n",
       "       [0.00083966]], dtype=float32)"
      ]
     },
     "execution_count": 35,
     "metadata": {},
     "output_type": "execute_result"
    }
   ],
   "source": [
    "train[0:5]"
   ]
  },
  {
   "cell_type": "code",
   "execution_count": 36,
   "id": "88d6942c",
   "metadata": {},
   "outputs": [
    {
     "data": {
      "text/plain": [
       "array([[0.25685903],\n",
       "       [0.24829045],\n",
       "       [0.25511202],\n",
       "       [0.24978784],\n",
       "       [0.2465767 ]], dtype=float32)"
      ]
     },
     "execution_count": 36,
     "metadata": {},
     "output_type": "execute_result"
    }
   ],
   "source": [
    "test[0:5]"
   ]
  },
  {
   "cell_type": "code",
   "execution_count": 38,
   "id": "eaa46851",
   "metadata": {},
   "outputs": [],
   "source": [
    "def create_features(data,lookback):\n",
    "    X,Y=[],[]\n",
    "    for i in range(lookback,len(data)):\n",
    "        X.append(data[i-lookback:i,0])\n",
    "        Y.append(data[i,0])\n",
    "    return np.array(X),np.array(Y)"
   ]
  },
  {
   "cell_type": "code",
   "execution_count": 39,
   "id": "a02a0f03",
   "metadata": {},
   "outputs": [],
   "source": [
    "lookback=20"
   ]
  },
  {
   "cell_type": "markdown",
   "id": "a4402e6f",
   "metadata": {},
   "source": [
    "#### Train Veri Seti "
   ]
  },
  {
   "cell_type": "code",
   "execution_count": 40,
   "id": "ef5f1486",
   "metadata": {},
   "outputs": [],
   "source": [
    "X_train,y_train=create_features(train,lookback)"
   ]
  },
  {
   "cell_type": "markdown",
   "id": "144eb749",
   "metadata": {},
   "source": [
    "#### Test Veri Seti"
   ]
  },
  {
   "cell_type": "code",
   "execution_count": 41,
   "id": "7cb904df",
   "metadata": {},
   "outputs": [],
   "source": [
    "X_test,y_test=create_features(test,lookback)"
   ]
  },
  {
   "cell_type": "code",
   "execution_count": 42,
   "id": "95707694",
   "metadata": {},
   "outputs": [
    {
     "name": "stdout",
     "output_type": "stream",
     "text": [
      "(1913, 20) (1913,) (463, 20) (463,)\n"
     ]
    }
   ],
   "source": [
    "print(X_train.shape,y_train.shape,X_test.shape,y_test.shape)"
   ]
  },
  {
   "cell_type": "code",
   "execution_count": 43,
   "id": "5221bd94",
   "metadata": {},
   "outputs": [
    {
     "data": {
      "text/plain": [
       "array([[0.02191224, 0.02174973, 0.01668472, 0.0092091 , 0.00083966,\n",
       "        0.        , 0.00449621, 0.00433369, 0.0033857 , 0.00633803,\n",
       "        0.01094258, 0.011078  , 0.01310942, 0.0165493 , 0.01218851,\n",
       "        0.01197183, 0.01408451, 0.01486999, 0.01394908, 0.01286566],\n",
       "       [0.02174973, 0.01668472, 0.0092091 , 0.00083966, 0.        ,\n",
       "        0.00449621, 0.00433369, 0.0033857 , 0.00633803, 0.01094258,\n",
       "        0.011078  , 0.01310942, 0.0165493 , 0.01218851, 0.01197183,\n",
       "        0.01408451, 0.01486999, 0.01394908, 0.01286566, 0.01332611],\n",
       "       [0.01668472, 0.0092091 , 0.00083966, 0.        , 0.00449621,\n",
       "        0.00433369, 0.0033857 , 0.00633803, 0.01094258, 0.011078  ,\n",
       "        0.01310942, 0.0165493 , 0.01218851, 0.01197183, 0.01408451,\n",
       "        0.01486999, 0.01394908, 0.01286566, 0.01332611, 0.01232395],\n",
       "       [0.0092091 , 0.00083966, 0.        , 0.00449621, 0.00433369,\n",
       "        0.0033857 , 0.00633803, 0.01094258, 0.011078  , 0.01310942,\n",
       "        0.0165493 , 0.01218851, 0.01197183, 0.01408451, 0.01486999,\n",
       "        0.01394908, 0.01286566, 0.01332611, 0.01232395, 0.01121344],\n",
       "       [0.00083966, 0.        , 0.00449621, 0.00433369, 0.0033857 ,\n",
       "        0.00633803, 0.01094258, 0.011078  , 0.01310942, 0.0165493 ,\n",
       "        0.01218851, 0.01197183, 0.01408451, 0.01486999, 0.01394908,\n",
       "        0.01286566, 0.01332611, 0.01232395, 0.01121344, 0.01386782]],\n",
       "      dtype=float32)"
      ]
     },
     "execution_count": 43,
     "metadata": {},
     "output_type": "execute_result"
    }
   ],
   "source": [
    "X_train[0:5]"
   ]
  },
  {
   "cell_type": "markdown",
   "id": "aecebb8d",
   "metadata": {},
   "source": [
    "#### toplamda 20 features burada var yani ilgili tarihten 20 gün önceki günü veri setine eklemiş olduk "
   ]
  },
  {
   "cell_type": "code",
   "execution_count": 44,
   "id": "d50fe128",
   "metadata": {},
   "outputs": [
    {
     "data": {
      "text/plain": [
       "array([0.14734703, 0.1796416 , 0.21088794, 0.20020628, 0.18416718],\n",
       "      dtype=float32)"
      ]
     },
     "execution_count": 44,
     "metadata": {},
     "output_type": "execute_result"
    }
   ],
   "source": [
    "y_test[0:5]"
   ]
  },
  {
   "cell_type": "markdown",
   "id": "24bcb558",
   "metadata": {},
   "source": [
    "#### hisse senedi kapanış fiyatları var"
   ]
  },
  {
   "cell_type": "code",
   "execution_count": 45,
   "id": "7ed5fd67",
   "metadata": {},
   "outputs": [],
   "source": [
    "X_train=np.reshape(X_train,(X_train.shape[0],1,X_train.shape[1]))"
   ]
  },
  {
   "cell_type": "code",
   "execution_count": 46,
   "id": "86253b53",
   "metadata": {},
   "outputs": [],
   "source": [
    "X_test=np.reshape(X_test,(X_test.shape[0],1,X_test.shape[1]))"
   ]
  },
  {
   "cell_type": "code",
   "execution_count": 47,
   "id": "ddb65d36",
   "metadata": {},
   "outputs": [],
   "source": [
    "y_train=y_train.reshape(-1,1)"
   ]
  },
  {
   "cell_type": "code",
   "execution_count": 48,
   "id": "fd0ced64",
   "metadata": {},
   "outputs": [],
   "source": [
    "y_test=y_test.reshape(-1,1)"
   ]
  },
  {
   "cell_type": "code",
   "execution_count": 49,
   "id": "cb389ef6",
   "metadata": {},
   "outputs": [
    {
     "name": "stdout",
     "output_type": "stream",
     "text": [
      "(1913, 1, 20) (1913, 1) (463, 1, 20) (463, 1)\n"
     ]
    }
   ],
   "source": [
    "print(X_train.shape,y_train.shape,X_test.shape,y_test.shape)"
   ]
  },
  {
   "cell_type": "markdown",
   "id": "f43c48f7",
   "metadata": {},
   "source": [
    "# 4- Modelleme (Modeling)"
   ]
  },
  {
   "cell_type": "code",
   "execution_count": 51,
   "id": "a496f211",
   "metadata": {},
   "outputs": [],
   "source": [
    "model=Sequential()\n",
    "model.add(LSTM(units=50,\n",
    "              activation=\"relu\",\n",
    "              input_shape=(X_train.shape[1],lookback)))\n",
    "model.add(Dropout(0.2))\n",
    "model.add(Dense(1))"
   ]
  },
  {
   "cell_type": "code",
   "execution_count": 52,
   "id": "6fb1ef3b",
   "metadata": {},
   "outputs": [
    {
     "name": "stdout",
     "output_type": "stream",
     "text": [
      "Model: \"sequential\"\n",
      "_________________________________________________________________\n",
      " Layer (type)                Output Shape              Param #   \n",
      "=================================================================\n",
      " lstm (LSTM)                 (None, 50)                14200     \n",
      "                                                                 \n",
      " dropout (Dropout)           (None, 50)                0         \n",
      "                                                                 \n",
      " dense (Dense)               (None, 1)                 51        \n",
      "                                                                 \n",
      "=================================================================\n",
      "Total params: 14,251\n",
      "Trainable params: 14,251\n",
      "Non-trainable params: 0\n",
      "_________________________________________________________________\n"
     ]
    }
   ],
   "source": [
    "model.summary()"
   ]
  },
  {
   "cell_type": "markdown",
   "id": "63ee3989",
   "metadata": {},
   "source": [
    "### Optimizasyon ve değerlendirme metrikleri ayarlanması"
   ]
  },
  {
   "cell_type": "code",
   "execution_count": 62,
   "id": "636f8a8b",
   "metadata": {},
   "outputs": [],
   "source": [
    "model.compile(loss=\"mean_squared_error\",optimizer=\"adam\")"
   ]
  },
  {
   "cell_type": "code",
   "execution_count": 63,
   "id": "6ea91708",
   "metadata": {},
   "outputs": [],
   "source": [
    "callbacks=[EarlyStopping(monitor=\"val_loss\",patience=3,verbose=1,mode=\"min\"),\n",
    "          ModelCheckpoint(filepath=\"mymodel.h5\",monitor=\"val_loss\",mode=\"min\",\n",
    "                         save_best_only=True,save_weights_only=False,verbose=1)]"
   ]
  },
  {
   "cell_type": "code",
   "execution_count": 64,
   "id": "ad181b9b",
   "metadata": {},
   "outputs": [
    {
     "name": "stdout",
     "output_type": "stream",
     "text": [
      "Epoch 1/100\n",
      "53/96 [===============>..............] - ETA: 0s - loss: 0.0026 \n",
      "Epoch 1: val_loss improved from inf to 0.00297, saving model to mymodel.h5\n",
      "96/96 [==============================] - 1s 3ms/step - loss: 0.0052 - val_loss: 0.0030\n",
      "Epoch 2/100\n",
      "55/96 [================>.............] - ETA: 0s - loss: 0.0023\n",
      "Epoch 2: val_loss improved from 0.00297 to 0.00286, saving model to mymodel.h5\n",
      "96/96 [==============================] - 0s 1ms/step - loss: 0.0053 - val_loss: 0.0029\n",
      "Epoch 3/100\n",
      "51/96 [==============>...............] - ETA: 0s - loss: 0.0019\n",
      "Epoch 3: val_loss did not improve from 0.00286\n",
      "96/96 [==============================] - 0s 1ms/step - loss: 0.0043 - val_loss: 0.0031\n",
      "Epoch 4/100\n",
      "49/96 [==============>...............] - ETA: 0s - loss: 0.0017\n",
      "Epoch 4: val_loss did not improve from 0.00286\n",
      "96/96 [==============================] - 0s 1ms/step - loss: 0.0046 - val_loss: 0.0029\n",
      "Epoch 5/100\n",
      "53/96 [===============>..............] - ETA: 0s - loss: 0.0019\n",
      "Epoch 5: val_loss improved from 0.00286 to 0.00210, saving model to mymodel.h5\n",
      "96/96 [==============================] - 0s 1ms/step - loss: 0.0042 - val_loss: 0.0021\n",
      "Epoch 6/100\n",
      "52/96 [===============>..............] - ETA: 0s - loss: 0.0018\n",
      "Epoch 6: val_loss did not improve from 0.00210\n",
      "96/96 [==============================] - 0s 1ms/step - loss: 0.0044 - val_loss: 0.0024\n",
      "Epoch 7/100\n",
      "50/96 [==============>...............] - ETA: 0s - loss: 0.0014\n",
      "Epoch 7: val_loss did not improve from 0.00210\n",
      "96/96 [==============================] - 0s 1ms/step - loss: 0.0046 - val_loss: 0.0029\n",
      "Epoch 8/100\n",
      "51/96 [==============>...............] - ETA: 0s - loss: 0.0017\n",
      "Epoch 8: val_loss did not improve from 0.00210\n",
      "96/96 [==============================] - 0s 1ms/step - loss: 0.0046 - val_loss: 0.0030\n",
      "Epoch 8: early stopping\n"
     ]
    }
   ],
   "source": [
    "history = model.fit(x=X_train,\n",
    "                    y=y_train,\n",
    "                    epochs=100,\n",
    "                    batch_size=20,\n",
    "                    validation_data=(X_test,y_test),\n",
    "                    callbacks=callbacks,\n",
    "                    shuffle=False)"
   ]
  },
  {
   "cell_type": "code",
   "execution_count": 65,
   "id": "422e1af8",
   "metadata": {},
   "outputs": [
    {
     "data": {
      "image/png": "[encoded data removed]",
      "text/plain": [
       "<Figure size 1440x360 with 1 Axes>"
      ]
     },
     "metadata": {
      "needs_background": "light"
     },
     "output_type": "display_data"
    }
   ],
   "source": [
    "plt.figure(figsize=(20,5))\n",
    "plt.subplot(1,2,2)\n",
    "plt.plot(history.history[\"loss\"],label=\"Training Loss\")\n",
    "plt.plot(history.history[\"val_loss\"],label=\"Validation Loss\")\n",
    "plt.legend(loc=\"upper right\")\n",
    "plt.xlabel(\"Epoch\",fontsize=16)\n",
    "plt.ylabel(\"Loss\",fontsize=16)\n",
    "plt.ylim([0,max(plt.ylim())])\n",
    "plt.title(\"Training and Validation Loss\",fontsize=16)\n",
    "plt.show()"
   ]
  },
  {
   "cell_type": "markdown",
   "id": "a3131bd4",
   "metadata": {},
   "source": [
    "### loss ifadesi mean squared eror değeridir yani gerçek değerler ile tahmin edilen değerlerin karelerin ortalaması ifadesidir"
   ]
  },
  {
   "cell_type": "markdown",
   "id": "2eafbcd0",
   "metadata": {},
   "source": [
    "# 5-Değerlendirme (Evaluation)"
   ]
  },
  {
   "cell_type": "code",
   "execution_count": 67,
   "id": "f334da7e",
   "metadata": {},
   "outputs": [
    {
     "name": "stdout",
     "output_type": "stream",
     "text": [
      "24/24 [==============================] - 0s 745us/step - loss: 0.0030\n"
     ]
    }
   ],
   "source": [
    "loss=model.evaluate(X_test,y_test,batch_size=20)"
   ]
  },
  {
   "cell_type": "code",
   "execution_count": 68,
   "id": "acd3c3f2",
   "metadata": {},
   "outputs": [
    {
     "name": "stdout",
     "output_type": "stream",
     "text": [
      "\n",
      "Test loss:0.3%\n"
     ]
    }
   ],
   "source": [
    "print(\"\\nTest loss:%.1f%%\"%(100.0*loss))"
   ]
  },
  {
   "cell_type": "code",
   "execution_count": 69,
   "id": "62b74977",
   "metadata": {},
   "outputs": [
    {
     "name": "stdout",
     "output_type": "stream",
     "text": [
      "60/60 [==============================] - 0s 650us/step\n",
      "15/15 [==============================] - 0s 716us/step\n"
     ]
    }
   ],
   "source": [
    "train_predict=model.predict(X_train)\n",
    "test_predict=model.predict(X_test)"
   ]
  },
  {
   "cell_type": "code",
   "execution_count": 70,
   "id": "0d0f6e80",
   "metadata": {},
   "outputs": [],
   "source": [
    "train_predict=scaler_train.inverse_transform(train_predict)\n",
    "test_predict=scaler_test.inverse_transform(test_predict)"
   ]
  },
  {
   "cell_type": "code",
   "execution_count": 71,
   "id": "571edf65",
   "metadata": {},
   "outputs": [],
   "source": [
    "y_train=scaler_train.inverse_transform(y_train)\n",
    "y_test=scaler_test.inverse_transform(y_test)"
   ]
  },
  {
   "cell_type": "markdown",
   "id": "811841d0",
   "metadata": {},
   "source": [
    "#### train  veri setine RMSE değeri"
   ]
  },
  {
   "cell_type": "code",
   "execution_count": 72,
   "id": "0e0314ab",
   "metadata": {},
   "outputs": [],
   "source": [
    "train_rmse=np.sqrt(mean_squared_error(y_train,train_predict))"
   ]
  },
  {
   "cell_type": "code",
   "execution_count": 73,
   "id": "645bcfb1",
   "metadata": {},
   "outputs": [],
   "source": [
    "test_rmse=np.sqrt(mean_squared_error(y_test,test_predict,))"
   ]
  },
  {
   "cell_type": "code",
   "execution_count": 74,
   "id": "e2aee656",
   "metadata": {},
   "outputs": [
    {
     "name": "stdout",
     "output_type": "stream",
     "text": [
      "Train RMSE:16.638036727905273\n",
      "Test RMSE:32.87493896484375\n"
     ]
    }
   ],
   "source": [
    "print(f\"Train RMSE:{train_rmse}\")\n",
    "print(f\"Test RMSE:{test_rmse}\")"
   ]
  },
  {
   "cell_type": "markdown",
   "id": "b3300cea",
   "metadata": {},
   "source": [
    "#### teslanın gelecek dönemde yapılması görülen hata 32 dolardır"
   ]
  },
  {
   "cell_type": "code",
   "execution_count": 75,
   "id": "6c2ac2e9",
   "metadata": {},
   "outputs": [],
   "source": [
    "train_prediction_data=result_data[lookback:pos]"
   ]
  },
  {
   "cell_type": "code",
   "execution_count": 76,
   "id": "1739d429",
   "metadata": {},
   "outputs": [],
   "source": [
    "train_prediction_data[\"Predicted\"]=train_predict"
   ]
  },
  {
   "cell_type": "code",
   "execution_count": 77,
   "id": "cae14463",
   "metadata": {},
   "outputs": [
    {
     "data": {
      "text/html": [
       "<div>\n",
       "<style scoped>\n",
       "    .dataframe tbody tr th:only-of-type {\n",
       "        vertical-align: middle;\n",
       "    }\n",
       "\n",
       "    .dataframe tbody tr th {\n",
       "        vertical-align: top;\n",
       "    }\n",
       "\n",
       "    .dataframe thead th {\n",
       "        text-align: right;\n",
       "    }\n",
       "</style>\n",
       "<table border=\"1\" class=\"dataframe\">\n",
       "  <thead>\n",
       "    <tr style=\"text-align: right;\">\n",
       "      <th></th>\n",
       "      <th>Close</th>\n",
       "      <th>Predicted</th>\n",
       "    </tr>\n",
       "    <tr>\n",
       "      <th>Date</th>\n",
       "      <th></th>\n",
       "      <th></th>\n",
       "    </tr>\n",
       "  </thead>\n",
       "  <tbody>\n",
       "    <tr>\n",
       "      <th>2010-07-28</th>\n",
       "      <td>20.719999</td>\n",
       "      <td>37.372108</td>\n",
       "    </tr>\n",
       "    <tr>\n",
       "      <th>2010-07-29</th>\n",
       "      <td>20.350000</td>\n",
       "      <td>37.372108</td>\n",
       "    </tr>\n",
       "    <tr>\n",
       "      <th>2010-07-30</th>\n",
       "      <td>19.940001</td>\n",
       "      <td>37.372108</td>\n",
       "    </tr>\n",
       "    <tr>\n",
       "      <th>2010-08-02</th>\n",
       "      <td>20.920000</td>\n",
       "      <td>37.372108</td>\n",
       "    </tr>\n",
       "    <tr>\n",
       "      <th>2010-08-03</th>\n",
       "      <td>21.950001</td>\n",
       "      <td>37.372108</td>\n",
       "    </tr>\n",
       "  </tbody>\n",
       "</table>\n",
       "</div>"
      ],
      "text/plain": [
       "                Close  Predicted\n",
       "Date                            \n",
       "2010-07-28  20.719999  37.372108\n",
       "2010-07-29  20.350000  37.372108\n",
       "2010-07-30  19.940001  37.372108\n",
       "2010-08-02  20.920000  37.372108\n",
       "2010-08-03  21.950001  37.372108"
      ]
     },
     "execution_count": 77,
     "metadata": {},
     "output_type": "execute_result"
    }
   ],
   "source": [
    "train_prediction_data.head()"
   ]
  },
  {
   "cell_type": "code",
   "execution_count": 79,
   "id": "2bd56da7",
   "metadata": {},
   "outputs": [],
   "source": [
    "test_prediction_data=result_data[pos+lookback:]"
   ]
  },
  {
   "cell_type": "code",
   "execution_count": 80,
   "id": "cca2c98f",
   "metadata": {},
   "outputs": [],
   "source": [
    "test_prediction_data[\"Predicted\"]=test_predict"
   ]
  },
  {
   "cell_type": "code",
   "execution_count": 81,
   "id": "1c70b42d",
   "metadata": {},
   "outputs": [
    {
     "data": {
      "text/html": [
       "<div>\n",
       "<style scoped>\n",
       "    .dataframe tbody tr th:only-of-type {\n",
       "        vertical-align: middle;\n",
       "    }\n",
       "\n",
       "    .dataframe tbody tr th {\n",
       "        vertical-align: top;\n",
       "    }\n",
       "\n",
       "    .dataframe thead th {\n",
       "        text-align: right;\n",
       "    }\n",
       "</style>\n",
       "<table border=\"1\" class=\"dataframe\">\n",
       "  <thead>\n",
       "    <tr style=\"text-align: right;\">\n",
       "      <th></th>\n",
       "      <th>Close</th>\n",
       "      <th>Predicted</th>\n",
       "    </tr>\n",
       "    <tr>\n",
       "      <th>Date</th>\n",
       "      <th></th>\n",
       "      <th></th>\n",
       "    </tr>\n",
       "  </thead>\n",
       "  <tbody>\n",
       "    <tr>\n",
       "      <th>2018-04-03</th>\n",
       "      <td>267.529999</td>\n",
       "      <td>322.743713</td>\n",
       "    </tr>\n",
       "    <tr>\n",
       "      <th>2018-04-04</th>\n",
       "      <td>286.940002</td>\n",
       "      <td>320.983612</td>\n",
       "    </tr>\n",
       "    <tr>\n",
       "      <th>2018-04-05</th>\n",
       "      <td>305.720001</td>\n",
       "      <td>318.788361</td>\n",
       "    </tr>\n",
       "    <tr>\n",
       "      <th>2018-04-06</th>\n",
       "      <td>299.299988</td>\n",
       "      <td>320.798218</td>\n",
       "    </tr>\n",
       "    <tr>\n",
       "      <th>2018-04-09</th>\n",
       "      <td>289.660004</td>\n",
       "      <td>320.685394</td>\n",
       "    </tr>\n",
       "  </tbody>\n",
       "</table>\n",
       "</div>"
      ],
      "text/plain": [
       "                 Close   Predicted\n",
       "Date                              \n",
       "2018-04-03  267.529999  322.743713\n",
       "2018-04-04  286.940002  320.983612\n",
       "2018-04-05  305.720001  318.788361\n",
       "2018-04-06  299.299988  320.798218\n",
       "2018-04-09  289.660004  320.685394"
      ]
     },
     "execution_count": 81,
     "metadata": {},
     "output_type": "execute_result"
    }
   ],
   "source": [
    "test_prediction_data.head()"
   ]
  },
  {
   "cell_type": "code",
   "execution_count": 82,
   "id": "071a599a",
   "metadata": {},
   "outputs": [
    {
     "data": {
      "image/png": "[encoded data removed]",
      "text/plain": [
       "<Figure size 1008x360 with 1 Axes>"
      ]
     },
     "metadata": {
      "needs_background": "light"
     },
     "output_type": "display_data"
    }
   ],
   "source": [
    "plt.figure(figsize=(14,5))\n",
    "plt.plot(result_data,label=\"Real Values\")\n",
    "plt.plot(train_prediction_data[\"Predicted\"],color=\"blue\",label=\"Train Predicted\")\n",
    "plt.plot(test_prediction_data[\"Predicted\"],color=\"red\",label=\"Test Predicted\")\n",
    "plt.xlabel(\"Time\")\n",
    "plt.ylabel(\"Stock Values\")\n",
    "plt.legend()\n",
    "plt.show()"
   ]
  },
  {
   "cell_type": "markdown",
   "id": "1d839d2e",
   "metadata": {},
   "source": [
    "#### Belirli periyotta tahmınde bulunursak 32 dolar aşağısında yada 32 dolar yukarısında tahmin sonucuna varırız"
   ]
  },
  {
   "cell_type": "markdown",
   "id": "a6cd50ca",
   "metadata": {},
   "source": [
    "##### TURKCELL GELECEĞİ YAZANLAR"
   ]
  },
  {
   "cell_type": "code",
   "execution_count": null,
   "id": "1581679c",
   "metadata": {},
   "outputs": [],
   "source": []
  }
 ],
 "metadata": {
  "kernelspec": {
   "display_name": "Python 3 (ipykernel)",
   "language": "python",
   "name": "python3"
  },
  "language_info": {
   "codemirror_mode": {
    "name": "ipython",
    "version": 3
   },
   "file_extension": ".py",
   "mimetype": "text/x-python",
   "name": "python",
   "nbconvert_exporter": "python",
   "pygments_lexer": "ipython3",
   "version": "3.10.8"
  }
 },
 "nbformat": 4,
 "nbformat_minor": 5
}
