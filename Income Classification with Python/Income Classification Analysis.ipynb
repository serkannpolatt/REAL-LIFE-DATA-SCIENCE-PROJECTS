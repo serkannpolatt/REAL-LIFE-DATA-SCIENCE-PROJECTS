{
 "cells": [
  {
   "cell_type": "markdown",
   "id": "82ab44b3",
   "metadata": {},
   "source": [
    "# Data Science Project on Income Classification with Python\n",
    "#### The dataset I’m going to use here is publicly available data, so we don’t have to collect and scratch the data, just load it into memory. So let’s start the income classification task with Python by importing the necessary Python libraries and the dataset:\n",
    "\n",
    "# Python ile Gelir Sınıflandırması Üzerine Veri Bilimi Projesi\n",
    "#### Burada kullanacağım veri kümesi herkese açık verilerdir, bu nedenle verileri toplamamıza ve çizmemize gerek yok, sadece belleğe yükleyin. O halde gerekli Python kütüphanelerini ve veri setini import ederek Python ile gelir sınıflandırma görevine başlayalım:"
   ]
  },
  {
   "cell_type": "code",
   "execution_count": 5,
   "id": "3787039d",
   "metadata": {},
   "outputs": [],
   "source": [
    "import numpy as np # linear algebra\n",
    "import pandas as pd # data processing, CSV file I/O (e.g. pd.read_csv)\n",
    "import matplotlib.pyplot as plt\n",
    "import seaborn as sns"
   ]
  },
  {
   "cell_type": "code",
   "execution_count": 6,
   "id": "99b9f910",
   "metadata": {},
   "outputs": [],
   "source": [
    "df = pd.read_csv('income_evaluation.csv')\n"
   ]
  },
  {
   "cell_type": "code",
   "execution_count": 7,
   "id": "07a04042",
   "metadata": {},
   "outputs": [
    {
     "data": {
      "text/plain": [
       "age                False\n",
       " workclass         False\n",
       " fnlwgt            False\n",
       " education         False\n",
       " education-num     False\n",
       " marital-status    False\n",
       " occupation        False\n",
       " relationship      False\n",
       " race              False\n",
       " sex               False\n",
       " capital-gain      False\n",
       " capital-loss      False\n",
       " hours-per-week    False\n",
       " native-country    False\n",
       " income            False\n",
       "dtype: bool"
      ]
     },
     "execution_count": 7,
     "metadata": {},
     "output_type": "execute_result"
    }
   ],
   "source": [
    "df.isnull().any()"
   ]
  },
  {
   "cell_type": "markdown",
   "id": "e73bb30b",
   "metadata": {},
   "source": [
    "#### There is a column that has a rather obscure name: fnlwgt. Upon closer inspection, this variable is translated as “final weight” which represents the total number of people matching that particular row of information. Another thing to note is that each name has a space in front of it. We need to delete it:\n",
    "\n",
    "#### Adı oldukça belirsiz olan bir sütun var: fnlwgt. Daha yakından incelendiğinde, bu değişken, o belirli bilgi satırıyla eşleşen toplam insan sayısını temsil eden \"nihai ağırlık\" olarak çevrilir. Unutulmaması gereken bir diğer nokta ise her ismin önünde bir boşluk olmasıdır. Silmemiz gerekiyor:"
   ]
  },
  {
   "cell_type": "code",
   "execution_count": 8,
   "id": "598aafc6",
   "metadata": {},
   "outputs": [],
   "source": [
    "df = df.rename(columns={'age': 'age',\n",
    "                         ' workclass': 'workclass',\n",
    "                         ' fnlwgt': 'final_weight',\n",
    "                         ' education': 'education',\n",
    "                         ' education-num': 'education_num',\n",
    "                         ' marital-status': 'marital_status',\n",
    "                         ' occupation': 'occupation',\n",
    "                         ' relationship': 'relationship',\n",
    "                         ' race': 'race',\n",
    "                         ' sex': 'sex',\n",
    "                         ' capital-gain': 'capital_gain',\n",
    "                         ' capital-loss': 'capital_loss',\n",
    "                         ' hours-per-week': 'hrs_per_week',\n",
    "                         ' native-country': 'native_country',\n",
    "                         ' income': 'income'\n",
    "                        })\n"
   ]
  },
  {
   "cell_type": "code",
   "execution_count": 9,
   "id": "59b91f92",
   "metadata": {},
   "outputs": [
    {
     "data": {
      "text/plain": [
       "Index(['age', 'workclass', 'final_weight', 'education', 'education_num',\n",
       "       'marital_status', 'occupation', 'relationship', 'race', 'sex',\n",
       "       'capital_gain', 'capital_loss', 'hrs_per_week', 'native_country',\n",
       "       'income'],\n",
       "      dtype='object')"
      ]
     },
     "execution_count": 9,
     "metadata": {},
     "output_type": "execute_result"
    }
   ],
   "source": [
    "df.columns"
   ]
  },
  {
   "cell_type": "markdown",
   "id": "665bd635",
   "metadata": {},
   "source": [
    "#### Some of the variables have binary or discrete values. We can apply to encode or transform some of the variables from string to category. Since “income” is our target variables, we want it to be numeric for ease of calculation. I’m going to create new variables derived from “income ”:\n",
    "\n",
    "#### Değişkenlerden bazıları ikili veya ayrık değerlere sahiptir. Bazı değişkenleri dizgeden kategoriye kodlamak veya dönüştürmek için başvurabiliriz. “Gelir” hedef değişkenimiz olduğundan, hesaplama kolaylığı için sayısal olmasını istiyoruz. “Gelir”den türetilen yeni değişkenler yaratacağım:"
   ]
  },
  {
   "cell_type": "code",
   "execution_count": 10,
   "id": "a41b28de",
   "metadata": {},
   "outputs": [
    {
     "data": {
      "text/plain": [
       "array([' <=50K', ' >50K'], dtype=object)"
      ]
     },
     "execution_count": 10,
     "metadata": {},
     "output_type": "execute_result"
    }
   ],
   "source": [
    "df['income'].unique()\n"
   ]
  },
  {
   "cell_type": "code",
   "execution_count": 11,
   "id": "6849e781",
   "metadata": {},
   "outputs": [],
   "source": [
    "df['income_encoded'] = [1 if value == ' >50K' else 0 for value in df['income'].values]\n"
   ]
  },
  {
   "cell_type": "code",
   "execution_count": 12,
   "id": "67650d63",
   "metadata": {},
   "outputs": [
    {
     "data": {
      "text/plain": [
       "array([0, 1], dtype=int64)"
      ]
     },
     "execution_count": 12,
     "metadata": {},
     "output_type": "execute_result"
    }
   ],
   "source": [
    "df['income_encoded'].unique()\n"
   ]
  },
  {
   "cell_type": "code",
   "execution_count": 13,
   "id": "9ff5590d",
   "metadata": {},
   "outputs": [
    {
     "data": {
      "text/html": [
       "<div>\n",
       "<style scoped>\n",
       "    .dataframe tbody tr th:only-of-type {\n",
       "        vertical-align: middle;\n",
       "    }\n",
       "\n",
       "    .dataframe tbody tr th {\n",
       "        vertical-align: top;\n",
       "    }\n",
       "\n",
       "    .dataframe thead th {\n",
       "        text-align: right;\n",
       "    }\n",
       "</style>\n",
       "<table border=\"1\" class=\"dataframe\">\n",
       "  <thead>\n",
       "    <tr style=\"text-align: right;\">\n",
       "      <th></th>\n",
       "      <th>age</th>\n",
       "      <th>final_weight</th>\n",
       "      <th>education_num</th>\n",
       "      <th>capital_gain</th>\n",
       "      <th>capital_loss</th>\n",
       "      <th>hrs_per_week</th>\n",
       "      <th>income_encoded</th>\n",
       "    </tr>\n",
       "  </thead>\n",
       "  <tbody>\n",
       "    <tr>\n",
       "      <th>count</th>\n",
       "      <td>32561.000000</td>\n",
       "      <td>3.256100e+04</td>\n",
       "      <td>32561.000000</td>\n",
       "      <td>32561.000000</td>\n",
       "      <td>32561.000000</td>\n",
       "      <td>32561.000000</td>\n",
       "      <td>32561.000000</td>\n",
       "    </tr>\n",
       "    <tr>\n",
       "      <th>mean</th>\n",
       "      <td>38.581647</td>\n",
       "      <td>1.897784e+05</td>\n",
       "      <td>10.080679</td>\n",
       "      <td>1077.648844</td>\n",
       "      <td>87.303830</td>\n",
       "      <td>40.437456</td>\n",
       "      <td>0.240810</td>\n",
       "    </tr>\n",
       "    <tr>\n",
       "      <th>std</th>\n",
       "      <td>13.640433</td>\n",
       "      <td>1.055500e+05</td>\n",
       "      <td>2.572720</td>\n",
       "      <td>7385.292085</td>\n",
       "      <td>402.960219</td>\n",
       "      <td>12.347429</td>\n",
       "      <td>0.427581</td>\n",
       "    </tr>\n",
       "    <tr>\n",
       "      <th>min</th>\n",
       "      <td>17.000000</td>\n",
       "      <td>1.228500e+04</td>\n",
       "      <td>1.000000</td>\n",
       "      <td>0.000000</td>\n",
       "      <td>0.000000</td>\n",
       "      <td>1.000000</td>\n",
       "      <td>0.000000</td>\n",
       "    </tr>\n",
       "    <tr>\n",
       "      <th>25%</th>\n",
       "      <td>28.000000</td>\n",
       "      <td>1.178270e+05</td>\n",
       "      <td>9.000000</td>\n",
       "      <td>0.000000</td>\n",
       "      <td>0.000000</td>\n",
       "      <td>40.000000</td>\n",
       "      <td>0.000000</td>\n",
       "    </tr>\n",
       "    <tr>\n",
       "      <th>50%</th>\n",
       "      <td>37.000000</td>\n",
       "      <td>1.783560e+05</td>\n",
       "      <td>10.000000</td>\n",
       "      <td>0.000000</td>\n",
       "      <td>0.000000</td>\n",
       "      <td>40.000000</td>\n",
       "      <td>0.000000</td>\n",
       "    </tr>\n",
       "    <tr>\n",
       "      <th>75%</th>\n",
       "      <td>48.000000</td>\n",
       "      <td>2.370510e+05</td>\n",
       "      <td>12.000000</td>\n",
       "      <td>0.000000</td>\n",
       "      <td>0.000000</td>\n",
       "      <td>45.000000</td>\n",
       "      <td>0.000000</td>\n",
       "    </tr>\n",
       "    <tr>\n",
       "      <th>max</th>\n",
       "      <td>90.000000</td>\n",
       "      <td>1.484705e+06</td>\n",
       "      <td>16.000000</td>\n",
       "      <td>99999.000000</td>\n",
       "      <td>4356.000000</td>\n",
       "      <td>99.000000</td>\n",
       "      <td>1.000000</td>\n",
       "    </tr>\n",
       "  </tbody>\n",
       "</table>\n",
       "</div>"
      ],
      "text/plain": [
       "                age  final_weight  education_num  capital_gain  capital_loss  \\\n",
       "count  32561.000000  3.256100e+04   32561.000000  32561.000000  32561.000000   \n",
       "mean      38.581647  1.897784e+05      10.080679   1077.648844     87.303830   \n",
       "std       13.640433  1.055500e+05       2.572720   7385.292085    402.960219   \n",
       "min       17.000000  1.228500e+04       1.000000      0.000000      0.000000   \n",
       "25%       28.000000  1.178270e+05       9.000000      0.000000      0.000000   \n",
       "50%       37.000000  1.783560e+05      10.000000      0.000000      0.000000   \n",
       "75%       48.000000  2.370510e+05      12.000000      0.000000      0.000000   \n",
       "max       90.000000  1.484705e+06      16.000000  99999.000000   4356.000000   \n",
       "\n",
       "       hrs_per_week  income_encoded  \n",
       "count  32561.000000    32561.000000  \n",
       "mean      40.437456        0.240810  \n",
       "std       12.347429        0.427581  \n",
       "min        1.000000        0.000000  \n",
       "25%       40.000000        0.000000  \n",
       "50%       40.000000        0.000000  \n",
       "75%       45.000000        0.000000  \n",
       "max       99.000000        1.000000  "
      ]
     },
     "execution_count": 13,
     "metadata": {},
     "output_type": "execute_result"
    }
   ],
   "source": [
    "# Let's check some descriptive statistics\n",
    "df.describe()"
   ]
  },
  {
   "cell_type": "markdown",
   "id": "571ab02a",
   "metadata": {},
   "source": [
    "## Observations from the above statistics:\n",
    "\n",
    "#### In the dataset the mean and median age is similar, I guess it will be a normal distribution, we will check it later using visualizations.\n",
    "#### The variables of capital gain and loss are suspect. All observations greater than 0 are in the 4th quartile.\n",
    "#### In the “hrs_per_week” columns, the min is 1 and the max is 99, which is not common in real life. We will have to investigate this later.\n",
    "#### Only about a quarter of the population can earn more than 50,000 a year.\n",
    "\n",
    "## Yukarıdaki istatistiklerden gözlemler:\n",
    "\n",
    "#### Veri setinde ortalama ve medyan yaş benzer, sanırım normal bir dağılım olacak, daha sonra görselleştirmeleri kullanarak kontrol edeceğiz.\n",
    "#### Sermaye kazancı ve kaybı değişkenleri şüphelidir. 0'dan büyük tüm gözlemler 4. çeyrektedir.\n",
    "#### \"saat_başına_hafta\" sütunlarında minimum 1 ve maksimum 99'dur, bu gerçek hayatta yaygın değildir. Bunu daha sonra araştırmamız gerekecek.\n",
    "#### Nüfusun yalnızca dörtte biri yılda 50.000'den fazla kazanabilir."
   ]
  },
  {
   "cell_type": "markdown",
   "id": "b80e8847",
   "metadata": {},
   "source": [
    "# Income Classification\n",
    "#### Let’s see how each profession plays out by comparing the number of people earning over 50K. We’ll look at the total number of workers for each area and the total number of people earning over 50K in each:\n",
    "\n",
    "# Gelir Sınıflandırması\n",
    "#### 50 binden fazla kazanan kişi sayısını karşılaştırarak her bir mesleğin nasıl işlediğini görelim. Her bir alan için toplam çalışan sayısına ve her birinde 50 binin üzerinde kazanan toplam insan sayısına bakacağız:"
   ]
  },
  {
   "cell_type": "code",
   "execution_count": 14,
   "id": "8d0d48da",
   "metadata": {},
   "outputs": [
    {
     "data": {
      "text/plain": [
       " Exec-managerial    1968\n",
       " Prof-specialty     1859\n",
       " Sales               983\n",
       "Name: occupation, dtype: int64"
      ]
     },
     "execution_count": 14,
     "metadata": {},
     "output_type": "execute_result"
    }
   ],
   "source": [
    "df[df['income'] == ' >50K']['occupation'].value_counts().head(3)"
   ]
  },
  {
   "cell_type": "code",
   "execution_count": 15,
   "id": "1b846406",
   "metadata": {},
   "outputs": [
    {
     "data": {
      "text/plain": [
       "<AxesSubplot:ylabel='occupation'>"
      ]
     },
     "execution_count": 15,
     "metadata": {},
     "output_type": "execute_result"
    },
    {
     "data": {
      "image/png": "[encoded data removed]",
      "text/plain": [
       "<Figure size 1440x720 with 1 Axes>"
      ]
     },
     "metadata": {
      "needs_background": "light"
     },
     "output_type": "display_data"
    }
   ],
   "source": [
    "pd.crosstab(df[\"occupation\"], df['income']).plot(kind='barh', stacked=True, figsize=(20, 10))"
   ]
  },
  {
   "cell_type": "markdown",
   "id": "01f221f2",
   "metadata": {},
   "source": [
    "# Observations:\n",
    "### The 3 main occupations in total number are the professional speciality, home repair, executive management.\n",
    "###  The top 3 occupations in terms of a total number of people earning more than 50K (in order) are Executive, Occupational Specialties and Handicraft Sales and Repairs (with a close margin).\n",
    "###  Senior executives have the highest percentage of people earning more than 50,000 people: 48%.\n",
    "\n",
    "\n",
    "# Gözlemler:\n",
    "### Toplam sayıdaki 3 ana meslek profesyonel uzmanlık, ev tamiri, yöneticiliktir.\n",
    "### Toplam geliri 50.000'den fazla kişi (sırasıyla) açısından ilk 3 meslek, Yönetici, Mesleki Uzmanlıklar ve El Sanatları Satış ve Tamirleridir (yakın bir marjla).\n",
    "### Üst düzey yöneticiler, 50.000'den fazla kişi kazanan en yüksek yüzdeye sahiptir: %48."
   ]
  },
  {
   "cell_type": "code",
   "execution_count": null,
   "id": "7ddbf353",
   "metadata": {},
   "outputs": [],
   "source": []
  }
 ],
 "metadata": {
  "kernelspec": {
   "display_name": "Python 3 (ipykernel)",
   "language": "python",
   "name": "python3"
  },
  "language_info": {
   "codemirror_mode": {
    "name": "ipython",
    "version": 3
   },
   "file_extension": ".py",
   "mimetype": "text/x-python",
   "name": "python",
   "nbconvert_exporter": "python",
   "pygments_lexer": "ipython3",
   "version": "3.10.2"
  }
 },
 "nbformat": 4,
 "nbformat_minor": 5
}
