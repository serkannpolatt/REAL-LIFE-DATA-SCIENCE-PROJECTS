{
  "cells": [
    {
      "cell_type": "code",
      "source": [
        "# !pip install keras\n",
        "# !pip install tensorflow\n",
        "# !pip install keras\n",
        "# !pip install theano\n"
      ],
      "metadata": {
        "colab": {
          "base_uri": "https://localhost:8080/"
        },
        "id": "yDILVoSZmULh",
        "outputId": "d2d201d7-8168-4a23-8064-b27a9eb7f2be"
      },
      "execution_count": 4,
      "outputs": [
        {
          "output_type": "stream",
          "name": "stdout",
          "text": [
            "Looking in indexes: https://pypi.org/simple, https://us-python.pkg.dev/colab-wheels/public/simple/\n",
            "Requirement already satisfied: keras in /usr/local/lib/python3.9/dist-packages (2.11.0)\n",
            "Looking in indexes: https://pypi.org/simple, https://us-python.pkg.dev/colab-wheels/public/simple/\n",
            "Requirement already satisfied: tensorflow in /usr/local/lib/python3.9/dist-packages (2.11.0)\n",
            "Requirement already satisfied: setuptools in /usr/local/lib/python3.9/dist-packages (from tensorflow) (63.4.3)\n",
            "Requirement already satisfied: tensorflow-io-gcs-filesystem>=0.23.1 in /usr/local/lib/python3.9/dist-packages (from tensorflow) (0.31.0)\n",
            "Requirement already satisfied: six>=1.12.0 in /usr/local/lib/python3.9/dist-packages (from tensorflow) (1.16.0)\n",
            "Requirement already satisfied: h5py>=2.9.0 in /usr/local/lib/python3.9/dist-packages (from tensorflow) (3.8.0)\n",
            "Requirement already satisfied: typing-extensions>=3.6.6 in /usr/local/lib/python3.9/dist-packages (from tensorflow) (4.5.0)\n",
            "Requirement already satisfied: protobuf<3.20,>=3.9.2 in /usr/local/lib/python3.9/dist-packages (from tensorflow) (3.19.6)\n",
            "Requirement already satisfied: wrapt>=1.11.0 in /usr/local/lib/python3.9/dist-packages (from tensorflow) (1.15.0)\n",
            "Requirement already satisfied: libclang>=13.0.0 in /usr/local/lib/python3.9/dist-packages (from tensorflow) (15.0.6.1)\n",
            "Requirement already satisfied: absl-py>=1.0.0 in /usr/local/lib/python3.9/dist-packages (from tensorflow) (1.4.0)\n",
            "Requirement already satisfied: flatbuffers>=2.0 in /usr/local/lib/python3.9/dist-packages (from tensorflow) (23.3.3)\n",
            "Requirement already satisfied: tensorflow-estimator<2.12,>=2.11.0 in /usr/local/lib/python3.9/dist-packages (from tensorflow) (2.11.0)\n",
            "Requirement already satisfied: opt-einsum>=2.3.2 in /usr/local/lib/python3.9/dist-packages (from tensorflow) (3.3.0)\n",
            "Requirement already satisfied: astunparse>=1.6.0 in /usr/local/lib/python3.9/dist-packages (from tensorflow) (1.6.3)\n",
            "Requirement already satisfied: keras<2.12,>=2.11.0 in /usr/local/lib/python3.9/dist-packages (from tensorflow) (2.11.0)\n",
            "Requirement already satisfied: termcolor>=1.1.0 in /usr/local/lib/python3.9/dist-packages (from tensorflow) (2.2.0)\n",
            "Requirement already satisfied: tensorboard<2.12,>=2.11 in /usr/local/lib/python3.9/dist-packages (from tensorflow) (2.11.2)\n",
            "Requirement already satisfied: packaging in /usr/local/lib/python3.9/dist-packages (from tensorflow) (23.0)\n",
            "Requirement already satisfied: gast<=0.4.0,>=0.2.1 in /usr/local/lib/python3.9/dist-packages (from tensorflow) (0.4.0)\n",
            "Requirement already satisfied: grpcio<2.0,>=1.24.3 in /usr/local/lib/python3.9/dist-packages (from tensorflow) (1.51.3)\n",
            "Requirement already satisfied: google-pasta>=0.1.1 in /usr/local/lib/python3.9/dist-packages (from tensorflow) (0.2.0)\n",
            "Requirement already satisfied: numpy>=1.20 in /usr/local/lib/python3.9/dist-packages (from tensorflow) (1.22.4)\n",
            "Requirement already satisfied: wheel<1.0,>=0.23.0 in /usr/local/lib/python3.9/dist-packages (from astunparse>=1.6.0->tensorflow) (0.40.0)\n",
            "Requirement already satisfied: markdown>=2.6.8 in /usr/local/lib/python3.9/dist-packages (from tensorboard<2.12,>=2.11->tensorflow) (3.4.1)\n",
            "Requirement already satisfied: google-auth-oauthlib<0.5,>=0.4.1 in /usr/local/lib/python3.9/dist-packages (from tensorboard<2.12,>=2.11->tensorflow) (0.4.6)\n",
            "Requirement already satisfied: werkzeug>=1.0.1 in /usr/local/lib/python3.9/dist-packages (from tensorboard<2.12,>=2.11->tensorflow) (2.2.3)\n",
            "Requirement already satisfied: google-auth<3,>=1.6.3 in /usr/local/lib/python3.9/dist-packages (from tensorboard<2.12,>=2.11->tensorflow) (2.16.2)\n",
            "Requirement already satisfied: tensorboard-plugin-wit>=1.6.0 in /usr/local/lib/python3.9/dist-packages (from tensorboard<2.12,>=2.11->tensorflow) (1.8.1)\n",
            "Requirement already satisfied: tensorboard-data-server<0.7.0,>=0.6.0 in /usr/local/lib/python3.9/dist-packages (from tensorboard<2.12,>=2.11->tensorflow) (0.6.1)\n",
            "Requirement already satisfied: requests<3,>=2.21.0 in /usr/local/lib/python3.9/dist-packages (from tensorboard<2.12,>=2.11->tensorflow) (2.27.1)\n",
            "Requirement already satisfied: pyasn1-modules>=0.2.1 in /usr/local/lib/python3.9/dist-packages (from google-auth<3,>=1.6.3->tensorboard<2.12,>=2.11->tensorflow) (0.2.8)\n",
            "Requirement already satisfied: cachetools<6.0,>=2.0.0 in /usr/local/lib/python3.9/dist-packages (from google-auth<3,>=1.6.3->tensorboard<2.12,>=2.11->tensorflow) (5.3.0)\n",
            "Requirement already satisfied: rsa<5,>=3.1.4 in /usr/local/lib/python3.9/dist-packages (from google-auth<3,>=1.6.3->tensorboard<2.12,>=2.11->tensorflow) (4.9)\n",
            "Requirement already satisfied: requests-oauthlib>=0.7.0 in /usr/local/lib/python3.9/dist-packages (from google-auth-oauthlib<0.5,>=0.4.1->tensorboard<2.12,>=2.11->tensorflow) (1.3.1)\n",
            "Requirement already satisfied: importlib-metadata>=4.4 in /usr/local/lib/python3.9/dist-packages (from markdown>=2.6.8->tensorboard<2.12,>=2.11->tensorflow) (6.0.0)\n",
            "Requirement already satisfied: urllib3<1.27,>=1.21.1 in /usr/local/lib/python3.9/dist-packages (from requests<3,>=2.21.0->tensorboard<2.12,>=2.11->tensorflow) (1.26.15)\n",
            "Requirement already satisfied: idna<4,>=2.5 in /usr/local/lib/python3.9/dist-packages (from requests<3,>=2.21.0->tensorboard<2.12,>=2.11->tensorflow) (3.4)\n",
            "Requirement already satisfied: charset-normalizer~=2.0.0 in /usr/local/lib/python3.9/dist-packages (from requests<3,>=2.21.0->tensorboard<2.12,>=2.11->tensorflow) (2.0.12)\n",
            "Requirement already satisfied: certifi>=2017.4.17 in /usr/local/lib/python3.9/dist-packages (from requests<3,>=2.21.0->tensorboard<2.12,>=2.11->tensorflow) (2022.12.7)\n",
            "Requirement already satisfied: MarkupSafe>=2.1.1 in /usr/local/lib/python3.9/dist-packages (from werkzeug>=1.0.1->tensorboard<2.12,>=2.11->tensorflow) (2.1.2)\n",
            "Requirement already satisfied: zipp>=0.5 in /usr/local/lib/python3.9/dist-packages (from importlib-metadata>=4.4->markdown>=2.6.8->tensorboard<2.12,>=2.11->tensorflow) (3.15.0)\n",
            "Requirement already satisfied: pyasn1<0.5.0,>=0.4.6 in /usr/local/lib/python3.9/dist-packages (from pyasn1-modules>=0.2.1->google-auth<3,>=1.6.3->tensorboard<2.12,>=2.11->tensorflow) (0.4.8)\n",
            "Requirement already satisfied: oauthlib>=3.0.0 in /usr/local/lib/python3.9/dist-packages (from requests-oauthlib>=0.7.0->google-auth-oauthlib<0.5,>=0.4.1->tensorboard<2.12,>=2.11->tensorflow) (3.2.2)\n",
            "Looking in indexes: https://pypi.org/simple, https://us-python.pkg.dev/colab-wheels/public/simple/\n",
            "Requirement already satisfied: keras in /usr/local/lib/python3.9/dist-packages (2.11.0)\n",
            "Looking in indexes: https://pypi.org/simple, https://us-python.pkg.dev/colab-wheels/public/simple/\n",
            "Collecting theano\n",
            "  Downloading Theano-1.0.5.tar.gz (2.8 MB)\n",
            "\u001b[2K     \u001b[90m━━━━━━━━━━━━━━━━━━━━━━━━━━━━━━━━━━━━━━━━\u001b[0m \u001b[32m2.8/2.8 MB\u001b[0m \u001b[31m42.3 MB/s\u001b[0m eta \u001b[36m0:00:00\u001b[0m\n",
            "\u001b[?25h  Preparing metadata (setup.py) ... \u001b[?25l\u001b[?25hdone\n",
            "Requirement already satisfied: numpy>=1.9.1 in /usr/local/lib/python3.9/dist-packages (from theano) (1.22.4)\n",
            "Requirement already satisfied: scipy>=0.14 in /usr/local/lib/python3.9/dist-packages (from theano) (1.10.1)\n",
            "Requirement already satisfied: six>=1.9.0 in /usr/local/lib/python3.9/dist-packages (from theano) (1.16.0)\n",
            "Building wheels for collected packages: theano\n",
            "  Building wheel for theano (setup.py) ... \u001b[?25l\u001b[?25hdone\n",
            "  Created wheel for theano: filename=Theano-1.0.5-py3-none-any.whl size=2668109 sha256=198c6910f1675ca80e4ec2e1b9e772f5a2eb1219aa13abc58bb0b1fa41a315d8\n",
            "  Stored in directory: /root/.cache/pip/wheels/12/d8/36/e9b7c617ca8be398dcc48621c539d0cb1d41ff04e4367fc235\n",
            "Successfully built theano\n",
            "Installing collected packages: theano\n",
            "Successfully installed theano-1.0.5\n"
          ]
        }
      ]
    },
    {
      "cell_type": "code",
      "execution_count": 5,
      "metadata": {
        "id": "2zUjhYQHfTmA"
      },
      "outputs": [],
      "source": [
        "from keras.layers.core import Dense, Activation, Dropout\n",
        "from keras.layers import LSTM\n",
        "from keras.models import Sequential\n",
        "import time #helper libraries"
      ]
    },
    {
      "cell_type": "markdown",
      "metadata": {
        "id": "UJ0jimOSaLx0"
      },
      "source": [
        "**WHY USE LSTM? Is it good to predict re-occuring data?I didn't get great results from the 1st notebook and decided to try to predict stock price movements by giving in stock price movements instead of just simple stock prices as input**\n",
        "\n",
        "\n",
        "**In this notebook I normalized only the closing prices and then broke it into train and test datasets. I just kept a simple lookback window to give all similar data same movement(movement is just giving the data points the same kind of normalization) and put them in price points as input**\n",
        "\n"
      ]
    },
    {
      "cell_type": "code",
      "execution_count": 6,
      "metadata": {
        "id": "Uwk3PeSUGDk3"
      },
      "outputs": [],
      "source": [
        "# Code to read csv file into Colaboratory:\n",
        "!pip install -U -q PyDrive\n",
        "from pydrive.auth import GoogleAuth\n",
        "from pydrive.drive import GoogleDrive\n",
        "from google.colab import auth\n",
        "from oauth2client.client import GoogleCredentials\n",
        "# Authenticate and create the PyDrive client.\n",
        "auth.authenticate_user()\n",
        "gauth = GoogleAuth()\n",
        "gauth.credentials = GoogleCredentials.get_application_default()\n",
        "drive = GoogleDrive(gauth)"
      ]
    },
    {
      "cell_type": "code",
      "execution_count": 8,
      "metadata": {
        "id": "ctysdd5cJzV4"
      },
      "outputs": [],
      "source": [
        "link = 'https://drive.google.com/open?id=1y394o-wiPqYPaWzVYTPRr8xpE_aM9621'"
      ]
    },
    {
      "cell_type": "code",
      "execution_count": 10,
      "metadata": {
        "colab": {
          "base_uri": "https://localhost:8080/"
        },
        "id": "_RCOZpTdND1z",
        "outputId": "901fe27b-5503-4928-d21b-c1d54f58cac4"
      },
      "outputs": [
        {
          "output_type": "stream",
          "name": "stdout",
          "text": [
            "1y394o-wiPqYPaWzVYTPRr8xpE_aM9621\n"
          ]
        }
      ],
      "source": [
        "fluff, id = link.split('=')\n",
        "print (id) # Verify that you have everything after '='"
      ]
    },
    {
      "cell_type": "code",
      "execution_count": 11,
      "metadata": {
        "id": "hyxINN1tNEqW"
      },
      "outputs": [],
      "source": [
        "import pandas as pd\n",
        "downloaded = drive.CreateFile({'id':id}) \n",
        "downloaded.GetContentFile('AMZN.csv')  \n",
        "df3 = pd.read_csv('AMZN.csv')\n",
        "# Dataset is now stored in a Pandas Dataframe"
      ]
    },
    {
      "cell_type": "code",
      "execution_count": 12,
      "metadata": {
        "id": "TKqVdqkHNPEq"
      },
      "outputs": [],
      "source": [
        "#VANILLA LSTM NETWORK CREATED:"
      ]
    },
    {
      "cell_type": "code",
      "execution_count": 17,
      "metadata": {
        "id": "biH6rwhyOAAm"
      },
      "outputs": [],
      "source": [
        "from keras.layers.core import Dense, Activation, Dropout\n",
        "from keras.layers import LSTM\n",
        "from keras.models import Sequential\n",
        "import time #helper libraries"
      ]
    },
    {
      "cell_type": "code",
      "execution_count": 18,
      "metadata": {
        "id": "OtRzd9-IOB8L"
      },
      "outputs": [],
      "source": [
        "df3 = df3.dropna(axis = \"columns\")"
      ]
    },
    {
      "cell_type": "code",
      "execution_count": 19,
      "metadata": {
        "colab": {
          "base_uri": "https://localhost:8080/",
          "height": 206
        },
        "id": "77Me2RVdPMy6",
        "outputId": "c58f0147-0fec-4334-885d-fa6737723f41"
      },
      "outputs": [
        {
          "output_type": "execute_result",
          "data": {
            "text/plain": [
              "       Date        Open        High         Low   Adj Close    Volume  \\\n",
              "0  1/4/2010  136.250000  136.610001  133.139999  133.899994   7599900   \n",
              "1  1/5/2010  133.429993  135.479996  131.809998  134.690002   8851900   \n",
              "2  1/6/2010  134.600006  134.729996  131.649994  132.250000   7178800   \n",
              "3  1/7/2010  132.009995  132.320007  128.800003  130.000000  11030200   \n",
              "4  1/8/2010  130.559998  133.679993  129.029999  133.520004   9830500   \n",
              "\n",
              "        Close  \n",
              "0  133.899994  \n",
              "1  134.690002  \n",
              "2  132.250000  \n",
              "3  130.000000  \n",
              "4  133.520004  "
            ],
            "text/html": [
              "\n",
              "  <div id=\"df-8bb02cbd-3772-4326-8661-3e07277d8c65\">\n",
              "    <div class=\"colab-df-container\">\n",
              "      <div>\n",
              "<style scoped>\n",
              "    .dataframe tbody tr th:only-of-type {\n",
              "        vertical-align: middle;\n",
              "    }\n",
              "\n",
              "    .dataframe tbody tr th {\n",
              "        vertical-align: top;\n",
              "    }\n",
              "\n",
              "    .dataframe thead th {\n",
              "        text-align: right;\n",
              "    }\n",
              "</style>\n",
              "<table border=\"1\" class=\"dataframe\">\n",
              "  <thead>\n",
              "    <tr style=\"text-align: right;\">\n",
              "      <th></th>\n",
              "      <th>Date</th>\n",
              "      <th>Open</th>\n",
              "      <th>High</th>\n",
              "      <th>Low</th>\n",
              "      <th>Adj Close</th>\n",
              "      <th>Volume</th>\n",
              "      <th>Close</th>\n",
              "    </tr>\n",
              "  </thead>\n",
              "  <tbody>\n",
              "    <tr>\n",
              "      <th>0</th>\n",
              "      <td>1/4/2010</td>\n",
              "      <td>136.250000</td>\n",
              "      <td>136.610001</td>\n",
              "      <td>133.139999</td>\n",
              "      <td>133.899994</td>\n",
              "      <td>7599900</td>\n",
              "      <td>133.899994</td>\n",
              "    </tr>\n",
              "    <tr>\n",
              "      <th>1</th>\n",
              "      <td>1/5/2010</td>\n",
              "      <td>133.429993</td>\n",
              "      <td>135.479996</td>\n",
              "      <td>131.809998</td>\n",
              "      <td>134.690002</td>\n",
              "      <td>8851900</td>\n",
              "      <td>134.690002</td>\n",
              "    </tr>\n",
              "    <tr>\n",
              "      <th>2</th>\n",
              "      <td>1/6/2010</td>\n",
              "      <td>134.600006</td>\n",
              "      <td>134.729996</td>\n",
              "      <td>131.649994</td>\n",
              "      <td>132.250000</td>\n",
              "      <td>7178800</td>\n",
              "      <td>132.250000</td>\n",
              "    </tr>\n",
              "    <tr>\n",
              "      <th>3</th>\n",
              "      <td>1/7/2010</td>\n",
              "      <td>132.009995</td>\n",
              "      <td>132.320007</td>\n",
              "      <td>128.800003</td>\n",
              "      <td>130.000000</td>\n",
              "      <td>11030200</td>\n",
              "      <td>130.000000</td>\n",
              "    </tr>\n",
              "    <tr>\n",
              "      <th>4</th>\n",
              "      <td>1/8/2010</td>\n",
              "      <td>130.559998</td>\n",
              "      <td>133.679993</td>\n",
              "      <td>129.029999</td>\n",
              "      <td>133.520004</td>\n",
              "      <td>9830500</td>\n",
              "      <td>133.520004</td>\n",
              "    </tr>\n",
              "  </tbody>\n",
              "</table>\n",
              "</div>\n",
              "      <button class=\"colab-df-convert\" onclick=\"convertToInteractive('df-8bb02cbd-3772-4326-8661-3e07277d8c65')\"\n",
              "              title=\"Convert this dataframe to an interactive table.\"\n",
              "              style=\"display:none;\">\n",
              "        \n",
              "  <svg xmlns=\"http://www.w3.org/2000/svg\" height=\"24px\"viewBox=\"0 0 24 24\"\n",
              "       width=\"24px\">\n",
              "    <path d=\"M0 0h24v24H0V0z\" fill=\"none\"/>\n",
              "    <path d=\"M18.56 5.44l.94 2.06.94-2.06 2.06-.94-2.06-.94-.94-2.06-.94 2.06-2.06.94zm-11 1L8.5 8.5l.94-2.06 2.06-.94-2.06-.94L8.5 2.5l-.94 2.06-2.06.94zm10 10l.94 2.06.94-2.06 2.06-.94-2.06-.94-.94-2.06-.94 2.06-2.06.94z\"/><path d=\"M17.41 7.96l-1.37-1.37c-.4-.4-.92-.59-1.43-.59-.52 0-1.04.2-1.43.59L10.3 9.45l-7.72 7.72c-.78.78-.78 2.05 0 2.83L4 21.41c.39.39.9.59 1.41.59.51 0 1.02-.2 1.41-.59l7.78-7.78 2.81-2.81c.8-.78.8-2.07 0-2.86zM5.41 20L4 18.59l7.72-7.72 1.47 1.35L5.41 20z\"/>\n",
              "  </svg>\n",
              "      </button>\n",
              "      \n",
              "  <style>\n",
              "    .colab-df-container {\n",
              "      display:flex;\n",
              "      flex-wrap:wrap;\n",
              "      gap: 12px;\n",
              "    }\n",
              "\n",
              "    .colab-df-convert {\n",
              "      background-color: #E8F0FE;\n",
              "      border: none;\n",
              "      border-radius: 50%;\n",
              "      cursor: pointer;\n",
              "      display: none;\n",
              "      fill: #1967D2;\n",
              "      height: 32px;\n",
              "      padding: 0 0 0 0;\n",
              "      width: 32px;\n",
              "    }\n",
              "\n",
              "    .colab-df-convert:hover {\n",
              "      background-color: #E2EBFA;\n",
              "      box-shadow: 0px 1px 2px rgba(60, 64, 67, 0.3), 0px 1px 3px 1px rgba(60, 64, 67, 0.15);\n",
              "      fill: #174EA6;\n",
              "    }\n",
              "\n",
              "    [theme=dark] .colab-df-convert {\n",
              "      background-color: #3B4455;\n",
              "      fill: #D2E3FC;\n",
              "    }\n",
              "\n",
              "    [theme=dark] .colab-df-convert:hover {\n",
              "      background-color: #434B5C;\n",
              "      box-shadow: 0px 1px 3px 1px rgba(0, 0, 0, 0.15);\n",
              "      filter: drop-shadow(0px 1px 2px rgba(0, 0, 0, 0.3));\n",
              "      fill: #FFFFFF;\n",
              "    }\n",
              "  </style>\n",
              "\n",
              "      <script>\n",
              "        const buttonEl =\n",
              "          document.querySelector('#df-8bb02cbd-3772-4326-8661-3e07277d8c65 button.colab-df-convert');\n",
              "        buttonEl.style.display =\n",
              "          google.colab.kernel.accessAllowed ? 'block' : 'none';\n",
              "\n",
              "        async function convertToInteractive(key) {\n",
              "          const element = document.querySelector('#df-8bb02cbd-3772-4326-8661-3e07277d8c65');\n",
              "          const dataTable =\n",
              "            await google.colab.kernel.invokeFunction('convertToInteractive',\n",
              "                                                     [key], {});\n",
              "          if (!dataTable) return;\n",
              "\n",
              "          const docLinkHtml = 'Like what you see? Visit the ' +\n",
              "            '<a target=\"_blank\" href=https://colab.research.google.com/notebooks/data_table.ipynb>data table notebook</a>'\n",
              "            + ' to learn more about interactive tables.';\n",
              "          element.innerHTML = '';\n",
              "          dataTable['output_type'] = 'display_data';\n",
              "          await google.colab.output.renderOutput(dataTable, element);\n",
              "          const docLink = document.createElement('div');\n",
              "          docLink.innerHTML = docLinkHtml;\n",
              "          element.appendChild(docLink);\n",
              "        }\n",
              "      </script>\n",
              "    </div>\n",
              "  </div>\n",
              "  "
            ]
          },
          "metadata": {},
          "execution_count": 19
        }
      ],
      "source": [
        "df3.head()"
      ]
    },
    {
      "cell_type": "code",
      "execution_count": 16,
      "metadata": {
        "id": "1LArM8rQPU6Y"
      },
      "outputs": [],
      "source": [
        "#working with a conventional OHCLV dataset"
      ]
    },
    {
      "cell_type": "code",
      "execution_count": 20,
      "metadata": {
        "id": "AUI-7-jpPgdJ"
      },
      "outputs": [],
      "source": [
        "import numpy as np"
      ]
    },
    {
      "cell_type": "code",
      "execution_count": 21,
      "metadata": {
        "id": "gqkI7vdpQB3d"
      },
      "outputs": [],
      "source": [
        "#FOCUS ON PREDICTING CLOSING PRICES AS BEFORE"
      ]
    },
    {
      "cell_type": "code",
      "execution_count": 22,
      "metadata": {
        "id": "4_eLiOTqSt1p"
      },
      "outputs": [],
      "source": [
        "df_close = df3['Close']"
      ]
    },
    {
      "cell_type": "code",
      "execution_count": 23,
      "metadata": {
        "colab": {
          "base_uri": "https://localhost:8080/"
        },
        "id": "CpmyiqPMS6lv",
        "outputId": "10472858-cd56-49c6-c611-5828696b798c"
      },
      "outputs": [
        {
          "output_type": "execute_result",
          "data": {
            "text/plain": [
              "(2265,)"
            ]
          },
          "metadata": {},
          "execution_count": 23
        }
      ],
      "source": [
        "df_close.shape"
      ]
    },
    {
      "cell_type": "code",
      "execution_count": 24,
      "metadata": {
        "id": "cFX_SbARTFbK"
      },
      "outputs": [],
      "source": [
        "#Reshaping it\n",
        "df_close = df_close.values.reshape(2265,1)"
      ]
    },
    {
      "cell_type": "code",
      "execution_count": 25,
      "metadata": {
        "colab": {
          "base_uri": "https://localhost:8080/",
          "height": 265
        },
        "id": "-kd1EeAMTShd",
        "outputId": "be7bb2ff-8b84-461f-cf67-f8c4ecc6a7a1"
      },
      "outputs": [
        {
          "output_type": "display_data",
          "data": {
            "text/plain": [
              "<Figure size 432x288 with 1 Axes>"
            ],
            "image/png": "[encoded data removed]"
          },
          "metadata": {
            "needs_background": "light"
          }
        }
      ],
      "source": [
        "import matplotlib.pyplot as plt\n",
        "from sklearn.preprocessing import MinMaxScaler\n",
        "\n",
        "#Ploting it\n",
        "plt.plot(df_close)\n",
        "plt.show()\n",
        "\n",
        "scaler = MinMaxScaler(feature_range=(0, 1))\n",
        "df_close = scaler.fit_transform(df_close)\n"
      ]
    },
    {
      "cell_type": "code",
      "execution_count": 26,
      "metadata": {
        "colab": {
          "base_uri": "https://localhost:8080/"
        },
        "id": "Qwu51GYWUIul",
        "outputId": "964fc64f-534e-438a-e83a-6a78e2d296da"
      },
      "outputs": [
        {
          "output_type": "stream",
          "name": "stdout",
          "text": [
            "1812 453\n"
          ]
        }
      ],
      "source": [
        "train_size = int(len(df_close) * 0.80)\n",
        "test_size = len(df_close) - train_size\n",
        "train, test = df_close[0:train_size,:], df_close[train_size:len(df_close),:]\n",
        "print(len(train), len(test))"
      ]
    },
    {
      "cell_type": "markdown",
      "metadata": {
        "id": "Gyaecf7d87tN"
      },
      "source": [
        "**Normalize the values such that prices are reduced to normalized values and I can predict stock movement instead of actual prices**"
      ]
    },
    {
      "cell_type": "code",
      "execution_count": 27,
      "metadata": {
        "id": "Ria-4F-4V_Xn"
      },
      "outputs": [],
      "source": [
        "# convert an array of values into a dataset matrix\n",
        "def create_dataset(dataset, look_back=1): #keep only similar value data if a data point is too far of the last one jump to the next value\n",
        "\tdataX, dataY = [], []       #put this in data x\n",
        "\tfor i in range(len(dataset)-look_back-1): #let dataY have only output values\n",
        "\t\ta = dataset[i:(i+look_back), 0]\n",
        "\t\tdataX.append(a)\n",
        "\t\tdataY.append(dataset[i + look_back, 0])\n",
        "\treturn np.array(dataX), np.array(dataY)"
      ]
    },
    {
      "cell_type": "code",
      "execution_count": 28,
      "metadata": {
        "id": "atRqDg15WGbV"
      },
      "outputs": [],
      "source": [
        "# reshape into X=t and Y=t+1\n",
        "look_back = 1\n",
        "trainX, trainY = create_dataset(train, look_back)\n",
        "testX, testY = create_dataset(test, look_back)"
      ]
    },
    {
      "cell_type": "code",
      "execution_count": 29,
      "metadata": {
        "id": "PVeSyYXXWNlT"
      },
      "outputs": [],
      "source": [
        "trainX = np.reshape(trainX, (trainX.shape[0], 1, trainX.shape[1]))\n",
        "testX = np.reshape(testX, (testX.shape[0], 1, testX.shape[1]))"
      ]
    },
    {
      "cell_type": "code",
      "execution_count": 31,
      "metadata": {
        "colab": {
          "base_uri": "https://localhost:8080/"
        },
        "id": "ci3EQtyrWSgh",
        "outputId": "bfbf965b-70ab-4436-fb07-57a1c869b5d2"
      },
      "outputs": [
        {
          "output_type": "stream",
          "name": "stdout",
          "text": [
            "compilation time: 0.01305532455444336\n"
          ]
        }
      ],
      "source": [
        "model = Sequential()\n",
        "\n",
        "model.add(LSTM(\n",
        "    units=50,\n",
        "    input_shape=(None, 1),\n",
        "    return_sequences=True))\n",
        "model.add(Dropout(0.2))\n",
        "\n",
        "model.add(LSTM(\n",
        "    units=100,\n",
        "    return_sequences=False))\n",
        "model.add(Dropout(0.2))\n",
        "\n",
        "model.add(Dense(units=1))\n",
        "model.add(Activation('relu'))\n",
        "\n",
        "start = time.time()\n",
        "model.compile(loss='mse', optimizer='rmsprop', metrics=['mae'])\n",
        "print('compilation time:', time.time() - start)\n"
      ]
    },
    {
      "cell_type": "code",
      "execution_count": null,
      "metadata": {
        "id": "tzikjpoYWXKw"
      },
      "outputs": [],
      "source": [
        "model.fit(\n",
        "    trainX,\n",
        "    trainY,\n",
        "    batch_size=128,\n",
        "    epochs=80,\n",
        "    validation_split=0.05)\n"
      ]
    },
    {
      "cell_type": "markdown",
      "metadata": {
        "id": "PQazcuL1c9QZ"
      },
      "source": [
        "**is it overtrained? lets run again with 40 epochs**"
      ]
    },
    {
      "cell_type": "code",
      "execution_count": 36,
      "metadata": {
        "colab": {
          "base_uri": "https://localhost:8080/"
        },
        "id": "FvK2f7nXW3rH",
        "outputId": "53537524-5499-4c04-e483-298a5ea0bdd2"
      },
      "outputs": [
        {
          "output_type": "stream",
          "name": "stdout",
          "text": [
            "Epoch 1/40\n",
            "14/14 [==============================] - 0s 24ms/step - loss: 1.5225e-04 - mae: 0.0087 - val_loss: 8.2943e-05 - val_mae: 0.0081\n",
            "Epoch 2/40\n",
            "14/14 [==============================] - 0s 17ms/step - loss: 1.3491e-04 - mae: 0.0082 - val_loss: 2.7869e-05 - val_mae: 0.0039\n",
            "Epoch 3/40\n",
            "14/14 [==============================] - 0s 18ms/step - loss: 1.3255e-04 - mae: 0.0080 - val_loss: 3.2631e-05 - val_mae: 0.0044\n",
            "Epoch 4/40\n",
            "14/14 [==============================] - 0s 11ms/step - loss: 1.4001e-04 - mae: 0.0085 - val_loss: 2.7138e-05 - val_mae: 0.0037\n",
            "Epoch 5/40\n",
            "14/14 [==============================] - 0s 11ms/step - loss: 1.3019e-04 - mae: 0.0078 - val_loss: 2.6850e-05 - val_mae: 0.0037\n",
            "Epoch 6/40\n",
            "14/14 [==============================] - 0s 13ms/step - loss: 1.4300e-04 - mae: 0.0080 - val_loss: 4.6738e-05 - val_mae: 0.0057\n",
            "Epoch 7/40\n",
            "14/14 [==============================] - 0s 20ms/step - loss: 1.3820e-04 - mae: 0.0084 - val_loss: 4.9923e-05 - val_mae: 0.0059\n",
            "Epoch 8/40\n",
            "14/14 [==============================] - 0s 11ms/step - loss: 1.4364e-04 - mae: 0.0082 - val_loss: 7.8431e-05 - val_mae: 0.0078\n",
            "Epoch 9/40\n",
            "14/14 [==============================] - 0s 12ms/step - loss: 1.4277e-04 - mae: 0.0081 - val_loss: 3.9216e-05 - val_mae: 0.0049\n",
            "Epoch 10/40\n",
            "14/14 [==============================] - 0s 8ms/step - loss: 1.4144e-04 - mae: 0.0084 - val_loss: 3.5374e-05 - val_mae: 0.0046\n",
            "Epoch 11/40\n",
            "14/14 [==============================] - 0s 7ms/step - loss: 1.4320e-04 - mae: 0.0085 - val_loss: 7.4146e-05 - val_mae: 0.0076\n",
            "Epoch 12/40\n",
            "14/14 [==============================] - 0s 8ms/step - loss: 1.3861e-04 - mae: 0.0084 - val_loss: 2.9961e-05 - val_mae: 0.0041\n",
            "Epoch 13/40\n",
            "14/14 [==============================] - 0s 7ms/step - loss: 1.3956e-04 - mae: 0.0080 - val_loss: 3.1054e-05 - val_mae: 0.0042\n",
            "Epoch 14/40\n",
            "14/14 [==============================] - 0s 7ms/step - loss: 1.4799e-04 - mae: 0.0083 - val_loss: 3.4447e-05 - val_mae: 0.0045\n",
            "Epoch 15/40\n",
            "14/14 [==============================] - 0s 7ms/step - loss: 1.3556e-04 - mae: 0.0082 - val_loss: 6.6910e-05 - val_mae: 0.0071\n",
            "Epoch 16/40\n",
            "14/14 [==============================] - 0s 7ms/step - loss: 1.4402e-04 - mae: 0.0085 - val_loss: 3.6962e-05 - val_mae: 0.0048\n",
            "Epoch 17/40\n",
            "14/14 [==============================] - 0s 7ms/step - loss: 1.5025e-04 - mae: 0.0084 - val_loss: 9.3535e-05 - val_mae: 0.0087\n",
            "Epoch 18/40\n",
            "14/14 [==============================] - 0s 7ms/step - loss: 1.2690e-04 - mae: 0.0077 - val_loss: 6.1727e-05 - val_mae: 0.0068\n",
            "Epoch 19/40\n",
            "14/14 [==============================] - 0s 8ms/step - loss: 1.5556e-04 - mae: 0.0089 - val_loss: 2.8122e-05 - val_mae: 0.0039\n",
            "Epoch 20/40\n",
            "14/14 [==============================] - 0s 8ms/step - loss: 1.6173e-04 - mae: 0.0086 - val_loss: 2.7854e-04 - val_mae: 0.0159\n",
            "Epoch 21/40\n",
            "14/14 [==============================] - 0s 7ms/step - loss: 1.4087e-04 - mae: 0.0081 - val_loss: 2.7767e-05 - val_mae: 0.0039\n",
            "Epoch 22/40\n",
            "14/14 [==============================] - 0s 7ms/step - loss: 1.3113e-04 - mae: 0.0083 - val_loss: 3.7712e-05 - val_mae: 0.0048\n",
            "Epoch 23/40\n",
            "14/14 [==============================] - 0s 7ms/step - loss: 1.3677e-04 - mae: 0.0079 - val_loss: 3.9878e-05 - val_mae: 0.0051\n",
            "Epoch 24/40\n",
            "14/14 [==============================] - 0s 7ms/step - loss: 1.4811e-04 - mae: 0.0087 - val_loss: 1.0327e-04 - val_mae: 0.0092\n",
            "Epoch 25/40\n",
            "14/14 [==============================] - 0s 7ms/step - loss: 1.2556e-04 - mae: 0.0078 - val_loss: 2.8068e-05 - val_mae: 0.0038\n",
            "Epoch 26/40\n",
            "14/14 [==============================] - 0s 7ms/step - loss: 1.3066e-04 - mae: 0.0078 - val_loss: 6.4286e-05 - val_mae: 0.0068\n",
            "Epoch 27/40\n",
            "14/14 [==============================] - 0s 7ms/step - loss: 1.3307e-04 - mae: 0.0082 - val_loss: 4.0318e-05 - val_mae: 0.0051\n",
            "Epoch 28/40\n",
            "14/14 [==============================] - 0s 9ms/step - loss: 1.4399e-04 - mae: 0.0083 - val_loss: 8.6958e-05 - val_mae: 0.0083\n",
            "Epoch 29/40\n",
            "14/14 [==============================] - 0s 8ms/step - loss: 1.5216e-04 - mae: 0.0083 - val_loss: 5.8585e-05 - val_mae: 0.0064\n",
            "Epoch 30/40\n",
            "14/14 [==============================] - 0s 7ms/step - loss: 1.6231e-04 - mae: 0.0089 - val_loss: 6.8693e-05 - val_mae: 0.0072\n",
            "Epoch 31/40\n",
            "14/14 [==============================] - 0s 7ms/step - loss: 1.2954e-04 - mae: 0.0080 - val_loss: 2.6354e-05 - val_mae: 0.0037\n",
            "Epoch 32/40\n",
            "14/14 [==============================] - 0s 7ms/step - loss: 1.3387e-04 - mae: 0.0081 - val_loss: 4.8636e-05 - val_mae: 0.0057\n",
            "Epoch 33/40\n",
            "14/14 [==============================] - 0s 7ms/step - loss: 1.3702e-04 - mae: 0.0083 - val_loss: 5.0456e-05 - val_mae: 0.0060\n",
            "Epoch 34/40\n",
            "14/14 [==============================] - 0s 7ms/step - loss: 1.2703e-04 - mae: 0.0077 - val_loss: 2.8000e-05 - val_mae: 0.0039\n",
            "Epoch 35/40\n",
            "14/14 [==============================] - 0s 7ms/step - loss: 1.5607e-04 - mae: 0.0085 - val_loss: 3.8704e-05 - val_mae: 0.0049\n",
            "Epoch 36/40\n",
            "14/14 [==============================] - 0s 7ms/step - loss: 1.4806e-04 - mae: 0.0085 - val_loss: 2.6351e-05 - val_mae: 0.0037\n",
            "Epoch 37/40\n",
            "14/14 [==============================] - 0s 7ms/step - loss: 1.3858e-04 - mae: 0.0082 - val_loss: 1.3988e-04 - val_mae: 0.0109\n",
            "Epoch 38/40\n",
            "14/14 [==============================] - 0s 8ms/step - loss: 1.1629e-04 - mae: 0.0076 - val_loss: 1.4301e-04 - val_mae: 0.0110\n",
            "Epoch 39/40\n",
            "14/14 [==============================] - 0s 7ms/step - loss: 1.3851e-04 - mae: 0.0083 - val_loss: 1.0696e-04 - val_mae: 0.0094\n",
            "Epoch 40/40\n",
            "14/14 [==============================] - 0s 8ms/step - loss: 1.4237e-04 - mae: 0.0086 - val_loss: 2.6500e-05 - val_mae: 0.0037\n"
          ]
        },
        {
          "output_type": "execute_result",
          "data": {
            "text/plain": [
              "<keras.callbacks.History at 0x7fb4995869a0>"
            ]
          },
          "metadata": {},
          "execution_count": 36
        }
      ],
      "source": [
        "model.fit(\n",
        "    trainX,\n",
        "    trainY,\n",
        "    batch_size=128,\n",
        "    epochs=40,\n",
        "    validation_split=0.05)\n"
      ]
    },
    {
      "cell_type": "markdown",
      "metadata": {
        "id": "PNNUkkpIdCfK"
      },
      "source": [
        "**Final Predictions**"
      ]
    },
    {
      "cell_type": "code",
      "execution_count": 37,
      "metadata": {
        "colab": {
          "base_uri": "https://localhost:8080/",
          "height": 297
        },
        "id": "27AkkDUDXLkP",
        "outputId": "0d2bc5dd-0b30-402f-8499-6ea6e72fb5e0"
      },
      "outputs": [
        {
          "output_type": "stream",
          "name": "stdout",
          "text": [
            "15/15 [==============================] - 1s 2ms/step\n"
          ]
        },
        {
          "output_type": "display_data",
          "data": {
            "text/plain": [
              "<Figure size 432x288 with 1 Axes>"
            ],
            "image/png": "[encoded data removed]"
          },
          "metadata": {
            "needs_background": "light"
          }
        }
      ],
      "source": [
        "import matplotlib.pyplot as plt\n",
        "predicted_stateful = model.predict(testX)\n",
        "plt.plot(testY, color = 'red',label = 'Actual Closing Prices')\n",
        "plt.plot(predicted_stateful.flatten(), color = 'blue', label  = 'Predicted closing Prices')\n",
        "plt.xlabel('Days')\n",
        "plt.ylabel('Normalised Prices')\n",
        "plt.legend(loc='best')\n",
        "plt.show()"
      ]
    },
    {
      "cell_type": "markdown",
      "metadata": {
        "id": "nc-mIZspkToH"
      },
      "source": [
        "**So LSTM  works great to predict Closing Prices when we normalize the prices and predict the stock Price movement.**"
      ]
    },
    {
      "cell_type": "code",
      "execution_count": 38,
      "metadata": {
        "colab": {
          "base_uri": "https://localhost:8080/"
        },
        "id": "6Im_DUAVIr3K",
        "outputId": "da08e2d7-fedf-466c-aea0-5f4fef5d1975"
      },
      "outputs": [
        {
          "output_type": "stream",
          "name": "stdout",
          "text": [
            "15/15 [==============================] - 0s 3ms/step - loss: 1.5807e-05 - mae: 0.0027\n"
          ]
        }
      ],
      "source": [
        "mae = model.evaluate(trainX,\n",
        "    trainY,\n",
        "    batch_size=128,verbose=1)"
      ]
    },
    {
      "cell_type": "markdown",
      "metadata": {
        "id": "SbLZwCUodL0R"
      },
      "source": [
        "**Seems like using LSTM to predict stock price movement gives much better prediction resullts!!**\n",
        "\n",
        "**Will work more on this in the next notebook..**"
      ]
    }
  ],
  "metadata": {
    "accelerator": "GPU",
    "colab": {
      "provenance": []
    },
    "kernelspec": {
      "display_name": "Python 3 (ipykernel)",
      "language": "python",
      "name": "python3"
    },
    "language_info": {
      "codemirror_mode": {
        "name": "ipython",
        "version": 3
      },
      "file_extension": ".py",
      "mimetype": "text/x-python",
      "name": "python",
      "nbconvert_exporter": "python",
      "pygments_lexer": "ipython3",
      "version": "3.11.1"
    }
  },
  "nbformat": 4,
  "nbformat_minor": 0
}