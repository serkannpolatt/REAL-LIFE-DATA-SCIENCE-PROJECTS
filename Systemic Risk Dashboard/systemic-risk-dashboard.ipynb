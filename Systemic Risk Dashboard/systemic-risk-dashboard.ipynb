{
 "cells": [
  {
   "attachments": {},
   "cell_type": "markdown",
   "metadata": {
    "extensions": {
     "jupyter_dashboards": {
      "version": 1,
      "views": {
       "grid_default": {
        "col": 0,
        "height": 2,
        "hidden": false,
        "row": 0,
        "width": 12
       },
       "report_default": {}
      }
     }
    }
   },
   "source": [
    "# Systemic Risk Dashboard - A Data Science Approach to Predict the Impact of Collateralization on Systemic Risk \n",
    "# Sistemik Risk Panosu - Teminatlandırmanın Sistemik Risk Üzerindeki Etkisini Tahmin Etmek İçin Bir Veri Bilimi Yaklaşımı"
   ]
  },
  {
   "cell_type": "code",
   "execution_count": 2,
   "metadata": {
    "extensions": {
     "jupyter_dashboards": {
      "version": 1,
      "views": {
       "grid_default": {
        "hidden": true
       },
       "report_default": {}
      }
     }
    }
   },
   "outputs": [],
   "source": [
    "import sys\n",
    "import math\n",
    "import json\n",
    "\n",
    "import numpy as np\n",
    "import pandas as pd\n",
    "\n",
    "import matplotlib as mpl\n",
    "from matplotlib import cm\n",
    "import matplotlib.pyplot as plt\n",
    "import seaborn as sns\n",
    "\n",
    "from bqplot import *\n",
    "\n",
    "import networkx as nx\n",
    "import visJS2jupyter.visJS_module\n",
    "\n",
    "from ipywidgets import Dropdown, Text, HBox, Button, VBox, RadioButtons, Layout\n",
    "from IPython.display import display, clear_output\n",
    "\n",
    "from webcolors import rgb_percent_to_hex"
   ]
  },
  {
   "cell_type": "code",
   "execution_count": 3,
   "metadata": {
    "extensions": {
     "jupyter_dashboards": {
      "version": 1,
      "views": {
       "grid_default": {
        "col": 0,
        "height": 4,
        "hidden": true,
        "row": 19,
        "width": 4
       },
       "report_default": {}
      }
     }
    }
   },
   "outputs": [
    {
     "name": "stderr",
     "output_type": "stream",
     "text": [
      "C:\\Users\\Serkan POLAT\\AppData\\Local\\Temp\\ipykernel_6116\\1285390570.py:3: DeprecationWarning: Importing display from IPython.core.display is deprecated since IPython 7.14, please import from IPython display\n",
      "  from IPython.core.display import display, HTML\n"
     ]
    },
    {
     "data": {
      "text/html": [
       "<style>.container { width:100% !important; }</style>"
      ],
      "text/plain": [
       "<IPython.core.display.HTML object>"
      ]
     },
     "metadata": {},
     "output_type": "display_data"
    }
   ],
   "source": [
    "# Change notebook container width to full-screen (100%)\n",
    "\n",
    "from IPython.core.display import display, HTML\n",
    "display(HTML(\"<style>.container { width:100% !important; }</style>\"))"
   ]
  },
  {
   "cell_type": "code",
   "execution_count": 4,
   "metadata": {
    "extensions": {
     "jupyter_dashboards": {
      "version": 1,
      "views": {
       "grid_default": {
        "hidden": true
       },
       "report_default": {
        "hidden": true
       }
      }
     }
    }
   },
   "outputs": [],
   "source": [
    "df = pd.read_csv('df_exposures.csv')\n",
    "with open('nodes.json') as fp:\n",
    "    nodes = json.load(fp)\n",
    "with open('edges.json') as fp:\n",
    "    edges = json.load(fp)\n",
    "\n",
    "regulations = ['uncollateralized', 'vm_collateralized', 'im_vm_collateralized']\n",
    "financial_system_ids = df['FS'].unique().tolist()"
   ]
  },
  {
   "cell_type": "code",
   "execution_count": 6,
   "metadata": {
    "extensions": {
     "jupyter_dashboards": {
      "version": 1,
      "views": {
       "grid_default": {
        "hidden": true
       },
       "report_default": {
        "hidden": true
       }
      }
     }
    }
   },
   "outputs": [],
   "source": [
    "def load_data(seed=42):\n",
    "    np.random.seed(seed)\n",
    "    df = pd.read_csv('df_exposures.csv')\n",
    "    with open('nodes.json') as fp:\n",
    "        nodes = json.load(fp)\n",
    "    with open('edges.json') as fp:\n",
    "        edges = json.load(fp)\n",
    "\n",
    "    regulations = ['uncollateralized', 'vm_collateralized', 'im_vm_collateralized']\n",
    "    financial_system_ids = df['FS'].unique().tolist()\n",
    "    return df, nodes, edges, regulations, financial_system_ids\n",
    "\n",
    "class Model():\n",
    "    def __init__(self, df, nodes, edges, regulations, financial_system_ids):\n",
    "        self.df = df\n",
    "        self.nodes = nodes\n",
    "        self.edges = edges\n",
    "        self.regulations = regulations\n",
    "        self.financial_system_ids = financial_system_ids\n",
    "        self.menu = Menu(regulations, financial_system_ids)\n",
    "        self.w = None\n",
    "  \n",
    "    def draw_network(self):\n",
    "        reg = self.menu.reg_selector.value\n",
    "        fs_id = self.menu.fs_selector.value\n",
    "        G_nodes = self.nodes[reg][fs_id]\n",
    "        G_edges = self.edges[reg][fs_id]\n",
    "        \n",
    "        graph_type = self.menu.graph_type\n",
    "        G = nx.Graph()\n",
    "        G.add_edges_from(G_edges)\n",
    "        pos = nx.spring_layout(G)\n",
    "        nodes_dict = [{'id':'CP_' + str(n[0]),\n",
    "                       'node_label': 'CP_' + str(n[0]),\n",
    "                        'x':pos[n[0]][0]*1000,\n",
    "                        'y':pos[n[0]][1]*1000,\n",
    "                        'node_size':n[1]['BaselEEPE+']/100000,\n",
    "                        'color': mpl.colors.rgb2hex(cm.get_cmap('bwr')(n[1]['BaselEEPE_rho+'])),\n",
    "                       } for n in G_nodes] \n",
    "\n",
    "        node_map = dict(zip([n[0] for n in G_nodes], range(len(G_nodes)))) \n",
    "        edges_dict = [{'source':node_map[G_edges[i][0]], \n",
    "                       'target':node_map[G_edges[i][1]], \n",
    "                       'edge_width': math.log10(G_edges[i][2]['BaselEEPE']/10000 + 1),  # try taking log10()\n",
    "                              } for i in range(len(G_edges))]\n",
    "\n",
    "        if graph_type.value == 'Risk Graph':\n",
    "            self.w = visJS2jupyter.visJS_module.visjs_network(nodes_dict,edges_dict,\n",
    "                                      node_size_multiplier=0.5,\n",
    "                                      node_size_transform = '',\n",
    "                                      node_size_field='node_size',\n",
    "                                      node_label_field='node_label',\n",
    "                                      node_scaling_label_enabled=False,\n",
    "                                      node_color_highlight_border='red',\n",
    "                                      node_color_highlight_background='#D3918B',\n",
    "                                      node_color_hover_border='blue',\n",
    "                                      node_color_hover_background='#8BADD3',\n",
    "                                      node_font_size=25,\n",
    "                                      edge_width_field='edge_width',\n",
    "                                      edge_arrow_to=True,\n",
    "                                      physics_enabled=True,\n",
    "                                      edge_color_highlight='#8A324E',\n",
    "                                      edge_color_hover='#8BADD3',\n",
    "                                      edge_width=3,\n",
    "#                                       edge_width='edge_width',\n",
    "                                      max_velocity=15,\n",
    "                                      min_velocity=1,\n",
    "                                      graph_height=430,\n",
    "                                      graph_width='40%',\n",
    "                                      edge_smooth_enabled = True\n",
    "                                                        )\n",
    "\n",
    "            self.w.data = self.w.data.replace(\"\"\"height=\"1200px\" width=\"100%\"\"\", \"\"\"height=\"auto\" width=\"40%\"\"\") # change size of canvas\n",
    "            display(self.w)\n",
    "\n",
    "        else:\n",
    "            self.w = visJS2jupyter.visJS_module.visjs_network(nodes_dict,edges_dict,\n",
    "                                                                physics_enabled=True,\n",
    "                                                                graph_height=430,\n",
    "                                                                graph_width='40%',\n",
    "                                                                max_velocity=15,\n",
    "                                                                min_velocity=1,\n",
    "                                                             )\n",
    "            display(self.w)\n",
    "        \n",
    "class Menu():\n",
    "    def __init__(self, regulations, financial_system_ids):\n",
    "        self.regulations = regulations\n",
    "        self.financial_system_ids = financial_system_ids\n",
    "        \n",
    "        self.reg_text = Text(\"Regulatory Regime:\")\n",
    "        self.reg_selector = Dropdown(options = regulations) \n",
    "        self.fs_text = Text(\"Financial System:\")\n",
    "        self.fs_selector = Dropdown(options = financial_system_ids)\n",
    "        self.graph_type = RadioButtons(options=['Trade Relations', 'Risk Graph'],layout=Layout(width='20%', height='80px'), value='Risk Graph')\n",
    "        self.draw_button = Button(description=\"Load\")\n",
    "        self.is_menu_displayed = False\n",
    "    \n",
    "    def show(self):      \n",
    "        if self.is_menu_displayed == False: \n",
    "            display(HBox([self.graph_type, VBox([self.fs_text, self.fs_selector]), VBox([self.reg_text, self.reg_selector]), self.draw_button]))\n",
    "            self.is_menu_displayed = True"
   ]
  },
  {
   "cell_type": "code",
   "execution_count": 7,
   "metadata": {
    "extensions": {
     "jupyter_dashboards": {
      "version": 1,
      "views": {
       "grid_default": {
        "hidden": true
       },
       "report_default": {
        "hidden": true
       }
      }
     }
    }
   },
   "outputs": [],
   "source": [
    "df, nodes, edges, regulations, financial_system_ids = load_data()\n",
    "model = Model(df, nodes, edges, regulations, financial_system_ids)"
   ]
  },
  {
   "cell_type": "code",
   "execution_count": 11,
   "metadata": {
    "extensions": {
     "jupyter_dashboards": {
      "version": 1,
      "views": {
       "grid_default": {
        "col": null,
        "height": 14,
        "hidden": true,
        "row": 12,
        "width": null
       },
       "report_default": {
        "hidden": false
       }
      }
     }
    }
   },
   "outputs": [],
   "source": [
    "# bqplot graph 1\n",
    "x1 = model.regulations\n",
    "df_total1 = model.df[model.regulations][(model.df['metric']=='BaselEEPE+') & (model.df['FS']==model.menu.fs_selector.value)].sum()\n",
    "y1 = df_total1.to_numpy()/1000000\n",
    "\n",
    "\n",
    "xs1 = OrdinalScale()\n",
    "ys1 = LinearScale()\n",
    "\n",
    "bar1 = Bars(x=x1, y=y1, \n",
    "            scales={'x': xs1, 'y': ys1}, \n",
    "            colors=['#1f77b4', '#ff7f0e', '#2ca02c'],\n",
    "            padding=0.2\n",
    "           )\n",
    "xax1 = Axis(scale=xs1)\n",
    "yax1 = Axis(scale=ys1,\n",
    "            label='EEPE+ in USD (in millions)', \n",
    "            label_offset='47px', \n",
    "            orientation='vertical', \n",
    "            tick_format='0.1f', \n",
    "            grid_lines='solid'\n",
    "           )\n",
    "fig_layout = Layout(width='50%',\n",
    "                    display='flex',\n",
    "                    align_items='stretch',\n",
    "                    justify_content='flex-start',\n",
    "                    max_aspect_ratio=100,\n",
    "                   )\n",
    "\n",
    "fig1 = Figure(title='Impact of Collateralization on Systemic Risk', \n",
    "              marks=[bar1], \n",
    "              axes=[xax1, yax1], \n",
    "              layout=fig_layout,\n",
    "              animation_duration=1000\n",
    "             )"
   ]
  },
  {
   "cell_type": "code",
   "execution_count": 12,
   "metadata": {
    "extensions": {
     "jupyter_dashboards": {
      "version": 1,
      "views": {
       "grid_default": {
        "col": null,
        "height": 13,
        "hidden": true,
        "row": 17,
        "width": null
       },
       "report_default": {
        "hidden": false
       }
      }
     }
    }
   },
   "outputs": [],
   "source": [
    "# bqplot graph 2\n",
    "\n",
    "x2 = ['CP_{}'.format(x) for x in range (0, 14)]\n",
    "df_eepep = model.df[['CP']+model.regulations][(model.df['metric']=='BaselEEPE+') & (model.df['FS']==model.menu.fs_selector.value)].set_index('CP')\n",
    "y2 = df_total1.to_numpy()/1000000\n",
    "\n",
    "xs2 = OrdinalScale()\n",
    "ys2 = LinearScale(min=0)\n",
    "\n",
    "bar2 = Bars(x=x2, y=y2, \n",
    "            type='grouped',\n",
    "            scales={'x': xs2, 'y': ys2}, \n",
    "            colors=['#1f77b4', '#ff7f0e', '#2ca02c'],\n",
    "            labels=model.regulations,\n",
    "            display_legend=True,\n",
    "            padding=0.2)\n",
    "\n",
    "xax2 = Axis(scale=xs2)\n",
    "\n",
    "yax2 = Axis(scale=ys2,\n",
    "            label='EEPE+ in USD (in millions)', \n",
    "            label_offset='47px', \n",
    "            orientation='vertical', \n",
    "            tick_format='0.1f', \n",
    "            grid_lines='solid')\n",
    "fig2 = Figure(title='Impact of Collateralization on Systemic Risk By Counterparty', \n",
    "              marks=[bar2], \n",
    "              axes=[xax2, yax2], \n",
    "              legend_location='top-right',\n",
    "              layout=fig_layout,\n",
    "              animation_duration=1000\n",
    "             )"
   ]
  },
  {
   "cell_type": "code",
   "execution_count": 14,
   "metadata": {
    "extensions": {
     "jupyter_dashboards": {
      "version": 1,
      "views": {
       "grid_default": {
        "col": null,
        "height": 17,
        "hidden": true,
        "row": 17,
        "width": null
       },
       "report_default": {
        "hidden": false
       }
      }
     }
    }
   },
   "outputs": [],
   "source": [
    "# bqplot graph 3\n",
    "\n",
    "x3 = ['uncollateralized', 'vm_collateralized', 'im_vm_collateralized', '     '] # hacky legend stuff, should change in final to be model.regulations perhaps\n",
    "\n",
    "df_eepep_rhop = model.df[['CP']+model.regulations][(model.df['metric']=='BaselEEPE_rho+') & (model.df['FS']==model.menu.fs_selector.value)].set_index('CP')\n",
    "df_eepep_rhop[df_eepep_rhop.columns] = df_eepep_rhop[df_eepep_rhop.columns].div(df_eepep_rhop[df_eepep_rhop.columns].sum(axis=0), axis=1).multiply(100)\n",
    "df_eepep_rhop['     '] = 0 #five spaces\n",
    "y3 = df_eepep_rhop.to_numpy()\n",
    "\n",
    "xs3 = OrdinalScale()\n",
    "ys3 = LinearScale(min=0)\n",
    "cs3 = OrdinalColorScale(colors=['Red','Blue'])\n",
    "\n",
    "NUM_COLORS3 = 15\n",
    "CMAP3 = cm.get_cmap('tab20c')\n",
    "colors3 = [CMAP3(1.*i/NUM_COLORS3) for i in range(0,NUM_COLORS3)]\n",
    "\n",
    "colors3_hex = [rgb_percent_to_hex(((str(color[0]*100)+'%'), (str(color[1]*100)+'%'), (str(color[2]*100)+'%'))) for color in colors3]\n",
    "\n",
    "bar3 = Bars(x=x3, y=y3, \n",
    "            scales={'x': xs3, \n",
    "                    'y': ys3,\n",
    "                    'color' : cs3\n",
    "                   },\n",
    "            labels=['CP_{}'.format(x) for x in range(0, NUM_COLORS3)],\n",
    "            colors=colors3_hex,\n",
    "            display_legend=True,\n",
    "            padding=0.2\n",
    "           )\n",
    "\n",
    "xax3 = Axis(scale=xs3)\n",
    "yax3 = Axis(scale=ys3,\n",
    "            label='Rho+ In %', \n",
    "            label_offset='49px', \n",
    "            orientation='vertical', \n",
    "            tick_format='0.1f', \n",
    "            grid_lines='solid'\n",
    "           )\n",
    "\n",
    "fig3 = Figure(title='Concentration of Risk', \n",
    "              marks=[bar3], \n",
    "              axes=[xax3, yax3], \n",
    "              legend_location='top-right',\n",
    "              layout=fig_layout,\n",
    "              animation_duration=1000, \n",
    "             )"
   ]
  },
  {
   "cell_type": "code",
   "execution_count": 15,
   "metadata": {
    "extensions": {
     "jupyter_dashboards": {
      "version": 1,
      "views": {
       "grid_default": {
        "col": null,
        "height": 16,
        "hidden": false,
        "row": 5,
        "width": null
       },
       "report_default": {
        "hidden": false
       }
      }
     }
    }
   },
   "outputs": [
    {
     "data": {
      "application/vnd.jupyter.widget-view+json": {
       "model_id": "0530e13a73f344f5a3c34225c8fff942",
       "version_major": 2,
       "version_minor": 0
      },
      "text/plain": [
       "HBox(children=(Figure(fig_margin={'top': 60, 'bottom': 60, 'left': 60, 'right': 60}, layout=Layout(width='50%'…"
      ]
     },
     "metadata": {},
     "output_type": "display_data"
    }
   ],
   "source": [
    "figsw1_list = [Figure(layout=Layout(width='50%')), fig1]\n",
    "display(widgets.HBox(figsw1_list, align_content = 'stretch'))"
   ]
  },
  {
   "cell_type": "code",
   "execution_count": 16,
   "metadata": {
    "extensions": {
     "jupyter_dashboards": {
      "version": 1,
      "views": {
       "grid_default": {
        "col": 0,
        "height": 16,
        "hidden": false,
        "row": 21,
        "width": null
       },
       "report_default": {
        "hidden": false
       }
      }
     }
    },
    "scrolled": false
   },
   "outputs": [
    {
     "data": {
      "application/vnd.jupyter.widget-view+json": {
       "model_id": "e042f4c274624e7f91765be41c654017",
       "version_major": 2,
       "version_minor": 0
      },
      "text/plain": [
       "HBox(children=(Figure(animation_duration=1000, axes=[Axis(scale=OrdinalScale(), side='bottom'), Axis(label='EE…"
      ]
     },
     "metadata": {},
     "output_type": "display_data"
    }
   ],
   "source": [
    "figs23_list = [fig2, fig3]\n",
    "display(widgets.HBox(figs23_list, align_content = 'stretch'))"
   ]
  },
  {
   "cell_type": "code",
   "execution_count": 17,
   "metadata": {
    "extensions": {
     "jupyter_dashboards": {
      "version": 1,
      "views": {
       "grid_default": {
        "col": 0,
        "height": 3,
        "hidden": false,
        "row": 2,
        "width": 12
       },
       "report_default": {
        "hidden": false
       }
      }
     }
    }
   },
   "outputs": [
    {
     "data": {
      "application/vnd.jupyter.widget-view+json": {
       "model_id": "f73b898801ec40ffaed957b4815fab09",
       "version_major": 2,
       "version_minor": 0
      },
      "text/plain": [
       "HBox(children=(RadioButtons(index=1, layout=Layout(height='80px', width='20%'), options=('Trade Relations', 'R…"
      ]
     },
     "metadata": {},
     "output_type": "display_data"
    }
   ],
   "source": [
    "clear_output(wait=True)\n",
    "model.menu.show()"
   ]
  },
  {
   "cell_type": "code",
   "execution_count": 18,
   "metadata": {
    "extensions": {
     "jupyter_dashboards": {
      "version": 1,
      "views": {
       "grid_default": {
        "hidden": true
       },
       "report_default": {
        "hidden": true
       }
      }
     }
    }
   },
   "outputs": [],
   "source": [
    "from IPython.display import Javascript\n",
    "from ipywidgets import widgets\n",
    "\n",
    "def run_all(ev):\n",
    "    display(Javascript('IPython.notebook.execute_cell_range(IPython.notebook.get_selected_index()+1, IPython.notebook.ncells())'))\n",
    "model.menu.draw_button.on_click(run_all)"
   ]
  },
  {
   "cell_type": "code",
   "execution_count": 115,
   "metadata": {
    "extensions": {
     "jupyter_dashboards": {
      "version": 1,
      "views": {
       "grid_default": {
        "hidden": true
       },
       "report_default": {
        "hidden": true
       }
      }
     }
    }
   },
   "outputs": [],
   "source": [
    "### ALL CODE BELOW WILL BE EXECUTED BY 'LOAD' BUTTON ###\n",
    "### AŞAĞIDAKİ TÜM KODLAR 'YÜKLE' DÜĞMESİ TARAFINDAN ÇALIŞTIRILACAKTIR ###"
   ]
  },
  {
   "cell_type": "code",
   "execution_count": 19,
   "metadata": {
    "extensions": {
     "jupyter_dashboards": {
      "version": 1,
      "views": {
       "grid_default": {
        "col": 0,
        "height": 16,
        "hidden": false,
        "row": 5,
        "width": 6
       },
       "report_default": {
        "hidden": false
       }
      }
     }
    }
   },
   "outputs": [
    {
     "data": {
      "text/html": [
       "<!doctype html><html><head>  <title>Network | Basic usage</title></head><body><script type=\"text/javascript\">function setUpFrame() {     var frame = window.frames[\"style_file0\"];    frame.runVis([{\"id\": \"CP_0\", \"node_label\": \"CP_0\", \"x\": 18.566405366859474, \"y\": 896.4109190599441, \"node_size\": 164.11844630000002, \"color\": \"#4c4cff\", \"node_shape\": \"dot\", \"border_width\": 0, \"title\": \"CP_0\", \"degree\": 3.0}, {\"id\": \"CP_1\", \"node_label\": \"CP_1\", \"x\": 756.9930687212247, \"y\": -134.12526614892923, \"node_size\": 73.4325207, \"color\": \"#2222ff\", \"node_shape\": \"dot\", \"border_width\": 0, \"title\": \"CP_1\", \"degree\": 3.0}, {\"id\": \"CP_2\", \"node_label\": \"CP_2\", \"x\": -490.562062761166, \"y\": -72.33464716853186, \"node_size\": 133.3568375, \"color\": \"#3c3cff\", \"node_shape\": \"dot\", \"border_width\": 0, \"title\": \"CP_2\", \"degree\": 3.0}, {\"id\": \"CP_3\", \"node_label\": \"CP_3\", \"x\": 350.04643708993956, \"y\": -35.00613667274822, \"node_size\": 100.75900490000001, \"color\": \"#2e2eff\", \"node_shape\": \"dot\", \"border_width\": 0, \"title\": \"CP_3\", \"degree\": 3.0}, {\"id\": \"CP_4\", \"node_label\": \"CP_4\", \"x\": -404.7567308978021, \"y\": 878.8694586553592, \"node_size\": 72.5830559, \"color\": \"#2020ff\", \"node_shape\": \"dot\", \"border_width\": 0, \"title\": \"CP_4\", \"degree\": 3.0}, {\"id\": \"CP_5\", \"node_label\": \"CP_5\", \"x\": -879.6462089900238, \"y\": -706.8875597429701, \"node_size\": 135.9369258, \"color\": \"#3e3eff\", \"node_shape\": \"dot\", \"border_width\": 0, \"title\": \"CP_5\", \"degree\": 3.0}, {\"id\": \"CP_6\", \"node_label\": \"CP_6\", \"x\": -230.28736091227697, \"y\": -762.9722066103211, \"node_size\": 34.931375700000004, \"color\": \"#1010ff\", \"node_shape\": \"dot\", \"border_width\": 0, \"title\": \"CP_6\", \"degree\": 3.0}, {\"id\": \"CP_7\", \"node_label\": \"CP_7\", \"x\": -153.0887162198679, \"y\": -206.89784127271182, \"node_size\": 59.201075700000004, \"color\": \"#1a1aff\", \"node_shape\": \"dot\", \"border_width\": 0, \"title\": \"CP_7\", \"degree\": 3.0}, {\"id\": \"CP_8\", \"node_label\": \"CP_8\", \"x\": 511.2025381808283, \"y\": 341.7112288016983, \"node_size\": 63.9730388, \"color\": \"#1c1cff\", \"node_shape\": \"dot\", \"border_width\": 0, \"title\": \"CP_8\", \"degree\": 3.0}, {\"id\": \"CP_9\", \"node_label\": \"CP_9\", \"x\": -407.5629680966523, \"y\": -999.9999999999999, \"node_size\": 83.0187075, \"color\": \"#2626ff\", \"node_shape\": \"dot\", \"border_width\": 0, \"title\": \"CP_9\", \"degree\": 3.0}, {\"id\": \"CP_10\", \"node_label\": \"CP_10\", \"x\": 196.10968008379186, \"y\": 566.3369270047582, \"node_size\": 49.6875025, \"color\": \"#1616ff\", \"node_shape\": \"dot\", \"border_width\": 0, \"title\": \"CP_10\", \"degree\": 3.0}, {\"id\": \"CP_11\", \"node_label\": \"CP_11\", \"x\": 244.8992806626801, \"y\": -472.78011449144475, \"node_size\": 74.4240696, \"color\": \"#2222ff\", \"node_shape\": \"dot\", \"border_width\": 0, \"title\": \"CP_11\", \"degree\": 3.0}, {\"id\": \"CP_12\", \"node_label\": \"CP_12\", \"x\": 488.08663777246335, \"y\": 707.6752385858955, \"node_size\": 56.21129510000001, \"color\": \"#1a1aff\", \"node_shape\": \"dot\", \"border_width\": 0, \"title\": \"CP_12\", \"degree\": 3.0}], [{\"source\": 0, \"target\": 8, \"edge_width\": 2.901824410806411}, {\"source\": 0, \"target\": 4, \"edge_width\": 0.9890406495098584}, {\"source\": 0, \"target\": 10, \"edge_width\": 1.9032267193690853}, {\"source\": 0, \"target\": 12, \"edge_width\": 2.778610352222623}, {\"source\": 0, \"target\": 7, \"edge_width\": 2.1989366468705422}, {\"source\": 1, \"target\": 8, \"edge_width\": 0.378631339625264}, {\"source\": 1, \"target\": 3, \"edge_width\": 2.2395573534488875}, {\"source\": 1, \"target\": 10, \"edge_width\": 2.742395210802003}, {\"source\": 1, \"target\": 11, \"edge_width\": 0.0}, {\"source\": 1, \"target\": 7, \"edge_width\": 0.9890406495098584}, {\"source\": 2, \"target\": 8, \"edge_width\": 0.0}, {\"source\": 2, \"target\": 9, \"edge_width\": 2.535753370827739}, {\"source\": 2, \"target\": 11, \"edge_width\": 2.1989366468705422}, {\"source\": 2, \"target\": 4, \"edge_width\": 2.7076023288789584}, {\"source\": 2, \"target\": 5, \"edge_width\": 2.513305482520451}, {\"source\": 3, \"target\": 1, \"edge_width\": 2.0398553721357686}, {\"source\": 3, \"target\": 6, \"edge_width\": 2.3244967298432555}, {\"source\": 3, \"target\": 7, \"edge_width\": 2.562065107123209}, {\"source\": 3, \"target\": 8, \"edge_width\": 0.0}, {\"source\": 3, \"target\": 10, \"edge_width\": 0.0}, {\"source\": 3, \"target\": 12, \"edge_width\": 2.513305482520451}, {\"source\": 4, \"target\": 0, \"edge_width\": 0.0}, {\"source\": 4, \"target\": 10, \"edge_width\": 2.3626286381236214}, {\"source\": 4, \"target\": 12, \"edge_width\": 2.691201414255688}, {\"source\": 4, \"target\": 2, \"edge_width\": 0.8583810761347032}, {\"source\": 5, \"target\": 9, \"edge_width\": 0.0}, {\"source\": 5, \"target\": 2, \"edge_width\": 1.960287816828652}, {\"source\": 5, \"target\": 6, \"edge_width\": 2.6752609088517563}, {\"source\": 5, \"target\": 7, \"edge_width\": 2.901824410806411}, {\"source\": 6, \"target\": 3, \"edge_width\": 2.0708116182414424}, {\"source\": 6, \"target\": 11, \"edge_width\": 2.2395573534488875}, {\"source\": 6, \"target\": 5, \"edge_width\": 1.7853382217969946}, {\"source\": 7, \"target\": 0, \"edge_width\": 2.29898181800138}, {\"source\": 7, \"target\": 1, \"edge_width\": 0.0}, {\"source\": 7, \"target\": 3, \"edge_width\": 2.143660790347202}, {\"source\": 7, \"target\": 5, \"edge_width\": 1.4062108774326765}, {\"source\": 7, \"target\": 9, \"edge_width\": 2.3659822301821145}, {\"source\": 8, \"target\": 0, \"edge_width\": 1.4062108774326765}, {\"source\": 8, \"target\": 1, \"edge_width\": 0.7457433713912978}, {\"source\": 8, \"target\": 10, \"edge_width\": 2.3659822301821145}, {\"source\": 8, \"target\": 3, \"edge_width\": 2.280370020656136}, {\"source\": 8, \"target\": 2, \"edge_width\": 2.280370020656136}, {\"source\": 9, \"target\": 2, \"edge_width\": 2.1345411023106124}, {\"source\": 9, \"target\": 11, \"edge_width\": 2.618126512750787}, {\"source\": 9, \"target\": 5, \"edge_width\": 2.287584936018894}, {\"source\": 9, \"target\": 7, \"edge_width\": 1.94887612755743}, {\"source\": 10, \"target\": 0, \"edge_width\": 1.8660698064816423}, {\"source\": 10, \"target\": 1, \"edge_width\": 1.78583465445936}, {\"source\": 10, \"target\": 3, \"edge_width\": 2.274528959309683}, {\"source\": 10, \"target\": 4, \"edge_width\": 1.9556175938242688}, {\"source\": 10, \"target\": 8, \"edge_width\": 1.94887612755743}, {\"source\": 11, \"target\": 1, \"edge_width\": 2.274528959309683}, {\"source\": 11, \"target\": 2, \"edge_width\": 2.29898181800138}, {\"source\": 11, \"target\": 12, \"edge_width\": 2.1989366468705422}, {\"source\": 11, \"target\": 6, \"edge_width\": 2.0398553721357686}, {\"source\": 11, \"target\": 9, \"edge_width\": 1.9745482078612395}, {\"source\": 12, \"target\": 0, \"edge_width\": 2.365093944145905}, {\"source\": 12, \"target\": 3, \"edge_width\": 1.960287816828652}, {\"source\": 12, \"target\": 11, \"edge_width\": 2.29898181800138}, {\"source\": 12, \"target\": 4, \"edge_width\": 1.6434803816163457}]);}</script><iframe name=\"style_file0\" src=\"style_file0.html\" width=\"100%;\" height=\"435px\"></iframe></body></html>"
      ],
      "text/plain": [
       "<IPython.core.display.HTML object>"
      ]
     },
     "metadata": {},
     "output_type": "display_data"
    }
   ],
   "source": [
    "model.draw_network()"
   ]
  },
  {
   "cell_type": "code",
   "execution_count": 22,
   "metadata": {
    "extensions": {
     "jupyter_dashboards": {
      "version": 1,
      "views": {
       "grid_default": {
        "col": 0,
        "height": 13,
        "hidden": true,
        "row": 17,
        "width": 6
       },
       "report_default": {
        "hidden": true
       }
      }
     }
    }
   },
   "outputs": [],
   "source": [
    "# bqplot graph 1 update:\n",
    "df_total1 = model.df[model.regulations][(model.df['metric']=='BaselEEPE+') & (model.df['FS']==model.menu.fs_selector.value)].sum()\n",
    "y1 = df_total1.to_numpy()/1000000\n",
    "bar1.y = y1"
   ]
  },
  {
   "cell_type": "code",
   "execution_count": 24,
   "metadata": {
    "extensions": {
     "jupyter_dashboards": {
      "version": 1,
      "views": {
       "grid_default": {
        "hidden": true
       },
       "report_default": {
        "hidden": true
       }
      }
     }
    }
   },
   "outputs": [],
   "source": [
    "# bqplot graph 2 update:\n",
    "df_eepep = model.df[['CP']+model.regulations][(model.df['metric']=='BaselEEPE+') & (model.df['FS']==model.menu.fs_selector.value)].set_index('CP')\n",
    "y2 = df_total1.to_numpy()/1000000\n",
    "bar2.y = y2"
   ]
  },
  {
   "cell_type": "code",
   "execution_count": 26,
   "metadata": {
    "extensions": {
     "jupyter_dashboards": {
      "version": 1,
      "views": {
       "grid_default": {
        "hidden": true
       },
       "report_default": {
        "hidden": false
       }
      }
     }
    }
   },
   "outputs": [],
   "source": [
    "# bqplot graph 3 update:\n",
    "df_eepep_rhop = model.df[['CP']+model.regulations][(model.df['metric']=='BaselEEPE_rho+') & (model.df['FS']==model.menu.fs_selector.value)].set_index('CP')\n",
    "df_eepep_rhop[df_eepep_rhop.columns] = df_eepep_rhop[df_eepep_rhop.columns].div(df_eepep_rhop[df_eepep_rhop.columns].sum(axis=0), axis=1).multiply(100)\n",
    "\n",
    "# hacky adding empty column on right side for legend\n",
    "# hacky, efsane için sağ tarafa boş sütun ekliyor\n",
    "df_eepep_rhop['     '] = 0\n",
    "y3 = df_eepep_rhop.to_numpy()\n",
    "\n",
    "bar3.y = y3"
   ]
  }
 ],
 "metadata": {
  "extensions": {
   "jupyter_dashboards": {
    "activeView": "grid_default",
    "version": 1,
    "views": {
     "grid_default": {
      "cellMargin": 10,
      "defaultCellHeight": 20,
      "maxColumns": 12,
      "name": "grid",
      "type": "grid"
     },
     "report_default": {
      "name": "report",
      "type": "report"
     }
    }
   }
  },
  "kernelspec": {
   "display_name": "Python 3",
   "language": "python",
   "name": "python3"
  },
  "language_info": {
   "codemirror_mode": {
    "name": "ipython",
    "version": 3
   },
   "file_extension": ".py",
   "mimetype": "text/x-python",
   "name": "python",
   "nbconvert_exporter": "python",
   "pygments_lexer": "ipython3",
   "version": "3.11.1"
  },
  "widgets": {
   "state": {
    "16d0296e6a83432dad66952aba508790": {
     "views": [
      {
       "cell_index": 14
      }
     ]
    },
    "49207a30168744fbbf6f784a4676fdc6": {
     "views": [
      {
       "cell_index": 13
      }
     ]
    },
    "a1d938b56d6f4bb982bd0618b5109960": {
     "views": [
      {
       "cell_index": 12
      }
     ]
    },
    "c3e9b3b06fc640238ee0cdeff0a2feb1": {
     "views": [
      {
       "cell_index": 15
      }
     ]
    }
   },
   "version": "1.2.0"
  }
 },
 "nbformat": 4,
 "nbformat_minor": 2
}
