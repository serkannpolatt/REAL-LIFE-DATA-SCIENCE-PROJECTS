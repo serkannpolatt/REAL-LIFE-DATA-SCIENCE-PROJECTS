{
 "cells": [
  {
   "attachments": {},
   "cell_type": "markdown",
   "metadata": {},
   "source": [
    "### Fetching the data for all the stocks of S&P500\n",
    "### S&P500'ün tüm hisse senetleri için veriler getiriliyor"
   ]
  },
  {
   "cell_type": "code",
   "execution_count": 1,
   "metadata": {},
   "outputs": [],
   "source": [
    "# Load libraries\n",
    "import pandas as pd\n",
    "import pandas_datareader as dr"
   ]
  },
  {
   "cell_type": "code",
   "execution_count": 2,
   "metadata": {},
   "outputs": [],
   "source": [
    "# load dataset\n",
    "#scraping wikipedia to fetch S&P 500 stock list\n",
    "snp500url = \"https://en.wikipedia.org/wiki/List_of_S%26P_500_companies\"\n",
    "data_table = pd.read_html(snp500url)"
   ]
  },
  {
   "cell_type": "code",
   "execution_count": 3,
   "metadata": {},
   "outputs": [
    {
     "name": "stdout",
     "output_type": "stream",
     "text": [
      "\n",
      "Total number of companies are: 502\n"
     ]
    }
   ],
   "source": [
    "tickers = data_table[0][1:]['Symbol'].tolist()\n",
    "#print(tickers)\n",
    "print(\"\\nTotal number of companies are:\", len(tickers))"
   ]
  },
  {
   "cell_type": "code",
   "execution_count": 1,
   "metadata": {},
   "outputs": [
    {
     "name": "stdout",
     "output_type": "stream",
     "text": [
      "No data available for AOS\n",
      "No data available for ABT\n",
      "No data available for ABBV\n",
      "No data available for ACN\n",
      "No data available for ATVI\n",
      "No data available for ADM\n",
      "No data available for ADBE\n",
      "No data available for ADP\n",
      "No data available for AAP\n",
      "No data available for AES\n",
      "No data available for AFL\n",
      "No data available for A\n",
      "No data available for APD\n",
      "No data available for AKAM\n",
      "No data available for ALK\n",
      "No data available for ALB\n",
      "No data available for ARE\n",
      "No data available for ALGN\n",
      "No data available for ALLE\n",
      "No data available for LNT\n",
      "No data available for ALL\n",
      "No data available for GOOGL\n",
      "No data available for GOOG\n",
      "No data available for MO\n",
      "No data available for AMZN\n",
      "No data available for AEE\n",
      "No data available for AAL\n",
      "No data available for AEP\n",
      "No data available for AXP\n",
      "No data available for AIG\n",
      "No data available for AMT\n",
      "No data available for AWK\n",
      "No data available for AMP\n",
      "No data available for ABC\n",
      "No data available for AME\n",
      "No data available for AMGN\n",
      "No data available for APH\n",
      "No data available for ADI\n"
     ]
    }
   ],
   "source": [
    "price_list = []\n",
    "for ticker in tickers:\n",
    "    try:\n",
    "        prices = dr.DataReader(ticker, 'yahoo', '01/01/2018')['Close']\n",
    "        prices = pd.DataFrame(prices)\n",
    "        prices.columns = [ticker]\n",
    "        price_list.append(prices)\n",
    "    except:\n",
    "        print(f\"No data available for {ticker}\")\n",
    "\n",
    "prices_df = pd.concat(price_list, axis=1)\n",
    "prices_df.sort_index(inplace=True)\n",
    "\n",
    "prices_df.to_csv(\"SP500Data2.csv\") "
   ]
  },
  {
   "cell_type": "code",
   "execution_count": null,
   "metadata": {},
   "outputs": [],
   "source": []
  }
 ],
 "metadata": {
  "kernelspec": {
   "display_name": "Python 3",
   "language": "python",
   "name": "python3"
  },
  "language_info": {
   "codemirror_mode": {
    "name": "ipython",
    "version": 3
   },
   "file_extension": ".py",
   "mimetype": "text/x-python",
   "name": "python",
   "nbconvert_exporter": "python",
   "pygments_lexer": "ipython3",
   "version": "3.10.9"
  }
 },
 "nbformat": 4,
 "nbformat_minor": 2
}
