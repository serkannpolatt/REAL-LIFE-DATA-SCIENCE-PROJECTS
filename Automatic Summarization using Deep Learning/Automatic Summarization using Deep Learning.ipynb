{
 "cells": [
  {
   "cell_type": "code",
   "execution_count": null,
   "metadata": {},
   "outputs": [],
   "source": [
    "!pip install torch==1.8.2+cu111 torchvision==0.9.2+cu111 torchaudio===0.8.2 -f https://download.pytorch.org/whl/lts/1.8/torch_lts.html"
   ]
  },
  {
   "cell_type": "code",
   "execution_count": null,
   "metadata": {},
   "outputs": [],
   "source": [
    "!pip install transformers"
   ]
  },
  {
   "cell_type": "markdown",
   "metadata": {},
   "source": [
    "#  Import and Load Model\n",
    "# Gerekli Kütüphaneleri Yükleyin"
   ]
  },
  {
   "cell_type": "code",
   "execution_count": 38,
   "metadata": {},
   "outputs": [],
   "source": [
    "# Importing dependencies from transformers\n",
    "# Transformatörlerden bağımlılıkları içe aktarma\n",
    "from transformers import PegasusForConditionalGeneration, PegasusTokenizer"
   ]
  },
  {
   "cell_type": "code",
   "execution_count": 39,
   "metadata": {},
   "outputs": [],
   "source": [
    "# Load tokenizer \n",
    "# Belirteç oluşturucuyu yükle\n",
    "tokenizer = PegasusTokenizer.from_pretrained(\"google/pegasus-xsum\")"
   ]
  },
  {
   "cell_type": "code",
   "execution_count": 40,
   "metadata": {},
   "outputs": [],
   "source": [
    "# Load model \n",
    "# Modeli Yükle\n",
    "model = PegasusForConditionalGeneration.from_pretrained(\"google/pegasus-xsum\")"
   ]
  },
  {
   "cell_type": "markdown",
   "metadata": {},
   "source": [
    "#  Perform Abstractive Summarization\n",
    "#  Soyutlayıcı Özetleme Gerçekleştirin"
   ]
  },
  {
   "cell_type": "code",
   "execution_count": 41,
   "metadata": {},
   "outputs": [],
   "source": [
    "text = \"\"\"\n",
    "Python is an interpreted high-level general-purpose programming language. Its design philosophy emphasizes code readability with its use of significant indentation. Its language constructs as well as its object-oriented approach aim to help programmers write clear, logical code for small and large-scale projects.[30]\n",
    "\n",
    "Python is dynamically-typed and garbage-collected. It supports multiple programming paradigms, including structured (particularly, procedural), object-oriented and functional programming. It is often described as a \"batteries included\" language due to its comprehensive standard library.[31]\n",
    "\n",
    "Guido van Rossum began working on Python in the late 1980s, as a successor to the ABC programming language, and first released it in 1991 as Python 0.9.0.[32] Python 2.0 was released in 2000 and introduced new features, such as list comprehensions and a garbage collection system using reference counting. Python 3.0 was released in 2008 and was a major revision of the language that is not completely backward-compatible. Python 2 was discontinued with version 2.7.18 in 2020.[33]\n",
    "\n",
    "Python consistently ranks as one of the most popular programming languages.[34][35][36][37]\"\"\""
   ]
  },
  {
   "cell_type": "code",
   "execution_count": 42,
   "metadata": {},
   "outputs": [],
   "source": [
    "# Create tokens - number representation of our text\n",
    "tokens = tokenizer(text, truncation=True, padding=\"longest\", return_tensors=\"pt\")"
   ]
  },
  {
   "cell_type": "code",
   "execution_count": 44,
   "metadata": {},
   "outputs": [
    {
     "data": {
      "text/plain": [
       "{'input_ids': tensor([[11994,   117,   142, 15186,   281,   121,  3393,   956,   121, 14621,\n",
       "          3661,  1261,   107,  3096,   354,  4679, 18390,   929, 39331,   122,\n",
       "           203,   207,   113,  1225, 58339,   107,  3096,  1261, 38059,   130,\n",
       "           210,   130,   203,  2951,   121,  8321,  1014,  2560,   112,   225,\n",
       "         19003,  1094,   786,   108,  8789,   929,   118,   360,   111,   423,\n",
       "           121,  5129,   844,   107,  4101,  4311,  1100, 11994,   117, 22717,\n",
       "           121,  7155,   252,   111,  9041,   121, 83800,   107,   168,  3000,\n",
       "          1079,  3661, 50877,   108,   330,  7314,   143, 24899,   108, 22000,\n",
       "           312,  2951,   121,  8321,   111,  3819,  3661,   107,   168,   117,\n",
       "           432,  2540,   130,   114,   198, 18077,   144, 32300,   953,   194,\n",
       "          1261,   640,   112,   203,  2250,   971,  2400,   107,  4101, 10822,\n",
       "          1100, 58937,  4406,  7366,  3707,  1219,   375,   124, 11994,   115,\n",
       "           109,  1095,  5940,   116,   108,   130,   114, 15749,   112,   109,\n",
       "          8172,  3661,  1261,   108,   111,   211,  1291,   126,   115, 12086,\n",
       "           130, 11994, 21544,   107, 24613,  4101,  6695,  1100, 11994,  4586,\n",
       "           140,  1291,   115,  3555,   111,  2454,   177,   556,   108,   253,\n",
       "           130,   467, 17673,   116,   111,   114,  9041,   949,   327,   303,\n",
       "          2334,  8742,   107, 11994,  9179,   140,  1291,   115,  3390,   111,\n",
       "           140,   114,   698, 11827,   113,   109,  1261,   120,   117,   146,\n",
       "          1127, 17868,   121, 37804,   107, 11994,   280,   140, 17921,   122,\n",
       "           824, 21672,   107,  4876,   115, 12573,  4101,  9773,  1100, 11994,\n",
       "          4409,  7329,   130,   156,   113,   109,   205,   785,  3661,  4482,\n",
       "           107,  4101, 12365, 32887,  7393, 32887,  9368, 32887, 13185,  1100,\n",
       "             1]]), 'attention_mask': tensor([[1, 1, 1, 1, 1, 1, 1, 1, 1, 1, 1, 1, 1, 1, 1, 1, 1, 1, 1, 1, 1, 1, 1, 1,\n",
       "         1, 1, 1, 1, 1, 1, 1, 1, 1, 1, 1, 1, 1, 1, 1, 1, 1, 1, 1, 1, 1, 1, 1, 1,\n",
       "         1, 1, 1, 1, 1, 1, 1, 1, 1, 1, 1, 1, 1, 1, 1, 1, 1, 1, 1, 1, 1, 1, 1, 1,\n",
       "         1, 1, 1, 1, 1, 1, 1, 1, 1, 1, 1, 1, 1, 1, 1, 1, 1, 1, 1, 1, 1, 1, 1, 1,\n",
       "         1, 1, 1, 1, 1, 1, 1, 1, 1, 1, 1, 1, 1, 1, 1, 1, 1, 1, 1, 1, 1, 1, 1, 1,\n",
       "         1, 1, 1, 1, 1, 1, 1, 1, 1, 1, 1, 1, 1, 1, 1, 1, 1, 1, 1, 1, 1, 1, 1, 1,\n",
       "         1, 1, 1, 1, 1, 1, 1, 1, 1, 1, 1, 1, 1, 1, 1, 1, 1, 1, 1, 1, 1, 1, 1, 1,\n",
       "         1, 1, 1, 1, 1, 1, 1, 1, 1, 1, 1, 1, 1, 1, 1, 1, 1, 1, 1, 1, 1, 1, 1, 1,\n",
       "         1, 1, 1, 1, 1, 1, 1, 1, 1, 1, 1, 1, 1, 1, 1, 1, 1, 1, 1, 1, 1, 1, 1, 1,\n",
       "         1, 1, 1, 1, 1, 1, 1, 1, 1, 1, 1, 1, 1, 1, 1]])}"
      ]
     },
     "execution_count": 44,
     "metadata": {},
     "output_type": "execute_result"
    }
   ],
   "source": [
    "# Input tokens\n",
    "tokens"
   ]
  },
  {
   "cell_type": "code",
   "execution_count": 45,
   "metadata": {},
   "outputs": [],
   "source": [
    "# Summarize\n",
    "# Özet\n",
    "summary = model.generate(**tokens)"
   ]
  },
  {
   "cell_type": "code",
   "execution_count": 47,
   "metadata": {},
   "outputs": [
    {
     "data": {
      "text/plain": [
       "tensor([    0, 11994,   117,   114,  3661,  1261,  1184,   141, 58937,  4406,\n",
       "         7366,  3707,   107,     1])"
      ]
     },
     "execution_count": 47,
     "metadata": {},
     "output_type": "execute_result"
    }
   ],
   "source": [
    "# Output summary tokens\n",
    "# Çıktı özet belirteçleri\n",
    "summary[0]"
   ]
  },
  {
   "cell_type": "code",
   "execution_count": 48,
   "metadata": {},
   "outputs": [
    {
     "data": {
      "text/plain": [
       "'Python is a programming language developed by Guido van Rossum.'"
      ]
     },
     "execution_count": 48,
     "metadata": {},
     "output_type": "execute_result"
    }
   ],
   "source": [
    "# Decode summary\n",
    "# Kod çözme özeti\n",
    "tokenizer.decode(summary[0])"
   ]
  }
 ],
 "metadata": {
  "kernelspec": {
   "display_name": "Python 3 (ipykernel)",
   "language": "python",
   "name": "python3"
  },
  "language_info": {
   "codemirror_mode": {
    "name": "ipython",
    "version": 3
   },
   "file_extension": ".py",
   "mimetype": "text/x-python",
   "name": "python",
   "nbconvert_exporter": "python",
   "pygments_lexer": "ipython3",
   "version": "3.10.8"
  }
 },
 "nbformat": 4,
 "nbformat_minor": 2
}
