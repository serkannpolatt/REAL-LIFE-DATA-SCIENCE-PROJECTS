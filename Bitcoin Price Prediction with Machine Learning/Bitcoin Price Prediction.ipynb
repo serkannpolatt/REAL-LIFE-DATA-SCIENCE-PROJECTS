{
 "cells": [
  {
   "cell_type": "code",
   "execution_count": 1,
   "id": "199a0f2e",
   "metadata": {},
   "outputs": [],
   "source": [
    "import numpy as np\n",
    "import pandas as pd"
   ]
  },
  {
   "cell_type": "code",
   "execution_count": 2,
   "id": "641ab5db",
   "metadata": {},
   "outputs": [],
   "source": [
    "df = pd.read_csv(\"bitcoin.csv\")"
   ]
  },
  {
   "cell_type": "code",
   "execution_count": 3,
   "id": "3bf61a9c",
   "metadata": {},
   "outputs": [
    {
     "data": {
      "text/html": [
       "<div><div id=83ec825d-2355-4140-ab9a-da64a0ac0ff0 style=\"display:none; background-color:#9D6CFF; color:white; width:200px; height:30px; padding-left:5px; border-radius:4px; flex-direction:row; justify-content:space-around; align-items:center;\" onmouseover=\"this.style.backgroundColor='#BA9BF8'\" onmouseout=\"this.style.backgroundColor='#9D6CFF'\" onclick=\"window.commands?.execute('create-mitosheet-from-dataframe-output');\">See Full Dataframe in Mito</div> <script> if (window.commands.hasCommand('create-mitosheet-from-dataframe-output')) document.getElementById('83ec825d-2355-4140-ab9a-da64a0ac0ff0').style.display = 'flex' </script> <table border=\"1\" class=\"dataframe\">\n",
       "  <thead>\n",
       "    <tr style=\"text-align: right;\">\n",
       "      <th></th>\n",
       "      <th>Date</th>\n",
       "      <th>Price</th>\n",
       "    </tr>\n",
       "  </thead>\n",
       "  <tbody>\n",
       "    <tr>\n",
       "      <th>0</th>\n",
       "      <td>5/23/2019</td>\n",
       "      <td>7881.846680</td>\n",
       "    </tr>\n",
       "    <tr>\n",
       "      <th>1</th>\n",
       "      <td>5/24/2019</td>\n",
       "      <td>7987.371582</td>\n",
       "    </tr>\n",
       "    <tr>\n",
       "      <th>2</th>\n",
       "      <td>5/25/2019</td>\n",
       "      <td>8052.543945</td>\n",
       "    </tr>\n",
       "    <tr>\n",
       "      <th>3</th>\n",
       "      <td>5/26/2019</td>\n",
       "      <td>8673.215820</td>\n",
       "    </tr>\n",
       "    <tr>\n",
       "      <th>4</th>\n",
       "      <td>5/27/2019</td>\n",
       "      <td>8805.778320</td>\n",
       "    </tr>\n",
       "  </tbody>\n",
       "</table></div>"
      ],
      "text/plain": [
       "        Date        Price\n",
       "0  5/23/2019  7881.846680\n",
       "1  5/24/2019  7987.371582\n",
       "2  5/25/2019  8052.543945\n",
       "3  5/26/2019  8673.215820\n",
       "4  5/27/2019  8805.778320"
      ]
     },
     "execution_count": 3,
     "metadata": {},
     "output_type": "execute_result"
    }
   ],
   "source": [
    "df.head()"
   ]
  },
  {
   "cell_type": "markdown",
   "id": "984ee4c2",
   "metadata": {},
   "source": [
    "#### Remove the date column\n",
    "\n",
    "#### Tarih sütununu kaldırın"
   ]
  },
  {
   "cell_type": "code",
   "execution_count": 4,
   "id": "df0d4f41",
   "metadata": {},
   "outputs": [
    {
     "name": "stderr",
     "output_type": "stream",
     "text": [
      "C:\\Users\\SERKAN\\AppData\\Local\\Temp\\ipykernel_8604\\2060810189.py:1: FutureWarning: In a future version of pandas all arguments of DataFrame.drop except for the argument 'labels' will be keyword-only.\n",
      "  df.drop(['Date'],1,inplace=True)\n"
     ]
    }
   ],
   "source": [
    "df.drop(['Date'],1,inplace=True)"
   ]
  },
  {
   "cell_type": "markdown",
   "id": "5a89268c",
   "metadata": {},
   "source": [
    "#### Now lets create a variable to predict ‘n’ days out there in the future\n",
    "\n",
    "#### Şimdi gelecekte \"n\" günleri tahmin etmek için bir değişken oluşturalım"
   ]
  },
  {
   "cell_type": "code",
   "execution_count": 5,
   "id": "4baa21ae",
   "metadata": {},
   "outputs": [],
   "source": [
    "predictionDays = 30\n",
    "# Create another column shifted 'n'  units up\n",
    "df['Prediction'] = df[['Price']].shift(-predictionDays)"
   ]
  },
  {
   "cell_type": "code",
   "execution_count": 6,
   "id": "3d696be3",
   "metadata": {},
   "outputs": [
    {
     "data": {
      "text/html": [
       "<div><div id=720ae6e1-b682-4622-84bf-003506293e0e style=\"display:none; background-color:#9D6CFF; color:white; width:200px; height:30px; padding-left:5px; border-radius:4px; flex-direction:row; justify-content:space-around; align-items:center;\" onmouseover=\"this.style.backgroundColor='#BA9BF8'\" onmouseout=\"this.style.backgroundColor='#9D6CFF'\" onclick=\"window.commands?.execute('create-mitosheet-from-dataframe-output');\">See Full Dataframe in Mito</div> <script> if (window.commands.hasCommand('create-mitosheet-from-dataframe-output')) document.getElementById('720ae6e1-b682-4622-84bf-003506293e0e').style.display = 'flex' </script> <table border=\"1\" class=\"dataframe\">\n",
       "  <thead>\n",
       "    <tr style=\"text-align: right;\">\n",
       "      <th></th>\n",
       "      <th>Price</th>\n",
       "      <th>Prediction</th>\n",
       "    </tr>\n",
       "  </thead>\n",
       "  <tbody>\n",
       "    <tr>\n",
       "      <th>0</th>\n",
       "      <td>7881.846680</td>\n",
       "      <td>10701.69141</td>\n",
       "    </tr>\n",
       "    <tr>\n",
       "      <th>1</th>\n",
       "      <td>7987.371582</td>\n",
       "      <td>10855.37109</td>\n",
       "    </tr>\n",
       "    <tr>\n",
       "      <th>2</th>\n",
       "      <td>8052.543945</td>\n",
       "      <td>11011.10254</td>\n",
       "    </tr>\n",
       "    <tr>\n",
       "      <th>3</th>\n",
       "      <td>8673.215820</td>\n",
       "      <td>11790.91699</td>\n",
       "    </tr>\n",
       "    <tr>\n",
       "      <th>4</th>\n",
       "      <td>8805.778320</td>\n",
       "      <td>13016.23145</td>\n",
       "    </tr>\n",
       "  </tbody>\n",
       "</table></div>"
      ],
      "text/plain": [
       "         Price   Prediction\n",
       "0  7881.846680  10701.69141\n",
       "1  7987.371582  10855.37109\n",
       "2  8052.543945  11011.10254\n",
       "3  8673.215820  11790.91699\n",
       "4  8805.778320  13016.23145"
      ]
     },
     "execution_count": 6,
     "metadata": {},
     "output_type": "execute_result"
    }
   ],
   "source": [
    "df.head()"
   ]
  },
  {
   "cell_type": "code",
   "execution_count": 7,
   "id": "3935d3ed",
   "metadata": {},
   "outputs": [
    {
     "data": {
      "text/html": [
       "<div><div id=84fb292a-f70b-44b3-b6bd-9ea20e1d1969 style=\"display:none; background-color:#9D6CFF; color:white; width:200px; height:30px; padding-left:5px; border-radius:4px; flex-direction:row; justify-content:space-around; align-items:center;\" onmouseover=\"this.style.backgroundColor='#BA9BF8'\" onmouseout=\"this.style.backgroundColor='#9D6CFF'\" onclick=\"window.commands?.execute('create-mitosheet-from-dataframe-output');\">See Full Dataframe in Mito</div> <script> if (window.commands.hasCommand('create-mitosheet-from-dataframe-output')) document.getElementById('84fb292a-f70b-44b3-b6bd-9ea20e1d1969').style.display = 'flex' </script> <table border=\"1\" class=\"dataframe\">\n",
       "  <thead>\n",
       "    <tr style=\"text-align: right;\">\n",
       "      <th></th>\n",
       "      <th>Price</th>\n",
       "      <th>Prediction</th>\n",
       "    </tr>\n",
       "  </thead>\n",
       "  <tbody>\n",
       "    <tr>\n",
       "      <th>362</th>\n",
       "      <td>9729.038086</td>\n",
       "      <td>NaN</td>\n",
       "    </tr>\n",
       "    <tr>\n",
       "      <th>363</th>\n",
       "      <td>9522.981445</td>\n",
       "      <td>NaN</td>\n",
       "    </tr>\n",
       "    <tr>\n",
       "      <th>364</th>\n",
       "      <td>9081.761719</td>\n",
       "      <td>NaN</td>\n",
       "    </tr>\n",
       "    <tr>\n",
       "      <th>365</th>\n",
       "      <td>9182.577148</td>\n",
       "      <td>NaN</td>\n",
       "    </tr>\n",
       "    <tr>\n",
       "      <th>366</th>\n",
       "      <td>9180.045898</td>\n",
       "      <td>NaN</td>\n",
       "    </tr>\n",
       "  </tbody>\n",
       "</table></div>"
      ],
      "text/plain": [
       "           Price  Prediction\n",
       "362  9729.038086         NaN\n",
       "363  9522.981445         NaN\n",
       "364  9081.761719         NaN\n",
       "365  9182.577148         NaN\n",
       "366  9180.045898         NaN"
      ]
     },
     "execution_count": 7,
     "metadata": {},
     "output_type": "execute_result"
    }
   ],
   "source": [
    "df.tail()"
   ]
  },
  {
   "cell_type": "markdown",
   "id": "654f4dcb",
   "metadata": {},
   "source": [
    "### Create the independent data set\n",
    "#### Here we will convert the data frame into a numpy array and drp the prediction column\n",
    "\n",
    "### Bağımsız veri kümesini oluşturun\n",
    "#### Burada veri çerçevesini numpy dizisine dönüştüreceğiz ve tahmin sütununu drp edeceğiz\n"
   ]
  },
  {
   "cell_type": "code",
   "execution_count": 8,
   "id": "76586398",
   "metadata": {},
   "outputs": [
    {
     "name": "stderr",
     "output_type": "stream",
     "text": [
      "C:\\Users\\SERKAN\\AppData\\Local\\Temp\\ipykernel_8604\\544037324.py:1: FutureWarning: In a future version of pandas all arguments of DataFrame.drop except for the argument 'labels' will be keyword-only.\n",
      "  x = np.array(df.drop(['Prediction'],1))\n"
     ]
    }
   ],
   "source": [
    "x = np.array(df.drop(['Prediction'],1))"
   ]
  },
  {
   "cell_type": "markdown",
   "id": "562a053b",
   "metadata": {},
   "source": [
    "#### Remove the last 'n' rows where 'n' is the predictionDays\n",
    "\n",
    "#### 'n'nin tahmin olduğu son 'n' satırlarını kaldırınGünler"
   ]
  },
  {
   "cell_type": "code",
   "execution_count": 10,
   "id": "eed9e6b4",
   "metadata": {},
   "outputs": [
    {
     "name": "stdout",
     "output_type": "stream",
     "text": [
      "[[ 7881.84668 ]\n",
      " [ 7987.371582]\n",
      " [ 8052.543945]\n",
      " [ 8673.21582 ]\n",
      " [ 8805.77832 ]\n",
      " [ 8719.961914]\n",
      " [ 8659.487305]\n",
      " [ 8319.472656]\n",
      " [ 8574.501953]\n",
      " [ 8564.016602]\n",
      " [ 8742.958008]\n",
      " [ 8208.995117]\n",
      " [ 7707.770996]\n",
      " [ 7824.231445]\n",
      " [ 7822.023438]\n",
      " [ 8043.951172]\n",
      " [ 7954.12793 ]\n",
      " [ 7688.077148]\n",
      " [ 8000.32959 ]\n",
      " [ 7927.714355]\n",
      " [ 8145.857422]\n",
      " [ 8230.923828]\n",
      " [ 8693.833008]\n",
      " [ 8838.375   ]\n",
      " [ 8994.488281]\n",
      " [ 9320.352539]\n",
      " [ 9081.762695]\n",
      " [ 9273.521484]\n",
      " [ 9527.160156]\n",
      " [10144.55664 ]\n",
      " [10701.69141 ]\n",
      " [10855.37109 ]\n",
      " [11011.10254 ]\n",
      " [11790.91699 ]\n",
      " [13016.23145 ]\n",
      " [11182.80664 ]\n",
      " [12407.33203 ]\n",
      " [11959.37109 ]\n",
      " [10817.15527 ]\n",
      " [10583.13477 ]\n",
      " [10801.67773 ]\n",
      " [11961.26953 ]\n",
      " [11215.4375  ]\n",
      " [10978.45996 ]\n",
      " [11208.55078 ]\n",
      " [11450.84668 ]\n",
      " [12285.95801 ]\n",
      " [12573.8125  ]\n",
      " [12156.5127  ]\n",
      " [11358.66211 ]\n",
      " [11815.98633 ]\n",
      " [11392.37891 ]\n",
      " [10256.05859 ]\n",
      " [10895.08984 ]\n",
      " [ 9477.641602]\n",
      " [ 9693.802734]\n",
      " [10666.48242 ]\n",
      " [10530.73242 ]\n",
      " [10767.13965 ]\n",
      " [10599.10547 ]\n",
      " [10343.10645 ]\n",
      " [ 9900.767578]\n",
      " [ 9811.925781]\n",
      " [ 9911.841797]\n",
      " [ 9870.303711]\n",
      " [ 9477.677734]\n",
      " [ 9552.860352]\n",
      " [ 9519.145508]\n",
      " [ 9607.423828]\n",
      " [10085.62793 ]\n",
      " [10399.66895 ]\n",
      " [10518.17481 ]\n",
      " [10821.72656 ]\n",
      " [10970.18457 ]\n",
      " [11805.65332 ]\n",
      " [11478.16895 ]\n",
      " [11941.96875 ]\n",
      " [11966.40723 ]\n",
      " [11862.93652 ]\n",
      " [11354.02441 ]\n",
      " [11523.5791  ]\n",
      " [11382.61621 ]\n",
      " [10895.83008 ]\n",
      " [10051.7041  ]\n",
      " [10311.5459  ]\n",
      " [10374.33887 ]\n",
      " [10231.74414 ]\n",
      " [10345.81055 ]\n",
      " [10916.05371 ]\n",
      " [10763.23242 ]\n",
      " [10138.04981 ]\n",
      " [10131.05566 ]\n",
      " [10407.96484 ]\n",
      " [10159.96094 ]\n",
      " [10138.51758 ]\n",
      " [10370.82031 ]\n",
      " [10185.5     ]\n",
      " [ 9754.422852]\n",
      " [ 9510.200195]\n",
      " [ 9598.173828]\n",
      " [ 9630.664063]\n",
      " [ 9757.970703]\n",
      " [10346.76074 ]\n",
      " [10623.54004 ]\n",
      " [10594.49316 ]\n",
      " [10575.5332  ]\n",
      " [10353.30273 ]\n",
      " [10517.25488 ]\n",
      " [10441.27637 ]\n",
      " [10334.97461 ]\n",
      " [10115.97559 ]\n",
      " [10178.37207 ]\n",
      " [10410.12695 ]\n",
      " [10360.54688 ]\n",
      " [10358.04883 ]\n",
      " [10347.71289 ]\n",
      " [10276.79395 ]\n",
      " [10241.27246 ]\n",
      " [10198.24805 ]\n",
      " [10266.41504 ]\n",
      " [10181.6416  ]\n",
      " [10019.7168  ]\n",
      " [10070.39258 ]\n",
      " [ 9729.324219]\n",
      " [ 8620.566406]\n",
      " [ 8486.993164]\n",
      " [ 8118.967773]\n",
      " [ 8251.845703]\n",
      " [ 8245.915039]\n",
      " [ 8104.185547]\n",
      " [ 8293.868164]\n",
      " [ 8343.276367]\n",
      " [ 8393.041992]\n",
      " [ 8259.992188]\n",
      " [ 8205.939453]\n",
      " [ 8151.500488]\n",
      " [ 7988.155762]\n",
      " [ 8245.623047]\n",
      " [ 8228.783203]\n",
      " [ 8595.740234]\n",
      " [ 8586.473633]\n",
      " [ 8321.756836]\n",
      " [ 8336.555664]\n",
      " [ 8321.005859]\n",
      " [ 8374.686523]\n",
      " [ 8205.369141]\n",
      " [ 8047.526855]\n",
      " [ 8103.911133]\n",
      " [ 7973.20752 ]\n",
      " [ 7988.560547]\n",
      " [ 8222.078125]\n",
      " [ 8243.720703]\n",
      " [ 8078.203125]\n",
      " [ 7514.671875]\n",
      " [ 7493.48877 ]\n",
      " [ 8660.700195]\n",
      " [ 9244.972656]\n",
      " [ 9551.714844]\n",
      " [ 9256.148438]\n",
      " [ 9427.6875  ]\n",
      " [ 9205.726563]\n",
      " [ 9199.584961]\n",
      " [ 9261.104492]\n",
      " [ 9324.717773]\n",
      " [ 9235.354492]\n",
      " [ 9412.612305]\n",
      " [ 9342.527344]\n",
      " [ 9360.879883]\n",
      " [ 9267.561523]\n",
      " [ 8804.880859]\n",
      " [ 8813.582031]\n",
      " [ 9055.526367]\n",
      " [ 8757.788086]\n",
      " [ 8815.662109]\n",
      " [ 8808.262695]\n",
      " [ 8708.094727]\n",
      " [ 8491.992188]\n",
      " [ 8550.760742]\n",
      " [ 8577.975586]\n",
      " [ 8309.286133]\n",
      " [ 8206.145508]\n",
      " [ 8027.268066]\n",
      " [ 7642.75    ]\n",
      " [ 7296.577637]\n",
      " [ 7397.796875]\n",
      " [ 7047.916992]\n",
      " [ 7146.133789]\n",
      " [ 7218.371094]\n",
      " [ 7531.663574]\n",
      " [ 7463.105957]\n",
      " [ 7761.243652]\n",
      " [ 7569.629883]\n",
      " [ 7424.29248 ]\n",
      " [ 7321.988281]\n",
      " [ 7320.145508]\n",
      " [ 7252.034668]\n",
      " [ 7448.307617]\n",
      " [ 7546.996582]\n",
      " [ 7556.237793]\n",
      " [ 7564.345215]\n",
      " [ 7400.899414]\n",
      " [ 7278.119629]\n",
      " [ 7217.427246]\n",
      " [ 7243.134277]\n",
      " [ 7269.68457 ]\n",
      " [ 7124.673828]\n",
      " [ 7152.301758]\n",
      " [ 6932.480469]\n",
      " [ 6640.515137]\n",
      " [ 7276.802734]\n",
      " [ 7202.844238]\n",
      " [ 7218.816406]\n",
      " [ 7191.158691]\n",
      " [ 7511.588867]\n",
      " [ 7355.628418]\n",
      " [ 7322.532227]\n",
      " [ 7275.155762]\n",
      " [ 7238.966797]\n",
      " [ 7290.088379]\n",
      " [ 7317.990234]\n",
      " [ 7422.652832]\n",
      " [ 7292.995117]\n",
      " [ 7193.599121]\n",
      " [ 7200.174316]\n",
      " [ 6985.470215]\n",
      " [ 7344.884277]\n",
      " [ 7410.656738]\n",
      " [ 7411.317383]\n",
      " [ 7769.219238]\n",
      " [ 8163.692383]\n",
      " [ 8079.862793]\n",
      " [ 7879.071289]\n",
      " [ 8166.554199]\n",
      " [ 8037.537598]\n",
      " [ 8192.494141]\n",
      " [ 8144.194336]\n",
      " [ 8827.764648]\n",
      " [ 8807.010742]\n",
      " [ 8723.786133]\n",
      " [ 8929.038086]\n",
      " [ 8942.808594]\n",
      " [ 8706.245117]\n",
      " [ 8657.642578]\n",
      " [ 8745.894531]\n",
      " [ 8680.875977]\n",
      " [ 8406.515625]\n",
      " [ 8445.43457 ]\n",
      " [ 8367.847656]\n",
      " [ 8596.830078]\n",
      " [ 8909.819336]\n",
      " [ 9358.589844]\n",
      " [ 9316.629883]\n",
      " [ 9508.993164]\n",
      " [ 9350.529297]\n",
      " [ 9392.875   ]\n",
      " [ 9344.365234]\n",
      " [ 9293.521484]\n",
      " [ 9180.962891]\n",
      " [ 9613.423828]\n",
      " [ 9729.801758]\n",
      " [ 9795.943359]\n",
      " [ 9865.119141]\n",
      " [10116.67383 ]\n",
      " [ 9856.611328]\n",
      " [10208.23633 ]\n",
      " [10326.05469 ]\n",
      " [10214.37988 ]\n",
      " [10312.11621 ]\n",
      " [ 9889.424805]\n",
      " [ 9934.433594]\n",
      " [ 9690.142578]\n",
      " [10141.99609 ]\n",
      " [ 9633.386719]\n",
      " [ 9608.475586]\n",
      " [ 9686.441406]\n",
      " [ 9663.181641]\n",
      " [ 9924.515625]\n",
      " [ 9650.174805]\n",
      " [ 9341.705078]\n",
      " [ 8820.522461]\n",
      " [ 8784.494141]\n",
      " [ 8672.455078]\n",
      " [ 8599.508789]\n",
      " [ 8562.454102]\n",
      " [ 8869.669922]\n",
      " [ 8787.786133]\n",
      " [ 8755.246094]\n",
      " [ 9078.762695]\n",
      " [ 9122.545898]\n",
      " [ 8909.954102]\n",
      " [ 8108.116211]\n",
      " [ 7923.644531]\n",
      " [ 7909.729492]\n",
      " [ 7911.430176]\n",
      " [ 4970.788086]\n",
      " [ 5563.707031]\n",
      " [ 5200.366211]\n",
      " [ 5392.314941]\n",
      " [ 5014.47998 ]\n",
      " [ 5225.629395]\n",
      " [ 5238.438477]\n",
      " [ 6191.192871]\n",
      " [ 6198.77832 ]\n",
      " [ 6185.066406]\n",
      " [ 5830.254883]\n",
      " [ 6416.314941]\n",
      " [ 6734.803711]\n",
      " [ 6681.062988]\n",
      " [ 6716.44043 ]\n",
      " [ 6469.79834 ]\n",
      " [ 6242.193848]\n",
      " [ 5922.042969]\n",
      " [ 6429.841797]\n",
      " [ 6438.644531]\n",
      " [ 6606.776367]\n",
      " [ 6793.624512]\n",
      " [ 6733.387207]\n",
      " [ 6867.527344]\n",
      " [ 6791.129395]\n",
      " [ 7271.78125 ]\n",
      " [ 7176.414551]\n",
      " [ 7334.098633]\n",
      " [ 7302.089355]\n",
      " [ 6865.493164]\n",
      " [ 6859.083008]\n",
      " [ 6971.091797]\n",
      " [ 6845.037598]\n",
      " [ 6842.427734]\n",
      " [ 6642.109863]\n",
      " [ 7116.804199]\n",
      " [ 7096.18457 ]\n",
      " [ 7257.665039]\n",
      " [ 7189.424805]\n",
      " [ 6881.958496]\n",
      " [ 6880.323242]\n",
      " [ 7117.20752 ]\n",
      " [ 7429.724609]]\n"
     ]
    }
   ],
   "source": [
    "x = x[:len(df)-predictionDays]\n",
    "print(x)"
   ]
  },
  {
   "cell_type": "markdown",
   "id": "05996a1a",
   "metadata": {},
   "source": [
    "### Create the dependent data set\n",
    "\n",
    "### Bağımlı veri kümesini oluşturun"
   ]
  },
  {
   "cell_type": "markdown",
   "id": "5237a3fc",
   "metadata": {},
   "source": [
    "#### convert the data frame into a numpy array\n",
    "\n",
    "#### veri çerçevesini numpy dizisine dönüştürün"
   ]
  },
  {
   "cell_type": "code",
   "execution_count": 11,
   "id": "307e0a54",
   "metadata": {},
   "outputs": [],
   "source": [
    "y = np.array(df['Prediction'])"
   ]
  },
  {
   "cell_type": "markdown",
   "id": "d8ee4949",
   "metadata": {},
   "source": [
    "#### Get all the values except last 'n' rows\n",
    "\n",
    "#### Son 'n' satır dışındaki tüm değerleri alın"
   ]
  },
  {
   "cell_type": "code",
   "execution_count": 13,
   "id": "df41659f",
   "metadata": {},
   "outputs": [
    {
     "name": "stdout",
     "output_type": "stream",
     "text": [
      "[10701.69141  10855.37109  11011.10254  11790.91699  13016.23145\n",
      " 11182.80664  12407.33203  11959.37109  10817.15527  10583.13477\n",
      " 10801.67773  11961.26953  11215.4375   10978.45996  11208.55078\n",
      " 11450.84668  12285.95801  12573.8125   12156.5127   11358.66211\n",
      " 11815.98633  11392.37891  10256.05859  10895.08984   9477.641602\n",
      "  9693.802734 10666.48242  10530.73242  10767.13965  10599.10547\n",
      " 10343.10645   9900.767578  9811.925781  9911.841797  9870.303711\n",
      "  9477.677734  9552.860352  9519.145508  9607.423828 10085.62793\n",
      " 10399.66895  10518.17481  10821.72656  10970.18457  11805.65332\n",
      " 11478.16895  11941.96875  11966.40723  11862.93652  11354.02441\n",
      " 11523.5791   11382.61621  10895.83008  10051.7041   10311.5459\n",
      " 10374.33887  10231.74414  10345.81055  10916.05371  10763.23242\n",
      " 10138.04981  10131.05566  10407.96484  10159.96094  10138.51758\n",
      " 10370.82031  10185.5       9754.422852  9510.200195  9598.173828\n",
      "  9630.664063  9757.970703 10346.76074  10623.54004  10594.49316\n",
      " 10575.5332   10353.30273  10517.25488  10441.27637  10334.97461\n",
      " 10115.97559  10178.37207  10410.12695  10360.54688  10358.04883\n",
      " 10347.71289  10276.79395  10241.27246  10198.24805  10266.41504\n",
      " 10181.6416   10019.7168   10070.39258   9729.324219  8620.566406\n",
      "  8486.993164  8118.967773  8251.845703  8245.915039  8104.185547\n",
      "  8293.868164  8343.276367  8393.041992  8259.992188  8205.939453\n",
      "  8151.500488  7988.155762  8245.623047  8228.783203  8595.740234\n",
      "  8586.473633  8321.756836  8336.555664  8321.005859  8374.686523\n",
      "  8205.369141  8047.526855  8103.911133  7973.20752   7988.560547\n",
      "  8222.078125  8243.720703  8078.203125  7514.671875  7493.48877\n",
      "  8660.700195  9244.972656  9551.714844  9256.148438  9427.6875\n",
      "  9205.726563  9199.584961  9261.104492  9324.717773  9235.354492\n",
      "  9412.612305  9342.527344  9360.879883  9267.561523  8804.880859\n",
      "  8813.582031  9055.526367  8757.788086  8815.662109  8808.262695\n",
      "  8708.094727  8491.992188  8550.760742  8577.975586  8309.286133\n",
      "  8206.145508  8027.268066  7642.75      7296.577637  7397.796875\n",
      "  7047.916992  7146.133789  7218.371094  7531.663574  7463.105957\n",
      "  7761.243652  7569.629883  7424.29248   7321.988281  7320.145508\n",
      "  7252.034668  7448.307617  7546.996582  7556.237793  7564.345215\n",
      "  7400.899414  7278.119629  7217.427246  7243.134277  7269.68457\n",
      "  7124.673828  7152.301758  6932.480469  6640.515137  7276.802734\n",
      "  7202.844238  7218.816406  7191.158691  7511.588867  7355.628418\n",
      "  7322.532227  7275.155762  7238.966797  7290.088379  7317.990234\n",
      "  7422.652832  7292.995117  7193.599121  7200.174316  6985.470215\n",
      "  7344.884277  7410.656738  7411.317383  7769.219238  8163.692383\n",
      "  8079.862793  7879.071289  8166.554199  8037.537598  8192.494141\n",
      "  8144.194336  8827.764648  8807.010742  8723.786133  8929.038086\n",
      "  8942.808594  8706.245117  8657.642578  8745.894531  8680.875977\n",
      "  8406.515625  8445.43457   8367.847656  8596.830078  8909.819336\n",
      "  9358.589844  9316.629883  9508.993164  9350.529297  9392.875\n",
      "  9344.365234  9293.521484  9180.962891  9613.423828  9729.801758\n",
      "  9795.943359  9865.119141 10116.67383   9856.611328 10208.23633\n",
      " 10326.05469  10214.37988  10312.11621   9889.424805  9934.433594\n",
      "  9690.142578 10141.99609   9633.386719  9608.475586  9686.441406\n",
      "  9663.181641  9924.515625  9650.174805  9341.705078  8820.522461\n",
      "  8784.494141  8672.455078  8599.508789  8562.454102  8869.669922\n",
      "  8787.786133  8755.246094  9078.762695  9122.545898  8909.954102\n",
      "  8108.116211  7923.644531  7909.729492  7911.430176  4970.788086\n",
      "  5563.707031  5200.366211  5392.314941  5014.47998   5225.629395\n",
      "  5238.438477  6191.192871  6198.77832   6185.066406  5830.254883\n",
      "  6416.314941  6734.803711  6681.062988  6716.44043   6469.79834\n",
      "  6242.193848  5922.042969  6429.841797  6438.644531  6606.776367\n",
      "  6793.624512  6733.387207  6867.527344  6791.129395  7271.78125\n",
      "  7176.414551  7334.098633  7302.089355  6865.493164  6859.083008\n",
      "  6971.091797  6845.037598  6842.427734  6642.109863  7116.804199\n",
      "  7096.18457   7257.665039  7189.424805  6881.958496  6880.323242\n",
      "  7117.20752   7429.724609  7550.900879  7569.936035  7679.867188\n",
      "  7795.601074  7807.058594  8801.038086  8658.553711  8864.766602\n",
      "  8988.59668   8897.46875   8912.654297  9003.070313  9268.761719\n",
      "  9951.518555  9842.666016  9593.896484  8756.430664  8601.795898\n",
      "  8804.477539  9269.987305  9733.72168   9328.197266  9377.013672\n",
      "  9670.739258  9726.575195  9729.038086  9522.981445  9081.761719\n",
      "  9182.577148  9180.045898]\n"
     ]
    }
   ],
   "source": [
    "y = y[:-predictionDays]\n",
    "print(y)"
   ]
  },
  {
   "cell_type": "markdown",
   "id": "43b45d31",
   "metadata": {},
   "source": [
    "# Split the data into 80% training and 20% testing\n",
    "\n",
    "# Verileri %80 eğitim ve %20 test olarak ayırın"
   ]
  },
  {
   "cell_type": "code",
   "execution_count": 14,
   "id": "5deac466",
   "metadata": {},
   "outputs": [],
   "source": [
    "from sklearn.model_selection import train_test_split\n",
    "xtrain, xtest, ytrain, ytest = train_test_split(x,y, test_size = 0.2)"
   ]
  },
  {
   "cell_type": "markdown",
   "id": "fe6dbcd7",
   "metadata": {},
   "source": [
    "#### set the predictionDays array equal to last 30 rows from the original data set\n",
    "\n",
    "#### tahminiDays dizisini orijinal veri kümesindeki son 30 satıra eşit olarak ayarlayın"
   ]
  },
  {
   "cell_type": "code",
   "execution_count": 16,
   "id": "e1143e24",
   "metadata": {},
   "outputs": [
    {
     "name": "stdout",
     "output_type": "stream",
     "text": [
      "[[7550.900879]\n",
      " [7569.936035]\n",
      " [7679.867188]\n",
      " [7795.601074]\n",
      " [7807.058594]\n",
      " [8801.038086]\n",
      " [8658.553711]\n",
      " [8864.766602]\n",
      " [8988.59668 ]\n",
      " [8897.46875 ]\n",
      " [8912.654297]\n",
      " [9003.070313]\n",
      " [9268.761719]\n",
      " [9951.518555]\n",
      " [9842.666016]\n",
      " [9593.896484]\n",
      " [8756.430664]\n",
      " [8601.795898]\n",
      " [8804.477539]\n",
      " [9269.987305]\n",
      " [9733.72168 ]\n",
      " [9328.197266]\n",
      " [9377.013672]\n",
      " [9670.739258]\n",
      " [9726.575195]\n",
      " [9729.038086]\n",
      " [9522.981445]\n",
      " [9081.761719]\n",
      " [9182.577148]\n",
      " [9180.045898]]\n"
     ]
    },
    {
     "name": "stderr",
     "output_type": "stream",
     "text": [
      "C:\\Users\\SERKAN\\AppData\\Local\\Temp\\ipykernel_8604\\659798080.py:1: FutureWarning: In a future version of pandas all arguments of DataFrame.drop except for the argument 'labels' will be keyword-only.\n",
      "  predictionDays_array = np.array(df.drop(['Prediction'],1))[-predictionDays:]\n"
     ]
    }
   ],
   "source": [
    "predictionDays_array = np.array(df.drop(['Prediction'],1))[-predictionDays:]\n",
    "print(predictionDays_array)"
   ]
  },
  {
   "cell_type": "markdown",
   "id": "c064a233",
   "metadata": {},
   "source": [
    "# Now we will create a Machine Learning Model\n",
    "\n",
    "# Şimdi bir Machine Learning Modeli oluşturacağız"
   ]
  },
  {
   "cell_type": "code",
   "execution_count": 17,
   "id": "ce327d9e",
   "metadata": {},
   "outputs": [
    {
     "data": {
      "text/plain": [
       "SVR(C=1000.0, gamma=1e-05)"
      ]
     },
     "execution_count": 17,
     "metadata": {},
     "output_type": "execute_result"
    }
   ],
   "source": [
    "from sklearn.svm import SVR\n",
    "# Create and Train the Support Vector Machine (Regression) using radial basis function\n",
    "svr_rbf = SVR(kernel='rbf', C=1e3, gamma=0.00001)\n",
    "svr_rbf.fit(xtrain, ytrain)"
   ]
  },
  {
   "cell_type": "markdown",
   "id": "7373783b",
   "metadata": {},
   "source": [
    "### Test the model"
   ]
  },
  {
   "cell_type": "code",
   "execution_count": 18,
   "id": "34934ac4",
   "metadata": {},
   "outputs": [
    {
     "name": "stdout",
     "output_type": "stream",
     "text": [
      "SVR_RBF accuracy : 0.16928673919405257\n"
     ]
    }
   ],
   "source": [
    "svr_rbf_confidence = svr_rbf.score(xtest,ytest)\n",
    "print('SVR_RBF accuracy :',svr_rbf_confidence)"
   ]
  },
  {
   "cell_type": "code",
   "execution_count": null,
   "id": "f8f7d780",
   "metadata": {},
   "outputs": [],
   "source": [
    "# print the predicted values\n",
    "svm_prediction = svr_rbf.predict(xtest)\n",
    "print(svm_prediction)\n",
    "print()\n",
    "print(ytest)"
   ]
  },
  {
   "cell_type": "code",
   "execution_count": 20,
   "id": "4fd9b137",
   "metadata": {},
   "outputs": [
    {
     "name": "stdout",
     "output_type": "stream",
     "text": [
      "[7919.32123991 7981.68958069 8669.8222194  9532.92984323 9598.15988958\n",
      " 8544.81801831 8722.91659605 8423.70040284 8063.20529628 8344.05330429\n",
      " 8302.85157422 8013.41702191 7658.66797687 8203.96216319 8116.17412177\n",
      " 8340.30024078 8608.28710139 8796.13986036 8539.30356764 7661.53645887\n",
      " 8146.4890323  7835.71176261 8012.25335545 8232.41959533 8154.37199156\n",
      " 8151.58487285 8360.34983414 7753.46410228 7571.54812561 7572.62564767]\n"
     ]
    }
   ],
   "source": [
    "# Print the model predictions for the next 30 days\n",
    "svm_prediction = svr_rbf.predict(predictionDays_array)\n",
    "print(svm_prediction)"
   ]
  },
  {
   "cell_type": "code",
   "execution_count": 22,
   "id": "81d4be3b",
   "metadata": {},
   "outputs": [
    {
     "name": "stdout",
     "output_type": "stream",
     "text": [
      "           Price  Prediction\n",
      "337  7550.900879         NaN\n",
      "338  7569.936035         NaN\n",
      "339  7679.867188         NaN\n",
      "340  7795.601074         NaN\n",
      "341  7807.058594         NaN\n",
      "342  8801.038086         NaN\n",
      "343  8658.553711         NaN\n",
      "344  8864.766602         NaN\n",
      "345  8988.596680         NaN\n",
      "346  8897.468750         NaN\n",
      "347  8912.654297         NaN\n",
      "348  9003.070313         NaN\n",
      "349  9268.761719         NaN\n",
      "350  9951.518555         NaN\n",
      "351  9842.666016         NaN\n",
      "352  9593.896484         NaN\n",
      "353  8756.430664         NaN\n",
      "354  8601.795898         NaN\n",
      "355  8804.477539         NaN\n",
      "356  9269.987305         NaN\n",
      "357  9733.721680         NaN\n",
      "358  9328.197266         NaN\n",
      "359  9377.013672         NaN\n",
      "360  9670.739258         NaN\n",
      "361  9726.575195         NaN\n",
      "362  9729.038086         NaN\n",
      "363  9522.981445         NaN\n",
      "364  9081.761719         NaN\n",
      "365  9182.577148         NaN\n",
      "366  9180.045898         NaN\n"
     ]
    }
   ],
   "source": [
    "#Print the actual price for bitcoin for last 30 days\n",
    "print(df.tail(predictionDays))"
   ]
  },
  {
   "cell_type": "code",
   "execution_count": null,
   "id": "2b2116bb",
   "metadata": {},
   "outputs": [],
   "source": []
  }
 ],
 "metadata": {
  "kernelspec": {
   "display_name": "Python 3 (ipykernel)",
   "language": "python",
   "name": "python3"
  },
  "language_info": {
   "codemirror_mode": {
    "name": "ipython",
    "version": 3
   },
   "file_extension": ".py",
   "mimetype": "text/x-python",
   "name": "python",
   "nbconvert_exporter": "python",
   "pygments_lexer": "ipython3",
   "version": "3.10.2"
  }
 },
 "nbformat": 4,
 "nbformat_minor": 5
}
