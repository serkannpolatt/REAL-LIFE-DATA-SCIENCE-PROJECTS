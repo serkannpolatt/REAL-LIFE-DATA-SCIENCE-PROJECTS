{
 "cells": [
  {
   "cell_type": "code",
   "execution_count": 1,
   "metadata": {},
   "outputs": [],
   "source": [
    "import pandas as pd \n",
    "from tqdm.notebook import tqdm\n",
    "import snscrape.modules.twitter as sntwitter\n"
   ]
  },
  {
   "cell_type": "code",
   "execution_count": 4,
   "metadata": {},
   "outputs": [
    {
     "data": {
      "application/vnd.jupyter.widget-view+json": {
       "model_id": "56e24c1e24ee4179b5cf932b1908566e",
       "version_major": 2,
       "version_minor": 0
      },
      "text/plain": [
       "  0%|          | 0/10000 [00:00<?, ?it/s]"
      ]
     },
     "metadata": {},
     "output_type": "display_data"
    },
    {
     "name": "stderr",
     "output_type": "stream",
     "text": [
      "C:\\Users\\Serkan POLAT\\AppData\\Local\\Temp\\ipykernel_10116\\3421491228.py:10: FutureWarning: content is deprecated, use rawContent instead\n",
      "  tweet.content,\n"
     ]
    }
   ],
   "source": [
    "scraper = sntwitter.TwitterSearchScraper(\"#deprem\")\n",
    "\n",
    "tweets = []\n",
    "n_tweets=10_000\n",
    "\n",
    "for i, tweet in tqdm(enumerate(scraper.get_items()), total=n_tweets):\n",
    "    data = [\n",
    "        tweet.date,\n",
    "        tweet.id,\n",
    "        tweet.content,\n",
    "        tweet.user.username,\n",
    "        tweet.likeCount,\n",
    "        tweet.retweetCount,\n",
    "    ]\n",
    "    tweets.append(data)\n",
    "\n",
    "    if i > n_tweets:\n",
    "        break\n",
    "\n",
    "\n",
    "tweet_df = pd.DataFrame(\n",
    "    tweets, columns=[\"date\", \"id\", \"content\", \"username\", \"like_count\", \"retweet_count\"])   \n",
    "\n",
    "\n",
    "tweet_df.to_csv(\"tweet.csv\",index=False)"
   ]
  }
 ],
 "metadata": {
  "kernelspec": {
   "display_name": "Python 3",
   "language": "python",
   "name": "python3"
  },
  "language_info": {
   "codemirror_mode": {
    "name": "ipython",
    "version": 3
   },
   "file_extension": ".py",
   "mimetype": "text/x-python",
   "name": "python",
   "nbconvert_exporter": "python",
   "pygments_lexer": "ipython3",
   "version": "3.11.1"
  },
  "orig_nbformat": 4,
  "vscode": {
   "interpreter": {
    "hash": "d1fd88d08fb1b26cade20b9311ddd9f74a7d8e10b19d260eb2ff687130fb545a"
   }
  }
 },
 "nbformat": 4,
 "nbformat_minor": 2
}
