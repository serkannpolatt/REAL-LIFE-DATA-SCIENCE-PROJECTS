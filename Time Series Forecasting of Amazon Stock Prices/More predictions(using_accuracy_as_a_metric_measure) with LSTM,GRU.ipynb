{
  "nbformat": 4,
  "nbformat_minor": 0,
  "metadata": {
    "kernelspec": {
      "name": "python2",
      "display_name": "Python 2"
    },
    "colab": {
      "provenance": []
    },
    "accelerator": "GPU"
  },
  "cells": [
    {
      "cell_type": "markdown",
      "metadata": {
        "id": "KVmQxEXpKz1g"
      },
      "source": [
        "#**WHAT I DID IN THIS NOTEBOOK:**\n",
        "\n",
        "**In previous notebooks I used MAE as a metric of measure. However I then changed to using accuracy as a measure by changing the regression problem into classification where I found how I could predict datapoints of the closing price by creating EMA, normalizing the dataset and stacking X and finding Y based on X**\n",
        "\n",
        "**I then used this dataset to split into test, train and validate sets.** \n",
        "\n",
        "**I stacked the OHLCV data and used that as X and closing prices as Y hence genetrated  the classification problem.** \n",
        "\n",
        "**Then I predicted the accuacy.** \n",
        "\n",
        "**I used hyperparemeter tuning for the LSTM model and ran a GRU cell with some hyperparameter too.**\n"
      ]
    },
    {
      "cell_type": "markdown",
      "metadata": {
        "id": "9hr2QGohexbw"
      },
      "source": [
        "**Importing packages from keras**"
      ]
    },
    {
      "cell_type": "code",
      "metadata": {
        "id": "-vDgUuKciK_G",
        "colab": {
          "base_uri": "https://localhost:8080/"
        },
        "outputId": "32601d6a-73be-4c76-bbe8-4f1535ca8ca7"
      },
      "source": [
        "import tensorflow as tf\n",
        "device_name = tf.test.gpu_device_name()\n",
        "if device_name != '/device:GPU:0':\n",
        "  raise SystemError('GPU device not found')\n",
        "print('Found GPU at: {}'.format(device_name))"
      ],
      "execution_count": 1,
      "outputs": [
        {
          "output_type": "stream",
          "name": "stdout",
          "text": [
            "Found GPU at: /device:GPU:0\n"
          ]
        }
      ]
    },
    {
      "cell_type": "code",
      "metadata": {
        "id": "nA_Zb6-SirM_",
        "colab": {
          "base_uri": "https://localhost:8080/"
        },
        "outputId": "da675d60-aa74-4eb2-dfe9-9d6287664bdf"
      },
      "source": [
        "from google.colab import drive\n",
        "\n",
        "# This will prompt for authorization.\n",
        "# drive.mount('/content/drive')\n",
        "drive.mount(\"/content/drive\", force_remount=True)"
      ],
      "execution_count": 2,
      "outputs": [
        {
          "output_type": "stream",
          "name": "stdout",
          "text": [
            "Mounted at /content/drive\n"
          ]
        }
      ]
    },
    {
      "cell_type": "code",
      "metadata": {
        "id": "zo7yv_YQirTs"
      },
      "source": [
        "googlepath = \"/content/drive/My Drive/\""
      ],
      "execution_count": 3,
      "outputs": []
    },
    {
      "cell_type": "code",
      "metadata": {
        "id": "P7rL_mRQjGdo",
        "colab": {
          "base_uri": "https://localhost:8080/"
        },
        "outputId": "00f8c730-4844-4dba-d0c7-31bfef247b3f"
      },
      "source": [
        "!python /content/drive/'My Drive'/utils.py install"
      ],
      "execution_count": 6,
      "outputs": [
        {
          "output_type": "stream",
          "name": "stdout",
          "text": [
            "python3: can't open file '/content/drive/My Drive/utils.py': [Errno 2] No such file or directory\n"
          ]
        }
      ]
    },
    {
      "cell_type": "code",
      "metadata": {
        "id": "ZWSopsKs8Z8M",
        "colab": {
          "base_uri": "https://localhost:8080/",
          "height": 210
        },
        "outputId": "fcf27849-ed2e-4bc2-ae14-b861063e7734"
      },
      "source": [
        "from google.colab import files\n",
        "src = list(files.upload().values())[0]"
      ],
      "execution_count": 7,
      "outputs": [
        {
          "output_type": "display_data",
          "data": {
            "text/plain": [
              "<IPython.core.display.HTML object>"
            ],
            "text/html": [
              "\n",
              "     <input type=\"file\" id=\"files-5436c039-8fa2-4482-a810-f5d8a5402d44\" name=\"files[]\" multiple disabled\n",
              "        style=\"border:none\" />\n",
              "     <output id=\"result-5436c039-8fa2-4482-a810-f5d8a5402d44\">\n",
              "      Upload widget is only available when the cell has been executed in the\n",
              "      current browser session. Please rerun this cell to enable.\n",
              "      </output>\n",
              "      <script>// Copyright 2017 Google LLC\n",
              "//\n",
              "// Licensed under the Apache License, Version 2.0 (the \"License\");\n",
              "// you may not use this file except in compliance with the License.\n",
              "// You may obtain a copy of the License at\n",
              "//\n",
              "//      http://www.apache.org/licenses/LICENSE-2.0\n",
              "//\n",
              "// Unless required by applicable law or agreed to in writing, software\n",
              "// distributed under the License is distributed on an \"AS IS\" BASIS,\n",
              "// WITHOUT WARRANTIES OR CONDITIONS OF ANY KIND, either express or implied.\n",
              "// See the License for the specific language governing permissions and\n",
              "// limitations under the License.\n",
              "\n",
              "/**\n",
              " * @fileoverview Helpers for google.colab Python module.\n",
              " */\n",
              "(function(scope) {\n",
              "function span(text, styleAttributes = {}) {\n",
              "  const element = document.createElement('span');\n",
              "  element.textContent = text;\n",
              "  for (const key of Object.keys(styleAttributes)) {\n",
              "    element.style[key] = styleAttributes[key];\n",
              "  }\n",
              "  return element;\n",
              "}\n",
              "\n",
              "// Max number of bytes which will be uploaded at a time.\n",
              "const MAX_PAYLOAD_SIZE = 100 * 1024;\n",
              "\n",
              "function _uploadFiles(inputId, outputId) {\n",
              "  const steps = uploadFilesStep(inputId, outputId);\n",
              "  const outputElement = document.getElementById(outputId);\n",
              "  // Cache steps on the outputElement to make it available for the next call\n",
              "  // to uploadFilesContinue from Python.\n",
              "  outputElement.steps = steps;\n",
              "\n",
              "  return _uploadFilesContinue(outputId);\n",
              "}\n",
              "\n",
              "// This is roughly an async generator (not supported in the browser yet),\n",
              "// where there are multiple asynchronous steps and the Python side is going\n",
              "// to poll for completion of each step.\n",
              "// This uses a Promise to block the python side on completion of each step,\n",
              "// then passes the result of the previous step as the input to the next step.\n",
              "function _uploadFilesContinue(outputId) {\n",
              "  const outputElement = document.getElementById(outputId);\n",
              "  const steps = outputElement.steps;\n",
              "\n",
              "  const next = steps.next(outputElement.lastPromiseValue);\n",
              "  return Promise.resolve(next.value.promise).then((value) => {\n",
              "    // Cache the last promise value to make it available to the next\n",
              "    // step of the generator.\n",
              "    outputElement.lastPromiseValue = value;\n",
              "    return next.value.response;\n",
              "  });\n",
              "}\n",
              "\n",
              "/**\n",
              " * Generator function which is called between each async step of the upload\n",
              " * process.\n",
              " * @param {string} inputId Element ID of the input file picker element.\n",
              " * @param {string} outputId Element ID of the output display.\n",
              " * @return {!Iterable<!Object>} Iterable of next steps.\n",
              " */\n",
              "function* uploadFilesStep(inputId, outputId) {\n",
              "  const inputElement = document.getElementById(inputId);\n",
              "  inputElement.disabled = false;\n",
              "\n",
              "  const outputElement = document.getElementById(outputId);\n",
              "  outputElement.innerHTML = '';\n",
              "\n",
              "  const pickedPromise = new Promise((resolve) => {\n",
              "    inputElement.addEventListener('change', (e) => {\n",
              "      resolve(e.target.files);\n",
              "    });\n",
              "  });\n",
              "\n",
              "  const cancel = document.createElement('button');\n",
              "  inputElement.parentElement.appendChild(cancel);\n",
              "  cancel.textContent = 'Cancel upload';\n",
              "  const cancelPromise = new Promise((resolve) => {\n",
              "    cancel.onclick = () => {\n",
              "      resolve(null);\n",
              "    };\n",
              "  });\n",
              "\n",
              "  // Wait for the user to pick the files.\n",
              "  const files = yield {\n",
              "    promise: Promise.race([pickedPromise, cancelPromise]),\n",
              "    response: {\n",
              "      action: 'starting',\n",
              "    }\n",
              "  };\n",
              "\n",
              "  cancel.remove();\n",
              "\n",
              "  // Disable the input element since further picks are not allowed.\n",
              "  inputElement.disabled = true;\n",
              "\n",
              "  if (!files) {\n",
              "    return {\n",
              "      response: {\n",
              "        action: 'complete',\n",
              "      }\n",
              "    };\n",
              "  }\n",
              "\n",
              "  for (const file of files) {\n",
              "    const li = document.createElement('li');\n",
              "    li.append(span(file.name, {fontWeight: 'bold'}));\n",
              "    li.append(span(\n",
              "        `(${file.type || 'n/a'}) - ${file.size} bytes, ` +\n",
              "        `last modified: ${\n",
              "            file.lastModifiedDate ? file.lastModifiedDate.toLocaleDateString() :\n",
              "                                    'n/a'} - `));\n",
              "    const percent = span('0% done');\n",
              "    li.appendChild(percent);\n",
              "\n",
              "    outputElement.appendChild(li);\n",
              "\n",
              "    const fileDataPromise = new Promise((resolve) => {\n",
              "      const reader = new FileReader();\n",
              "      reader.onload = (e) => {\n",
              "        resolve(e.target.result);\n",
              "      };\n",
              "      reader.readAsArrayBuffer(file);\n",
              "    });\n",
              "    // Wait for the data to be ready.\n",
              "    let fileData = yield {\n",
              "      promise: fileDataPromise,\n",
              "      response: {\n",
              "        action: 'continue',\n",
              "      }\n",
              "    };\n",
              "\n",
              "    // Use a chunked sending to avoid message size limits. See b/62115660.\n",
              "    let position = 0;\n",
              "    do {\n",
              "      const length = Math.min(fileData.byteLength - position, MAX_PAYLOAD_SIZE);\n",
              "      const chunk = new Uint8Array(fileData, position, length);\n",
              "      position += length;\n",
              "\n",
              "      const base64 = btoa(String.fromCharCode.apply(null, chunk));\n",
              "      yield {\n",
              "        response: {\n",
              "          action: 'append',\n",
              "          file: file.name,\n",
              "          data: base64,\n",
              "        },\n",
              "      };\n",
              "\n",
              "      let percentDone = fileData.byteLength === 0 ?\n",
              "          100 :\n",
              "          Math.round((position / fileData.byteLength) * 100);\n",
              "      percent.textContent = `${percentDone}% done`;\n",
              "\n",
              "    } while (position < fileData.byteLength);\n",
              "  }\n",
              "\n",
              "  // All done.\n",
              "  yield {\n",
              "    response: {\n",
              "      action: 'complete',\n",
              "    }\n",
              "  };\n",
              "}\n",
              "\n",
              "scope.google = scope.google || {};\n",
              "scope.google.colab = scope.google.colab || {};\n",
              "scope.google.colab._files = {\n",
              "  _uploadFiles,\n",
              "  _uploadFilesContinue,\n",
              "};\n",
              "})(self);\n",
              "</script> "
            ]
          },
          "metadata": {}
        },
        {
          "output_type": "error",
          "ename": "IndexError",
          "evalue": "ignored",
          "traceback": [
            "\u001b[0;31m---------------------------------------------------------------------------\u001b[0m",
            "\u001b[0;31mIndexError\u001b[0m                                Traceback (most recent call last)",
            "\u001b[0;32m<ipython-input-7-7495bdcabb45>\u001b[0m in \u001b[0;36m<module>\u001b[0;34m\u001b[0m\n\u001b[1;32m      1\u001b[0m \u001b[0;32mfrom\u001b[0m \u001b[0mgoogle\u001b[0m\u001b[0;34m.\u001b[0m\u001b[0mcolab\u001b[0m \u001b[0;32mimport\u001b[0m \u001b[0mfiles\u001b[0m\u001b[0;34m\u001b[0m\u001b[0;34m\u001b[0m\u001b[0m\n\u001b[0;32m----> 2\u001b[0;31m \u001b[0msrc\u001b[0m \u001b[0;34m=\u001b[0m \u001b[0mlist\u001b[0m\u001b[0;34m(\u001b[0m\u001b[0mfiles\u001b[0m\u001b[0;34m.\u001b[0m\u001b[0mupload\u001b[0m\u001b[0;34m(\u001b[0m\u001b[0;34m)\u001b[0m\u001b[0;34m.\u001b[0m\u001b[0mvalues\u001b[0m\u001b[0;34m(\u001b[0m\u001b[0;34m)\u001b[0m\u001b[0;34m)\u001b[0m\u001b[0;34m[\u001b[0m\u001b[0;36m0\u001b[0m\u001b[0;34m]\u001b[0m\u001b[0;34m\u001b[0m\u001b[0;34m\u001b[0m\u001b[0m\n\u001b[0m",
            "\u001b[0;31mIndexError\u001b[0m: list index out of range"
          ]
        }
      ]
    },
    {
      "cell_type": "code",
      "source": [
        "!pip install utils"
      ],
      "metadata": {
        "colab": {
          "base_uri": "https://localhost:8080/"
        },
        "id": "4M5e2Wq_Q-U7",
        "outputId": "66bb0d09-ed52-4ccb-a1e8-b2751c117eb0"
      },
      "execution_count": 8,
      "outputs": [
        {
          "output_type": "stream",
          "name": "stdout",
          "text": [
            "Looking in indexes: https://pypi.org/simple, https://us-python.pkg.dev/colab-wheels/public/simple/\n",
            "Collecting utils\n",
            "  Downloading utils-1.0.1-py2.py3-none-any.whl (21 kB)\n",
            "Installing collected packages: utils\n",
            "Successfully installed utils-1.0.1\n"
          ]
        }
      ]
    },
    {
      "cell_type": "code",
      "metadata": {
        "id": "TKU4vA-M8nQC",
        "colab": {
          "base_uri": "https://localhost:8080/",
          "height": 189
        },
        "outputId": "d8c26a76-33bd-48e5-b1fe-9129a6bd7f8d"
      },
      "source": [
        "open('utils.py','wb').write(src)\n",
        "from utils import *"
      ],
      "execution_count": 9,
      "outputs": [
        {
          "output_type": "error",
          "ename": "NameError",
          "evalue": "ignored",
          "traceback": [
            "\u001b[0;31m---------------------------------------------------------------------------\u001b[0m",
            "\u001b[0;31mNameError\u001b[0m                                 Traceback (most recent call last)",
            "\u001b[0;32m<ipython-input-9-135274c14d19>\u001b[0m in \u001b[0;36m<module>\u001b[0;34m\u001b[0m\n\u001b[0;32m----> 1\u001b[0;31m \u001b[0mopen\u001b[0m\u001b[0;34m(\u001b[0m\u001b[0;34m'utils.py'\u001b[0m\u001b[0;34m,\u001b[0m\u001b[0;34m'wb'\u001b[0m\u001b[0;34m)\u001b[0m\u001b[0;34m.\u001b[0m\u001b[0mwrite\u001b[0m\u001b[0;34m(\u001b[0m\u001b[0msrc\u001b[0m\u001b[0;34m)\u001b[0m\u001b[0;34m\u001b[0m\u001b[0;34m\u001b[0m\u001b[0m\n\u001b[0m\u001b[1;32m      2\u001b[0m \u001b[0;32mfrom\u001b[0m \u001b[0mutils\u001b[0m \u001b[0;32mimport\u001b[0m \u001b[0;34m*\u001b[0m\u001b[0;34m\u001b[0m\u001b[0;34m\u001b[0m\u001b[0m\n",
            "\u001b[0;31mNameError\u001b[0m: name 'src' is not defined"
          ]
        }
      ]
    },
    {
      "cell_type": "markdown",
      "metadata": {
        "id": "p1DRNKYSx9C9"
      },
      "source": [
        "**utils.py is a python package having tickers for time series data. You can** \n",
        "\n",
        "**upload it using the above command. Recommend to download it using**\n",
        "https://pypi.org/project/python-utils/ **and storing in drive.** \n"
      ]
    },
    {
      "cell_type": "code",
      "metadata": {
        "id": "k9FesNZk4SEO"
      },
      "source": [
        "!pip install -U -q PyDrive\n",
        "from pydrive.auth import GoogleAuth\n",
        "from pydrive.drive import GoogleDrive\n",
        "from google.colab import auth\n",
        "from oauth2client.client import GoogleCredentials"
      ],
      "execution_count": 10,
      "outputs": []
    },
    {
      "cell_type": "code",
      "metadata": {
        "id": "QvZKtTC94SHr"
      },
      "source": [
        "# Authenticate and create the PyDrive client.\n",
        "auth.authenticate_user()\n",
        "gauth = GoogleAuth()\n",
        "gauth.credentials = GoogleCredentials.get_application_default()\n",
        "drive = GoogleDrive(gauth)"
      ],
      "execution_count": 11,
      "outputs": []
    },
    {
      "cell_type": "code",
      "metadata": {
        "id": "CNGkPPvw4Yvt"
      },
      "source": [
        "link = 'https://drive.google.com/open?id=1CQDa0VJP0cEKxO9hRpyxngnJIxYaVwTV' # The shareable link"
      ],
      "execution_count": 12,
      "outputs": []
    },
    {
      "cell_type": "code",
      "metadata": {
        "id": "QmzxCTA74Y2U",
        "colab": {
          "base_uri": "https://localhost:8080/"
        },
        "outputId": "4c24aaa0-ad07-4797-bd5f-0c5334b7b4a7"
      },
      "source": [
        "fluff, id = link.split('=')\n",
        "print (id) # Verify that you have everything after '='"
      ],
      "execution_count": 13,
      "outputs": [
        {
          "output_type": "stream",
          "name": "stdout",
          "text": [
            "1CQDa0VJP0cEKxO9hRpyxngnJIxYaVwTV\n"
          ]
        }
      ]
    },
    {
      "cell_type": "code",
      "metadata": {
        "id": "U-rBC4sw41cM",
        "colab": {
          "base_uri": "https://localhost:8080/",
          "height": 73
        },
        "outputId": "d040fed4-8035-4be8-9247-a8256d8aefe4"
      },
      "source": [
        "downloaded = drive.CreateFile({'id':id}) \n",
        "downloaded.GetContentFile('AMZN.csv')  \n",
        "\n",
        "data_original = list(files.upload().values())[::-1]\n",
        "data_original = pd.read_csv('AMZN.csv')[::-1]\n"
      ],
      "execution_count": 43,
      "outputs": [
        {
          "output_type": "display_data",
          "data": {
            "text/plain": [
              "<IPython.core.display.HTML object>"
            ],
            "text/html": [
              "\n",
              "     <input type=\"file\" id=\"files-ffe94f77-3241-464e-bb30-c62109bd167b\" name=\"files[]\" multiple disabled\n",
              "        style=\"border:none\" />\n",
              "     <output id=\"result-ffe94f77-3241-464e-bb30-c62109bd167b\">\n",
              "      Upload widget is only available when the cell has been executed in the\n",
              "      current browser session. Please rerun this cell to enable.\n",
              "      </output>\n",
              "      <script>// Copyright 2017 Google LLC\n",
              "//\n",
              "// Licensed under the Apache License, Version 2.0 (the \"License\");\n",
              "// you may not use this file except in compliance with the License.\n",
              "// You may obtain a copy of the License at\n",
              "//\n",
              "//      http://www.apache.org/licenses/LICENSE-2.0\n",
              "//\n",
              "// Unless required by applicable law or agreed to in writing, software\n",
              "// distributed under the License is distributed on an \"AS IS\" BASIS,\n",
              "// WITHOUT WARRANTIES OR CONDITIONS OF ANY KIND, either express or implied.\n",
              "// See the License for the specific language governing permissions and\n",
              "// limitations under the License.\n",
              "\n",
              "/**\n",
              " * @fileoverview Helpers for google.colab Python module.\n",
              " */\n",
              "(function(scope) {\n",
              "function span(text, styleAttributes = {}) {\n",
              "  const element = document.createElement('span');\n",
              "  element.textContent = text;\n",
              "  for (const key of Object.keys(styleAttributes)) {\n",
              "    element.style[key] = styleAttributes[key];\n",
              "  }\n",
              "  return element;\n",
              "}\n",
              "\n",
              "// Max number of bytes which will be uploaded at a time.\n",
              "const MAX_PAYLOAD_SIZE = 100 * 1024;\n",
              "\n",
              "function _uploadFiles(inputId, outputId) {\n",
              "  const steps = uploadFilesStep(inputId, outputId);\n",
              "  const outputElement = document.getElementById(outputId);\n",
              "  // Cache steps on the outputElement to make it available for the next call\n",
              "  // to uploadFilesContinue from Python.\n",
              "  outputElement.steps = steps;\n",
              "\n",
              "  return _uploadFilesContinue(outputId);\n",
              "}\n",
              "\n",
              "// This is roughly an async generator (not supported in the browser yet),\n",
              "// where there are multiple asynchronous steps and the Python side is going\n",
              "// to poll for completion of each step.\n",
              "// This uses a Promise to block the python side on completion of each step,\n",
              "// then passes the result of the previous step as the input to the next step.\n",
              "function _uploadFilesContinue(outputId) {\n",
              "  const outputElement = document.getElementById(outputId);\n",
              "  const steps = outputElement.steps;\n",
              "\n",
              "  const next = steps.next(outputElement.lastPromiseValue);\n",
              "  return Promise.resolve(next.value.promise).then((value) => {\n",
              "    // Cache the last promise value to make it available to the next\n",
              "    // step of the generator.\n",
              "    outputElement.lastPromiseValue = value;\n",
              "    return next.value.response;\n",
              "  });\n",
              "}\n",
              "\n",
              "/**\n",
              " * Generator function which is called between each async step of the upload\n",
              " * process.\n",
              " * @param {string} inputId Element ID of the input file picker element.\n",
              " * @param {string} outputId Element ID of the output display.\n",
              " * @return {!Iterable<!Object>} Iterable of next steps.\n",
              " */\n",
              "function* uploadFilesStep(inputId, outputId) {\n",
              "  const inputElement = document.getElementById(inputId);\n",
              "  inputElement.disabled = false;\n",
              "\n",
              "  const outputElement = document.getElementById(outputId);\n",
              "  outputElement.innerHTML = '';\n",
              "\n",
              "  const pickedPromise = new Promise((resolve) => {\n",
              "    inputElement.addEventListener('change', (e) => {\n",
              "      resolve(e.target.files);\n",
              "    });\n",
              "  });\n",
              "\n",
              "  const cancel = document.createElement('button');\n",
              "  inputElement.parentElement.appendChild(cancel);\n",
              "  cancel.textContent = 'Cancel upload';\n",
              "  const cancelPromise = new Promise((resolve) => {\n",
              "    cancel.onclick = () => {\n",
              "      resolve(null);\n",
              "    };\n",
              "  });\n",
              "\n",
              "  // Wait for the user to pick the files.\n",
              "  const files = yield {\n",
              "    promise: Promise.race([pickedPromise, cancelPromise]),\n",
              "    response: {\n",
              "      action: 'starting',\n",
              "    }\n",
              "  };\n",
              "\n",
              "  cancel.remove();\n",
              "\n",
              "  // Disable the input element since further picks are not allowed.\n",
              "  inputElement.disabled = true;\n",
              "\n",
              "  if (!files) {\n",
              "    return {\n",
              "      response: {\n",
              "        action: 'complete',\n",
              "      }\n",
              "    };\n",
              "  }\n",
              "\n",
              "  for (const file of files) {\n",
              "    const li = document.createElement('li');\n",
              "    li.append(span(file.name, {fontWeight: 'bold'}));\n",
              "    li.append(span(\n",
              "        `(${file.type || 'n/a'}) - ${file.size} bytes, ` +\n",
              "        `last modified: ${\n",
              "            file.lastModifiedDate ? file.lastModifiedDate.toLocaleDateString() :\n",
              "                                    'n/a'} - `));\n",
              "    const percent = span('0% done');\n",
              "    li.appendChild(percent);\n",
              "\n",
              "    outputElement.appendChild(li);\n",
              "\n",
              "    const fileDataPromise = new Promise((resolve) => {\n",
              "      const reader = new FileReader();\n",
              "      reader.onload = (e) => {\n",
              "        resolve(e.target.result);\n",
              "      };\n",
              "      reader.readAsArrayBuffer(file);\n",
              "    });\n",
              "    // Wait for the data to be ready.\n",
              "    let fileData = yield {\n",
              "      promise: fileDataPromise,\n",
              "      response: {\n",
              "        action: 'continue',\n",
              "      }\n",
              "    };\n",
              "\n",
              "    // Use a chunked sending to avoid message size limits. See b/62115660.\n",
              "    let position = 0;\n",
              "    do {\n",
              "      const length = Math.min(fileData.byteLength - position, MAX_PAYLOAD_SIZE);\n",
              "      const chunk = new Uint8Array(fileData, position, length);\n",
              "      position += length;\n",
              "\n",
              "      const base64 = btoa(String.fromCharCode.apply(null, chunk));\n",
              "      yield {\n",
              "        response: {\n",
              "          action: 'append',\n",
              "          file: file.name,\n",
              "          data: base64,\n",
              "        },\n",
              "      };\n",
              "\n",
              "      let percentDone = fileData.byteLength === 0 ?\n",
              "          100 :\n",
              "          Math.round((position / fileData.byteLength) * 100);\n",
              "      percent.textContent = `${percentDone}% done`;\n",
              "\n",
              "    } while (position < fileData.byteLength);\n",
              "  }\n",
              "\n",
              "  // All done.\n",
              "  yield {\n",
              "    response: {\n",
              "      action: 'complete',\n",
              "    }\n",
              "  };\n",
              "}\n",
              "\n",
              "scope.google = scope.google || {};\n",
              "scope.google.colab = scope.google.colab || {};\n",
              "scope.google.colab._files = {\n",
              "  _uploadFiles,\n",
              "  _uploadFilesContinue,\n",
              "};\n",
              "})(self);\n",
              "</script> "
            ]
          },
          "metadata": {}
        },
        {
          "output_type": "stream",
          "name": "stdout",
          "text": [
            "Saving AMZN.csv to AMZN (2).csv\n"
          ]
        }
      ]
    },
    {
      "cell_type": "code",
      "metadata": {
        "id": "9yxcx78fexbx",
        "colab": {
          "base_uri": "https://localhost:8080/",
          "height": 35
        },
        "outputId": "84a33436-6122-42c5-e644-b3b6eae5109a"
      },
      "source": [
        "import pandas as pd\n",
        "import matplotlib.pylab as plt\n",
        "\n",
        "from keras.models import Sequential\n",
        "from keras.layers.core import Dense, Dropout, Activation, Flatten\n",
        "from keras.layers import LSTM, GRU\n",
        "from keras.layers import Conv1D\n",
        "from keras.callbacks import ModelCheckpoint, ReduceLROnPlateau, CSVLogger\n",
        "from keras.layers import Bidirectional\n",
        "from keras import regularizers\n",
        "from tensorflow.keras.layers import BatchNormalization\n",
        "from keras.layers import ELU, PReLU, LeakyReLU\n",
        "from keras.optimizers import RMSprop, Adam, SGD, Nadam\n",
        "from keras.initializers import *\n",
        "\n",
        "import seaborn as sns\n",
        "sns.despine()\n"
      ],
      "execution_count": 32,
      "outputs": [
        {
          "output_type": "display_data",
          "data": {
            "text/plain": [
              "<Figure size 432x288 with 0 Axes>"
            ]
          },
          "metadata": {}
        }
      ]
    },
    {
      "cell_type": "code",
      "source": [
        "data_original.head()"
      ],
      "metadata": {
        "colab": {
          "base_uri": "https://localhost:8080/",
          "height": 206
        },
        "id": "HV03x5nzX4a_",
        "outputId": "2eef96e1-6f8d-4e94-9b34-f7b5c29b26fd"
      },
      "execution_count": 44,
      "outputs": [
        {
          "output_type": "execute_result",
          "data": {
            "text/plain": [
              "             Date   Open   High     Low  Close   Volume\n",
              "45556  11/10/2017  55.23  55.32  54.370  54.80  5032662\n",
              "45555   11/9/2017  55.06  55.50  54.910  55.45  3644007\n",
              "45554   11/8/2017  54.98  55.35  54.720  55.25  3712978\n",
              "45553   11/7/2017  55.15  55.26  54.685  55.16  4843996\n",
              "45552   11/6/2017  55.32  55.40  55.010  55.01  3134081"
            ],
            "text/html": [
              "\n",
              "  <div id=\"df-004de616-a190-46ef-b6a1-66802856e2c5\">\n",
              "    <div class=\"colab-df-container\">\n",
              "      <div>\n",
              "<style scoped>\n",
              "    .dataframe tbody tr th:only-of-type {\n",
              "        vertical-align: middle;\n",
              "    }\n",
              "\n",
              "    .dataframe tbody tr th {\n",
              "        vertical-align: top;\n",
              "    }\n",
              "\n",
              "    .dataframe thead th {\n",
              "        text-align: right;\n",
              "    }\n",
              "</style>\n",
              "<table border=\"1\" class=\"dataframe\">\n",
              "  <thead>\n",
              "    <tr style=\"text-align: right;\">\n",
              "      <th></th>\n",
              "      <th>Date</th>\n",
              "      <th>Open</th>\n",
              "      <th>High</th>\n",
              "      <th>Low</th>\n",
              "      <th>Close</th>\n",
              "      <th>Volume</th>\n",
              "    </tr>\n",
              "  </thead>\n",
              "  <tbody>\n",
              "    <tr>\n",
              "      <th>45556</th>\n",
              "      <td>11/10/2017</td>\n",
              "      <td>55.23</td>\n",
              "      <td>55.32</td>\n",
              "      <td>54.370</td>\n",
              "      <td>54.80</td>\n",
              "      <td>5032662</td>\n",
              "    </tr>\n",
              "    <tr>\n",
              "      <th>45555</th>\n",
              "      <td>11/9/2017</td>\n",
              "      <td>55.06</td>\n",
              "      <td>55.50</td>\n",
              "      <td>54.910</td>\n",
              "      <td>55.45</td>\n",
              "      <td>3644007</td>\n",
              "    </tr>\n",
              "    <tr>\n",
              "      <th>45554</th>\n",
              "      <td>11/8/2017</td>\n",
              "      <td>54.98</td>\n",
              "      <td>55.35</td>\n",
              "      <td>54.720</td>\n",
              "      <td>55.25</td>\n",
              "      <td>3712978</td>\n",
              "    </tr>\n",
              "    <tr>\n",
              "      <th>45553</th>\n",
              "      <td>11/7/2017</td>\n",
              "      <td>55.15</td>\n",
              "      <td>55.26</td>\n",
              "      <td>54.685</td>\n",
              "      <td>55.16</td>\n",
              "      <td>4843996</td>\n",
              "    </tr>\n",
              "    <tr>\n",
              "      <th>45552</th>\n",
              "      <td>11/6/2017</td>\n",
              "      <td>55.32</td>\n",
              "      <td>55.40</td>\n",
              "      <td>55.010</td>\n",
              "      <td>55.01</td>\n",
              "      <td>3134081</td>\n",
              "    </tr>\n",
              "  </tbody>\n",
              "</table>\n",
              "</div>\n",
              "      <button class=\"colab-df-convert\" onclick=\"convertToInteractive('df-004de616-a190-46ef-b6a1-66802856e2c5')\"\n",
              "              title=\"Convert this dataframe to an interactive table.\"\n",
              "              style=\"display:none;\">\n",
              "        \n",
              "  <svg xmlns=\"http://www.w3.org/2000/svg\" height=\"24px\"viewBox=\"0 0 24 24\"\n",
              "       width=\"24px\">\n",
              "    <path d=\"M0 0h24v24H0V0z\" fill=\"none\"/>\n",
              "    <path d=\"M18.56 5.44l.94 2.06.94-2.06 2.06-.94-2.06-.94-.94-2.06-.94 2.06-2.06.94zm-11 1L8.5 8.5l.94-2.06 2.06-.94-2.06-.94L8.5 2.5l-.94 2.06-2.06.94zm10 10l.94 2.06.94-2.06 2.06-.94-2.06-.94-.94-2.06-.94 2.06-2.06.94z\"/><path d=\"M17.41 7.96l-1.37-1.37c-.4-.4-.92-.59-1.43-.59-.52 0-1.04.2-1.43.59L10.3 9.45l-7.72 7.72c-.78.78-.78 2.05 0 2.83L4 21.41c.39.39.9.59 1.41.59.51 0 1.02-.2 1.41-.59l7.78-7.78 2.81-2.81c.8-.78.8-2.07 0-2.86zM5.41 20L4 18.59l7.72-7.72 1.47 1.35L5.41 20z\"/>\n",
              "  </svg>\n",
              "      </button>\n",
              "      \n",
              "  <style>\n",
              "    .colab-df-container {\n",
              "      display:flex;\n",
              "      flex-wrap:wrap;\n",
              "      gap: 12px;\n",
              "    }\n",
              "\n",
              "    .colab-df-convert {\n",
              "      background-color: #E8F0FE;\n",
              "      border: none;\n",
              "      border-radius: 50%;\n",
              "      cursor: pointer;\n",
              "      display: none;\n",
              "      fill: #1967D2;\n",
              "      height: 32px;\n",
              "      padding: 0 0 0 0;\n",
              "      width: 32px;\n",
              "    }\n",
              "\n",
              "    .colab-df-convert:hover {\n",
              "      background-color: #E2EBFA;\n",
              "      box-shadow: 0px 1px 2px rgba(60, 64, 67, 0.3), 0px 1px 3px 1px rgba(60, 64, 67, 0.15);\n",
              "      fill: #174EA6;\n",
              "    }\n",
              "\n",
              "    [theme=dark] .colab-df-convert {\n",
              "      background-color: #3B4455;\n",
              "      fill: #D2E3FC;\n",
              "    }\n",
              "\n",
              "    [theme=dark] .colab-df-convert:hover {\n",
              "      background-color: #434B5C;\n",
              "      box-shadow: 0px 1px 3px 1px rgba(0, 0, 0, 0.15);\n",
              "      filter: drop-shadow(0px 1px 2px rgba(0, 0, 0, 0.3));\n",
              "      fill: #FFFFFF;\n",
              "    }\n",
              "  </style>\n",
              "\n",
              "      <script>\n",
              "        const buttonEl =\n",
              "          document.querySelector('#df-004de616-a190-46ef-b6a1-66802856e2c5 button.colab-df-convert');\n",
              "        buttonEl.style.display =\n",
              "          google.colab.kernel.accessAllowed ? 'block' : 'none';\n",
              "\n",
              "        async function convertToInteractive(key) {\n",
              "          const element = document.querySelector('#df-004de616-a190-46ef-b6a1-66802856e2c5');\n",
              "          const dataTable =\n",
              "            await google.colab.kernel.invokeFunction('convertToInteractive',\n",
              "                                                     [key], {});\n",
              "          if (!dataTable) return;\n",
              "\n",
              "          const docLinkHtml = 'Like what you see? Visit the ' +\n",
              "            '<a target=\"_blank\" href=https://colab.research.google.com/notebooks/data_table.ipynb>data table notebook</a>'\n",
              "            + ' to learn more about interactive tables.';\n",
              "          element.innerHTML = '';\n",
              "          dataTable['output_type'] = 'display_data';\n",
              "          await google.colab.output.renderOutput(dataTable, element);\n",
              "          const docLink = document.createElement('div');\n",
              "          docLink.innerHTML = docLinkHtml;\n",
              "          element.appendChild(docLink);\n",
              "        }\n",
              "      </script>\n",
              "    </div>\n",
              "  </div>\n",
              "  "
            ]
          },
          "metadata": {},
          "execution_count": 44
        }
      ]
    },
    {
      "cell_type": "code",
      "source": [
        "!pip install keras\n",
        "!pip install tensorflow"
      ],
      "metadata": {
        "colab": {
          "base_uri": "https://localhost:8080/"
        },
        "id": "OySLPTQLSHVa",
        "outputId": "82b0422e-3775-4e83-d5ea-f8c87704569e"
      },
      "execution_count": 33,
      "outputs": [
        {
          "output_type": "stream",
          "name": "stdout",
          "text": [
            "Looking in indexes: https://pypi.org/simple, https://us-python.pkg.dev/colab-wheels/public/simple/\n",
            "Requirement already satisfied: keras in /usr/local/lib/python3.9/dist-packages (2.12.0)\n",
            "Traceback (most recent call last):\n",
            "  File \"/usr/local/bin/pip3\", line 5, in <module>\n",
            "    from pip._internal.cli.main import main\n",
            "  File \"/usr/local/lib/python3.9/dist-packages/pip/_internal/cli/main.py\", line 9, in <module>\n",
            "    from pip._internal.cli.autocompletion import autocomplete\n",
            "  File \"/usr/local/lib/python3.9/dist-packages/pip/_internal/cli/autocompletion.py\", line 10, in <module>\n",
            "  File \"/usr/local/lib/python3.9/dist-packages/pip/_internal/cli/main_parser.py\", line 8, in <module>\n",
            "    from pip._internal.cli import cmdoptions\n",
            "  File \"/usr/local/lib/python3.9/dist-packages/pip/_internal/cli/cmdoptions.py\", line 23, in <module>\n",
            "    from pip._internal.cli.parser import ConfigOptionParser\n",
            "  File \"/usr/local/lib/python3.9/dist-packages/pip/_internal/cli/parser.py\", line 12, in <module>\n",
            "    from pip._internal.configuration import Configuration, ConfigurationError\n",
            "  File \"/usr/local/lib/python3.9/dist-packages/pip/_internal/configuration.py\", line 20, in <module>\n",
            "    from pip._internal.exceptions import (\n",
            "  File \"/usr/local/lib/python3.9/dist-packages/pip/_internal/exceptions.py\", line 13, in <module>\n",
            "    from pip._vendor.requests.models import Request, Response\n",
            "  File \"/usr/local/lib/python3.9/dist-packages/pip/_vendor/requests/__init__.py\", line 43, in <module>\n",
            "    from pip._vendor import urllib3\n",
            "  File \"/usr/local/lib/python3.9/dist-packages/pip/_vendor/urllib3/__init__.py\", line 11, in <module>\n",
            "    from . import exceptions\n",
            "  File \"/usr/local/lib/python3.9/dist-packages/pip/_vendor/urllib3/exceptions.py\", line 3, in <module>\n",
            "    from .packages.six.moves.http_client import IncompleteRead as httplib_IncompleteRead\n",
            "  File \"<frozen importlib._bootstrap>\", line 1007, in _find_and_load\n",
            "  File \"<frozen importlib._bootstrap>\", line 982, in _find_and_load_unlocked\n",
            "  File \"<frozen importlib._bootstrap>\", line 925, in _find_spec\n",
            "  File \"/usr/local/lib/python3.9/dist-packages/pip/_vendor/urllib3/packages/six.py\", line 192, in find_spec\n",
            "    return spec_from_loader(fullname, self)\n",
            "  File \"<frozen importlib._bootstrap>\", line 431, in spec_from_loader\n",
            "  File \"/usr/local/lib/python3.9/dist-packages/pip/_vendor/urllib3/packages/six.py\", line 222, in is_package\n",
            "    return hasattr(self.__get_module(fullname), \"__path__\")\n",
            "  File \"/usr/local/lib/python3.9/dist-packages/pip/_vendor/urllib3/packages/six.py\", line 121, in __getattr__\n",
            "    _module = self._resolve()\n",
            "  File \"/usr/local/lib/python3.9/dist-packages/pip/_vendor/urllib3/packages/six.py\", line 118, in _resolve\n",
            "    return _import_module(self.mod)\n",
            "  File \"/usr/local/lib/python3.9/dist-packages/pip/_vendor/urllib3/packages/six.py\", line 87, in _import_module\n",
            "    __import__(name)\n",
            "  File \"/usr/lib/python3.9/http/client.py\", line 71, in <module>\n",
            "    import email.parser\n",
            "  File \"/usr/lib/python3.9/email/parser.py\", line 12, in <module>\n",
            "    from email.feedparser import FeedParser, BytesFeedParser\n",
            "  File \"/usr/lib/python3.9/email/feedparser.py\", line 37, in <module>\n",
            "    headerRE = re.compile(r'^(From |[\\041-\\071\\073-\\176]*:|[\\t ])')\n",
            "  File \"/usr/lib/python3.9/re.py\", line 252, in compile\n",
            "    return _compile(pattern, flags)\n",
            "  File \"/usr/lib/python3.9/re.py\", line 304, in _compile\n",
            "    p = sre_compile.compile(pattern, flags)\n",
            "  File \"/usr/lib/python3.9/sre_compile.py\", line 788, in compile\n",
            "    p = sre_parse.parse(p, flags)\n",
            "  File \"/usr/lib/python3.9/sre_parse.py\", line 955, in parse\n",
            "    p = _parse_sub(source, state, flags & SRE_FLAG_VERBOSE, 0)\n",
            "  File \"/usr/lib/python3.9/sre_parse.py\", line 444, in _parse_sub\n",
            "    itemsappend(_parse(source, state, verbose, nested + 1,\n",
            "  File \"/usr/lib/python3.9/sre_parse.py\", line 841, in _parse\n",
            "    p = _parse_sub(source, state, sub_verbose, nested + 1)\n",
            "  File \"/usr/lib/python3.9/sre_parse.py\", line 444, in _parse_sub\n",
            "    itemsappend(_parse(source, state, verbose, nested + 1,\n",
            "  File \"/usr/lib/python3.9/sre_parse.py\", line 525, in _parse\n",
            "    if this[0] == \"\\\\\":\n",
            "KeyboardInterrupt\n",
            "^C\n"
          ]
        }
      ]
    },
    {
      "cell_type": "markdown",
      "metadata": {
        "id": "0L07ek2nzSbm"
      },
      "source": [
        "**Imported all keras files**"
      ]
    },
    {
      "cell_type": "markdown",
      "metadata": {
        "id": "fLwgwSOMzYWj"
      },
      "source": [
        "# NEXT STEPS"
      ]
    },
    {
      "cell_type": "markdown",
      "metadata": {
        "id": "KJRpe70gexb0"
      },
      "source": [
        "**DATA MANIPULATION, NORMALIZATION AND EMA(Exponential moving average) CALCULATION**"
      ]
    },
    {
      "cell_type": "markdown",
      "metadata": {
        "id": "FfVkAA0oz05A"
      },
      "source": [
        "**WHAT I AM TRYING TO DO:** \n",
        "\n",
        "**INSTEAD OF MAE I WILL TRY TO MEASURE ACCURACY OF MY LSTM NETWORK BY CONVERTING THE REGRESSION PROBLEM INTO CLASSIFICATION.** \n",
        "\n",
        "**I WILL TRY TO PREDICT CLOSING PRICES DATAPOINT TO DATAPOINT AND SEE HOW WELL MY NORMALIZED DATASET CAN PREDICT THE CLOSING VALUES**"
      ]
    },
    {
      "cell_type": "code",
      "source": [
        "def create_Xt_Yt(X, y, percentage=0.9):\n",
        "    X_train = X[0:int(len(X) * percentage)]\n",
        "    Y_train = y[0:int(len(y) * percentage)]\n",
        "    X_test = X[int(len(X) * percentage):]\n",
        "    Y_test = y[int(len(y) * percentage):]\n",
        "    return X_train, X_test, Y_train, Y_test\n"
      ],
      "metadata": {
        "id": "oJgikEQgWawO"
      },
      "execution_count": 37,
      "outputs": []
    },
    {
      "cell_type": "code",
      "metadata": {
        "id": "T5ZAk09cexb1"
      },
      "source": [
        "data_original = pd.read_csv('AMZN.csv')[::-1]\n",
        "\n",
        "openp = data_original['Open'].tolist()  # convert all OHLCV data into list formats so appending will be easy\n",
        "highp = data_original.loc[:, 'High'].tolist()\n",
        "lowp = data_original.loc[:, 'Low'].tolist()\n",
        "closep = data_original.loc[:, 'Close'].tolist()\n",
        "volumep = data_original.loc[:, 'Volume'].tolist()\n",
        "\n",
        "WINDOW = 30   # Keep a window of 30 days for EMA\n",
        "EMB_SIZE = 5  \n",
        "STEP = 1\n",
        "FORECAST = 1 # One day ahead forecast as before \n",
        "X, Y = [], []\n",
        "for i in range(0, len(data_original), STEP):  # create a counter for data with step size 1\n",
        "    try:\n",
        "        o = openp[i:i+WINDOW]  # declare a window and sample through each stock price\n",
        "        h = highp[i:i+WINDOW]\n",
        "        l = lowp[i:i+WINDOW]\n",
        "        c = closep[i:i+WINDOW]\n",
        "        v = volumep[i:i+WINDOW]\n",
        "\n",
        "        o = (np.array(o) - np.mean(o)) / np.std(o)  # normalize the stock values by fiding differnce in array lenth and mean and dividing by standard dev\n",
        "        h = (np.array(h) - np.mean(h)) / np.std(h)\n",
        "        l = (np.array(l) - np.mean(l)) / np.std(l)\n",
        "        c = (np.array(c) - np.mean(c)) / np.std(c)\n",
        "        v = (np.array(v) - np.mean(v)) / np.std(v)\n",
        "\n",
        "        x_i = closep[i:i+WINDOW]           # create train for close price and add forecast for output price\n",
        "        y_i = closep[i+WINDOW+FORECAST]  \n",
        "\n",
        "        last_close = x_i[-1]\n",
        "        next_close = y_i\n",
        "\n",
        "        if last_close < next_close: \n",
        "            y_i = [1, 0]\n",
        "        else:\n",
        "            y_i = [0, 1] \n",
        "\n",
        "        x_i = np.column_stack((o, h, l, c, v))   # do not consider any tickers that we conidered in former model.\n",
        "                                                  # by creating close price treshold we create our own theshold indicator\n",
        "\n",
        "    except Exception as e:\n",
        "        break\n",
        "\n",
        "    X.append(x_i)\n",
        "    Y.append(y_i)\n",
        "\n",
        "X, Y = np.array(X), np.array(Y)\n",
        "X_train, X_test, Y_train, Y_test = create_Xt_Yt(X, Y)\n",
        "\n",
        "X_train = np.reshape(X_train, (X_train.shape[0], X_train.shape[1], EMB_SIZE))  # reshape train so that can be fed into LSTM network\n",
        "X_test = np.reshape(X_test, (X_test.shape[0], X_test.shape[1], EMB_SIZE))\n"
      ],
      "execution_count": 45,
      "outputs": []
    },
    {
      "cell_type": "markdown",
      "metadata": {
        "id": "Nyd8Sd1texb3"
      },
      "source": [
        "**My Algorithm:**\n",
        "\n",
        "**1. create train for close price and add forecast for output price**\n",
        "\n",
        "**2. create train for close price and add forecast for output price**\n",
        "\n",
        "**3. do not consider any tickers that we conidered in former model.**\n",
        "\n",
        "**4. by creating close price treshold we create our own theshold indicator**"
      ]
    },
    {
      "cell_type": "markdown",
      "metadata": {
        "id": "QMN0hu4pexb4"
      },
      "source": [
        "**USE LSTM NETWORK ARCHITECTURE**"
      ]
    },
    {
      "cell_type": "code",
      "metadata": {
        "id": "PnAxdqL8exb4"
      },
      "source": [
        "\n",
        "def mean_pred(X_test, Y_test):\n",
        "    return K.mean(Y_test)\n",
        "\n",
        "def build_model(inputs, output_size, neurons, activ_func=\"relu\",\n",
        "                dropout=0.10, loss=\"mae\", optimizer=\"adam\"):\n",
        "    \n",
        "    model = Sequential()\n",
        "\n",
        "    model.add(LSTM(neurons, input_shape=(WINDOW,EMB_SIZE)))\n",
        "    model.add(Dropout(dropout))\n",
        "    model.add(Dense(units=output_size))\n",
        "    model.add(Activation(activ_func))\n",
        "\n",
        "    model.compile(loss=loss, optimizer=optimizer, metrics=['accuracy', mean_pred])\n",
        "    return model"
      ],
      "execution_count": 46,
      "outputs": []
    },
    {
      "cell_type": "code",
      "metadata": {
        "id": "K3Vz5MR8exb6",
        "colab": {
          "base_uri": "https://localhost:8080/"
        },
        "outputId": "b3cfb28b-cef7-4b2d-99e3-c6f6e5639266"
      },
      "source": [
        "from keras import backend as K\n",
        "nn_model = build_model(X_train, output_size=2, neurons = 32)\n",
        "# model output is next price normalised to 10th previous closing price\n",
        "# train model on data\n",
        "# note: eth_history contains information on the training error per epoch\n",
        "nn_history = nn_model.fit(X_train, Y_train,\n",
        "                            epochs=20, batch_size=256, verbose=1,  validation_data=(X_test, Y_test),shuffle=True)"
      ],
      "execution_count": 48,
      "outputs": [
        {
          "output_type": "stream",
          "name": "stdout",
          "text": [
            "Epoch 1/20\n"
          ]
        },
        {
          "output_type": "stream",
          "name": "stderr",
          "text": [
            "WARNING:tensorflow:AutoGraph could not transform <function Model.make_train_function.<locals>.train_function at 0x7f7284d15d30> and will run it as-is.\n",
            "Please report this to the TensorFlow team. When filing the bug, set the verbosity to 10 (on Linux, `export AUTOGRAPH_VERBOSITY=10`) and attach the full output.\n",
            "Cause: closure mismatch, requested ('self', 'step_function'), but source function had ('self',)\n",
            "To silence this warning, decorate the function with @tf.autograph.experimental.do_not_convert\n"
          ]
        },
        {
          "output_type": "stream",
          "name": "stdout",
          "text": [
            "WARNING: AutoGraph could not transform <function Model.make_train_function.<locals>.train_function at 0x7f7284d15d30> and will run it as-is.\n",
            "Please report this to the TensorFlow team. When filing the bug, set the verbosity to 10 (on Linux, `export AUTOGRAPH_VERBOSITY=10`) and attach the full output.\n",
            "Cause: closure mismatch, requested ('self', 'step_function'), but source function had ('self',)\n",
            "To silence this warning, decorate the function with @tf.autograph.experimental.do_not_convert\n",
            "140/143 [============================>.] - ETA: 0s - loss: 0.4754 - accuracy: 0.5256 - mean_pred: 0.2371"
          ]
        },
        {
          "output_type": "stream",
          "name": "stderr",
          "text": [
            "WARNING:tensorflow:AutoGraph could not transform <function Model.make_test_function.<locals>.test_function at 0x7f7284d243a0> and will run it as-is.\n",
            "Please report this to the TensorFlow team. When filing the bug, set the verbosity to 10 (on Linux, `export AUTOGRAPH_VERBOSITY=10`) and attach the full output.\n",
            "Cause: closure mismatch, requested ('self', 'step_function'), but source function had ()\n",
            "To silence this warning, decorate the function with @tf.autograph.experimental.do_not_convert\n"
          ]
        },
        {
          "output_type": "stream",
          "name": "stdout",
          "text": [
            "WARNING: AutoGraph could not transform <function Model.make_test_function.<locals>.test_function at 0x7f7284d243a0> and will run it as-is.\n",
            "Please report this to the TensorFlow team. When filing the bug, set the verbosity to 10 (on Linux, `export AUTOGRAPH_VERBOSITY=10`) and attach the full output.\n",
            "Cause: closure mismatch, requested ('self', 'step_function'), but source function had ()\n",
            "To silence this warning, decorate the function with @tf.autograph.experimental.do_not_convert\n",
            "143/143 [==============================] - 10s 11ms/step - loss: 0.4747 - accuracy: 0.5262 - mean_pred: 0.2395 - val_loss: 0.4551 - val_accuracy: 0.5358 - val_mean_pred: 0.3521\n",
            "Epoch 2/20\n",
            "143/143 [==============================] - 1s 9ms/step - loss: 0.4458 - accuracy: 0.5600 - mean_pred: 0.3115 - val_loss: 0.4328 - val_accuracy: 0.5985 - val_mean_pred: 0.3071\n",
            "Epoch 3/20\n",
            "143/143 [==============================] - 1s 6ms/step - loss: 0.4031 - accuracy: 0.6493 - mean_pred: 0.3998 - val_loss: 0.3901 - val_accuracy: 0.6866 - val_mean_pred: 0.3967\n",
            "Epoch 4/20\n",
            "143/143 [==============================] - 1s 8ms/step - loss: 0.3810 - accuracy: 0.6811 - mean_pred: 0.4177 - val_loss: 0.3818 - val_accuracy: 0.6860 - val_mean_pred: 0.3703\n",
            "Epoch 5/20\n",
            "143/143 [==============================] - 1s 8ms/step - loss: 0.3722 - accuracy: 0.6909 - mean_pred: 0.4181 - val_loss: 0.3739 - val_accuracy: 0.6871 - val_mean_pred: 0.4331\n",
            "Epoch 6/20\n",
            "143/143 [==============================] - 1s 9ms/step - loss: 0.3667 - accuracy: 0.6963 - mean_pred: 0.4211 - val_loss: 0.3712 - val_accuracy: 0.6863 - val_mean_pred: 0.4552\n",
            "Epoch 7/20\n",
            "143/143 [==============================] - 1s 7ms/step - loss: 0.3629 - accuracy: 0.6963 - mean_pred: 0.4170 - val_loss: 0.3675 - val_accuracy: 0.6929 - val_mean_pred: 0.4179\n",
            "Epoch 8/20\n",
            "143/143 [==============================] - 1s 6ms/step - loss: 0.3612 - accuracy: 0.6969 - mean_pred: 0.4191 - val_loss: 0.3658 - val_accuracy: 0.6914 - val_mean_pred: 0.4291\n",
            "Epoch 9/20\n",
            "143/143 [==============================] - 1s 6ms/step - loss: 0.3585 - accuracy: 0.6986 - mean_pred: 0.4205 - val_loss: 0.3637 - val_accuracy: 0.6936 - val_mean_pred: 0.4177\n",
            "Epoch 10/20\n",
            "143/143 [==============================] - 1s 6ms/step - loss: 0.3557 - accuracy: 0.7006 - mean_pred: 0.4233 - val_loss: 0.3625 - val_accuracy: 0.6908 - val_mean_pred: 0.4272\n",
            "Epoch 11/20\n",
            "143/143 [==============================] - 1s 6ms/step - loss: 0.3554 - accuracy: 0.6995 - mean_pred: 0.4204 - val_loss: 0.3622 - val_accuracy: 0.6900 - val_mean_pred: 0.4517\n",
            "Epoch 12/20\n",
            "143/143 [==============================] - 1s 6ms/step - loss: 0.3541 - accuracy: 0.6991 - mean_pred: 0.4217 - val_loss: 0.3597 - val_accuracy: 0.6936 - val_mean_pred: 0.4236\n",
            "Epoch 13/20\n",
            "143/143 [==============================] - 1s 6ms/step - loss: 0.3514 - accuracy: 0.7015 - mean_pred: 0.4269 - val_loss: 0.3585 - val_accuracy: 0.6946 - val_mean_pred: 0.4342\n",
            "Epoch 14/20\n",
            "143/143 [==============================] - 1s 6ms/step - loss: 0.3507 - accuracy: 0.7005 - mean_pred: 0.4257 - val_loss: 0.3569 - val_accuracy: 0.6943 - val_mean_pred: 0.4404\n",
            "Epoch 15/20\n",
            "143/143 [==============================] - 1s 6ms/step - loss: 0.3493 - accuracy: 0.7014 - mean_pred: 0.4266 - val_loss: 0.3589 - val_accuracy: 0.6890 - val_mean_pred: 0.4190\n",
            "Epoch 16/20\n",
            "143/143 [==============================] - 1s 6ms/step - loss: 0.3477 - accuracy: 0.7028 - mean_pred: 0.4299 - val_loss: 0.3547 - val_accuracy: 0.6935 - val_mean_pred: 0.4379\n",
            "Epoch 17/20\n",
            "143/143 [==============================] - 1s 6ms/step - loss: 0.3464 - accuracy: 0.7035 - mean_pred: 0.4329 - val_loss: 0.3546 - val_accuracy: 0.6944 - val_mean_pred: 0.4045\n",
            "Epoch 18/20\n",
            "143/143 [==============================] - 1s 7ms/step - loss: 0.3452 - accuracy: 0.7035 - mean_pred: 0.4326 - val_loss: 0.3523 - val_accuracy: 0.6934 - val_mean_pred: 0.4414\n",
            "Epoch 19/20\n",
            "143/143 [==============================] - 1s 8ms/step - loss: 0.3430 - accuracy: 0.7031 - mean_pred: 0.4365 - val_loss: 0.3511 - val_accuracy: 0.6954 - val_mean_pred: 0.4394\n",
            "Epoch 20/20\n",
            "143/143 [==============================] - 1s 8ms/step - loss: 0.3422 - accuracy: 0.7037 - mean_pred: 0.4349 - val_loss: 0.3495 - val_accuracy: 0.6940 - val_mean_pred: 0.4404\n"
          ]
        }
      ]
    },
    {
      "cell_type": "markdown",
      "metadata": {
        "id": "EIcP_G10-VZg"
      },
      "source": [
        "**TRAINING ACCURACY AT 70.6%**"
      ]
    },
    {
      "cell_type": "code",
      "metadata": {
        "id": "oZukq1gWexb8",
        "colab": {
          "base_uri": "https://localhost:8080/"
        },
        "outputId": "4c9e60a8-086f-4775-9171-a10fcc324e19"
      },
      "source": [
        "nn_model.summary()\n"
      ],
      "execution_count": 49,
      "outputs": [
        {
          "output_type": "stream",
          "name": "stdout",
          "text": [
            "Model: \"sequential_1\"\n",
            "_________________________________________________________________\n",
            " Layer (type)                Output Shape              Param #   \n",
            "=================================================================\n",
            " lstm_1 (LSTM)               (None, 32)                4864      \n",
            "                                                                 \n",
            " dropout_1 (Dropout)         (None, 32)                0         \n",
            "                                                                 \n",
            " dense_1 (Dense)             (None, 2)                 66        \n",
            "                                                                 \n",
            " activation_1 (Activation)   (None, 2)                 0         \n",
            "                                                                 \n",
            "=================================================================\n",
            "Total params: 4,930\n",
            "Trainable params: 4,930\n",
            "Non-trainable params: 0\n",
            "_________________________________________________________________\n"
          ]
        }
      ]
    },
    {
      "cell_type": "code",
      "metadata": {
        "id": "WoJOq_rgexb-",
        "colab": {
          "base_uri": "https://localhost:8080/"
        },
        "outputId": "73618d9b-0355-46f9-84bd-403df1834d1e"
      },
      "source": [
        "acc = nn_model.evaluate(X_test, Y_test, batch_size=16)\n",
        "print('Test accuracy:', acc)"
      ],
      "execution_count": 50,
      "outputs": [
        {
          "output_type": "stream",
          "name": "stdout",
          "text": [
            "570/570 [==============================] - 2s 4ms/step - loss: 0.3495 - accuracy: 0.6940 - mean_pred: 0.4402\n",
            "Test accuracy: [0.3494596481323242, 0.6940478682518005, 0.44021180272102356]\n"
          ]
        }
      ]
    },
    {
      "cell_type": "markdown",
      "metadata": {
        "id": "FTliD7NC-j2Y"
      },
      "source": [
        "**TESTING ACCURACY AT 67.18%**"
      ]
    },
    {
      "cell_type": "code",
      "metadata": {
        "id": "bi51jqQgexcA",
        "colab": {
          "base_uri": "https://localhost:8080/",
          "height": 244
        },
        "outputId": "145753ae-42d0-49fd-b7aa-7c2f325d7d5c"
      },
      "source": [
        "#Plotting training data loss and validation data loss\n",
        "plt.plot(nn_history.history['acc'], label = 'trained data')\n",
        "plt.plot(nn_history.history['val_acc'], label = 'validated data')\n",
        "plt.legend()\n",
        "plt.xlabel('Epochs')\n",
        "plt.ylabel('Accuracy')\n",
        "plt.title('Measure of accuracy')\n",
        "plt.show()"
      ],
      "execution_count": 51,
      "outputs": [
        {
          "output_type": "error",
          "ename": "KeyError",
          "evalue": "ignored",
          "traceback": [
            "\u001b[0;31m---------------------------------------------------------------------------\u001b[0m",
            "\u001b[0;31mKeyError\u001b[0m                                  Traceback (most recent call last)",
            "\u001b[0;32m<ipython-input-51-600e137d7d0a>\u001b[0m in \u001b[0;36m<module>\u001b[0;34m\u001b[0m\n\u001b[1;32m      1\u001b[0m \u001b[0;31m#Plotting training data loss and validation data loss\u001b[0m\u001b[0;34m\u001b[0m\u001b[0;34m\u001b[0m\u001b[0m\n\u001b[0;32m----> 2\u001b[0;31m \u001b[0mplt\u001b[0m\u001b[0;34m.\u001b[0m\u001b[0mplot\u001b[0m\u001b[0;34m(\u001b[0m\u001b[0mnn_history\u001b[0m\u001b[0;34m.\u001b[0m\u001b[0mhistory\u001b[0m\u001b[0;34m[\u001b[0m\u001b[0;34m'acc'\u001b[0m\u001b[0;34m]\u001b[0m\u001b[0;34m,\u001b[0m \u001b[0mlabel\u001b[0m \u001b[0;34m=\u001b[0m \u001b[0;34m'trained data'\u001b[0m\u001b[0;34m)\u001b[0m\u001b[0;34m\u001b[0m\u001b[0;34m\u001b[0m\u001b[0m\n\u001b[0m\u001b[1;32m      3\u001b[0m \u001b[0mplt\u001b[0m\u001b[0;34m.\u001b[0m\u001b[0mplot\u001b[0m\u001b[0;34m(\u001b[0m\u001b[0mnn_history\u001b[0m\u001b[0;34m.\u001b[0m\u001b[0mhistory\u001b[0m\u001b[0;34m[\u001b[0m\u001b[0;34m'val_acc'\u001b[0m\u001b[0;34m]\u001b[0m\u001b[0;34m,\u001b[0m \u001b[0mlabel\u001b[0m \u001b[0;34m=\u001b[0m \u001b[0;34m'validated data'\u001b[0m\u001b[0;34m)\u001b[0m\u001b[0;34m\u001b[0m\u001b[0;34m\u001b[0m\u001b[0m\n\u001b[1;32m      4\u001b[0m \u001b[0mplt\u001b[0m\u001b[0;34m.\u001b[0m\u001b[0mlegend\u001b[0m\u001b[0;34m(\u001b[0m\u001b[0;34m)\u001b[0m\u001b[0;34m\u001b[0m\u001b[0;34m\u001b[0m\u001b[0m\n\u001b[1;32m      5\u001b[0m \u001b[0mplt\u001b[0m\u001b[0;34m.\u001b[0m\u001b[0mxlabel\u001b[0m\u001b[0;34m(\u001b[0m\u001b[0;34m'Epochs'\u001b[0m\u001b[0;34m)\u001b[0m\u001b[0;34m\u001b[0m\u001b[0;34m\u001b[0m\u001b[0m\n",
            "\u001b[0;31mKeyError\u001b[0m: 'acc'"
          ]
        }
      ]
    },
    {
      "cell_type": "markdown",
      "metadata": {
        "id": "wGOS0SMX-s2D"
      },
      "source": [
        "**A GOOD MODEL. NORMALIZED VALUES DIFFERENCE AT 0.025 SO NOT OVERFIT OR UNDERFIT.**"
      ]
    },
    {
      "cell_type": "code",
      "metadata": {
        "id": "FFhxD0rZexcC",
        "colab": {
          "base_uri": "https://localhost:8080/",
          "height": 295
        },
        "outputId": "4844810c-6665-4f37-a95f-8fb877566b04"
      },
      "source": [
        "#plateau:\n",
        "plt.plot(nn_history.history['loss'], label = 'training curve')\n",
        "plt.plot(nn_history.history['val_loss'], label = 'testing curve')\n",
        "plt.legend()\n",
        "plt.xlabel('Epochs')\n",
        "plt.ylabel('Training loss')\n",
        "plt.title('Measure of plateau')\n",
        "plt.show()"
      ],
      "execution_count": 52,
      "outputs": [
        {
          "output_type": "display_data",
          "data": {
            "text/plain": [
              "<Figure size 432x288 with 1 Axes>"
            ],
            "image/png": "[encoded data removed]"
          },
          "metadata": {
            "needs_background": "light"
          }
        }
      ]
    },
    {
      "cell_type": "markdown",
      "metadata": {
        "id": "5umLf4MEexcE"
      },
      "source": [
        "**SUMMARY OF THIS STRATEGY: \n",
        "        great results compared to just pure stock prediction and even \n",
        "        previous simple moving average algorithm\n",
        "I will now try to find the best LSTM model by tweaking epoch, cost function, actvation function and other parameters. \n",
        "Go down for other network architectures-mainly GRU and conv1D**"
      ]
    },
    {
      "cell_type": "markdown",
      "metadata": {
        "id": "PN79AKBH_A3L"
      },
      "source": [
        "**HYPERPARAMETER TUNING**"
      ]
    },
    {
      "cell_type": "markdown",
      "metadata": {
        "id": "oia4KmT2excF"
      },
      "source": [
        "**For LSTM: change activation function, cost functionand other params. We know which ones are good for seq model by previous analysis. Trying a few combinations based on past analysis:**\n",
        "\n",
        "**1.elu and selu with rmsprop and sgd along with mse and logcosh**\n",
        "\n",
        "**2.will try epochs 100 and 50** \n",
        "\n",
        "**3. will try initialzers random uniform and zeros**"
      ]
    },
    {
      "cell_type": "code",
      "metadata": {
        "id": "PMqGTlVJexcG"
      },
      "source": [
        "#elu with mse and rmsprop. epoch of 100. \n",
        "#initializer random uniform.  \n",
        "def mean_pred(X_test, Y_test):\n",
        "    return K.mean(Y_test)\n",
        "\n",
        "def build_model(inputs, output_size, neurons, activ_func=\"elu\",\n",
        "                dropout=0.10, loss=\"mse\", optimizer=\"rmsprop\"):\n",
        "    \n",
        "    model = Sequential()\n",
        "\n",
        "    model.add(LSTM(neurons, input_shape=(WINDOW,EMB_SIZE)))\n",
        "    model.add(Dropout(dropout))\n",
        "    model.add(Dense(units=output_size, kernel_initializer='random_uniform'))\n",
        "    model.add(Activation(activ_func))\n",
        "\n",
        "    model.compile(loss=loss, optimizer=optimizer, metrics=['accuracy', mean_pred])\n",
        "    return model"
      ],
      "execution_count": 53,
      "outputs": []
    },
    {
      "cell_type": "code",
      "metadata": {
        "id": "UeMsiLZaexcI",
        "colab": {
          "base_uri": "https://localhost:8080/"
        },
        "outputId": "b6ffa734-6acb-489e-fa57-94ba4b2e4f06"
      },
      "source": [
        "nn_model = build_model(X_train, output_size=2, neurons = 32)\n",
        "# model output is next price normalised to 10th previous closing price\n",
        "# train model on data\n",
        "# note: eth_history contains information on the training error per epoch\n",
        "nn_history = nn_model.fit(X_train, Y_train,\n",
        "                            epochs=100, batch_size=256, verbose=1,  validation_data=(X_test, Y_test),shuffle=True)"
      ],
      "execution_count": 54,
      "outputs": [
        {
          "output_type": "stream",
          "name": "stdout",
          "text": [
            "Epoch 1/100\n"
          ]
        },
        {
          "output_type": "stream",
          "name": "stderr",
          "text": [
            "WARNING:tensorflow:AutoGraph could not transform <function Model.make_train_function.<locals>.train_function at 0x7f728ec0f040> and will run it as-is.\n",
            "Please report this to the TensorFlow team. When filing the bug, set the verbosity to 10 (on Linux, `export AUTOGRAPH_VERBOSITY=10`) and attach the full output.\n",
            "Cause: closure mismatch, requested ('self', 'step_function'), but source function had ('self',)\n",
            "To silence this warning, decorate the function with @tf.autograph.experimental.do_not_convert\n"
          ]
        },
        {
          "output_type": "stream",
          "name": "stdout",
          "text": [
            "WARNING: AutoGraph could not transform <function Model.make_train_function.<locals>.train_function at 0x7f728ec0f040> and will run it as-is.\n",
            "Please report this to the TensorFlow team. When filing the bug, set the verbosity to 10 (on Linux, `export AUTOGRAPH_VERBOSITY=10`) and attach the full output.\n",
            "Cause: closure mismatch, requested ('self', 'step_function'), but source function had ('self',)\n",
            "To silence this warning, decorate the function with @tf.autograph.experimental.do_not_convert\n",
            "135/143 [===========================>..] - ETA: 0s - loss: 0.2750 - accuracy: 0.5321 - mean_pred: 0.4328"
          ]
        },
        {
          "output_type": "stream",
          "name": "stderr",
          "text": [
            "WARNING:tensorflow:AutoGraph could not transform <function Model.make_test_function.<locals>.test_function at 0x7f728ed8cf70> and will run it as-is.\n",
            "Please report this to the TensorFlow team. When filing the bug, set the verbosity to 10 (on Linux, `export AUTOGRAPH_VERBOSITY=10`) and attach the full output.\n",
            "Cause: closure mismatch, requested ('self', 'step_function'), but source function had ()\n",
            "To silence this warning, decorate the function with @tf.autograph.experimental.do_not_convert\n"
          ]
        },
        {
          "output_type": "stream",
          "name": "stdout",
          "text": [
            "WARNING: AutoGraph could not transform <function Model.make_test_function.<locals>.test_function at 0x7f728ed8cf70> and will run it as-is.\n",
            "Please report this to the TensorFlow team. When filing the bug, set the verbosity to 10 (on Linux, `export AUTOGRAPH_VERBOSITY=10`) and attach the full output.\n",
            "Cause: closure mismatch, requested ('self', 'step_function'), but source function had ()\n",
            "To silence this warning, decorate the function with @tf.autograph.experimental.do_not_convert\n",
            "143/143 [==============================] - 4s 9ms/step - loss: 0.2735 - accuracy: 0.5339 - mean_pred: 0.4365 - val_loss: 0.2454 - val_accuracy: 0.5312 - val_mean_pred: 0.5045\n",
            "Epoch 2/100\n",
            "143/143 [==============================] - 1s 6ms/step - loss: 0.2410 - accuracy: 0.5902 - mean_pred: 0.4984 - val_loss: 0.2326 - val_accuracy: 0.6013 - val_mean_pred: 0.5075\n",
            "Epoch 3/100\n",
            "143/143 [==============================] - 1s 6ms/step - loss: 0.2228 - accuracy: 0.6501 - mean_pred: 0.4985 - val_loss: 0.2160 - val_accuracy: 0.6502 - val_mean_pred: 0.5033\n",
            "Epoch 4/100\n",
            "143/143 [==============================] - 1s 6ms/step - loss: 0.2089 - accuracy: 0.6829 - mean_pred: 0.4971 - val_loss: 0.2079 - val_accuracy: 0.6890 - val_mean_pred: 0.4969\n",
            "Epoch 5/100\n",
            "143/143 [==============================] - 1s 8ms/step - loss: 0.2047 - accuracy: 0.6925 - mean_pred: 0.4966 - val_loss: 0.2065 - val_accuracy: 0.6891 - val_mean_pred: 0.5004\n",
            "Epoch 6/100\n",
            "143/143 [==============================] - 1s 8ms/step - loss: 0.2030 - accuracy: 0.6945 - mean_pred: 0.4967 - val_loss: 0.2063 - val_accuracy: 0.6835 - val_mean_pred: 0.4966\n",
            "Epoch 7/100\n",
            "143/143 [==============================] - 1s 8ms/step - loss: 0.2017 - accuracy: 0.6980 - mean_pred: 0.4972 - val_loss: 0.2069 - val_accuracy: 0.6796 - val_mean_pred: 0.4909\n",
            "Epoch 8/100\n",
            "143/143 [==============================] - 1s 6ms/step - loss: 0.2013 - accuracy: 0.6972 - mean_pred: 0.4969 - val_loss: 0.2050 - val_accuracy: 0.6902 - val_mean_pred: 0.5012\n",
            "Epoch 9/100\n",
            "143/143 [==============================] - 1s 6ms/step - loss: 0.2012 - accuracy: 0.6995 - mean_pred: 0.4973 - val_loss: 0.2054 - val_accuracy: 0.6895 - val_mean_pred: 0.4846\n",
            "Epoch 10/100\n",
            "143/143 [==============================] - 1s 6ms/step - loss: 0.2004 - accuracy: 0.6985 - mean_pred: 0.4973 - val_loss: 0.2045 - val_accuracy: 0.6936 - val_mean_pred: 0.5008\n",
            "Epoch 11/100\n",
            "143/143 [==============================] - 1s 5ms/step - loss: 0.2003 - accuracy: 0.6991 - mean_pred: 0.4970 - val_loss: 0.2081 - val_accuracy: 0.6792 - val_mean_pred: 0.4737\n",
            "Epoch 12/100\n",
            "143/143 [==============================] - 1s 6ms/step - loss: 0.1999 - accuracy: 0.6993 - mean_pred: 0.4974 - val_loss: 0.2046 - val_accuracy: 0.6899 - val_mean_pred: 0.5008\n",
            "Epoch 13/100\n",
            "143/143 [==============================] - 1s 6ms/step - loss: 0.1996 - accuracy: 0.7012 - mean_pred: 0.4972 - val_loss: 0.2052 - val_accuracy: 0.6897 - val_mean_pred: 0.5109\n",
            "Epoch 14/100\n",
            "143/143 [==============================] - 1s 5ms/step - loss: 0.1990 - accuracy: 0.7010 - mean_pred: 0.4976 - val_loss: 0.2053 - val_accuracy: 0.6890 - val_mean_pred: 0.4936\n",
            "Epoch 15/100\n",
            "143/143 [==============================] - 1s 6ms/step - loss: 0.1992 - accuracy: 0.7015 - mean_pred: 0.4974 - val_loss: 0.2068 - val_accuracy: 0.6844 - val_mean_pred: 0.5016\n",
            "Epoch 16/100\n",
            "143/143 [==============================] - 1s 6ms/step - loss: 0.1987 - accuracy: 0.7028 - mean_pred: 0.4975 - val_loss: 0.2054 - val_accuracy: 0.6877 - val_mean_pred: 0.4819\n",
            "Epoch 17/100\n",
            "143/143 [==============================] - 1s 6ms/step - loss: 0.1987 - accuracy: 0.7027 - mean_pred: 0.4974 - val_loss: 0.2037 - val_accuracy: 0.6917 - val_mean_pred: 0.5131\n",
            "Epoch 18/100\n",
            "143/143 [==============================] - 1s 6ms/step - loss: 0.1980 - accuracy: 0.7037 - mean_pred: 0.4979 - val_loss: 0.2034 - val_accuracy: 0.6936 - val_mean_pred: 0.4943\n",
            "Epoch 19/100\n",
            "143/143 [==============================] - 1s 7ms/step - loss: 0.1977 - accuracy: 0.7034 - mean_pred: 0.4975 - val_loss: 0.2099 - val_accuracy: 0.6675 - val_mean_pred: 0.4866\n",
            "Epoch 20/100\n",
            "143/143 [==============================] - 1s 10ms/step - loss: 0.1981 - accuracy: 0.7021 - mean_pred: 0.4973 - val_loss: 0.2030 - val_accuracy: 0.6946 - val_mean_pred: 0.4885\n",
            "Epoch 21/100\n",
            "143/143 [==============================] - 1s 8ms/step - loss: 0.1977 - accuracy: 0.7014 - mean_pred: 0.4976 - val_loss: 0.2037 - val_accuracy: 0.6882 - val_mean_pred: 0.4994\n",
            "Epoch 22/100\n",
            "143/143 [==============================] - 1s 9ms/step - loss: 0.1972 - accuracy: 0.7042 - mean_pred: 0.4977 - val_loss: 0.2027 - val_accuracy: 0.6912 - val_mean_pred: 0.4898\n",
            "Epoch 23/100\n",
            "143/143 [==============================] - 1s 6ms/step - loss: 0.1968 - accuracy: 0.7017 - mean_pred: 0.4977 - val_loss: 0.2049 - val_accuracy: 0.6897 - val_mean_pred: 0.5029\n",
            "Epoch 24/100\n",
            "143/143 [==============================] - 1s 6ms/step - loss: 0.1965 - accuracy: 0.7032 - mean_pred: 0.4978 - val_loss: 0.2031 - val_accuracy: 0.6923 - val_mean_pred: 0.4910\n",
            "Epoch 25/100\n",
            "143/143 [==============================] - 1s 6ms/step - loss: 0.1964 - accuracy: 0.7023 - mean_pred: 0.4979 - val_loss: 0.2021 - val_accuracy: 0.6964 - val_mean_pred: 0.4893\n",
            "Epoch 26/100\n",
            "143/143 [==============================] - 1s 6ms/step - loss: 0.1963 - accuracy: 0.7027 - mean_pred: 0.4978 - val_loss: 0.2019 - val_accuracy: 0.6953 - val_mean_pred: 0.5020\n",
            "Epoch 27/100\n",
            "143/143 [==============================] - 1s 6ms/step - loss: 0.1959 - accuracy: 0.7044 - mean_pred: 0.4980 - val_loss: 0.2018 - val_accuracy: 0.6943 - val_mean_pred: 0.5026\n",
            "Epoch 28/100\n",
            "143/143 [==============================] - 1s 6ms/step - loss: 0.1958 - accuracy: 0.7036 - mean_pred: 0.4981 - val_loss: 0.2018 - val_accuracy: 0.6949 - val_mean_pred: 0.4978\n",
            "Epoch 29/100\n",
            "143/143 [==============================] - 1s 6ms/step - loss: 0.1953 - accuracy: 0.7059 - mean_pred: 0.4980 - val_loss: 0.2011 - val_accuracy: 0.6967 - val_mean_pred: 0.4945\n",
            "Epoch 30/100\n",
            "143/143 [==============================] - 1s 6ms/step - loss: 0.1950 - accuracy: 0.7024 - mean_pred: 0.4983 - val_loss: 0.2031 - val_accuracy: 0.6981 - val_mean_pred: 0.4964\n",
            "Epoch 31/100\n",
            "143/143 [==============================] - 1s 6ms/step - loss: 0.1949 - accuracy: 0.7056 - mean_pred: 0.4982 - val_loss: 0.2017 - val_accuracy: 0.6972 - val_mean_pred: 0.4974\n",
            "Epoch 32/100\n",
            "143/143 [==============================] - 1s 6ms/step - loss: 0.1949 - accuracy: 0.7046 - mean_pred: 0.4982 - val_loss: 0.2034 - val_accuracy: 0.6908 - val_mean_pred: 0.5089\n",
            "Epoch 33/100\n",
            "143/143 [==============================] - 1s 6ms/step - loss: 0.1950 - accuracy: 0.7052 - mean_pred: 0.4980 - val_loss: 0.2027 - val_accuracy: 0.6966 - val_mean_pred: 0.5059\n",
            "Epoch 34/100\n",
            "143/143 [==============================] - 1s 6ms/step - loss: 0.1945 - accuracy: 0.7072 - mean_pred: 0.4987 - val_loss: 0.2023 - val_accuracy: 0.6880 - val_mean_pred: 0.4950\n",
            "Epoch 35/100\n",
            "143/143 [==============================] - 1s 8ms/step - loss: 0.1944 - accuracy: 0.7038 - mean_pred: 0.4982 - val_loss: 0.2024 - val_accuracy: 0.6947 - val_mean_pred: 0.4957\n",
            "Epoch 36/100\n",
            "143/143 [==============================] - 1s 8ms/step - loss: 0.1941 - accuracy: 0.7059 - mean_pred: 0.4983 - val_loss: 0.2019 - val_accuracy: 0.6949 - val_mean_pred: 0.4968\n",
            "Epoch 37/100\n",
            "143/143 [==============================] - 1s 10ms/step - loss: 0.1939 - accuracy: 0.7064 - mean_pred: 0.4983 - val_loss: 0.2010 - val_accuracy: 0.7003 - val_mean_pred: 0.4937\n",
            "Epoch 38/100\n",
            "143/143 [==============================] - 1s 7ms/step - loss: 0.1941 - accuracy: 0.7053 - mean_pred: 0.4985 - val_loss: 0.2005 - val_accuracy: 0.7011 - val_mean_pred: 0.4946\n",
            "Epoch 39/100\n",
            "143/143 [==============================] - 1s 6ms/step - loss: 0.1940 - accuracy: 0.7042 - mean_pred: 0.4985 - val_loss: 0.2007 - val_accuracy: 0.6996 - val_mean_pred: 0.5031\n",
            "Epoch 40/100\n",
            "143/143 [==============================] - 1s 9ms/step - loss: 0.1935 - accuracy: 0.7072 - mean_pred: 0.4988 - val_loss: 0.2019 - val_accuracy: 0.6942 - val_mean_pred: 0.4977\n",
            "Epoch 41/100\n",
            "143/143 [==============================] - 1s 8ms/step - loss: 0.1934 - accuracy: 0.7072 - mean_pred: 0.4980 - val_loss: 0.1998 - val_accuracy: 0.6984 - val_mean_pred: 0.4949\n",
            "Epoch 42/100\n",
            "143/143 [==============================] - 1s 6ms/step - loss: 0.1930 - accuracy: 0.7071 - mean_pred: 0.4986 - val_loss: 0.2012 - val_accuracy: 0.6981 - val_mean_pred: 0.4951\n",
            "Epoch 43/100\n",
            "143/143 [==============================] - 1s 6ms/step - loss: 0.1930 - accuracy: 0.7072 - mean_pred: 0.4988 - val_loss: 0.2016 - val_accuracy: 0.7001 - val_mean_pred: 0.4953\n",
            "Epoch 44/100\n",
            "143/143 [==============================] - 1s 6ms/step - loss: 0.1930 - accuracy: 0.7070 - mean_pred: 0.4985 - val_loss: 0.1996 - val_accuracy: 0.7006 - val_mean_pred: 0.4983\n",
            "Epoch 45/100\n",
            "143/143 [==============================] - 1s 6ms/step - loss: 0.1929 - accuracy: 0.7066 - mean_pred: 0.4986 - val_loss: 0.2004 - val_accuracy: 0.7021 - val_mean_pred: 0.4987\n",
            "Epoch 46/100\n",
            "143/143 [==============================] - 1s 6ms/step - loss: 0.1926 - accuracy: 0.7072 - mean_pred: 0.4989 - val_loss: 0.2000 - val_accuracy: 0.6998 - val_mean_pred: 0.4975\n",
            "Epoch 47/100\n",
            "143/143 [==============================] - 1s 6ms/step - loss: 0.1924 - accuracy: 0.7082 - mean_pred: 0.4986 - val_loss: 0.2004 - val_accuracy: 0.7012 - val_mean_pred: 0.4979\n",
            "Epoch 48/100\n",
            "143/143 [==============================] - 1s 6ms/step - loss: 0.1926 - accuracy: 0.7083 - mean_pred: 0.4989 - val_loss: 0.2000 - val_accuracy: 0.6989 - val_mean_pred: 0.5021\n",
            "Epoch 49/100\n",
            "143/143 [==============================] - 1s 8ms/step - loss: 0.1923 - accuracy: 0.7065 - mean_pred: 0.4989 - val_loss: 0.2027 - val_accuracy: 0.6977 - val_mean_pred: 0.5017\n",
            "Epoch 50/100\n",
            "143/143 [==============================] - 1s 8ms/step - loss: 0.1921 - accuracy: 0.7084 - mean_pred: 0.4987 - val_loss: 0.1997 - val_accuracy: 0.7022 - val_mean_pred: 0.4899\n",
            "Epoch 51/100\n",
            "143/143 [==============================] - 1s 10ms/step - loss: 0.1918 - accuracy: 0.7099 - mean_pred: 0.4989 - val_loss: 0.1991 - val_accuracy: 0.7037 - val_mean_pred: 0.4987\n",
            "Epoch 52/100\n",
            "143/143 [==============================] - 1s 6ms/step - loss: 0.1921 - accuracy: 0.7069 - mean_pred: 0.4989 - val_loss: 0.1996 - val_accuracy: 0.6964 - val_mean_pred: 0.4991\n",
            "Epoch 53/100\n",
            "143/143 [==============================] - 1s 6ms/step - loss: 0.1917 - accuracy: 0.7095 - mean_pred: 0.4989 - val_loss: 0.2001 - val_accuracy: 0.6969 - val_mean_pred: 0.5015\n",
            "Epoch 54/100\n",
            "143/143 [==============================] - 1s 6ms/step - loss: 0.1919 - accuracy: 0.7075 - mean_pred: 0.4989 - val_loss: 0.2010 - val_accuracy: 0.6962 - val_mean_pred: 0.4936\n",
            "Epoch 55/100\n",
            "143/143 [==============================] - 1s 6ms/step - loss: 0.1919 - accuracy: 0.7086 - mean_pred: 0.4991 - val_loss: 0.2036 - val_accuracy: 0.6887 - val_mean_pred: 0.5013\n",
            "Epoch 56/100\n",
            "143/143 [==============================] - 1s 6ms/step - loss: 0.1914 - accuracy: 0.7091 - mean_pred: 0.4990 - val_loss: 0.1993 - val_accuracy: 0.7013 - val_mean_pred: 0.4982\n",
            "Epoch 57/100\n",
            "143/143 [==============================] - 1s 6ms/step - loss: 0.1913 - accuracy: 0.7073 - mean_pred: 0.4991 - val_loss: 0.2014 - val_accuracy: 0.6944 - val_mean_pred: 0.4999\n",
            "Epoch 58/100\n",
            "143/143 [==============================] - 1s 9ms/step - loss: 0.1911 - accuracy: 0.7088 - mean_pred: 0.4991 - val_loss: 0.2016 - val_accuracy: 0.6964 - val_mean_pred: 0.5034\n",
            "Epoch 59/100\n",
            "143/143 [==============================] - 1s 6ms/step - loss: 0.1911 - accuracy: 0.7102 - mean_pred: 0.4991 - val_loss: 0.1987 - val_accuracy: 0.6987 - val_mean_pred: 0.4954\n",
            "Epoch 60/100\n",
            "143/143 [==============================] - 1s 6ms/step - loss: 0.1913 - accuracy: 0.7088 - mean_pred: 0.4992 - val_loss: 0.2008 - val_accuracy: 0.6942 - val_mean_pred: 0.4981\n",
            "Epoch 61/100\n",
            "143/143 [==============================] - 1s 6ms/step - loss: 0.1914 - accuracy: 0.7098 - mean_pred: 0.4991 - val_loss: 0.1995 - val_accuracy: 0.6981 - val_mean_pred: 0.4963\n",
            "Epoch 62/100\n",
            "143/143 [==============================] - 1s 6ms/step - loss: 0.1910 - accuracy: 0.7110 - mean_pred: 0.4989 - val_loss: 0.1988 - val_accuracy: 0.7005 - val_mean_pred: 0.4966\n",
            "Epoch 63/100\n",
            "143/143 [==============================] - 1s 8ms/step - loss: 0.1908 - accuracy: 0.7089 - mean_pred: 0.4994 - val_loss: 0.2016 - val_accuracy: 0.6979 - val_mean_pred: 0.5008\n",
            "Epoch 64/100\n",
            "143/143 [==============================] - 1s 8ms/step - loss: 0.1908 - accuracy: 0.7100 - mean_pred: 0.4993 - val_loss: 0.2000 - val_accuracy: 0.6991 - val_mean_pred: 0.4965\n",
            "Epoch 65/100\n",
            "143/143 [==============================] - 1s 8ms/step - loss: 0.1910 - accuracy: 0.7092 - mean_pred: 0.4993 - val_loss: 0.2000 - val_accuracy: 0.6991 - val_mean_pred: 0.4992\n",
            "Epoch 66/100\n",
            "143/143 [==============================] - 1s 7ms/step - loss: 0.1905 - accuracy: 0.7096 - mean_pred: 0.4992 - val_loss: 0.1992 - val_accuracy: 0.7028 - val_mean_pred: 0.4980\n",
            "Epoch 67/100\n",
            "143/143 [==============================] - 1s 6ms/step - loss: 0.1905 - accuracy: 0.7106 - mean_pred: 0.4994 - val_loss: 0.2007 - val_accuracy: 0.6956 - val_mean_pred: 0.5017\n",
            "Epoch 68/100\n",
            "143/143 [==============================] - 1s 6ms/step - loss: 0.1902 - accuracy: 0.7097 - mean_pred: 0.4993 - val_loss: 0.1992 - val_accuracy: 0.6978 - val_mean_pred: 0.4993\n",
            "Epoch 69/100\n",
            "143/143 [==============================] - 1s 6ms/step - loss: 0.1902 - accuracy: 0.7112 - mean_pred: 0.4994 - val_loss: 0.2019 - val_accuracy: 0.6920 - val_mean_pred: 0.4996\n",
            "Epoch 70/100\n",
            "143/143 [==============================] - 1s 6ms/step - loss: 0.1901 - accuracy: 0.7108 - mean_pred: 0.4994 - val_loss: 0.2002 - val_accuracy: 0.6966 - val_mean_pred: 0.5009\n",
            "Epoch 71/100\n",
            "143/143 [==============================] - 1s 6ms/step - loss: 0.1903 - accuracy: 0.7107 - mean_pred: 0.4994 - val_loss: 0.2012 - val_accuracy: 0.6958 - val_mean_pred: 0.5008\n",
            "Epoch 72/100\n",
            "143/143 [==============================] - 1s 6ms/step - loss: 0.1902 - accuracy: 0.7114 - mean_pred: 0.4996 - val_loss: 0.2008 - val_accuracy: 0.6955 - val_mean_pred: 0.4992\n",
            "Epoch 73/100\n",
            "143/143 [==============================] - 1s 6ms/step - loss: 0.1900 - accuracy: 0.7118 - mean_pred: 0.4995 - val_loss: 0.1991 - val_accuracy: 0.6989 - val_mean_pred: 0.4981\n",
            "Epoch 74/100\n",
            "143/143 [==============================] - 1s 6ms/step - loss: 0.1900 - accuracy: 0.7120 - mean_pred: 0.4994 - val_loss: 0.1991 - val_accuracy: 0.7024 - val_mean_pred: 0.4993\n",
            "Epoch 75/100\n",
            "143/143 [==============================] - 1s 6ms/step - loss: 0.1902 - accuracy: 0.7105 - mean_pred: 0.4996 - val_loss: 0.2005 - val_accuracy: 0.6983 - val_mean_pred: 0.5003\n",
            "Epoch 76/100\n",
            "143/143 [==============================] - 1s 8ms/step - loss: 0.1900 - accuracy: 0.7124 - mean_pred: 0.4996 - val_loss: 0.1990 - val_accuracy: 0.7020 - val_mean_pred: 0.4994\n",
            "Epoch 77/100\n",
            "143/143 [==============================] - 1s 7ms/step - loss: 0.1897 - accuracy: 0.7112 - mean_pred: 0.4996 - val_loss: 0.1997 - val_accuracy: 0.6966 - val_mean_pred: 0.4993\n",
            "Epoch 78/100\n",
            "143/143 [==============================] - 1s 8ms/step - loss: 0.1898 - accuracy: 0.7116 - mean_pred: 0.4995 - val_loss: 0.1984 - val_accuracy: 0.6990 - val_mean_pred: 0.4990\n",
            "Epoch 79/100\n",
            "143/143 [==============================] - 1s 9ms/step - loss: 0.1899 - accuracy: 0.7108 - mean_pred: 0.4997 - val_loss: 0.1997 - val_accuracy: 0.6953 - val_mean_pred: 0.5001\n",
            "Epoch 80/100\n",
            "143/143 [==============================] - 1s 8ms/step - loss: 0.1896 - accuracy: 0.7121 - mean_pred: 0.4996 - val_loss: 0.1986 - val_accuracy: 0.6977 - val_mean_pred: 0.4996\n",
            "Epoch 81/100\n",
            "143/143 [==============================] - 1s 6ms/step - loss: 0.1893 - accuracy: 0.7136 - mean_pred: 0.4996 - val_loss: 0.2000 - val_accuracy: 0.7002 - val_mean_pred: 0.4996\n",
            "Epoch 82/100\n",
            "143/143 [==============================] - 1s 6ms/step - loss: 0.1893 - accuracy: 0.7134 - mean_pred: 0.4997 - val_loss: 0.1993 - val_accuracy: 0.6962 - val_mean_pred: 0.5000\n",
            "Epoch 83/100\n",
            "143/143 [==============================] - 1s 6ms/step - loss: 0.1893 - accuracy: 0.7130 - mean_pred: 0.4996 - val_loss: 0.1992 - val_accuracy: 0.6955 - val_mean_pred: 0.4994\n",
            "Epoch 84/100\n",
            "143/143 [==============================] - 1s 6ms/step - loss: 0.1896 - accuracy: 0.7122 - mean_pred: 0.4997 - val_loss: 0.1986 - val_accuracy: 0.6989 - val_mean_pred: 0.4995\n",
            "Epoch 85/100\n",
            "143/143 [==============================] - 1s 6ms/step - loss: 0.1892 - accuracy: 0.7116 - mean_pred: 0.4997 - val_loss: 0.1994 - val_accuracy: 0.6977 - val_mean_pred: 0.4994\n",
            "Epoch 86/100\n",
            "143/143 [==============================] - 1s 6ms/step - loss: 0.1892 - accuracy: 0.7126 - mean_pred: 0.4997 - val_loss: 0.1992 - val_accuracy: 0.6971 - val_mean_pred: 0.4996\n",
            "Epoch 87/100\n",
            "143/143 [==============================] - 1s 6ms/step - loss: 0.1891 - accuracy: 0.7127 - mean_pred: 0.4997 - val_loss: 0.1992 - val_accuracy: 0.7000 - val_mean_pred: 0.4995\n",
            "Epoch 88/100\n",
            "143/143 [==============================] - 1s 6ms/step - loss: 0.1885 - accuracy: 0.7140 - mean_pred: 0.4997 - val_loss: 0.2014 - val_accuracy: 0.6936 - val_mean_pred: 0.4997\n",
            "Epoch 89/100\n",
            "143/143 [==============================] - 1s 6ms/step - loss: 0.1892 - accuracy: 0.7141 - mean_pred: 0.4997 - val_loss: 0.1984 - val_accuracy: 0.6971 - val_mean_pred: 0.4998\n",
            "Epoch 90/100\n",
            "143/143 [==============================] - 1s 6ms/step - loss: 0.1886 - accuracy: 0.7148 - mean_pred: 0.4998 - val_loss: 0.1983 - val_accuracy: 0.6996 - val_mean_pred: 0.4995\n",
            "Epoch 91/100\n",
            "143/143 [==============================] - 1s 6ms/step - loss: 0.1886 - accuracy: 0.7122 - mean_pred: 0.4997 - val_loss: 0.1995 - val_accuracy: 0.6948 - val_mean_pred: 0.4997\n",
            "Epoch 92/100\n",
            "143/143 [==============================] - 1s 7ms/step - loss: 0.1885 - accuracy: 0.7144 - mean_pred: 0.4998 - val_loss: 0.1997 - val_accuracy: 0.6966 - val_mean_pred: 0.4996\n",
            "Epoch 93/100\n",
            "143/143 [==============================] - 1s 8ms/step - loss: 0.1888 - accuracy: 0.7131 - mean_pred: 0.4997 - val_loss: 0.1993 - val_accuracy: 0.7012 - val_mean_pred: 0.4999\n",
            "Epoch 94/100\n",
            "143/143 [==============================] - 1s 8ms/step - loss: 0.1887 - accuracy: 0.7146 - mean_pred: 0.4998 - val_loss: 0.1999 - val_accuracy: 0.6984 - val_mean_pred: 0.4997\n",
            "Epoch 95/100\n",
            "143/143 [==============================] - 1s 8ms/step - loss: 0.1885 - accuracy: 0.7157 - mean_pred: 0.4998 - val_loss: 0.1989 - val_accuracy: 0.6959 - val_mean_pred: 0.4999\n",
            "Epoch 96/100\n",
            "143/143 [==============================] - 1s 6ms/step - loss: 0.1885 - accuracy: 0.7145 - mean_pred: 0.4998 - val_loss: 0.1997 - val_accuracy: 0.6982 - val_mean_pred: 0.4997\n",
            "Epoch 97/100\n",
            "143/143 [==============================] - 1s 6ms/step - loss: 0.1882 - accuracy: 0.7157 - mean_pred: 0.4998 - val_loss: 0.2000 - val_accuracy: 0.6933 - val_mean_pred: 0.4997\n",
            "Epoch 98/100\n",
            "143/143 [==============================] - 1s 6ms/step - loss: 0.1883 - accuracy: 0.7148 - mean_pred: 0.4998 - val_loss: 0.1985 - val_accuracy: 0.6940 - val_mean_pred: 0.4998\n",
            "Epoch 99/100\n",
            "143/143 [==============================] - 1s 7ms/step - loss: 0.1881 - accuracy: 0.7150 - mean_pred: 0.4998 - val_loss: 0.1985 - val_accuracy: 0.6976 - val_mean_pred: 0.4997\n",
            "Epoch 100/100\n",
            "143/143 [==============================] - 1s 7ms/step - loss: 0.1884 - accuracy: 0.7151 - mean_pred: 0.4998 - val_loss: 0.1993 - val_accuracy: 0.6977 - val_mean_pred: 0.4997\n"
          ]
        }
      ]
    },
    {
      "cell_type": "code",
      "metadata": {
        "id": "3r_pvc8rexcJ",
        "colab": {
          "base_uri": "https://localhost:8080/"
        },
        "outputId": "0339bb80-5424-4a8b-bfd7-8b7240d664a4"
      },
      "source": [
        "nn_model.summary()"
      ],
      "execution_count": 55,
      "outputs": [
        {
          "output_type": "stream",
          "name": "stdout",
          "text": [
            "Model: \"sequential_2\"\n",
            "_________________________________________________________________\n",
            " Layer (type)                Output Shape              Param #   \n",
            "=================================================================\n",
            " lstm_2 (LSTM)               (None, 32)                4864      \n",
            "                                                                 \n",
            " dropout_2 (Dropout)         (None, 32)                0         \n",
            "                                                                 \n",
            " dense_2 (Dense)             (None, 2)                 66        \n",
            "                                                                 \n",
            " activation_2 (Activation)   (None, 2)                 0         \n",
            "                                                                 \n",
            "=================================================================\n",
            "Total params: 4,930\n",
            "Trainable params: 4,930\n",
            "Non-trainable params: 0\n",
            "_________________________________________________________________\n"
          ]
        }
      ]
    },
    {
      "cell_type": "code",
      "metadata": {
        "id": "CXmQRN0aexcL",
        "colab": {
          "base_uri": "https://localhost:8080/"
        },
        "outputId": "19685064-8a57-49ac-a57c-7ad2dbfaed7d"
      },
      "source": [
        "acc = nn_model.evaluate(X_test, Y_test, batch_size=16)\n",
        "print('Test accuracy:', acc)"
      ],
      "execution_count": 56,
      "outputs": [
        {
          "output_type": "stream",
          "name": "stdout",
          "text": [
            "570/570 [==============================] - 2s 3ms/step - loss: 0.1993 - accuracy: 0.6977 - mean_pred: 0.4997\n",
            "Test accuracy: [0.19926731288433075, 0.6976718902587891, 0.4997418224811554]\n"
          ]
        }
      ]
    },
    {
      "cell_type": "markdown",
      "metadata": {
        "id": "CGMHFgPQF5pb"
      },
      "source": [
        "**Test Accuracy is at 68.39%**"
      ]
    },
    {
      "cell_type": "markdown",
      "metadata": {
        "id": "yrYWxXOWHAWG"
      },
      "source": [
        "**Plotting training data loss and validation data loss**"
      ]
    },
    {
      "cell_type": "code",
      "metadata": {
        "id": "nZY6fRQeexcN",
        "colab": {
          "base_uri": "https://localhost:8080/",
          "height": 295
        },
        "outputId": "91a22814-348d-4478-cdec-916ab6b076bc"
      },
      "source": [
        "plt.plot(nn_history.history['accuracy'], label='trained data')\n",
        "plt.plot(nn_history.history['val_accuracy'], label='validated data')\n",
        "\n",
        "plt.legend()\n",
        "plt.xlabel('Epochs')\n",
        "plt.ylabel('Accuracy')\n",
        "plt.title('Measure of accuracy')\n",
        "plt.show()"
      ],
      "execution_count": 58,
      "outputs": [
        {
          "output_type": "display_data",
          "data": {
            "text/plain": [
              "<Figure size 432x288 with 1 Axes>"
            ],
            "image/png": "[encoded data removed]"
          },
          "metadata": {
            "needs_background": "light"
          }
        }
      ]
    },
    {
      "cell_type": "markdown",
      "metadata": {
        "id": "6ButieWJHE4s"
      },
      "source": [
        "**Model is perfectly fit if not slightly overfit but we trained for 100 epochs so that is expected**"
      ]
    },
    {
      "cell_type": "code",
      "metadata": {
        "id": "YtdyhmNPexcQ",
        "colab": {
          "base_uri": "https://localhost:8080/",
          "height": 295
        },
        "outputId": "cac9fdcc-5f3c-41b1-e072-e46fb971eadf"
      },
      "source": [
        "plt.plot(nn_history.history['loss'], label = 'training curve')\n",
        "plt.plot(nn_history.history['val_loss'], label = 'testing curve')\n",
        "plt.legend()\n",
        "plt.xlabel('Epochs')\n",
        "plt.ylabel('Training loss')\n",
        "plt.title('Measure of plateau')\n",
        "plt.show()"
      ],
      "execution_count": 59,
      "outputs": [
        {
          "output_type": "display_data",
          "data": {
            "text/plain": [
              "<Figure size 432x288 with 1 Axes>"
            ],
            "image/png": "[encoded data removed]"
          },
          "metadata": {
            "needs_background": "light"
          }
        }
      ]
    },
    {
      "cell_type": "markdown",
      "metadata": {
        "id": "2UmlBy9nHU3_"
      },
      "source": [
        "**Measuring the training loss to recheck model**"
      ]
    },
    {
      "cell_type": "markdown",
      "metadata": {
        "id": "rneMkPa9GwJR"
      },
      "source": [
        "**More Hyperparameter tuning: selu with logcosh amd sgd. epoch of 35. initializer zeros**"
      ]
    },
    {
      "cell_type": "code",
      "metadata": {
        "id": "4lRvaj_WexcT"
      },
      "source": [
        "def mean_pred(X_test, Y_test):\n",
        "    return K.mean(Y_test)\n",
        "\n",
        "def build_model(inputs, output_size, neurons, activ_func=\"selu\",\n",
        "                dropout=0.10, loss=\"logcosh\", optimizer=\"sgd\"):\n",
        "    \n",
        "    model = Sequential()\n",
        "\n",
        "    model.add(LSTM(neurons, input_shape=(WINDOW,EMB_SIZE)))\n",
        "    model.add(Dropout(dropout))\n",
        "    model.add(Dense(units=output_size, kernel_initializer='random_uniform'))\n",
        "    model.add(Activation(activ_func))\n",
        "\n",
        "    model.compile(loss=loss, optimizer=optimizer, metrics=['accuracy', mean_pred])\n",
        "    return model"
      ],
      "execution_count": 60,
      "outputs": []
    },
    {
      "cell_type": "code",
      "metadata": {
        "id": "9ZPjnGEjexcV",
        "colab": {
          "base_uri": "https://localhost:8080/"
        },
        "outputId": "aaadaa1b-2932-4d41-f8a1-f3cb7a6808fd"
      },
      "source": [
        "nn_model = build_model(X_train, output_size=2, neurons = 32)\n",
        "# model output is next price normalised to 10th previous closing price\n",
        "# train model on data\n",
        "# note: eth_history contains information on the training error per epoch\n",
        "nn_history = nn_model.fit(X_train, Y_train,\n",
        "                            epochs=35, batch_size=256, verbose=1,  validation_data=(X_test, Y_test),shuffle=True)"
      ],
      "execution_count": 61,
      "outputs": [
        {
          "output_type": "stream",
          "name": "stdout",
          "text": [
            "Epoch 1/35\n"
          ]
        },
        {
          "output_type": "stream",
          "name": "stderr",
          "text": [
            "WARNING:tensorflow:AutoGraph could not transform <function Model.make_train_function.<locals>.train_function at 0x7f728f56bc10> and will run it as-is.\n",
            "Please report this to the TensorFlow team. When filing the bug, set the verbosity to 10 (on Linux, `export AUTOGRAPH_VERBOSITY=10`) and attach the full output.\n",
            "Cause: closure mismatch, requested ('self', 'step_function'), but source function had ('self',)\n",
            "To silence this warning, decorate the function with @tf.autograph.experimental.do_not_convert\n"
          ]
        },
        {
          "output_type": "stream",
          "name": "stdout",
          "text": [
            "WARNING: AutoGraph could not transform <function Model.make_train_function.<locals>.train_function at 0x7f728f56bc10> and will run it as-is.\n",
            "Please report this to the TensorFlow team. When filing the bug, set the verbosity to 10 (on Linux, `export AUTOGRAPH_VERBOSITY=10`) and attach the full output.\n",
            "Cause: closure mismatch, requested ('self', 'step_function'), but source function had ('self',)\n",
            "To silence this warning, decorate the function with @tf.autograph.experimental.do_not_convert\n",
            "142/143 [============================>.] - ETA: 0s - loss: 0.1718 - accuracy: 0.5243 - mean_pred: 0.1427"
          ]
        },
        {
          "output_type": "stream",
          "name": "stderr",
          "text": [
            "WARNING:tensorflow:AutoGraph could not transform <function Model.make_test_function.<locals>.test_function at 0x7f728f53fb80> and will run it as-is.\n",
            "Please report this to the TensorFlow team. When filing the bug, set the verbosity to 10 (on Linux, `export AUTOGRAPH_VERBOSITY=10`) and attach the full output.\n",
            "Cause: closure mismatch, requested ('self', 'step_function'), but source function had ()\n",
            "To silence this warning, decorate the function with @tf.autograph.experimental.do_not_convert\n"
          ]
        },
        {
          "output_type": "stream",
          "name": "stdout",
          "text": [
            "WARNING: AutoGraph could not transform <function Model.make_test_function.<locals>.test_function at 0x7f728f53fb80> and will run it as-is.\n",
            "Please report this to the TensorFlow team. When filing the bug, set the verbosity to 10 (on Linux, `export AUTOGRAPH_VERBOSITY=10`) and attach the full output.\n",
            "Cause: closure mismatch, requested ('self', 'step_function'), but source function had ()\n",
            "To silence this warning, decorate the function with @tf.autograph.experimental.do_not_convert\n",
            "143/143 [==============================] - 5s 19ms/step - loss: 0.1717 - accuracy: 0.5242 - mean_pred: 0.1435 - val_loss: 0.1448 - val_accuracy: 0.5298 - val_mean_pred: 0.2485\n",
            "Epoch 2/35\n",
            "143/143 [==============================] - 1s 6ms/step - loss: 0.1334 - accuracy: 0.5312 - mean_pred: 0.3188 - val_loss: 0.1262 - val_accuracy: 0.5402 - val_mean_pred: 0.3721\n",
            "Epoch 3/35\n",
            "143/143 [==============================] - 1s 6ms/step - loss: 0.1232 - accuracy: 0.5310 - mean_pred: 0.4087 - val_loss: 0.1212 - val_accuracy: 0.5400 - val_mean_pred: 0.4351\n",
            "Epoch 4/35\n",
            "143/143 [==============================] - 1s 6ms/step - loss: 0.1205 - accuracy: 0.5332 - mean_pred: 0.4540 - val_loss: 0.1198 - val_accuracy: 0.5398 - val_mean_pred: 0.4666\n",
            "Epoch 5/35\n",
            "143/143 [==============================] - 1s 6ms/step - loss: 0.1198 - accuracy: 0.5306 - mean_pred: 0.4765 - val_loss: 0.1194 - val_accuracy: 0.5388 - val_mean_pred: 0.4824\n",
            "Epoch 6/35\n",
            "143/143 [==============================] - 1s 7ms/step - loss: 0.1195 - accuracy: 0.5342 - mean_pred: 0.4876 - val_loss: 0.1193 - val_accuracy: 0.5393 - val_mean_pred: 0.4903\n",
            "Epoch 7/35\n",
            "143/143 [==============================] - 1s 6ms/step - loss: 0.1194 - accuracy: 0.5325 - mean_pred: 0.4931 - val_loss: 0.1192 - val_accuracy: 0.5395 - val_mean_pred: 0.4944\n",
            "Epoch 8/35\n",
            "143/143 [==============================] - 1s 7ms/step - loss: 0.1194 - accuracy: 0.5360 - mean_pred: 0.4961 - val_loss: 0.1191 - val_accuracy: 0.5405 - val_mean_pred: 0.4964\n",
            "Epoch 9/35\n",
            "143/143 [==============================] - 1s 9ms/step - loss: 0.1192 - accuracy: 0.5350 - mean_pred: 0.4976 - val_loss: 0.1191 - val_accuracy: 0.5413 - val_mean_pred: 0.4974\n",
            "Epoch 10/35\n",
            "143/143 [==============================] - 1s 10ms/step - loss: 0.1192 - accuracy: 0.5347 - mean_pred: 0.4982 - val_loss: 0.1190 - val_accuracy: 0.5411 - val_mean_pred: 0.4980\n",
            "Epoch 11/35\n",
            "143/143 [==============================] - 1s 8ms/step - loss: 0.1191 - accuracy: 0.5369 - mean_pred: 0.4987 - val_loss: 0.1189 - val_accuracy: 0.5413 - val_mean_pred: 0.4982\n",
            "Epoch 12/35\n",
            "143/143 [==============================] - 1s 6ms/step - loss: 0.1191 - accuracy: 0.5375 - mean_pred: 0.4988 - val_loss: 0.1189 - val_accuracy: 0.5418 - val_mean_pred: 0.4984\n",
            "Epoch 13/35\n",
            "143/143 [==============================] - 1s 6ms/step - loss: 0.1190 - accuracy: 0.5408 - mean_pred: 0.4989 - val_loss: 0.1188 - val_accuracy: 0.5438 - val_mean_pred: 0.4986\n",
            "Epoch 14/35\n",
            "143/143 [==============================] - 1s 7ms/step - loss: 0.1190 - accuracy: 0.5395 - mean_pred: 0.4990 - val_loss: 0.1188 - val_accuracy: 0.5447 - val_mean_pred: 0.4986\n",
            "Epoch 15/35\n",
            "143/143 [==============================] - 1s 6ms/step - loss: 0.1189 - accuracy: 0.5427 - mean_pred: 0.4991 - val_loss: 0.1187 - val_accuracy: 0.5465 - val_mean_pred: 0.4987\n",
            "Epoch 16/35\n",
            "143/143 [==============================] - 1s 6ms/step - loss: 0.1188 - accuracy: 0.5431 - mean_pred: 0.4991 - val_loss: 0.1186 - val_accuracy: 0.5471 - val_mean_pred: 0.4987\n",
            "Epoch 17/35\n",
            "143/143 [==============================] - 1s 6ms/step - loss: 0.1188 - accuracy: 0.5446 - mean_pred: 0.4991 - val_loss: 0.1186 - val_accuracy: 0.5479 - val_mean_pred: 0.4987\n",
            "Epoch 18/35\n",
            "143/143 [==============================] - 1s 6ms/step - loss: 0.1187 - accuracy: 0.5445 - mean_pred: 0.4991 - val_loss: 0.1185 - val_accuracy: 0.5488 - val_mean_pred: 0.4988\n",
            "Epoch 19/35\n",
            "143/143 [==============================] - 1s 6ms/step - loss: 0.1187 - accuracy: 0.5481 - mean_pred: 0.4992 - val_loss: 0.1185 - val_accuracy: 0.5494 - val_mean_pred: 0.4988\n",
            "Epoch 20/35\n",
            "143/143 [==============================] - 1s 6ms/step - loss: 0.1186 - accuracy: 0.5463 - mean_pred: 0.4991 - val_loss: 0.1184 - val_accuracy: 0.5501 - val_mean_pred: 0.4989\n",
            "Epoch 21/35\n",
            "143/143 [==============================] - 1s 6ms/step - loss: 0.1186 - accuracy: 0.5493 - mean_pred: 0.4992 - val_loss: 0.1184 - val_accuracy: 0.5511 - val_mean_pred: 0.4989\n",
            "Epoch 22/35\n",
            "143/143 [==============================] - 1s 6ms/step - loss: 0.1185 - accuracy: 0.5470 - mean_pred: 0.4992 - val_loss: 0.1183 - val_accuracy: 0.5506 - val_mean_pred: 0.4989\n",
            "Epoch 23/35\n",
            "143/143 [==============================] - 1s 8ms/step - loss: 0.1184 - accuracy: 0.5502 - mean_pred: 0.4993 - val_loss: 0.1183 - val_accuracy: 0.5508 - val_mean_pred: 0.4988\n",
            "Epoch 24/35\n",
            "143/143 [==============================] - 1s 9ms/step - loss: 0.1184 - accuracy: 0.5511 - mean_pred: 0.4992 - val_loss: 0.1182 - val_accuracy: 0.5516 - val_mean_pred: 0.4989\n",
            "Epoch 25/35\n",
            "143/143 [==============================] - 1s 8ms/step - loss: 0.1183 - accuracy: 0.5517 - mean_pred: 0.4993 - val_loss: 0.1181 - val_accuracy: 0.5529 - val_mean_pred: 0.4989\n",
            "Epoch 26/35\n",
            "143/143 [==============================] - 1s 7ms/step - loss: 0.1183 - accuracy: 0.5536 - mean_pred: 0.4993 - val_loss: 0.1181 - val_accuracy: 0.5532 - val_mean_pred: 0.4989\n",
            "Epoch 27/35\n",
            "143/143 [==============================] - 1s 6ms/step - loss: 0.1182 - accuracy: 0.5527 - mean_pred: 0.4993 - val_loss: 0.1180 - val_accuracy: 0.5544 - val_mean_pred: 0.4990\n",
            "Epoch 28/35\n",
            "143/143 [==============================] - 1s 6ms/step - loss: 0.1182 - accuracy: 0.5541 - mean_pred: 0.4993 - val_loss: 0.1180 - val_accuracy: 0.5570 - val_mean_pred: 0.4990\n",
            "Epoch 29/35\n",
            "143/143 [==============================] - 1s 6ms/step - loss: 0.1180 - accuracy: 0.5566 - mean_pred: 0.4994 - val_loss: 0.1179 - val_accuracy: 0.5574 - val_mean_pred: 0.4990\n",
            "Epoch 30/35\n",
            "143/143 [==============================] - 1s 6ms/step - loss: 0.1180 - accuracy: 0.5548 - mean_pred: 0.4994 - val_loss: 0.1179 - val_accuracy: 0.5586 - val_mean_pred: 0.4990\n",
            "Epoch 31/35\n",
            "143/143 [==============================] - 1s 6ms/step - loss: 0.1179 - accuracy: 0.5594 - mean_pred: 0.4994 - val_loss: 0.1178 - val_accuracy: 0.5593 - val_mean_pred: 0.4990\n",
            "Epoch 32/35\n",
            "143/143 [==============================] - 1s 6ms/step - loss: 0.1179 - accuracy: 0.5590 - mean_pred: 0.4994 - val_loss: 0.1177 - val_accuracy: 0.5605 - val_mean_pred: 0.4990\n",
            "Epoch 33/35\n",
            "143/143 [==============================] - 1s 6ms/step - loss: 0.1179 - accuracy: 0.5603 - mean_pred: 0.4993 - val_loss: 0.1177 - val_accuracy: 0.5629 - val_mean_pred: 0.4990\n",
            "Epoch 34/35\n",
            "143/143 [==============================] - 1s 6ms/step - loss: 0.1178 - accuracy: 0.5622 - mean_pred: 0.4993 - val_loss: 0.1176 - val_accuracy: 0.5638 - val_mean_pred: 0.4991\n",
            "Epoch 35/35\n",
            "143/143 [==============================] - 1s 6ms/step - loss: 0.1178 - accuracy: 0.5615 - mean_pred: 0.4994 - val_loss: 0.1176 - val_accuracy: 0.5642 - val_mean_pred: 0.4991\n"
          ]
        }
      ]
    },
    {
      "cell_type": "code",
      "metadata": {
        "id": "13AZedetexcX",
        "colab": {
          "base_uri": "https://localhost:8080/"
        },
        "outputId": "c034d7b7-f579-484f-e86a-de55ae609aa5"
      },
      "source": [
        "nn_model.summary()"
      ],
      "execution_count": 62,
      "outputs": [
        {
          "output_type": "stream",
          "name": "stdout",
          "text": [
            "Model: \"sequential_3\"\n",
            "_________________________________________________________________\n",
            " Layer (type)                Output Shape              Param #   \n",
            "=================================================================\n",
            " lstm_3 (LSTM)               (None, 32)                4864      \n",
            "                                                                 \n",
            " dropout_3 (Dropout)         (None, 32)                0         \n",
            "                                                                 \n",
            " dense_3 (Dense)             (None, 2)                 66        \n",
            "                                                                 \n",
            " activation_3 (Activation)   (None, 2)                 0         \n",
            "                                                                 \n",
            "=================================================================\n",
            "Total params: 4,930\n",
            "Trainable params: 4,930\n",
            "Non-trainable params: 0\n",
            "_________________________________________________________________\n"
          ]
        }
      ]
    },
    {
      "cell_type": "code",
      "metadata": {
        "id": "RP2K9L_6excb",
        "colab": {
          "base_uri": "https://localhost:8080/"
        },
        "outputId": "3f7f359c-0bbd-4886-8b60-21e115e81833"
      },
      "source": [
        "acc = nn_model.evaluate(X_test, Y_test, batch_size=16)\n",
        "print('Test accuracy:', acc)"
      ],
      "execution_count": 63,
      "outputs": [
        {
          "output_type": "stream",
          "name": "stdout",
          "text": [
            "570/570 [==============================] - 2s 3ms/step - loss: 0.1176 - accuracy: 0.5642 - mean_pred: 0.4992\n",
            "Test accuracy: [0.11755018681287766, 0.5642433762550354, 0.499165803194046]\n"
          ]
        }
      ]
    },
    {
      "cell_type": "markdown",
      "metadata": {
        "id": "TjqMZDeqHymh"
      },
      "source": [
        "**Accuracy at 52.53%**"
      ]
    },
    {
      "cell_type": "markdown",
      "metadata": {
        "id": "vodfKu9YH8vT"
      },
      "source": [
        "**Plotting training data loss and validation data loss**\n",
        "\n",
        "**As seeb data is overfit and doesn't do great with selu and logcosh because logcosh could remove non-linearity of data**"
      ]
    },
    {
      "cell_type": "code",
      "metadata": {
        "id": "PvhRexaSexcf",
        "colab": {
          "base_uri": "https://localhost:8080/",
          "height": 295
        },
        "outputId": "41f4af3c-7702-447e-d314-c25f2af70b87"
      },
      "source": [
        "plt.plot(nn_history.history['accuracy'], label='trained data')\n",
        "plt.plot(nn_history.history['val_accuracy'], label='validated data')\n",
        "plt.legend()\n",
        "plt.xlabel('Epochs')\n",
        "plt.ylabel('Accuracy')\n",
        "plt.title('Measure of accuracy')\n",
        "plt.show()"
      ],
      "execution_count": 65,
      "outputs": [
        {
          "output_type": "display_data",
          "data": {
            "text/plain": [
              "<Figure size 432x288 with 1 Axes>"
            ],
            "image/png": "[encoded data removed]"
          },
          "metadata": {
            "needs_background": "light"
          }
        }
      ]
    },
    {
      "cell_type": "code",
      "metadata": {
        "id": "IPiIOWVwexck",
        "colab": {
          "base_uri": "https://localhost:8080/",
          "height": 295
        },
        "outputId": "634d8fbc-4398-44eb-9ed5-600396f6c69a"
      },
      "source": [
        "plt.plot(nn_history.history['loss'], label = 'training curve')\n",
        "plt.plot(nn_history.history['val_loss'], label = 'testing curve')\n",
        "plt.legend()\n",
        "plt.xlabel('Epochs')\n",
        "plt.ylabel('Training loss')\n",
        "plt.title('Measure of plateau')\n",
        "plt.show()"
      ],
      "execution_count": 66,
      "outputs": [
        {
          "output_type": "display_data",
          "data": {
            "text/plain": [
              "<Figure size 432x288 with 1 Axes>"
            ],
            "image/png": "[encoded data removed]"
          },
          "metadata": {
            "needs_background": "light"
          }
        }
      ]
    },
    {
      "cell_type": "markdown",
      "metadata": {
        "id": "jWLCeZDNITcw"
      },
      "source": [
        "**Not a lot of training and testing loss**"
      ]
    },
    {
      "cell_type": "markdown",
      "metadata": {
        "id": "e14za5AJLoMJ"
      },
      "source": [
        "**More Hyperparamete tuning: Create a LSTM model with relu as activation function, mae as loss function, adam as optimizer and train for 50 epochs.**"
      ]
    },
    {
      "cell_type": "code",
      "metadata": {
        "id": "3h8Ba4AIexcn"
      },
      "source": [
        "\n",
        "def mean_pred(X_test, Y_test):\n",
        "    return K.mean(Y_test)\n",
        "\n",
        "def build_model(inputs, output_size, neurons, activ_func=\"relu\",\n",
        "                dropout=0.10, loss=\"mae\", optimizer=\"adam\"):\n",
        "    \n",
        "    model = Sequential()\n",
        "\n",
        "    model.add(LSTM(neurons, input_shape=(WINDOW,EMB_SIZE)))\n",
        "    model.add(Dropout(dropout))\n",
        "    model.add(Dense(units=output_size))\n",
        "    model.add(Activation(activ_func))\n",
        "\n",
        "    model.compile(loss=loss, optimizer=optimizer, metrics=['accuracy', mean_pred])\n",
        "    return model"
      ],
      "execution_count": 67,
      "outputs": []
    },
    {
      "cell_type": "code",
      "metadata": {
        "id": "FY_aUumpexcp",
        "colab": {
          "base_uri": "https://localhost:8080/"
        },
        "outputId": "e0b4cbc7-3bf5-4c4c-f4e9-213e91f2044f"
      },
      "source": [
        "nn_model = build_model(X_train, output_size=2, neurons = 32)\n",
        "# model output is next price normalised to 10th previous closing price\n",
        "# train model on data\n",
        "# note: eth_history contains information on the training error per epoch\n",
        "nn_history = nn_model.fit(X_train, Y_train,\n",
        "                            epochs=50, batch_size=256, verbose=1,  validation_data=(X_test, Y_test),shuffle=True)"
      ],
      "execution_count": 69,
      "outputs": [
        {
          "output_type": "stream",
          "name": "stdout",
          "text": [
            "Epoch 1/50\n"
          ]
        },
        {
          "output_type": "stream",
          "name": "stderr",
          "text": [
            "WARNING:tensorflow:AutoGraph could not transform <function Model.make_train_function.<locals>.train_function at 0x7f728effc430> and will run it as-is.\n",
            "Please report this to the TensorFlow team. When filing the bug, set the verbosity to 10 (on Linux, `export AUTOGRAPH_VERBOSITY=10`) and attach the full output.\n",
            "Cause: closure mismatch, requested ('self', 'step_function'), but source function had ('self',)\n",
            "To silence this warning, decorate the function with @tf.autograph.experimental.do_not_convert\n"
          ]
        },
        {
          "output_type": "stream",
          "name": "stdout",
          "text": [
            "WARNING: AutoGraph could not transform <function Model.make_train_function.<locals>.train_function at 0x7f728effc430> and will run it as-is.\n",
            "Please report this to the TensorFlow team. When filing the bug, set the verbosity to 10 (on Linux, `export AUTOGRAPH_VERBOSITY=10`) and attach the full output.\n",
            "Cause: closure mismatch, requested ('self', 'step_function'), but source function had ('self',)\n",
            "To silence this warning, decorate the function with @tf.autograph.experimental.do_not_convert\n",
            "138/143 [===========================>..] - ETA: 0s - loss: 0.4740 - accuracy: 0.5258 - mean_pred: 0.2987"
          ]
        },
        {
          "output_type": "stream",
          "name": "stderr",
          "text": [
            "WARNING:tensorflow:AutoGraph could not transform <function Model.make_test_function.<locals>.test_function at 0x7f728effca60> and will run it as-is.\n",
            "Please report this to the TensorFlow team. When filing the bug, set the verbosity to 10 (on Linux, `export AUTOGRAPH_VERBOSITY=10`) and attach the full output.\n",
            "Cause: closure mismatch, requested ('self', 'step_function'), but source function had ()\n",
            "To silence this warning, decorate the function with @tf.autograph.experimental.do_not_convert\n"
          ]
        },
        {
          "output_type": "stream",
          "name": "stdout",
          "text": [
            "WARNING: AutoGraph could not transform <function Model.make_test_function.<locals>.test_function at 0x7f728effca60> and will run it as-is.\n",
            "Please report this to the TensorFlow team. When filing the bug, set the verbosity to 10 (on Linux, `export AUTOGRAPH_VERBOSITY=10`) and attach the full output.\n",
            "Cause: closure mismatch, requested ('self', 'step_function'), but source function had ()\n",
            "To silence this warning, decorate the function with @tf.autograph.experimental.do_not_convert\n",
            "143/143 [==============================] - 4s 9ms/step - loss: 0.4733 - accuracy: 0.5264 - mean_pred: 0.3000 - val_loss: 0.4545 - val_accuracy: 0.5336 - val_mean_pred: 0.3436\n",
            "Epoch 2/50\n",
            "143/143 [==============================] - 1s 6ms/step - loss: 0.4431 - accuracy: 0.5590 - mean_pred: 0.2926 - val_loss: 0.4322 - val_accuracy: 0.5915 - val_mean_pred: 0.2486\n",
            "Epoch 3/50\n",
            "143/143 [==============================] - 1s 6ms/step - loss: 0.4279 - accuracy: 0.6033 - mean_pred: 0.2533 - val_loss: 0.4265 - val_accuracy: 0.6093 - val_mean_pred: 0.2463\n",
            "Epoch 4/50\n",
            "143/143 [==============================] - 1s 6ms/step - loss: 0.4236 - accuracy: 0.6206 - mean_pred: 0.2497 - val_loss: 0.4242 - val_accuracy: 0.6107 - val_mean_pred: 0.2576\n",
            "Epoch 5/50\n",
            "143/143 [==============================] - 1s 10ms/step - loss: 0.4207 - accuracy: 0.6234 - mean_pred: 0.2531 - val_loss: 0.4216 - val_accuracy: 0.6223 - val_mean_pred: 0.2440\n",
            "Epoch 6/50\n",
            "143/143 [==============================] - 2s 11ms/step - loss: 0.4184 - accuracy: 0.6292 - mean_pred: 0.2514 - val_loss: 0.4197 - val_accuracy: 0.6304 - val_mean_pred: 0.2336\n",
            "Epoch 7/50\n",
            "143/143 [==============================] - 2s 13ms/step - loss: 0.4158 - accuracy: 0.6349 - mean_pred: 0.2514 - val_loss: 0.4180 - val_accuracy: 0.6313 - val_mean_pred: 0.2600\n",
            "Epoch 8/50\n",
            "143/143 [==============================] - 2s 11ms/step - loss: 0.4139 - accuracy: 0.6391 - mean_pred: 0.2525 - val_loss: 0.4154 - val_accuracy: 0.6379 - val_mean_pred: 0.2441\n",
            "Epoch 9/50\n",
            "143/143 [==============================] - 1s 8ms/step - loss: 0.4123 - accuracy: 0.6439 - mean_pred: 0.2529 - val_loss: 0.4143 - val_accuracy: 0.6300 - val_mean_pred: 0.2639\n",
            "Epoch 10/50\n",
            "143/143 [==============================] - 1s 9ms/step - loss: 0.4105 - accuracy: 0.6457 - mean_pred: 0.2538 - val_loss: 0.4166 - val_accuracy: 0.6631 - val_mean_pred: 0.2330\n",
            "Epoch 11/50\n",
            "143/143 [==============================] - 1s 7ms/step - loss: 0.4102 - accuracy: 0.6491 - mean_pred: 0.2538 - val_loss: 0.4133 - val_accuracy: 0.6540 - val_mean_pred: 0.2476\n",
            "Epoch 12/50\n",
            "143/143 [==============================] - 1s 6ms/step - loss: 0.4092 - accuracy: 0.6534 - mean_pred: 0.2520 - val_loss: 0.4118 - val_accuracy: 0.6363 - val_mean_pred: 0.2779\n",
            "Epoch 13/50\n",
            "143/143 [==============================] - 1s 6ms/step - loss: 0.4080 - accuracy: 0.6532 - mean_pred: 0.2572 - val_loss: 0.4121 - val_accuracy: 0.6647 - val_mean_pred: 0.2337\n",
            "Epoch 14/50\n",
            "143/143 [==============================] - 1s 6ms/step - loss: 0.4073 - accuracy: 0.6570 - mean_pred: 0.2547 - val_loss: 0.4089 - val_accuracy: 0.6423 - val_mean_pred: 0.2680\n",
            "Epoch 15/50\n",
            "143/143 [==============================] - 1s 6ms/step - loss: 0.4060 - accuracy: 0.6597 - mean_pred: 0.2567 - val_loss: 0.4089 - val_accuracy: 0.6598 - val_mean_pred: 0.2554\n",
            "Epoch 16/50\n",
            "143/143 [==============================] - 1s 6ms/step - loss: 0.4056 - accuracy: 0.6605 - mean_pred: 0.2553 - val_loss: 0.4096 - val_accuracy: 0.6668 - val_mean_pred: 0.2306\n",
            "Epoch 17/50\n",
            "143/143 [==============================] - 1s 6ms/step - loss: 0.4047 - accuracy: 0.6634 - mean_pred: 0.2546 - val_loss: 0.4064 - val_accuracy: 0.6515 - val_mean_pred: 0.2648\n",
            "Epoch 18/50\n",
            "143/143 [==============================] - 1s 6ms/step - loss: 0.4041 - accuracy: 0.6638 - mean_pred: 0.2579 - val_loss: 0.4070 - val_accuracy: 0.6636 - val_mean_pred: 0.2632\n",
            "Epoch 19/50\n",
            "143/143 [==============================] - 1s 6ms/step - loss: 0.4037 - accuracy: 0.6660 - mean_pred: 0.2587 - val_loss: 0.4061 - val_accuracy: 0.6591 - val_mean_pred: 0.2606\n",
            "Epoch 20/50\n",
            "143/143 [==============================] - 1s 6ms/step - loss: 0.4027 - accuracy: 0.6670 - mean_pred: 0.2587 - val_loss: 0.4047 - val_accuracy: 0.6624 - val_mean_pred: 0.2542\n",
            "Epoch 21/50\n",
            "143/143 [==============================] - 1s 6ms/step - loss: 0.4022 - accuracy: 0.6681 - mean_pred: 0.2573 - val_loss: 0.4091 - val_accuracy: 0.6800 - val_mean_pred: 0.2381\n",
            "Epoch 22/50\n",
            "143/143 [==============================] - 1s 7ms/step - loss: 0.3910 - accuracy: 0.6764 - mean_pred: 0.2958 - val_loss: 0.3609 - val_accuracy: 0.6967 - val_mean_pred: 0.4094\n",
            "Epoch 23/50\n",
            "143/143 [==============================] - 1s 8ms/step - loss: 0.3529 - accuracy: 0.7000 - mean_pred: 0.3991 - val_loss: 0.3592 - val_accuracy: 0.6935 - val_mean_pred: 0.4014\n",
            "Epoch 24/50\n",
            "143/143 [==============================] - 1s 8ms/step - loss: 0.3514 - accuracy: 0.6999 - mean_pred: 0.4016 - val_loss: 0.3558 - val_accuracy: 0.6922 - val_mean_pred: 0.4061\n",
            "Epoch 25/50\n",
            "143/143 [==============================] - 1s 8ms/step - loss: 0.3484 - accuracy: 0.6994 - mean_pred: 0.4081 - val_loss: 0.3535 - val_accuracy: 0.6946 - val_mean_pred: 0.4106\n",
            "Epoch 26/50\n",
            "143/143 [==============================] - 1s 6ms/step - loss: 0.3465 - accuracy: 0.7019 - mean_pred: 0.4128 - val_loss: 0.3532 - val_accuracy: 0.6936 - val_mean_pred: 0.3963\n",
            "Epoch 27/50\n",
            "143/143 [==============================] - 1s 6ms/step - loss: 0.3459 - accuracy: 0.7020 - mean_pred: 0.4121 - val_loss: 0.3539 - val_accuracy: 0.6906 - val_mean_pred: 0.3796\n",
            "Epoch 28/50\n",
            "143/143 [==============================] - 1s 6ms/step - loss: 0.3444 - accuracy: 0.7028 - mean_pred: 0.4126 - val_loss: 0.3497 - val_accuracy: 0.6895 - val_mean_pred: 0.4158\n",
            "Epoch 29/50\n",
            "143/143 [==============================] - 1s 6ms/step - loss: 0.3428 - accuracy: 0.7026 - mean_pred: 0.4194 - val_loss: 0.3470 - val_accuracy: 0.6971 - val_mean_pred: 0.4180\n",
            "Epoch 30/50\n",
            "143/143 [==============================] - 1s 6ms/step - loss: 0.3410 - accuracy: 0.7037 - mean_pred: 0.4201 - val_loss: 0.3465 - val_accuracy: 0.6948 - val_mean_pred: 0.4135\n",
            "Epoch 31/50\n",
            "143/143 [==============================] - 1s 6ms/step - loss: 0.3404 - accuracy: 0.7027 - mean_pred: 0.4242 - val_loss: 0.3462 - val_accuracy: 0.6950 - val_mean_pred: 0.4377\n",
            "Epoch 32/50\n",
            "143/143 [==============================] - 1s 6ms/step - loss: 0.3398 - accuracy: 0.7038 - mean_pred: 0.4273 - val_loss: 0.3453 - val_accuracy: 0.6932 - val_mean_pred: 0.4147\n",
            "Epoch 33/50\n",
            "143/143 [==============================] - 1s 6ms/step - loss: 0.3379 - accuracy: 0.7023 - mean_pred: 0.4305 - val_loss: 0.3414 - val_accuracy: 0.6915 - val_mean_pred: 0.4312\n",
            "Epoch 34/50\n",
            "143/143 [==============================] - 1s 6ms/step - loss: 0.3363 - accuracy: 0.7038 - mean_pred: 0.4338 - val_loss: 0.3428 - val_accuracy: 0.6936 - val_mean_pred: 0.4161\n",
            "Epoch 35/50\n",
            "143/143 [==============================] - 1s 6ms/step - loss: 0.3353 - accuracy: 0.7031 - mean_pred: 0.4372 - val_loss: 0.3434 - val_accuracy: 0.6911 - val_mean_pred: 0.4327\n",
            "Epoch 36/50\n",
            "143/143 [==============================] - 1s 6ms/step - loss: 0.3342 - accuracy: 0.7046 - mean_pred: 0.4386 - val_loss: 0.3398 - val_accuracy: 0.6903 - val_mean_pred: 0.4270\n",
            "Epoch 37/50\n",
            "143/143 [==============================] - 1s 7ms/step - loss: 0.3319 - accuracy: 0.7056 - mean_pred: 0.4400 - val_loss: 0.3375 - val_accuracy: 0.6921 - val_mean_pred: 0.4281\n",
            "Epoch 38/50\n",
            "143/143 [==============================] - 1s 8ms/step - loss: 0.3319 - accuracy: 0.7035 - mean_pred: 0.4455 - val_loss: 0.3370 - val_accuracy: 0.6921 - val_mean_pred: 0.4392\n",
            "Epoch 39/50\n",
            "143/143 [==============================] - 1s 8ms/step - loss: 0.3304 - accuracy: 0.7053 - mean_pred: 0.4424 - val_loss: 0.3390 - val_accuracy: 0.6894 - val_mean_pred: 0.4530\n",
            "Epoch 40/50\n",
            "143/143 [==============================] - 1s 8ms/step - loss: 0.3297 - accuracy: 0.7040 - mean_pred: 0.4473 - val_loss: 0.3343 - val_accuracy: 0.6943 - val_mean_pred: 0.4407\n",
            "Epoch 41/50\n",
            "143/143 [==============================] - 1s 6ms/step - loss: 0.3295 - accuracy: 0.7036 - mean_pred: 0.4506 - val_loss: 0.3341 - val_accuracy: 0.6953 - val_mean_pred: 0.4446\n",
            "Epoch 42/50\n",
            "143/143 [==============================] - 1s 6ms/step - loss: 0.3285 - accuracy: 0.7035 - mean_pred: 0.4493 - val_loss: 0.3325 - val_accuracy: 0.6977 - val_mean_pred: 0.4432\n",
            "Epoch 43/50\n",
            "143/143 [==============================] - 1s 6ms/step - loss: 0.3273 - accuracy: 0.7056 - mean_pred: 0.4556 - val_loss: 0.3321 - val_accuracy: 0.6962 - val_mean_pred: 0.4446\n",
            "Epoch 44/50\n",
            "143/143 [==============================] - 1s 6ms/step - loss: 0.3280 - accuracy: 0.7044 - mean_pred: 0.4558 - val_loss: 0.3308 - val_accuracy: 0.6976 - val_mean_pred: 0.4389\n",
            "Epoch 45/50\n",
            "143/143 [==============================] - 1s 6ms/step - loss: 0.3252 - accuracy: 0.7053 - mean_pred: 0.4538 - val_loss: 0.3299 - val_accuracy: 0.6946 - val_mean_pred: 0.4506\n",
            "Epoch 46/50\n",
            "143/143 [==============================] - 1s 6ms/step - loss: 0.3253 - accuracy: 0.7052 - mean_pred: 0.4567 - val_loss: 0.3310 - val_accuracy: 0.6928 - val_mean_pred: 0.4490\n",
            "Epoch 47/50\n",
            "143/143 [==============================] - 1s 6ms/step - loss: 0.3249 - accuracy: 0.7059 - mean_pred: 0.4592 - val_loss: 0.3358 - val_accuracy: 0.6913 - val_mean_pred: 0.4482\n",
            "Epoch 48/50\n",
            "143/143 [==============================] - 1s 6ms/step - loss: 0.3236 - accuracy: 0.7075 - mean_pred: 0.4603 - val_loss: 0.3308 - val_accuracy: 0.6894 - val_mean_pred: 0.4481\n",
            "Epoch 49/50\n",
            "143/143 [==============================] - 1s 6ms/step - loss: 0.3228 - accuracy: 0.7075 - mean_pred: 0.4624 - val_loss: 0.3276 - val_accuracy: 0.6956 - val_mean_pred: 0.4555\n",
            "Epoch 50/50\n",
            "143/143 [==============================] - 1s 6ms/step - loss: 0.3223 - accuracy: 0.7058 - mean_pred: 0.4630 - val_loss: 0.3326 - val_accuracy: 0.6961 - val_mean_pred: 0.4582\n"
          ]
        }
      ]
    },
    {
      "cell_type": "code",
      "metadata": {
        "id": "MGURXxNMexcs",
        "colab": {
          "base_uri": "https://localhost:8080/"
        },
        "outputId": "89c8b9cd-f564-4e80-8408-458f6a59bb94"
      },
      "source": [
        "nn_model.summary()"
      ],
      "execution_count": 68,
      "outputs": [
        {
          "output_type": "stream",
          "name": "stdout",
          "text": [
            "Model: \"sequential_3\"\n",
            "_________________________________________________________________\n",
            " Layer (type)                Output Shape              Param #   \n",
            "=================================================================\n",
            " lstm_3 (LSTM)               (None, 32)                4864      \n",
            "                                                                 \n",
            " dropout_3 (Dropout)         (None, 32)                0         \n",
            "                                                                 \n",
            " dense_3 (Dense)             (None, 2)                 66        \n",
            "                                                                 \n",
            " activation_3 (Activation)   (None, 2)                 0         \n",
            "                                                                 \n",
            "=================================================================\n",
            "Total params: 4,930\n",
            "Trainable params: 4,930\n",
            "Non-trainable params: 0\n",
            "_________________________________________________________________\n"
          ]
        }
      ]
    },
    {
      "cell_type": "code",
      "metadata": {
        "id": "n4wGBS9iexcu",
        "colab": {
          "base_uri": "https://localhost:8080/"
        },
        "outputId": "f877d1c4-c911-4f43-d629-54858e5490d4"
      },
      "source": [
        "acc = nn_model.evaluate(X_test, Y_test, batch_size=16)\n",
        "print('Test accuracy:', acc)"
      ],
      "execution_count": 70,
      "outputs": [
        {
          "output_type": "stream",
          "name": "stdout",
          "text": [
            "570/570 [==============================] - 2s 4ms/step - loss: 0.3326 - accuracy: 0.6961 - mean_pred: 0.4584\n",
            "Test accuracy: [0.33257362246513367, 0.6961343884468079, 0.45835548639297485]\n"
          ]
        }
      ]
    },
    {
      "cell_type": "markdown",
      "metadata": {
        "id": "KtZChnbjM7Pe"
      },
      "source": [
        "**Test Accuracy at 66.94%**"
      ]
    },
    {
      "cell_type": "code",
      "metadata": {
        "id": "ZjbCSSL-excv",
        "colab": {
          "base_uri": "https://localhost:8080/",
          "height": 295
        },
        "outputId": "77acc73e-919a-4f3a-e884-c3fbec195841"
      },
      "source": [
        "#Plotting training data loss and validation data loss\n",
        "plt.plot(nn_history.history['accuracy'], label='trained data')\n",
        "plt.plot(nn_history.history['val_accuracy'], label='validated data')\n",
        "plt.legend()\n",
        "plt.xlabel('Epochs')\n",
        "plt.ylabel('Accuracy')\n",
        "plt.title('Measure of accuracy')\n",
        "plt.show()"
      ],
      "execution_count": 72,
      "outputs": [
        {
          "output_type": "display_data",
          "data": {
            "text/plain": [
              "<Figure size 432x288 with 1 Axes>"
            ],
            "image/png": "[encoded data removed]"
          },
          "metadata": {
            "needs_background": "light"
          }
        }
      ]
    },
    {
      "cell_type": "code",
      "metadata": {
        "id": "LIc4QKwnexcx",
        "colab": {
          "base_uri": "https://localhost:8080/",
          "height": 295
        },
        "outputId": "4274c02e-1fb6-49f0-8982-0ffd3e520755"
      },
      "source": [
        "#plateau:\n",
        "plt.plot(nn_history.history['loss'], label = 'training curve')\n",
        "plt.plot(nn_history.history['val_loss'], label = 'testing curve')\n",
        "plt.legend()\n",
        "plt.xlabel('Epochs')\n",
        "plt.ylabel('Training loss')\n",
        "plt.title('Measure of plateau')\n",
        "plt.show()"
      ],
      "execution_count": 73,
      "outputs": [
        {
          "output_type": "display_data",
          "data": {
            "text/plain": [
              "<Figure size 432x288 with 1 Axes>"
            ],
            "image/png": "[encoded data removed]"
          },
          "metadata": {
            "needs_background": "light"
          }
        }
      ]
    },
    {
      "cell_type": "markdown",
      "metadata": {
        "id": "EIhOphWUexcz"
      },
      "source": [
        "**USE GRU NETWORK ARCHITECTURE**"
      ]
    },
    {
      "cell_type": "markdown",
      "metadata": {
        "id": "PLvZFqtSNmEl"
      },
      "source": [
        "**Created a GRU network in Keras and then run it for some time. Here I haven't performed much parameter tuning. Trained for 20 epochs on relu, mae and adam.** \n"
      ]
    },
    {
      "cell_type": "code",
      "metadata": {
        "id": "WW-taS5fexcz",
        "colab": {
          "base_uri": "https://localhost:8080/"
        },
        "outputId": "64828d77-6a2a-4494-faa0-e07b1e56d097"
      },
      "source": [
        "def mean_pred(X_test, Y_test):\n",
        "    return K.mean(Y_test)\n",
        "\n",
        "def build_model(inputs, output_size, neurons, activ_func=\"relu\",\n",
        "                dropout=0.10, loss=\"mae\", optimizer=\"adam\"):\n",
        "    \n",
        "    model = Sequential()\n",
        "\n",
        "    model.add(GRU(neurons, input_shape=(WINDOW,EMB_SIZE)))\n",
        "    model.add(Dropout(dropout))\n",
        "    model.add(Dense(units=output_size))\n",
        "    model.add(Activation(activ_func))\n",
        "\n",
        "    model.compile(loss=loss, optimizer=optimizer, metrics=['accuracy', mean_pred])\n",
        "    return model\n",
        "\n",
        "nn_model = build_model(X_train, output_size=2, neurons = 32)\n",
        "# model output is next price normalised to 10th previous closing price\n",
        "# train model on data\n",
        "# note: eth_history contains information on the training error per epoch\n",
        "nn_history = nn_model.fit(X_train, Y_train,\n",
        "                            epochs=20, batch_size=256, verbose=1,  validation_data=(X_test, Y_test),shuffle=True)"
      ],
      "execution_count": 74,
      "outputs": [
        {
          "output_type": "stream",
          "name": "stdout",
          "text": [
            "Epoch 1/20\n"
          ]
        },
        {
          "output_type": "stream",
          "name": "stderr",
          "text": [
            "WARNING:tensorflow:AutoGraph could not transform <function Model.make_train_function.<locals>.train_function at 0x7f728e271ee0> and will run it as-is.\n",
            "Please report this to the TensorFlow team. When filing the bug, set the verbosity to 10 (on Linux, `export AUTOGRAPH_VERBOSITY=10`) and attach the full output.\n",
            "Cause: closure mismatch, requested ('self', 'step_function'), but source function had ('self',)\n",
            "To silence this warning, decorate the function with @tf.autograph.experimental.do_not_convert\n"
          ]
        },
        {
          "output_type": "stream",
          "name": "stdout",
          "text": [
            "WARNING: AutoGraph could not transform <function Model.make_train_function.<locals>.train_function at 0x7f728e271ee0> and will run it as-is.\n",
            "Please report this to the TensorFlow team. When filing the bug, set the verbosity to 10 (on Linux, `export AUTOGRAPH_VERBOSITY=10`) and attach the full output.\n",
            "Cause: closure mismatch, requested ('self', 'step_function'), but source function had ('self',)\n",
            "To silence this warning, decorate the function with @tf.autograph.experimental.do_not_convert\n",
            "141/143 [============================>.] - ETA: 0s - loss: 0.4441 - accuracy: 0.5880 - mean_pred: 0.3160"
          ]
        },
        {
          "output_type": "stream",
          "name": "stderr",
          "text": [
            "WARNING:tensorflow:AutoGraph could not transform <function Model.make_test_function.<locals>.test_function at 0x7f726d930820> and will run it as-is.\n",
            "Please report this to the TensorFlow team. When filing the bug, set the verbosity to 10 (on Linux, `export AUTOGRAPH_VERBOSITY=10`) and attach the full output.\n",
            "Cause: closure mismatch, requested ('self', 'step_function'), but source function had ()\n",
            "To silence this warning, decorate the function with @tf.autograph.experimental.do_not_convert\n"
          ]
        },
        {
          "output_type": "stream",
          "name": "stdout",
          "text": [
            "WARNING: AutoGraph could not transform <function Model.make_test_function.<locals>.test_function at 0x7f726d930820> and will run it as-is.\n",
            "Please report this to the TensorFlow team. When filing the bug, set the verbosity to 10 (on Linux, `export AUTOGRAPH_VERBOSITY=10`) and attach the full output.\n",
            "Cause: closure mismatch, requested ('self', 'step_function'), but source function had ()\n",
            "To silence this warning, decorate the function with @tf.autograph.experimental.do_not_convert\n",
            "143/143 [==============================] - 4s 8ms/step - loss: 0.4438 - accuracy: 0.5887 - mean_pred: 0.3179 - val_loss: 0.4025 - val_accuracy: 0.6490 - val_mean_pred: 0.4451\n",
            "Epoch 2/20\n",
            "143/143 [==============================] - 1s 7ms/step - loss: 0.3841 - accuracy: 0.6797 - mean_pred: 0.4299 - val_loss: 0.3838 - val_accuracy: 0.6823 - val_mean_pred: 0.4123\n",
            "Epoch 3/20\n",
            "143/143 [==============================] - 1s 8ms/step - loss: 0.3739 - accuracy: 0.6893 - mean_pred: 0.4175 - val_loss: 0.3771 - val_accuracy: 0.6830 - val_mean_pred: 0.4037\n",
            "Epoch 4/20\n",
            "143/143 [==============================] - 1s 8ms/step - loss: 0.3678 - accuracy: 0.6946 - mean_pred: 0.4183 - val_loss: 0.3738 - val_accuracy: 0.6843 - val_mean_pred: 0.3953\n",
            "Epoch 5/20\n",
            "143/143 [==============================] - 1s 8ms/step - loss: 0.3646 - accuracy: 0.6956 - mean_pred: 0.4180 - val_loss: 0.3727 - val_accuracy: 0.6880 - val_mean_pred: 0.4102\n",
            "Epoch 6/20\n",
            "143/143 [==============================] - 1s 6ms/step - loss: 0.3621 - accuracy: 0.6971 - mean_pred: 0.4209 - val_loss: 0.3686 - val_accuracy: 0.6936 - val_mean_pred: 0.4154\n",
            "Epoch 7/20\n",
            "143/143 [==============================] - 1s 6ms/step - loss: 0.3596 - accuracy: 0.6986 - mean_pred: 0.4229 - val_loss: 0.3668 - val_accuracy: 0.6880 - val_mean_pred: 0.4271\n",
            "Epoch 8/20\n",
            "143/143 [==============================] - 1s 6ms/step - loss: 0.3575 - accuracy: 0.7010 - mean_pred: 0.4201 - val_loss: 0.3663 - val_accuracy: 0.6915 - val_mean_pred: 0.4601\n",
            "Epoch 9/20\n",
            "143/143 [==============================] - 1s 6ms/step - loss: 0.3560 - accuracy: 0.6977 - mean_pred: 0.4252 - val_loss: 0.3632 - val_accuracy: 0.6939 - val_mean_pred: 0.4338\n",
            "Epoch 10/20\n",
            "143/143 [==============================] - 1s 6ms/step - loss: 0.3542 - accuracy: 0.7009 - mean_pred: 0.4265 - val_loss: 0.3632 - val_accuracy: 0.6919 - val_mean_pred: 0.4276\n",
            "Epoch 11/20\n",
            "143/143 [==============================] - 1s 5ms/step - loss: 0.3535 - accuracy: 0.7013 - mean_pred: 0.4260 - val_loss: 0.3607 - val_accuracy: 0.6920 - val_mean_pred: 0.4263\n",
            "Epoch 12/20\n",
            "143/143 [==============================] - 1s 5ms/step - loss: 0.3514 - accuracy: 0.7031 - mean_pred: 0.4294 - val_loss: 0.3599 - val_accuracy: 0.6931 - val_mean_pred: 0.4220\n",
            "Epoch 13/20\n",
            "143/143 [==============================] - 1s 5ms/step - loss: 0.3505 - accuracy: 0.7027 - mean_pred: 0.4291 - val_loss: 0.3588 - val_accuracy: 0.6936 - val_mean_pred: 0.4340\n",
            "Epoch 14/20\n",
            "143/143 [==============================] - 1s 6ms/step - loss: 0.3488 - accuracy: 0.7048 - mean_pred: 0.4299 - val_loss: 0.3574 - val_accuracy: 0.6938 - val_mean_pred: 0.4355\n",
            "Epoch 15/20\n",
            "143/143 [==============================] - 1s 6ms/step - loss: 0.3481 - accuracy: 0.7031 - mean_pred: 0.4332 - val_loss: 0.3568 - val_accuracy: 0.6960 - val_mean_pred: 0.4144\n",
            "Epoch 16/20\n",
            "143/143 [==============================] - 1s 6ms/step - loss: 0.3469 - accuracy: 0.7051 - mean_pred: 0.4333 - val_loss: 0.3558 - val_accuracy: 0.6958 - val_mean_pred: 0.4353\n",
            "Epoch 17/20\n",
            "143/143 [==============================] - 1s 6ms/step - loss: 0.3465 - accuracy: 0.7037 - mean_pred: 0.4367 - val_loss: 0.3564 - val_accuracy: 0.6942 - val_mean_pred: 0.4368\n",
            "Epoch 18/20\n",
            "143/143 [==============================] - 1s 7ms/step - loss: 0.3448 - accuracy: 0.7060 - mean_pred: 0.4359 - val_loss: 0.3543 - val_accuracy: 0.6961 - val_mean_pred: 0.4206\n",
            "Epoch 19/20\n",
            "143/143 [==============================] - 1s 8ms/step - loss: 0.3442 - accuracy: 0.7057 - mean_pred: 0.4375 - val_loss: 0.3532 - val_accuracy: 0.6957 - val_mean_pred: 0.4326\n",
            "Epoch 20/20\n",
            "143/143 [==============================] - 1s 8ms/step - loss: 0.3437 - accuracy: 0.7055 - mean_pred: 0.4356 - val_loss: 0.3518 - val_accuracy: 0.6953 - val_mean_pred: 0.4305\n"
          ]
        }
      ]
    },
    {
      "cell_type": "code",
      "metadata": {
        "id": "nkBH3ldoexc1",
        "colab": {
          "base_uri": "https://localhost:8080/"
        },
        "outputId": "bcb83a01-992e-4e6f-fa79-3d144e2652ea"
      },
      "source": [
        "nn_model.summary()"
      ],
      "execution_count": 75,
      "outputs": [
        {
          "output_type": "stream",
          "name": "stdout",
          "text": [
            "Model: \"sequential_5\"\n",
            "_________________________________________________________________\n",
            " Layer (type)                Output Shape              Param #   \n",
            "=================================================================\n",
            " gru (GRU)                   (None, 32)                3744      \n",
            "                                                                 \n",
            " dropout_5 (Dropout)         (None, 32)                0         \n",
            "                                                                 \n",
            " dense_5 (Dense)             (None, 2)                 66        \n",
            "                                                                 \n",
            " activation_5 (Activation)   (None, 2)                 0         \n",
            "                                                                 \n",
            "=================================================================\n",
            "Total params: 3,810\n",
            "Trainable params: 3,810\n",
            "Non-trainable params: 0\n",
            "_________________________________________________________________\n"
          ]
        }
      ]
    },
    {
      "cell_type": "code",
      "metadata": {
        "id": "HWJ6nWL2exc3",
        "colab": {
          "base_uri": "https://localhost:8080/"
        },
        "outputId": "5c78a25c-5494-4d9c-edb8-d9cc661b9af1"
      },
      "source": [
        "acc = nn_model.evaluate(X_test, Y_test, batch_size=16)\n",
        "print('Test accuracy:', acc)"
      ],
      "execution_count": 76,
      "outputs": [
        {
          "output_type": "stream",
          "name": "stdout",
          "text": [
            "570/570 [==============================] - 2s 3ms/step - loss: 0.3518 - accuracy: 0.6953 - mean_pred: 0.4304\n",
            "Test accuracy: [0.35182514786720276, 0.6952558755874634, 0.430422306060791]\n"
          ]
        }
      ]
    },
    {
      "cell_type": "markdown",
      "metadata": {
        "id": "bs7cYRpWOAD3"
      },
      "source": [
        "Accuracy at 66.81%"
      ]
    },
    {
      "cell_type": "code",
      "metadata": {
        "id": "nsqjOzT4exc4",
        "colab": {
          "base_uri": "https://localhost:8080/",
          "height": 295
        },
        "outputId": "28f01e03-5bba-4d9a-a7d3-7abb7b20e9ab"
      },
      "source": [
        "#Plotting training data loss and validation data loss\n",
        "plt.plot(nn_history.history['accuracy'], label='trained data')\n",
        "plt.plot(nn_history.history['val_accuracy'], label='validated data')\n",
        "plt.legend()\n",
        "plt.xlabel('Epochs')\n",
        "plt.ylabel('Accuracy')\n",
        "plt.title('Measure of accuracy')\n",
        "plt.show()"
      ],
      "execution_count": 77,
      "outputs": [
        {
          "output_type": "display_data",
          "data": {
            "text/plain": [
              "<Figure size 432x288 with 1 Axes>"
            ],
            "image/png": "[encoded data removed]"
          },
          "metadata": {
            "needs_background": "light"
          }
        }
      ]
    },
    {
      "cell_type": "markdown",
      "metadata": {
        "id": "0tQ7wviSOGj5"
      },
      "source": [
        "**A great model for both accuracy and loss. GRU does a good job like LSTM network.**"
      ]
    },
    {
      "cell_type": "code",
      "metadata": {
        "id": "dZtwP6JBexc6",
        "colab": {
          "base_uri": "https://localhost:8080/",
          "height": 295
        },
        "outputId": "e7cef81c-43b8-4316-9934-be044d01e222"
      },
      "source": [
        "plt.plot(nn_history.history['loss'], label = 'training curve')\n",
        "plt.plot(nn_history.history['val_loss'], label = 'testing curve')\n",
        "plt.legend()\n",
        "plt.xlabel('Epochs')\n",
        "plt.ylabel('Training loss')\n",
        "plt.title('Measure of plateau')\n",
        "plt.show()"
      ],
      "execution_count": 78,
      "outputs": [
        {
          "output_type": "display_data",
          "data": {
            "text/plain": [
              "<Figure size 432x288 with 1 Axes>"
            ],
            "image/png": "[encoded data removed]"
          },
          "metadata": {
            "needs_background": "light"
          }
        }
      ]
    },
    {
      "cell_type": "markdown",
      "metadata": {
        "id": "h-O2_vEtOUkq"
      },
      "source": [
        "#**CONCLUSIONS:**\n",
        "\n",
        "**I found that LSTM and GRU can predict Closing prices of Amazon Data on an average of 65% of the time(best model at 75% worst at 58%) if you normalize the data, stack input data and perform hyperparameter tuning.** \n"
      ]
    },
    {
      "cell_type": "code",
      "source": [],
      "metadata": {
        "id": "e37g2ICwZLxI"
      },
      "execution_count": null,
      "outputs": []
    }
  ]
}