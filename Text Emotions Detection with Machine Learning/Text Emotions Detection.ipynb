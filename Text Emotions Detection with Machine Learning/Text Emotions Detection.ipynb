{
 "cells": [
  {
   "cell_type": "markdown",
   "id": "cb9f3fe8",
   "metadata": {},
   "source": [
    "### A human can express his emotions in any form, such as face, gestures, speech and text. The detection of text emotions is a content-based classification problem. In this article, I will take you through how to solve the problem of text emotions detection with machine learning using Python.\n",
    "\n",
    "### Bir insan duygularını yüz, jest, konuşma ve metin gibi herhangi bir biçimde ifade edebilir. Metin duygularının tespiti, içerik tabanlı bir sınıflandırma problemidir. Bu yazıda, Python kullanarak makine öğrenimi ile metin duygu algılama probleminin nasıl çözüleceğini anlatacağım."
   ]
  },
  {
   "cell_type": "markdown",
   "id": "e53cca7f",
   "metadata": {},
   "source": [
    "# Text Emotions Detection with Machine Learning"
   ]
  },
  {
   "cell_type": "markdown",
   "id": "590952eb",
   "metadata": {},
   "source": [
    "#### In machine learning, the detection of textual emotions is the problem of content-based classification, which is the task of natural language processing. Detecting a person’s emotions is a difficult task, but detecting the emotions using text written by a person is even more difficult as a human can express his emotions in any form.\n",
    "\n",
    "#### Makine öğreniminde, metinsel duyguların tespiti, doğal dil işlemenin görevi olan içerik tabanlı sınıflandırma problemidir. Bir kişinin duygularını tespit etmek zor bir iştir, ancak bir kişi tarafından yazılan metinleri kullanarak duyguları tespit etmek, bir insan duygularını herhangi bir biçimde ifade edebileceğinden daha da zordur."
   ]
  },
  {
   "cell_type": "markdown",
   "id": "8f6e89bd",
   "metadata": {},
   "source": [
    "#### Usually, emotions are expressed as joy, sadness, anger, surprise, hate, fear, etc. Recognizing this type of emotion from a text written by a person plays an important role in applications such as chatbots, customer support forum, customer reviews etc. In the section below, I will take you through a machine learning project on Text Emotions Detection using Python where I will build a machine learning model to classify the emotions of a text.\n",
    "\n",
    "#### Genellikle duygular neşe, üzüntü, öfke, şaşkınlık, nefret, korku vb. olarak ifade edilir. Bir kişinin yazdığı bir metinden bu tür duyguları tanımak, chatbot, müşteri destek forumu gibi uygulamalarda önemli rol oynar. müşteri incelemeleri vb. Aşağıdaki bölümde, bir metnin duygularını sınıflandırmak için bir makine öğrenimi modeli oluşturacağım Python kullanarak Metin Duyguları Algılama üzerine bir makine öğrenimi projesine götüreceğim."
   ]
  },
  {
   "cell_type": "markdown",
   "id": "a6864bc0",
   "metadata": {},
   "source": [
    "## Text Emotions Detection using Python "
   ]
  },
  {
   "cell_type": "markdown",
   "id": "b2cdf049",
   "metadata": {},
   "source": [
    "#### For detecting emotions from the text, I will perform a few steps that will start with preparing the data. Then the next step will be tokenization where the textual data will be converted into tokens and from these tokens, we have to identify the emotional words.\n",
    "\n",
    "#### These emotional words will be the keyword to classify the emotions of a text. Next, we’ll frame this task in such a way that a text will be taken as an input and the emoji that represents the emotions in that text is generated as the output.\n",
    "\n",
    "#### Now let’s get started with the task of Text Emotions Detection with Machine Learning using Python. I will start this task by importing the necessary Python libraries and the dataset:\n",
    "\n",
    "#### Metinden duyguları tespit etmek için verileri hazırlamakla başlayacak birkaç adım gerçekleştireceğim. Daha sonra bir sonraki adım, metinsel verilerin jetonlara dönüştürüleceği tokenleştirme olacak ve bu jetonlardan duygusal kelimeleri tanımlamamız gerekiyor.\n",
    "\n",
    "#### Bu duygusal kelimeler, bir metnin duygularını sınıflandırmak için anahtar kelime olacaktır. Daha sonra, bir metin girdi olarak alınacak ve çıktı olarak o metindeki duyguları temsil eden emoji oluşturulacak şekilde bu görevi çerçeveleyeceğiz.\n",
    "\n",
    "#### Şimdi Python kullanarak Makine Öğrenimi ile Metin Duygularını Algılama görevine başlayalım. Gerekli Python kitaplıklarını ve veri setini içe aktararak bu göreve başlayacağım:"
   ]
  },
  {
   "cell_type": "code",
   "execution_count": 28,
   "id": "51fba38a",
   "metadata": {},
   "outputs": [],
   "source": [
    "import re \n",
    "from collections import Counter\n",
    "from sklearn.model_selection import train_test_split\n",
    "from sklearn.metrics import accuracy_score\n",
    "from sklearn.svm import SVC\n",
    "from sklearn.svm import LinearSVC\n",
    "from sklearn.ensemble import RandomForestClassifier\n",
    "from sklearn.tree import DecisionTreeClassifier\n",
    "import warnings\n",
    "warnings.filterwarnings('ignore')"
   ]
  },
  {
   "cell_type": "code",
   "execution_count": 29,
   "id": "5f74a495",
   "metadata": {},
   "outputs": [],
   "source": [
    "def read_data(file):\n",
    "    data=[]\n",
    "    with open(file,\"r\") as f:\n",
    "        for line in f:\n",
    "            line = line.strip()\n",
    "            label=\" \".join(line[1:line.find(\"]\")].strip().split())\n",
    "            text=line[line.find(\"]\")+1:].strip()\n",
    "            data.append([label,text])\n",
    "    return data"
   ]
  },
  {
   "cell_type": "code",
   "execution_count": 30,
   "id": "0b9f224e",
   "metadata": {},
   "outputs": [],
   "source": [
    "file =\"text.txt\""
   ]
  },
  {
   "cell_type": "code",
   "execution_count": 31,
   "id": "8c81c4c0",
   "metadata": {},
   "outputs": [],
   "source": [
    "data=read_data(file)"
   ]
  },
  {
   "cell_type": "code",
   "execution_count": 32,
   "id": "962c7465",
   "metadata": {},
   "outputs": [
    {
     "data": {
      "text/plain": [
       "'Number of instances:7480'"
      ]
     },
     "execution_count": 32,
     "metadata": {},
     "output_type": "execute_result"
    }
   ],
   "source": [
    "(\"Number of instances:{}\".format(len(data)))"
   ]
  },
  {
   "cell_type": "markdown",
   "id": "1f88cbf9",
   "metadata": {},
   "source": [
    "#### Now I will create two Python functions for tokenization and generating the features of an input sentence:\n",
    "\n",
    "#### Şimdi belirteçleştirme ve bir giriş cümlesinin özelliklerini oluşturmak için iki Python işlevi oluşturacağım:"
   ]
  },
  {
   "cell_type": "code",
   "execution_count": 33,
   "id": "406a16d9",
   "metadata": {},
   "outputs": [],
   "source": [
    "def ngram(token, n): \n",
    "    output = []\n",
    "    for i in range(n-1, len(token)): \n",
    "        ngram = ' '.join(token[i-n+1:i+1])\n",
    "        output.append(ngram) \n",
    "    return output"
   ]
  },
  {
   "cell_type": "code",
   "execution_count": 34,
   "id": "40577c35",
   "metadata": {},
   "outputs": [],
   "source": [
    "def create_feature(text, nrange=(1, 1)):\n",
    "    text_features = [] \n",
    "    text = text.lower() \n",
    "    text_alphanum = re.sub('[^a-z0-9#]', ' ', text)\n",
    "    for n in range(nrange[0], nrange[1]+1): \n",
    "        text_features += ngram(text_alphanum.split(), n)    \n",
    "    text_punc = re.sub('[a-z0-9]', ' ', text)\n",
    "    text_features += ngram(text_punc.split(), 1)\n",
    "    return Counter(text_features)"
   ]
  },
  {
   "cell_type": "markdown",
   "id": "cba28bfc",
   "metadata": {},
   "source": [
    "#### Now I will create a Python function to store the labels, our labels will be based on emotions such as Joy, Fear, Anger, and so on:\n",
    "\n",
    "#### Şimdi etiketleri depolamak için bir Python işlevi oluşturacağım, etiketlerimiz Sevinç, Korku, Öfke ve benzeri duygulara dayalı olacak:"
   ]
  },
  {
   "cell_type": "code",
   "execution_count": 35,
   "id": "c19b1977",
   "metadata": {},
   "outputs": [],
   "source": [
    "def convert_label(item, name): \n",
    "    items = list(map(float, item.split()))\n",
    "    label = \"\"\n",
    "    for idx in range(len(items)): \n",
    "        if items[idx] == 1: \n",
    "            label += name[idx] + \" \"\n",
    "    \n",
    "    return label.strip()"
   ]
  },
  {
   "cell_type": "code",
   "execution_count": 36,
   "id": "9a27625c",
   "metadata": {},
   "outputs": [],
   "source": [
    "emotions = [\"joy\", 'fear', \"anger\", \"sadness\", \"disgust\", \"shame\", \"guilt\"]"
   ]
  },
  {
   "cell_type": "code",
   "execution_count": 37,
   "id": "5decbca0",
   "metadata": {},
   "outputs": [],
   "source": [
    "X_all = []\n",
    "y_all = []\n",
    "for label, text in data:\n",
    "    y_all.append(convert_label(label, emotions))\n",
    "    X_all.append(create_feature(text, nrange=(1, 4)))"
   ]
  },
  {
   "cell_type": "markdown",
   "id": "db99b25a",
   "metadata": {},
   "source": [
    "#### Now I will split the data into training and test sets:\n",
    "\n",
    "#### Şimdi verileri eğitim ve test setlerine ayıracağım:"
   ]
  },
  {
   "cell_type": "code",
   "execution_count": 38,
   "id": "ee6b4f71",
   "metadata": {},
   "outputs": [],
   "source": [
    "X_train, X_test, y_train, y_test = train_test_split(X_all, y_all, test_size = 0.2, random_state = 123)"
   ]
  },
  {
   "cell_type": "code",
   "execution_count": 39,
   "id": "baf6ae50",
   "metadata": {},
   "outputs": [],
   "source": [
    "def train_test(clf, X_train, X_test, y_train, y_test):\n",
    "    clf.fit(X_train, y_train)\n",
    "    train_acc = accuracy_score(y_train, clf.predict(X_train))\n",
    "    test_acc = accuracy_score(y_test, clf.predict(X_test))\n",
    "    return train_acc, test_acc"
   ]
  },
  {
   "cell_type": "code",
   "execution_count": 40,
   "id": "972a0e54",
   "metadata": {},
   "outputs": [],
   "source": [
    "from sklearn.feature_extraction import DictVectorizer"
   ]
  },
  {
   "cell_type": "code",
   "execution_count": 41,
   "id": "8f3add4e",
   "metadata": {},
   "outputs": [],
   "source": [
    "vectorizer = DictVectorizer(sparse = True)\n",
    "X_train = vectorizer.fit_transform(X_train)\n",
    "X_test = vectorizer.transform(X_test)"
   ]
  },
  {
   "cell_type": "markdown",
   "id": "03131e24",
   "metadata": {},
   "source": [
    "#### Now I’m going to train four machine learning models and then choose the model that works best on the training and testing sets:\n",
    "\n",
    "#### Şimdi dört makine öğrenimi modelini eğiteceğim ve ardından eğitim ve test setlerinde en iyi sonucu veren modeli seçeceğim:"
   ]
  },
  {
   "cell_type": "code",
   "execution_count": 42,
   "id": "48d89ba0",
   "metadata": {},
   "outputs": [],
   "source": [
    "svc = SVC()\n",
    "lsvc = LinearSVC(random_state=123)\n",
    "rforest = RandomForestClassifier(random_state=123)\n",
    "dtree = DecisionTreeClassifier()"
   ]
  },
  {
   "cell_type": "code",
   "execution_count": 43,
   "id": "b4c7f216",
   "metadata": {},
   "outputs": [],
   "source": [
    "clifs = [svc, lsvc, rforest, dtree]"
   ]
  },
  {
   "cell_type": "code",
   "execution_count": 44,
   "id": "b42efda6",
   "metadata": {},
   "outputs": [
    {
     "name": "stdout",
     "output_type": "stream",
     "text": [
      "| Classifier                | Training Accuracy | Test Accuracy |\n",
      "| ------------------------- | ----------------- | ------------- |\n",
      "| SVC                       |         0.9067513 |     0.4512032 |\n",
      "| LinearSVC                 |         0.9988302 |     0.5768717 |\n",
      "| RandomForestClassifier    |         0.9988302 |     0.5541444 |\n",
      "| DecisionTreeClassifier    |         0.9988302 |     0.4545455 |\n"
     ]
    }
   ],
   "source": [
    "print(\"| {:25} | {} | {} |\".format(\"Classifier\", \"Training Accuracy\", \"Test Accuracy\"))\n",
    "print(\"| {} | {} | {} |\".format(\"-\"*25, \"-\"*17, \"-\"*13))\n",
    "for clf in clifs: \n",
    "    clf_name = clf.__class__.__name__\n",
    "    train_acc, test_acc = train_test(clf, X_train, X_test, y_train, y_test)\n",
    "    print(\"| {:25} | {:17.7f} | {:13.7f} |\".format(clf_name, train_acc, test_acc))"
   ]
  },
  {
   "cell_type": "markdown",
   "id": "6c10158a",
   "metadata": {},
   "source": [
    "# Detecting Emotion\n",
    "### Now, I’m going to assign an emoji to each label that is emotions in this problem, then I’ll write 4 input sentences, then I’ll use our trained machine learning model to take a look at the emotions of our input sentences:\n",
    "\n",
    "# Duyguyu Tespit Etme\n",
    "### Şimdi, bu problemde duygu olan her etikete bir emoji atayacağım, sonra 4 giriş cümlesi yazacağım, sonra eğitimli makine öğrenme modelimizi kullanarak duygularına bir göz atacağım. giriş cümlelerimiz:"
   ]
  },
  {
   "cell_type": "code",
   "execution_count": 45,
   "id": "7edee70d",
   "metadata": {},
   "outputs": [],
   "source": [
    "l = [\"joy\", 'fear', \"anger\", \"sadness\", \"disgust\", \"shame\", \"guilt\"]\n",
    "l.sort()\n",
    "label_freq = {}"
   ]
  },
  {
   "cell_type": "code",
   "execution_count": 46,
   "id": "9f5df30b",
   "metadata": {},
   "outputs": [],
   "source": [
    "for label, _ in data: \n",
    "    label_freq[label] = label_freq.get(label, 0) + 1"
   ]
  },
  {
   "cell_type": "code",
   "execution_count": 47,
   "id": "242cab5c",
   "metadata": {},
   "outputs": [
    {
     "name": "stdout",
     "output_type": "stream",
     "text": [
      "joy       (1. 0. 0. 0. 0. 0. 0.)  1084\n",
      "anger     (0. 0. 1. 0. 0. 0. 0.)  1080\n",
      "sadness   (0. 0. 0. 1. 0. 0. 0.)  1079\n",
      "fear      (0. 1. 0. 0. 0. 0. 0.)  1078\n",
      "disgust   (0. 0. 0. 0. 1. 0. 0.)  1057\n",
      "guilt     (0. 0. 0. 0. 0. 0. 1.)  1057\n",
      "shame     (0. 0. 0. 0. 0. 1. 0.)  1045\n"
     ]
    }
   ],
   "source": [
    "for l in sorted(label_freq, key=label_freq.get, reverse=True):\n",
    "    print(\"{:10}({})  {}\".format(convert_label(l, emotions), l, label_freq[l]))"
   ]
  },
  {
   "cell_type": "code",
   "execution_count": 48,
   "id": "9f5951fe",
   "metadata": {},
   "outputs": [],
   "source": [
    "emoji_dict = {\"joy\":\"😂\", \"fear\":\"😱\", \"anger\":\"😠\", \"sadness\":\"😢\", \"disgust\":\"😒\", \"shame\":\"😳\", \"guilt\":\"😳\"}\n",
    "t1 = \"This looks so impressive\"\n",
    "t2 = \"I have a fear of dogs\"\n",
    "t3 = \"My dog died yesterday\"\n",
    "t4 = \"I don't love you anymore..!\""
   ]
  },
  {
   "cell_type": "code",
   "execution_count": 49,
   "id": "5cf1112b",
   "metadata": {},
   "outputs": [],
   "source": [
    "texts = [t1, t2, t3, t4]"
   ]
  },
  {
   "cell_type": "code",
   "execution_count": 50,
   "id": "49a0127f",
   "metadata": {},
   "outputs": [
    {
     "name": "stdout",
     "output_type": "stream",
     "text": [
      "This looks so impressive 😳\n",
      "I have a fear of dogs 😱\n",
      "My dog died yesterday 😢\n",
      "I don't love you anymore..! 😂\n"
     ]
    }
   ],
   "source": [
    "for text in texts: \n",
    "    features = create_feature(text, nrange=(1, 4))\n",
    "    features = vectorizer.transform(features)\n",
    "    prediction = clf.predict(features)[0]\n",
    "    print( text,emoji_dict[prediction])"
   ]
  },
  {
   "cell_type": "markdown",
   "id": "4fe17f13",
   "metadata": {},
   "source": [
    "The generated output is superb. This is how we can use machine learning for the task of detecting emotions from the text. This is an important task of human-machine interactions for anyone looking for a future in natural language processing. Hope you liked this article on text emotions detection with machine learning using Python. Please feel free to ask your valuable questions in the comments section below.\n",
    "\n",
    "Üretilen çıktı harika. Metinden duyguları algılama görevi için makine öğrenimini bu şekilde kullanabiliriz. Bu, doğal dil işlemede bir gelecek arayan herkes için insan-makine etkileşimlerinin önemli bir görevidir. Python kullanarak makine öğrenimi ile metin duygu algılama hakkındaki bu makaleyi umarım beğenmişsinizdir. Lütfen değerli sorularınızı aşağıdaki yorumlar bölümünde sormaktan çekinmeyin."
   ]
  }
 ],
 "metadata": {
  "kernelspec": {
   "display_name": "Python 3 (ipykernel)",
   "language": "python",
   "name": "python3"
  },
  "language_info": {
   "codemirror_mode": {
    "name": "ipython",
    "version": 3
   },
   "file_extension": ".py",
   "mimetype": "text/x-python",
   "name": "python",
   "nbconvert_exporter": "python",
   "pygments_lexer": "ipython3",
   "version": "3.10.2"
  },
  "vscode": {
   "interpreter": {
    "hash": "5a06cb27ea5c0879779d0416922090c844ef2aff09857ef79b5ff347b542ee3a"
   }
  }
 },
 "nbformat": 4,
 "nbformat_minor": 5
}
