{
 "cells": [
  {
   "cell_type": "code",
   "execution_count": 1,
   "metadata": {},
   "outputs": [],
   "source": [
    "import pandas as pd\n",
    "import yfinance as yf\n",
    "import matplotlib.pyplot as plt \n",
    "import numpy as np\n",
    "import streamlit as st"
   ]
  },
  {
   "cell_type": "code",
   "execution_count": 2,
   "metadata": {},
   "outputs": [
    {
     "name": "stderr",
     "output_type": "stream",
     "text": [
      "2023-06-11 21:57:20.057 \n",
      "  \u001b[33m\u001b[1mWarning:\u001b[0m to view this Streamlit app on a browser, run it with the following\n",
      "  command:\n",
      "\n",
      "    streamlit run C:\\Users\\Serkan POLAT\\AppData\\Roaming\\Python\\Python310\\site-packages\\ipykernel_launcher.py [ARGUMENTS]\n"
     ]
    },
    {
     "name": "stdout",
     "output_type": "stream",
     "text": [
      "[*********************100%***********************]  5 of 5 completed\n"
     ]
    }
   ],
   "source": [
    "st.title(\"Investment Portfolio Dashboard/Yatırım Portföy Panosu\")\n",
    "assest=st.text_input(\"Provide you assets (comma-sepearated)/Varlıklarınızı sağlayın (virgülle ayrılmış)\", \"BIMAS.IS, AKBNK.IS, TUPRS.IS, VAKBN.IS, GARAN.IS\")\n",
    "start=st.date_input(\"Pick a starting date for your analysis/Analiziniz için bir başlangıç ​​tarihi seçin\",value=pd.to_datetime(\"2022-06-01\"))\n",
    "data=yf.download(assest,start=start)[\"Adj Close\"]"
   ]
  },
  {
   "cell_type": "code",
   "execution_count": 3,
   "metadata": {},
   "outputs": [
    {
     "data": {
      "text/html": [
       "<div>\n",
       "<style scoped>\n",
       "    .dataframe tbody tr th:only-of-type {\n",
       "        vertical-align: middle;\n",
       "    }\n",
       "\n",
       "    .dataframe tbody tr th {\n",
       "        vertical-align: top;\n",
       "    }\n",
       "\n",
       "    .dataframe thead th {\n",
       "        text-align: right;\n",
       "    }\n",
       "</style>\n",
       "<table border=\"1\" class=\"dataframe\">\n",
       "  <thead>\n",
       "    <tr style=\"text-align: right;\">\n",
       "      <th></th>\n",
       "      <th>AKBNK.IS</th>\n",
       "      <th>BIMAS.IS</th>\n",
       "      <th>GARAN.IS</th>\n",
       "      <th>TUPRS.IS</th>\n",
       "      <th>VAKBN.IS</th>\n",
       "    </tr>\n",
       "    <tr>\n",
       "      <th>Date</th>\n",
       "      <th></th>\n",
       "      <th></th>\n",
       "      <th></th>\n",
       "      <th></th>\n",
       "      <th></th>\n",
       "    </tr>\n",
       "  </thead>\n",
       "  <tbody>\n",
       "    <tr>\n",
       "      <th>2022-06-01</th>\n",
       "      <td>7.675239</td>\n",
       "      <td>82.339432</td>\n",
       "      <td>13.963914</td>\n",
       "      <td>36.016037</td>\n",
       "      <td>4.33</td>\n",
       "    </tr>\n",
       "    <tr>\n",
       "      <th>2022-06-02</th>\n",
       "      <td>8.010917</td>\n",
       "      <td>85.446579</td>\n",
       "      <td>14.001077</td>\n",
       "      <td>35.962955</td>\n",
       "      <td>4.35</td>\n",
       "    </tr>\n",
       "    <tr>\n",
       "      <th>2022-06-03</th>\n",
       "      <td>7.947411</td>\n",
       "      <td>85.592232</td>\n",
       "      <td>13.991786</td>\n",
       "      <td>36.400883</td>\n",
       "      <td>4.34</td>\n",
       "    </tr>\n",
       "    <tr>\n",
       "      <th>2022-06-06</th>\n",
       "      <td>8.255872</td>\n",
       "      <td>85.883514</td>\n",
       "      <td>14.995180</td>\n",
       "      <td>37.356354</td>\n",
       "      <td>4.45</td>\n",
       "    </tr>\n",
       "    <tr>\n",
       "      <th>2022-06-07</th>\n",
       "      <td>8.047206</td>\n",
       "      <td>84.427040</td>\n",
       "      <td>14.539937</td>\n",
       "      <td>38.006603</td>\n",
       "      <td>4.37</td>\n",
       "    </tr>\n",
       "    <tr>\n",
       "      <th>...</th>\n",
       "      <td>...</td>\n",
       "      <td>...</td>\n",
       "      <td>...</td>\n",
       "      <td>...</td>\n",
       "      <td>...</td>\n",
       "    </tr>\n",
       "    <tr>\n",
       "      <th>2023-06-05</th>\n",
       "      <td>18.170000</td>\n",
       "      <td>154.100006</td>\n",
       "      <td>29.480000</td>\n",
       "      <td>73.099998</td>\n",
       "      <td>10.04</td>\n",
       "    </tr>\n",
       "    <tr>\n",
       "      <th>2023-06-06</th>\n",
       "      <td>18.040001</td>\n",
       "      <td>155.100006</td>\n",
       "      <td>29.040001</td>\n",
       "      <td>73.300003</td>\n",
       "      <td>9.92</td>\n",
       "    </tr>\n",
       "    <tr>\n",
       "      <th>2023-06-07</th>\n",
       "      <td>18.389999</td>\n",
       "      <td>160.699997</td>\n",
       "      <td>29.980000</td>\n",
       "      <td>77.449997</td>\n",
       "      <td>10.08</td>\n",
       "    </tr>\n",
       "    <tr>\n",
       "      <th>2023-06-08</th>\n",
       "      <td>18.650000</td>\n",
       "      <td>161.300003</td>\n",
       "      <td>30.320000</td>\n",
       "      <td>77.650002</td>\n",
       "      <td>10.22</td>\n",
       "    </tr>\n",
       "    <tr>\n",
       "      <th>2023-06-09</th>\n",
       "      <td>18.459999</td>\n",
       "      <td>163.600006</td>\n",
       "      <td>30.000000</td>\n",
       "      <td>77.500000</td>\n",
       "      <td>10.22</td>\n",
       "    </tr>\n",
       "  </tbody>\n",
       "</table>\n",
       "<p>257 rows × 5 columns</p>\n",
       "</div>"
      ],
      "text/plain": [
       "             AKBNK.IS    BIMAS.IS   GARAN.IS   TUPRS.IS  VAKBN.IS\n",
       "Date                                                             \n",
       "2022-06-01   7.675239   82.339432  13.963914  36.016037      4.33\n",
       "2022-06-02   8.010917   85.446579  14.001077  35.962955      4.35\n",
       "2022-06-03   7.947411   85.592232  13.991786  36.400883      4.34\n",
       "2022-06-06   8.255872   85.883514  14.995180  37.356354      4.45\n",
       "2022-06-07   8.047206   84.427040  14.539937  38.006603      4.37\n",
       "...               ...         ...        ...        ...       ...\n",
       "2023-06-05  18.170000  154.100006  29.480000  73.099998     10.04\n",
       "2023-06-06  18.040001  155.100006  29.040001  73.300003      9.92\n",
       "2023-06-07  18.389999  160.699997  29.980000  77.449997     10.08\n",
       "2023-06-08  18.650000  161.300003  30.320000  77.650002     10.22\n",
       "2023-06-09  18.459999  163.600006  30.000000  77.500000     10.22\n",
       "\n",
       "[257 rows x 5 columns]"
      ]
     },
     "execution_count": 3,
     "metadata": {},
     "output_type": "execute_result"
    }
   ],
   "source": [
    "data"
   ]
  },
  {
   "cell_type": "code",
   "execution_count": 4,
   "metadata": {},
   "outputs": [],
   "source": [
    "ret_df=data.pct_change()\n",
    "cumul_ret=(ret_df+1).cumprod()-1\n",
    "pf_cumul_ret=cumul_ret.mean(axis=1)"
   ]
  },
  {
   "cell_type": "code",
   "execution_count": 5,
   "metadata": {},
   "outputs": [
    {
     "data": {
      "text/html": [
       "<div>\n",
       "<style scoped>\n",
       "    .dataframe tbody tr th:only-of-type {\n",
       "        vertical-align: middle;\n",
       "    }\n",
       "\n",
       "    .dataframe tbody tr th {\n",
       "        vertical-align: top;\n",
       "    }\n",
       "\n",
       "    .dataframe thead th {\n",
       "        text-align: right;\n",
       "    }\n",
       "</style>\n",
       "<table border=\"1\" class=\"dataframe\">\n",
       "  <thead>\n",
       "    <tr style=\"text-align: right;\">\n",
       "      <th></th>\n",
       "      <th>AKBNK.IS</th>\n",
       "      <th>BIMAS.IS</th>\n",
       "      <th>GARAN.IS</th>\n",
       "      <th>TUPRS.IS</th>\n",
       "      <th>VAKBN.IS</th>\n",
       "    </tr>\n",
       "    <tr>\n",
       "      <th>Date</th>\n",
       "      <th></th>\n",
       "      <th></th>\n",
       "      <th></th>\n",
       "      <th></th>\n",
       "      <th></th>\n",
       "    </tr>\n",
       "  </thead>\n",
       "  <tbody>\n",
       "    <tr>\n",
       "      <th>2022-06-01</th>\n",
       "      <td>NaN</td>\n",
       "      <td>NaN</td>\n",
       "      <td>NaN</td>\n",
       "      <td>NaN</td>\n",
       "      <td>NaN</td>\n",
       "    </tr>\n",
       "    <tr>\n",
       "      <th>2022-06-02</th>\n",
       "      <td>0.043735</td>\n",
       "      <td>0.037736</td>\n",
       "      <td>0.002661</td>\n",
       "      <td>-0.001474</td>\n",
       "      <td>0.004619</td>\n",
       "    </tr>\n",
       "    <tr>\n",
       "      <th>2022-06-03</th>\n",
       "      <td>0.035461</td>\n",
       "      <td>0.039505</td>\n",
       "      <td>0.001996</td>\n",
       "      <td>0.010685</td>\n",
       "      <td>0.002310</td>\n",
       "    </tr>\n",
       "    <tr>\n",
       "      <th>2022-06-06</th>\n",
       "      <td>0.075650</td>\n",
       "      <td>0.043042</td>\n",
       "      <td>0.073852</td>\n",
       "      <td>0.037214</td>\n",
       "      <td>0.027714</td>\n",
       "    </tr>\n",
       "    <tr>\n",
       "      <th>2022-06-07</th>\n",
       "      <td>0.048463</td>\n",
       "      <td>0.025354</td>\n",
       "      <td>0.041251</td>\n",
       "      <td>0.055269</td>\n",
       "      <td>0.009238</td>\n",
       "    </tr>\n",
       "    <tr>\n",
       "      <th>...</th>\n",
       "      <td>...</td>\n",
       "      <td>...</td>\n",
       "      <td>...</td>\n",
       "      <td>...</td>\n",
       "      <td>...</td>\n",
       "    </tr>\n",
       "    <tr>\n",
       "      <th>2023-06-05</th>\n",
       "      <td>1.367353</td>\n",
       "      <td>0.871521</td>\n",
       "      <td>1.111156</td>\n",
       "      <td>1.029651</td>\n",
       "      <td>1.318707</td>\n",
       "    </tr>\n",
       "    <tr>\n",
       "      <th>2023-06-06</th>\n",
       "      <td>1.350416</td>\n",
       "      <td>0.883666</td>\n",
       "      <td>1.079646</td>\n",
       "      <td>1.035205</td>\n",
       "      <td>1.290993</td>\n",
       "    </tr>\n",
       "    <tr>\n",
       "      <th>2023-06-07</th>\n",
       "      <td>1.396017</td>\n",
       "      <td>0.951677</td>\n",
       "      <td>1.146963</td>\n",
       "      <td>1.150431</td>\n",
       "      <td>1.327945</td>\n",
       "    </tr>\n",
       "    <tr>\n",
       "      <th>2023-06-08</th>\n",
       "      <td>1.429892</td>\n",
       "      <td>0.958964</td>\n",
       "      <td>1.171311</td>\n",
       "      <td>1.155984</td>\n",
       "      <td>1.360277</td>\n",
       "    </tr>\n",
       "    <tr>\n",
       "      <th>2023-06-09</th>\n",
       "      <td>1.405137</td>\n",
       "      <td>0.986897</td>\n",
       "      <td>1.148395</td>\n",
       "      <td>1.151819</td>\n",
       "      <td>1.360277</td>\n",
       "    </tr>\n",
       "  </tbody>\n",
       "</table>\n",
       "<p>257 rows × 5 columns</p>\n",
       "</div>"
      ],
      "text/plain": [
       "            AKBNK.IS  BIMAS.IS  GARAN.IS  TUPRS.IS  VAKBN.IS\n",
       "Date                                                        \n",
       "2022-06-01       NaN       NaN       NaN       NaN       NaN\n",
       "2022-06-02  0.043735  0.037736  0.002661 -0.001474  0.004619\n",
       "2022-06-03  0.035461  0.039505  0.001996  0.010685  0.002310\n",
       "2022-06-06  0.075650  0.043042  0.073852  0.037214  0.027714\n",
       "2022-06-07  0.048463  0.025354  0.041251  0.055269  0.009238\n",
       "...              ...       ...       ...       ...       ...\n",
       "2023-06-05  1.367353  0.871521  1.111156  1.029651  1.318707\n",
       "2023-06-06  1.350416  0.883666  1.079646  1.035205  1.290993\n",
       "2023-06-07  1.396017  0.951677  1.146963  1.150431  1.327945\n",
       "2023-06-08  1.429892  0.958964  1.171311  1.155984  1.360277\n",
       "2023-06-09  1.405137  0.986897  1.148395  1.151819  1.360277\n",
       "\n",
       "[257 rows x 5 columns]"
      ]
     },
     "execution_count": 5,
     "metadata": {},
     "output_type": "execute_result"
    }
   ],
   "source": [
    "cumul_ret"
   ]
  },
  {
   "cell_type": "code",
   "execution_count": 6,
   "metadata": {},
   "outputs": [
    {
     "data": {
      "text/plain": [
       "Date\n",
       "2022-06-01         NaN\n",
       "2022-06-02    0.017455\n",
       "2022-06-03    0.017991\n",
       "2022-06-06    0.051495\n",
       "2022-06-07    0.035915\n",
       "                ...   \n",
       "2023-06-05    1.139678\n",
       "2023-06-06    1.127985\n",
       "2023-06-07    1.194606\n",
       "2023-06-08    1.215286\n",
       "2023-06-09    1.210505\n",
       "Length: 257, dtype: float64"
      ]
     },
     "execution_count": 6,
     "metadata": {},
     "output_type": "execute_result"
    }
   ],
   "source": [
    "pf_cumul_ret"
   ]
  },
  {
   "cell_type": "code",
   "execution_count": 7,
   "metadata": {},
   "outputs": [
    {
     "name": "stdout",
     "output_type": "stream",
     "text": [
      "[*********************100%***********************]  1 of 1 completed\n"
     ]
    }
   ],
   "source": [
    "benchmark=yf.download(\"XU100.IS\", start=start)[\"Adj Close\"]\n",
    "bench_ret=benchmark.pct_change()\n",
    "bench_dev=(bench_ret+1).cumprod()-1"
   ]
  },
  {
   "cell_type": "code",
   "execution_count": 8,
   "metadata": {},
   "outputs": [
    {
     "data": {
      "text/plain": [
       "Date\n",
       "2022-06-01         NaN\n",
       "2022-06-02    0.012769\n",
       "2022-06-03    0.012652\n",
       "2022-06-06    0.030870\n",
       "2022-06-07    0.030909\n",
       "                ...   \n",
       "2023-06-05    1.091521\n",
       "2023-06-06    1.097789\n",
       "2023-06-07    1.164902\n",
       "2023-06-08    1.162099\n",
       "2023-06-09    1.190322\n",
       "Name: Adj Close, Length: 257, dtype: float64"
      ]
     },
     "execution_count": 8,
     "metadata": {},
     "output_type": "execute_result"
    }
   ],
   "source": [
    "bench_dev"
   ]
  },
  {
   "cell_type": "code",
   "execution_count": 9,
   "metadata": {},
   "outputs": [],
   "source": [
    "W=(np.ones(len(ret_df.cov()))/len(ret_df.cov()))\n",
    "pf_std=(W.dot(ret_df.cov()).dot(W))**(1/2)"
   ]
  },
  {
   "cell_type": "code",
   "execution_count": 10,
   "metadata": {},
   "outputs": [
    {
     "data": {
      "text/html": [
       "<div>\n",
       "<style scoped>\n",
       "    .dataframe tbody tr th:only-of-type {\n",
       "        vertical-align: middle;\n",
       "    }\n",
       "\n",
       "    .dataframe tbody tr th {\n",
       "        vertical-align: top;\n",
       "    }\n",
       "\n",
       "    .dataframe thead th {\n",
       "        text-align: right;\n",
       "    }\n",
       "</style>\n",
       "<table border=\"1\" class=\"dataframe\">\n",
       "  <thead>\n",
       "    <tr style=\"text-align: right;\">\n",
       "      <th></th>\n",
       "      <th>AKBNK.IS</th>\n",
       "      <th>BIMAS.IS</th>\n",
       "      <th>GARAN.IS</th>\n",
       "      <th>TUPRS.IS</th>\n",
       "      <th>VAKBN.IS</th>\n",
       "    </tr>\n",
       "  </thead>\n",
       "  <tbody>\n",
       "    <tr>\n",
       "      <th>AKBNK.IS</th>\n",
       "      <td>0.001580</td>\n",
       "      <td>0.000597</td>\n",
       "      <td>0.001411</td>\n",
       "      <td>0.000217</td>\n",
       "      <td>0.001311</td>\n",
       "    </tr>\n",
       "    <tr>\n",
       "      <th>BIMAS.IS</th>\n",
       "      <td>0.000597</td>\n",
       "      <td>0.000728</td>\n",
       "      <td>0.000565</td>\n",
       "      <td>0.000399</td>\n",
       "      <td>0.000514</td>\n",
       "    </tr>\n",
       "    <tr>\n",
       "      <th>GARAN.IS</th>\n",
       "      <td>0.001411</td>\n",
       "      <td>0.000565</td>\n",
       "      <td>0.001613</td>\n",
       "      <td>0.001418</td>\n",
       "      <td>0.001274</td>\n",
       "    </tr>\n",
       "    <tr>\n",
       "      <th>TUPRS.IS</th>\n",
       "      <td>0.000217</td>\n",
       "      <td>0.000399</td>\n",
       "      <td>0.001418</td>\n",
       "      <td>0.146135</td>\n",
       "      <td>0.000625</td>\n",
       "    </tr>\n",
       "    <tr>\n",
       "      <th>VAKBN.IS</th>\n",
       "      <td>0.001311</td>\n",
       "      <td>0.000514</td>\n",
       "      <td>0.001274</td>\n",
       "      <td>0.000625</td>\n",
       "      <td>0.001955</td>\n",
       "    </tr>\n",
       "  </tbody>\n",
       "</table>\n",
       "</div>"
      ],
      "text/plain": [
       "          AKBNK.IS  BIMAS.IS  GARAN.IS  TUPRS.IS  VAKBN.IS\n",
       "AKBNK.IS  0.001580  0.000597  0.001411  0.000217  0.001311\n",
       "BIMAS.IS  0.000597  0.000728  0.000565  0.000399  0.000514\n",
       "GARAN.IS  0.001411  0.000565  0.001613  0.001418  0.001274\n",
       "TUPRS.IS  0.000217  0.000399  0.001418  0.146135  0.000625\n",
       "VAKBN.IS  0.001311  0.000514  0.001274  0.000625  0.001955"
      ]
     },
     "execution_count": 10,
     "metadata": {},
     "output_type": "execute_result"
    }
   ],
   "source": [
    "ret_df.cov()"
   ]
  },
  {
   "cell_type": "code",
   "execution_count": 11,
   "metadata": {},
   "outputs": [],
   "source": [
    "st.subheader(\"Portfolio vs Index Development/Portföy ve Endeks Geliştirme\")\n",
    "tog=pd.concat([bench_dev,pf_cumul_ret],axis=1)\n",
    "tog.columns=[\"XU100 Performance\",\"Portfolio Performance/Portföy Performansı\"]"
   ]
  },
  {
   "cell_type": "code",
   "execution_count": 12,
   "metadata": {},
   "outputs": [
    {
     "data": {
      "text/html": [
       "<div>\n",
       "<style scoped>\n",
       "    .dataframe tbody tr th:only-of-type {\n",
       "        vertical-align: middle;\n",
       "    }\n",
       "\n",
       "    .dataframe tbody tr th {\n",
       "        vertical-align: top;\n",
       "    }\n",
       "\n",
       "    .dataframe thead th {\n",
       "        text-align: right;\n",
       "    }\n",
       "</style>\n",
       "<table border=\"1\" class=\"dataframe\">\n",
       "  <thead>\n",
       "    <tr style=\"text-align: right;\">\n",
       "      <th></th>\n",
       "      <th>XU100 Performance</th>\n",
       "      <th>Portfolio Performance/Portföy Performansı</th>\n",
       "    </tr>\n",
       "    <tr>\n",
       "      <th>Date</th>\n",
       "      <th></th>\n",
       "      <th></th>\n",
       "    </tr>\n",
       "  </thead>\n",
       "  <tbody>\n",
       "    <tr>\n",
       "      <th>2022-06-01</th>\n",
       "      <td>NaN</td>\n",
       "      <td>NaN</td>\n",
       "    </tr>\n",
       "    <tr>\n",
       "      <th>2022-06-02</th>\n",
       "      <td>0.012769</td>\n",
       "      <td>0.017455</td>\n",
       "    </tr>\n",
       "    <tr>\n",
       "      <th>2022-06-03</th>\n",
       "      <td>0.012652</td>\n",
       "      <td>0.017991</td>\n",
       "    </tr>\n",
       "    <tr>\n",
       "      <th>2022-06-06</th>\n",
       "      <td>0.030870</td>\n",
       "      <td>0.051495</td>\n",
       "    </tr>\n",
       "    <tr>\n",
       "      <th>2022-06-07</th>\n",
       "      <td>0.030909</td>\n",
       "      <td>0.035915</td>\n",
       "    </tr>\n",
       "    <tr>\n",
       "      <th>...</th>\n",
       "      <td>...</td>\n",
       "      <td>...</td>\n",
       "    </tr>\n",
       "    <tr>\n",
       "      <th>2023-06-05</th>\n",
       "      <td>1.091521</td>\n",
       "      <td>1.139678</td>\n",
       "    </tr>\n",
       "    <tr>\n",
       "      <th>2023-06-06</th>\n",
       "      <td>1.097789</td>\n",
       "      <td>1.127985</td>\n",
       "    </tr>\n",
       "    <tr>\n",
       "      <th>2023-06-07</th>\n",
       "      <td>1.164902</td>\n",
       "      <td>1.194606</td>\n",
       "    </tr>\n",
       "    <tr>\n",
       "      <th>2023-06-08</th>\n",
       "      <td>1.162099</td>\n",
       "      <td>1.215286</td>\n",
       "    </tr>\n",
       "    <tr>\n",
       "      <th>2023-06-09</th>\n",
       "      <td>1.190322</td>\n",
       "      <td>1.210505</td>\n",
       "    </tr>\n",
       "  </tbody>\n",
       "</table>\n",
       "<p>257 rows × 2 columns</p>\n",
       "</div>"
      ],
      "text/plain": [
       "            XU100 Performance  Portfolio Performance/Portföy Performansı\n",
       "Date                                                                    \n",
       "2022-06-01                NaN                                        NaN\n",
       "2022-06-02           0.012769                                   0.017455\n",
       "2022-06-03           0.012652                                   0.017991\n",
       "2022-06-06           0.030870                                   0.051495\n",
       "2022-06-07           0.030909                                   0.035915\n",
       "...                       ...                                        ...\n",
       "2023-06-05           1.091521                                   1.139678\n",
       "2023-06-06           1.097789                                   1.127985\n",
       "2023-06-07           1.164902                                   1.194606\n",
       "2023-06-08           1.162099                                   1.215286\n",
       "2023-06-09           1.190322                                   1.210505\n",
       "\n",
       "[257 rows x 2 columns]"
      ]
     },
     "execution_count": 12,
     "metadata": {},
     "output_type": "execute_result"
    }
   ],
   "source": [
    "tog"
   ]
  },
  {
   "cell_type": "code",
   "execution_count": 13,
   "metadata": {},
   "outputs": [
    {
     "data": {
      "text/plain": [
       "DeltaGenerator()"
      ]
     },
     "execution_count": 13,
     "metadata": {},
     "output_type": "execute_result"
    }
   ],
   "source": [
    "st.line_chart(data=tog)"
   ]
  },
  {
   "cell_type": "code",
   "execution_count": 14,
   "metadata": {},
   "outputs": [
    {
     "data": {
      "text/plain": [
       "0.02283035275572343"
      ]
     },
     "execution_count": 14,
     "metadata": {},
     "output_type": "execute_result"
    }
   ],
   "source": [
    "st.subheader(\"Portfolio Risk/Portföy Riski:\")\n",
    "pf_std\n",
    "st.subheader(\"Benchmark Risk/Kıyaslama Riski:\")\n",
    "bench_risk=bench_ret.std()\n",
    "bench_risk"
   ]
  },
  {
   "cell_type": "code",
   "execution_count": 15,
   "metadata": {},
   "outputs": [
    {
     "data": {
      "text/plain": [
       "DeltaGenerator()"
      ]
     },
     "execution_count": 15,
     "metadata": {},
     "output_type": "execute_result"
    },
    {
     "data": {
      "image/png": "[encoded data removed]",
      "text/plain": [
       "<Figure size 640x480 with 1 Axes>"
      ]
     },
     "metadata": {},
     "output_type": "display_data"
    }
   ],
   "source": [
    "st.subheader(\"Portfolio composition/Portföy Kompozisyonu:\")\n",
    "fig, ax = plt.subplots (facecolor='#121212')\n",
    "ax.pie (W, labels=data.columns, autopct='%1.1f%%', textprops={'color': 'white' })\n",
    "st.pyplot (fig)"
   ]
  },
  {
   "cell_type": "code",
   "execution_count": null,
   "metadata": {},
   "outputs": [],
   "source": []
  }
 ],
 "metadata": {
  "kernelspec": {
   "display_name": "Python 3",
   "language": "python",
   "name": "python3"
  },
  "language_info": {
   "codemirror_mode": {
    "name": "ipython",
    "version": 3
   },
   "file_extension": ".py",
   "mimetype": "text/x-python",
   "name": "python",
   "nbconvert_exporter": "python",
   "pygments_lexer": "ipython3",
   "version": "3.10.9"
  },
  "orig_nbformat": 4
 },
 "nbformat": 4,
 "nbformat_minor": 2
}
