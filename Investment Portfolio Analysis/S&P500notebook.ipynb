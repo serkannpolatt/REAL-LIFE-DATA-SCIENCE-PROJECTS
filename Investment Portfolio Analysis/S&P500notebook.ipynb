{
 "cells": [
  {
   "cell_type": "code",
   "execution_count": 2,
   "metadata": {},
   "outputs": [],
   "source": [
    "import pandas as pd\n",
    "import yfinance as yf\n",
    "import matplotlib.pyplot as plt \n",
    "import numpy as np\n",
    "import streamlit as st"
   ]
  },
  {
   "cell_type": "code",
   "execution_count": 4,
   "metadata": {},
   "outputs": [
    {
     "name": "stdout",
     "output_type": "stream",
     "text": [
      "[*********************100%***********************]  3 of 3 completed\n"
     ]
    }
   ],
   "source": [
    "st.title(\"Investment Portfolio Dashboard/Yatırım Portföy Panosu\")\n",
    "assest=st.text_input(\"Provide you assets (comma-sepearated)/Varlıklarınızı sağlayın (virgülle ayrılmış)\",\"AAPL,MSFT,GOOGL\")\n",
    "start=st.date_input(\"Pick a starting date for your analysis/Analiziniz için bir başlangıç ​​tarihi seçin\",value=pd.to_datetime(\"2022-06-01\"))\n",
    "data=yf.download(assest,start=start)[\"Adj Close\"]"
   ]
  },
  {
   "cell_type": "code",
   "execution_count": 4,
   "metadata": {},
   "outputs": [
    {
     "data": {
      "text/html": [
       "<div>\n",
       "<style scoped>\n",
       "    .dataframe tbody tr th:only-of-type {\n",
       "        vertical-align: middle;\n",
       "    }\n",
       "\n",
       "    .dataframe tbody tr th {\n",
       "        vertical-align: top;\n",
       "    }\n",
       "\n",
       "    .dataframe thead th {\n",
       "        text-align: right;\n",
       "    }\n",
       "</style>\n",
       "<table border=\"1\" class=\"dataframe\">\n",
       "  <thead>\n",
       "    <tr style=\"text-align: right;\">\n",
       "      <th></th>\n",
       "      <th>AAPL</th>\n",
       "      <th>GOOGL</th>\n",
       "      <th>MSFT</th>\n",
       "    </tr>\n",
       "    <tr>\n",
       "      <th>Date</th>\n",
       "      <th></th>\n",
       "      <th></th>\n",
       "      <th></th>\n",
       "    </tr>\n",
       "  </thead>\n",
       "  <tbody>\n",
       "    <tr>\n",
       "      <th>2022-06-01</th>\n",
       "      <td>147.827301</td>\n",
       "      <td>113.891998</td>\n",
       "      <td>269.811951</td>\n",
       "    </tr>\n",
       "    <tr>\n",
       "      <th>2022-06-02</th>\n",
       "      <td>150.312454</td>\n",
       "      <td>117.622498</td>\n",
       "      <td>271.951233</td>\n",
       "    </tr>\n",
       "    <tr>\n",
       "      <th>2022-06-03</th>\n",
       "      <td>144.517044</td>\n",
       "      <td>114.541000</td>\n",
       "      <td>267.434937</td>\n",
       "    </tr>\n",
       "    <tr>\n",
       "      <th>2022-06-06</th>\n",
       "      <td>145.272537</td>\n",
       "      <td>116.820503</td>\n",
       "      <td>266.177094</td>\n",
       "    </tr>\n",
       "    <tr>\n",
       "      <th>2022-06-07</th>\n",
       "      <td>147.827301</td>\n",
       "      <td>117.149498</td>\n",
       "      <td>269.891174</td>\n",
       "    </tr>\n",
       "    <tr>\n",
       "      <th>...</th>\n",
       "      <td>...</td>\n",
       "      <td>...</td>\n",
       "      <td>...</td>\n",
       "    </tr>\n",
       "    <tr>\n",
       "      <th>2023-05-26</th>\n",
       "      <td>175.429993</td>\n",
       "      <td>124.610001</td>\n",
       "      <td>332.890015</td>\n",
       "    </tr>\n",
       "    <tr>\n",
       "      <th>2023-05-30</th>\n",
       "      <td>177.300003</td>\n",
       "      <td>123.669998</td>\n",
       "      <td>331.209991</td>\n",
       "    </tr>\n",
       "    <tr>\n",
       "      <th>2023-05-31</th>\n",
       "      <td>177.250000</td>\n",
       "      <td>122.870003</td>\n",
       "      <td>328.390015</td>\n",
       "    </tr>\n",
       "    <tr>\n",
       "      <th>2023-06-01</th>\n",
       "      <td>180.089996</td>\n",
       "      <td>123.720001</td>\n",
       "      <td>332.579987</td>\n",
       "    </tr>\n",
       "    <tr>\n",
       "      <th>2023-06-02</th>\n",
       "      <td>180.949997</td>\n",
       "      <td>124.669998</td>\n",
       "      <td>335.399994</td>\n",
       "    </tr>\n",
       "  </tbody>\n",
       "</table>\n",
       "<p>253 rows × 3 columns</p>\n",
       "</div>"
      ],
      "text/plain": [
       "                  AAPL       GOOGL        MSFT\n",
       "Date                                          \n",
       "2022-06-01  147.827301  113.891998  269.811951\n",
       "2022-06-02  150.312454  117.622498  271.951233\n",
       "2022-06-03  144.517044  114.541000  267.434937\n",
       "2022-06-06  145.272537  116.820503  266.177094\n",
       "2022-06-07  147.827301  117.149498  269.891174\n",
       "...                ...         ...         ...\n",
       "2023-05-26  175.429993  124.610001  332.890015\n",
       "2023-05-30  177.300003  123.669998  331.209991\n",
       "2023-05-31  177.250000  122.870003  328.390015\n",
       "2023-06-01  180.089996  123.720001  332.579987\n",
       "2023-06-02  180.949997  124.669998  335.399994\n",
       "\n",
       "[253 rows x 3 columns]"
      ]
     },
     "execution_count": 4,
     "metadata": {},
     "output_type": "execute_result"
    }
   ],
   "source": [
    "data"
   ]
  },
  {
   "cell_type": "code",
   "execution_count": 5,
   "metadata": {},
   "outputs": [],
   "source": [
    "ret_df=data.pct_change()\n",
    "cumul_ret=(ret_df+1).cumprod()-1\n",
    "pf_cumul_ret=cumul_ret.mean(axis=1)"
   ]
  },
  {
   "cell_type": "code",
   "execution_count": 6,
   "metadata": {},
   "outputs": [
    {
     "data": {
      "text/html": [
       "<div>\n",
       "<style scoped>\n",
       "    .dataframe tbody tr th:only-of-type {\n",
       "        vertical-align: middle;\n",
       "    }\n",
       "\n",
       "    .dataframe tbody tr th {\n",
       "        vertical-align: top;\n",
       "    }\n",
       "\n",
       "    .dataframe thead th {\n",
       "        text-align: right;\n",
       "    }\n",
       "</style>\n",
       "<table border=\"1\" class=\"dataframe\">\n",
       "  <thead>\n",
       "    <tr style=\"text-align: right;\">\n",
       "      <th></th>\n",
       "      <th>AAPL</th>\n",
       "      <th>GOOGL</th>\n",
       "      <th>MSFT</th>\n",
       "    </tr>\n",
       "    <tr>\n",
       "      <th>Date</th>\n",
       "      <th></th>\n",
       "      <th></th>\n",
       "      <th></th>\n",
       "    </tr>\n",
       "  </thead>\n",
       "  <tbody>\n",
       "    <tr>\n",
       "      <th>2022-06-01</th>\n",
       "      <td>NaN</td>\n",
       "      <td>NaN</td>\n",
       "      <td>NaN</td>\n",
       "    </tr>\n",
       "    <tr>\n",
       "      <th>2022-06-02</th>\n",
       "      <td>1.681119e-02</td>\n",
       "      <td>0.032755</td>\n",
       "      <td>0.007929</td>\n",
       "    </tr>\n",
       "    <tr>\n",
       "      <th>2022-06-03</th>\n",
       "      <td>-2.239273e-02</td>\n",
       "      <td>0.005698</td>\n",
       "      <td>-0.008810</td>\n",
       "    </tr>\n",
       "    <tr>\n",
       "      <th>2022-06-06</th>\n",
       "      <td>-1.728208e-02</td>\n",
       "      <td>0.025713</td>\n",
       "      <td>-0.013472</td>\n",
       "    </tr>\n",
       "    <tr>\n",
       "      <th>2022-06-07</th>\n",
       "      <td>-1.110223e-16</td>\n",
       "      <td>0.028602</td>\n",
       "      <td>0.000294</td>\n",
       "    </tr>\n",
       "    <tr>\n",
       "      <th>...</th>\n",
       "      <td>...</td>\n",
       "      <td>...</td>\n",
       "      <td>...</td>\n",
       "    </tr>\n",
       "    <tr>\n",
       "      <th>2023-05-26</th>\n",
       "      <td>1.867226e-01</td>\n",
       "      <td>0.094107</td>\n",
       "      <td>0.233785</td>\n",
       "    </tr>\n",
       "    <tr>\n",
       "      <th>2023-05-30</th>\n",
       "      <td>1.993725e-01</td>\n",
       "      <td>0.085853</td>\n",
       "      <td>0.227559</td>\n",
       "    </tr>\n",
       "    <tr>\n",
       "      <th>2023-05-31</th>\n",
       "      <td>1.990343e-01</td>\n",
       "      <td>0.078829</td>\n",
       "      <td>0.217107</td>\n",
       "    </tr>\n",
       "    <tr>\n",
       "      <th>2023-06-01</th>\n",
       "      <td>2.182459e-01</td>\n",
       "      <td>0.086292</td>\n",
       "      <td>0.232636</td>\n",
       "    </tr>\n",
       "    <tr>\n",
       "      <th>2023-06-02</th>\n",
       "      <td>2.240635e-01</td>\n",
       "      <td>0.094634</td>\n",
       "      <td>0.243088</td>\n",
       "    </tr>\n",
       "  </tbody>\n",
       "</table>\n",
       "<p>253 rows × 3 columns</p>\n",
       "</div>"
      ],
      "text/plain": [
       "                    AAPL     GOOGL      MSFT\n",
       "Date                                        \n",
       "2022-06-01           NaN       NaN       NaN\n",
       "2022-06-02  1.681119e-02  0.032755  0.007929\n",
       "2022-06-03 -2.239273e-02  0.005698 -0.008810\n",
       "2022-06-06 -1.728208e-02  0.025713 -0.013472\n",
       "2022-06-07 -1.110223e-16  0.028602  0.000294\n",
       "...                  ...       ...       ...\n",
       "2023-05-26  1.867226e-01  0.094107  0.233785\n",
       "2023-05-30  1.993725e-01  0.085853  0.227559\n",
       "2023-05-31  1.990343e-01  0.078829  0.217107\n",
       "2023-06-01  2.182459e-01  0.086292  0.232636\n",
       "2023-06-02  2.240635e-01  0.094634  0.243088\n",
       "\n",
       "[253 rows x 3 columns]"
      ]
     },
     "execution_count": 6,
     "metadata": {},
     "output_type": "execute_result"
    }
   ],
   "source": [
    "cumul_ret"
   ]
  },
  {
   "cell_type": "code",
   "execution_count": 7,
   "metadata": {},
   "outputs": [
    {
     "data": {
      "text/plain": [
       "Date\n",
       "2022-06-01         NaN\n",
       "2022-06-02    0.019165\n",
       "2022-06-03   -0.008501\n",
       "2022-06-06   -0.001680\n",
       "2022-06-07    0.009632\n",
       "                ...   \n",
       "2023-05-26    0.171538\n",
       "2023-05-30    0.170928\n",
       "2023-05-31    0.164990\n",
       "2023-06-01    0.179058\n",
       "2023-06-02    0.187262\n",
       "Length: 253, dtype: float64"
      ]
     },
     "execution_count": 7,
     "metadata": {},
     "output_type": "execute_result"
    }
   ],
   "source": [
    "pf_cumul_ret"
   ]
  },
  {
   "cell_type": "code",
   "execution_count": 9,
   "metadata": {},
   "outputs": [
    {
     "name": "stdout",
     "output_type": "stream",
     "text": [
      "[*********************100%***********************]  1 of 1 completed\n"
     ]
    }
   ],
   "source": [
    "benchmark=yf.download(\"^GSPC\",start=start)[\"Adj Close\"]\n",
    "bench_ret=benchmark.pct_change()\n",
    "bench_dev=(bench_ret+1).cumprod()-1"
   ]
  },
  {
   "cell_type": "code",
   "execution_count": 10,
   "metadata": {},
   "outputs": [
    {
     "data": {
      "text/plain": [
       "Date\n",
       "2022-06-01         NaN\n",
       "2022-06-02    0.018431\n",
       "2022-06-03    0.001782\n",
       "2022-06-06    0.004925\n",
       "2022-06-07    0.014496\n",
       "                ...   \n",
       "2023-05-26    0.025412\n",
       "2023-05-30    0.025429\n",
       "2023-05-31    0.019165\n",
       "2023-06-01    0.029208\n",
       "2023-06-02    0.044167\n",
       "Name: Adj Close, Length: 253, dtype: float64"
      ]
     },
     "execution_count": 10,
     "metadata": {},
     "output_type": "execute_result"
    }
   ],
   "source": [
    "bench_dev"
   ]
  },
  {
   "cell_type": "code",
   "execution_count": 11,
   "metadata": {},
   "outputs": [],
   "source": [
    "W=(np.ones(len(ret_df.cov()))/len(ret_df.cov()))\n",
    "pf_std=(W.dot(ret_df.cov()).dot(W))**(1/2)"
   ]
  },
  {
   "cell_type": "code",
   "execution_count": 12,
   "metadata": {},
   "outputs": [
    {
     "data": {
      "text/html": [
       "<div>\n",
       "<style scoped>\n",
       "    .dataframe tbody tr th:only-of-type {\n",
       "        vertical-align: middle;\n",
       "    }\n",
       "\n",
       "    .dataframe tbody tr th {\n",
       "        vertical-align: top;\n",
       "    }\n",
       "\n",
       "    .dataframe thead th {\n",
       "        text-align: right;\n",
       "    }\n",
       "</style>\n",
       "<table border=\"1\" class=\"dataframe\">\n",
       "  <thead>\n",
       "    <tr style=\"text-align: right;\">\n",
       "      <th></th>\n",
       "      <th>AAPL</th>\n",
       "      <th>GOOGL</th>\n",
       "      <th>MSFT</th>\n",
       "    </tr>\n",
       "  </thead>\n",
       "  <tbody>\n",
       "    <tr>\n",
       "      <th>AAPL</th>\n",
       "      <td>0.000388</td>\n",
       "      <td>0.000342</td>\n",
       "      <td>0.000308</td>\n",
       "    </tr>\n",
       "    <tr>\n",
       "      <th>GOOGL</th>\n",
       "      <td>0.000342</td>\n",
       "      <td>0.000563</td>\n",
       "      <td>0.000394</td>\n",
       "    </tr>\n",
       "    <tr>\n",
       "      <th>MSFT</th>\n",
       "      <td>0.000308</td>\n",
       "      <td>0.000394</td>\n",
       "      <td>0.000434</td>\n",
       "    </tr>\n",
       "  </tbody>\n",
       "</table>\n",
       "</div>"
      ],
      "text/plain": [
       "           AAPL     GOOGL      MSFT\n",
       "AAPL   0.000388  0.000342  0.000308\n",
       "GOOGL  0.000342  0.000563  0.000394\n",
       "MSFT   0.000308  0.000394  0.000434"
      ]
     },
     "execution_count": 12,
     "metadata": {},
     "output_type": "execute_result"
    }
   ],
   "source": [
    "ret_df.cov()"
   ]
  },
  {
   "cell_type": "code",
   "execution_count": 14,
   "metadata": {},
   "outputs": [],
   "source": [
    "st.subheader(\"Portfolio vs Index Development/Portföy ve Endeks Geliştirme\")\n",
    "tog=pd.concat([bench_dev,pf_cumul_ret],axis=1)\n",
    "tog.columns=[\"S&P500 Performance\",\"Portfolio Performance/Portföy Performansı\"]"
   ]
  },
  {
   "cell_type": "code",
   "execution_count": 15,
   "metadata": {},
   "outputs": [
    {
     "data": {
      "text/html": [
       "<div>\n",
       "<style scoped>\n",
       "    .dataframe tbody tr th:only-of-type {\n",
       "        vertical-align: middle;\n",
       "    }\n",
       "\n",
       "    .dataframe tbody tr th {\n",
       "        vertical-align: top;\n",
       "    }\n",
       "\n",
       "    .dataframe thead th {\n",
       "        text-align: right;\n",
       "    }\n",
       "</style>\n",
       "<table border=\"1\" class=\"dataframe\">\n",
       "  <thead>\n",
       "    <tr style=\"text-align: right;\">\n",
       "      <th></th>\n",
       "      <th>S&amp;P500 Performance</th>\n",
       "      <th>Portfolio Performance</th>\n",
       "    </tr>\n",
       "    <tr>\n",
       "      <th>Date</th>\n",
       "      <th></th>\n",
       "      <th></th>\n",
       "    </tr>\n",
       "  </thead>\n",
       "  <tbody>\n",
       "    <tr>\n",
       "      <th>2022-06-01</th>\n",
       "      <td>NaN</td>\n",
       "      <td>NaN</td>\n",
       "    </tr>\n",
       "    <tr>\n",
       "      <th>2022-06-02</th>\n",
       "      <td>0.018431</td>\n",
       "      <td>0.019165</td>\n",
       "    </tr>\n",
       "    <tr>\n",
       "      <th>2022-06-03</th>\n",
       "      <td>0.001782</td>\n",
       "      <td>-0.008501</td>\n",
       "    </tr>\n",
       "    <tr>\n",
       "      <th>2022-06-06</th>\n",
       "      <td>0.004925</td>\n",
       "      <td>-0.001680</td>\n",
       "    </tr>\n",
       "    <tr>\n",
       "      <th>2022-06-07</th>\n",
       "      <td>0.014496</td>\n",
       "      <td>0.009632</td>\n",
       "    </tr>\n",
       "    <tr>\n",
       "      <th>...</th>\n",
       "      <td>...</td>\n",
       "      <td>...</td>\n",
       "    </tr>\n",
       "    <tr>\n",
       "      <th>2023-05-26</th>\n",
       "      <td>0.025412</td>\n",
       "      <td>0.171538</td>\n",
       "    </tr>\n",
       "    <tr>\n",
       "      <th>2023-05-30</th>\n",
       "      <td>0.025429</td>\n",
       "      <td>0.170928</td>\n",
       "    </tr>\n",
       "    <tr>\n",
       "      <th>2023-05-31</th>\n",
       "      <td>0.019165</td>\n",
       "      <td>0.164990</td>\n",
       "    </tr>\n",
       "    <tr>\n",
       "      <th>2023-06-01</th>\n",
       "      <td>0.029208</td>\n",
       "      <td>0.179058</td>\n",
       "    </tr>\n",
       "    <tr>\n",
       "      <th>2023-06-02</th>\n",
       "      <td>0.044167</td>\n",
       "      <td>0.187262</td>\n",
       "    </tr>\n",
       "  </tbody>\n",
       "</table>\n",
       "<p>253 rows × 2 columns</p>\n",
       "</div>"
      ],
      "text/plain": [
       "            S&P500 Performance  Portfolio Performance\n",
       "Date                                                 \n",
       "2022-06-01                 NaN                    NaN\n",
       "2022-06-02            0.018431               0.019165\n",
       "2022-06-03            0.001782              -0.008501\n",
       "2022-06-06            0.004925              -0.001680\n",
       "2022-06-07            0.014496               0.009632\n",
       "...                        ...                    ...\n",
       "2023-05-26            0.025412               0.171538\n",
       "2023-05-30            0.025429               0.170928\n",
       "2023-05-31            0.019165               0.164990\n",
       "2023-06-01            0.029208               0.179058\n",
       "2023-06-02            0.044167               0.187262\n",
       "\n",
       "[253 rows x 2 columns]"
      ]
     },
     "execution_count": 15,
     "metadata": {},
     "output_type": "execute_result"
    }
   ],
   "source": [
    "tog"
   ]
  },
  {
   "cell_type": "code",
   "execution_count": 16,
   "metadata": {},
   "outputs": [
    {
     "data": {
      "text/plain": [
       "DeltaGenerator()"
      ]
     },
     "execution_count": 16,
     "metadata": {},
     "output_type": "execute_result"
    }
   ],
   "source": [
    "st.line_chart(data=tog)"
   ]
  },
  {
   "cell_type": "code",
   "execution_count": 17,
   "metadata": {},
   "outputs": [
    {
     "data": {
      "text/plain": [
       "0.013205702768698018"
      ]
     },
     "execution_count": 17,
     "metadata": {},
     "output_type": "execute_result"
    }
   ],
   "source": [
    "st.subheader(\"Portfolio Risk/Portföy Riski:\")\n",
    "pf_std\n",
    "st.subheader(\"Benchmark Risk/Kıyaslama Riski:\")\n",
    "bench_risk=bench_ret.std()\n",
    "bench_risk"
   ]
  },
  {
   "cell_type": "code",
   "execution_count": 18,
   "metadata": {},
   "outputs": [
    {
     "data": {
      "text/plain": [
       "DeltaGenerator()"
      ]
     },
     "execution_count": 18,
     "metadata": {},
     "output_type": "execute_result"
    },
    {
     "data": {
      "image/png": "[encoded data removed]",
      "text/plain": [
       "<Figure size 640x480 with 1 Axes>"
      ]
     },
     "metadata": {},
     "output_type": "display_data"
    }
   ],
   "source": [
    "st.subheader(\"Portfolio composition/Portföy Kompozisyonu:\")\n",
    "fig, ax = plt.subplots (facecolor='#121212')\n",
    "ax.pie (W, labels=data.columns, autopct='%1.1f%%', textprops={'color': 'white' })\n",
    "st.pyplot (fig)"
   ]
  },
  {
   "cell_type": "code",
   "execution_count": null,
   "metadata": {},
   "outputs": [],
   "source": []
  }
 ],
 "metadata": {
  "kernelspec": {
   "display_name": "Python 3",
   "language": "python",
   "name": "python3"
  },
  "language_info": {
   "codemirror_mode": {
    "name": "ipython",
    "version": 3
   },
   "file_extension": ".py",
   "mimetype": "text/x-python",
   "name": "python",
   "nbconvert_exporter": "python",
   "pygments_lexer": "ipython3",
   "version": "3.10.9"
  },
  "orig_nbformat": 4
 },
 "nbformat": 4,
 "nbformat_minor": 2
}
